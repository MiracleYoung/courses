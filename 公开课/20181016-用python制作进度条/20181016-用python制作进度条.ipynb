{
 "cells": [
  {
   "cell_type": "markdown",
   "metadata": {},
   "source": [
    "# Miracle Yang\n",
    "## 上海小胖\n",
    "- 四大技术主管\n",
    "- MongoDB Professionor 中国15位获得者之一 \n",
    "- 「红色警戒复兴」联合创始人\n",
    "\n",
    "# 我不是马哥\n",
    "# 我也不是王胖子"
   ]
  },
  {
   "cell_type": "code",
   "execution_count": null,
   "metadata": {},
   "outputs": [],
   "source": []
  }
 ],
 "metadata": {
  "kernelspec": {
   "display_name": "Python 3",
   "language": "python",
   "name": "python3"
  },
  "language_info": {
   "codemirror_mode": {
    "name": "ipython",
    "version": 3
   },
   "file_extension": ".py",
   "mimetype": "text/x-python",
   "name": "python",
   "nbconvert_exporter": "python",
   "pygments_lexer": "ipython3",
   "version": "3.7.0"
  }
 },
 "nbformat": 4,
 "nbformat_minor": 2
}
