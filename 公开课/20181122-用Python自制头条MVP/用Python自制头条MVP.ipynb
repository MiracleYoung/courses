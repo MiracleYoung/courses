{
 "cells": [
  {
   "cell_type": "markdown",
   "metadata": {},
   "source": [
    "## 小胖\n",
    "## Miracle"
   ]
  },
  {
   "cell_type": "markdown",
   "metadata": {},
   "source": [
    "6.运维\n",
    "\n",
    "7.测试\n",
    "\n",
    "0.零基础"
   ]
  },
  {
   "cell_type": "markdown",
   "metadata": {},
   "source": [
    "1. 做全了上\n",
    "2. 做一个 占领市场，后面再跟上"
   ]
  },
  {
   "cell_type": "markdown",
   "metadata": {},
   "source": [
    "- 新闻内容\n",
    "    - 评论\n",
    "    - 搜索\n",
    "    - 转发\n",
    "    - 热点\n",
    "    - 分类\n",
    "    - 置顶\n",
    "    - 举报"
   ]
  },
  {
   "cell_type": "markdown",
   "metadata": {},
   "source": [
    "- 央视\n",
    "- tecent\n",
    "- 百度\n",
    "- 头条\n",
    "- 凤凰网\n",
    "- 搜狐\n",
    "- 新浪\n",
    "- youtube\n",
    "- 看点\n",
    "- 谷歌\n",
    "- 大事记\n",
    "- NHK"
   ]
  },
  {
   "cell_type": "markdown",
   "metadata": {},
   "source": [
    "- 知乎\n",
    "- 微博\n",
    "- twitter"
   ]
  },
  {
   "cell_type": "markdown",
   "metadata": {},
   "source": [
    "1. 天气预报\n",
    "    - 调用百度API 直接获得结果，并展现到前段\n",
    "2. 新闻抓取\n",
    "    - RSS\n",
    "        - 被动获取\n",
    "    - 爬虫\n",
    "        - 主动获取"
   ]
  },
  {
   "cell_type": "code",
   "execution_count": null,
   "metadata": {},
   "outputs": [],
   "source": []
  },
  {
   "cell_type": "code",
   "execution_count": null,
   "metadata": {},
   "outputs": [],
   "source": []
  },
  {
   "cell_type": "code",
   "execution_count": null,
   "metadata": {},
   "outputs": [],
   "source": []
  }
 ],
 "metadata": {
  "kernelspec": {
   "display_name": "Python 3",
   "language": "python",
   "name": "python3"
  },
  "language_info": {
   "codemirror_mode": {
    "name": "ipython",
    "version": 3
   },
   "file_extension": ".py",
   "mimetype": "text/x-python",
   "name": "python",
   "nbconvert_exporter": "python",
   "pygments_lexer": "ipython3",
   "version": "3.7.0"
  }
 },
 "nbformat": 4,
 "nbformat_minor": 2
}
