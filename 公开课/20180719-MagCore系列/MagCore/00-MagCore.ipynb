{
 "cells": [
  {
   "cell_type": "markdown",
   "metadata": {},
   "source": [
    "## Magcore 简介\n",
    "---\n",
    "\n",
    "- 一场2-10人的对战. 游戏目的为尽可能占领资源.\n",
    "- 胜利条件：尽可能多地占领单元, 占据其他玩家的领地.\n",
    "\n",
    "\n",
    "<img src=\"https://ws1.sinaimg.cn/large/006tKfTcgy1ftadiee810g304l05d7h0.gif\" width=\"20%\" style=\"display:inline-block\">\n",
    "\n",
    "## 概念\n",
    "---\n",
    "\n",
    "- 玩家(Player)：代表程序员参加游戏的代码所获得的唯一ID.\n",
    "- 单元(Cell)：代表资源的最小单位, 描述一个单元的方式为X,Y坐标.\n",
    "- 行(Row)：Y坐标相同的所有单元构成一行.\n",
    "- 地图(Map)：一局游戏所有的单元组成一张地图.\n",
    "- 基地(Base)：基地是玩家的基础领地, 所有基地被其他玩家占领, 被判为负.\n",
    "\n",
    "## 规则\n",
    "---\n",
    "\n",
    "- 加入游戏, 会随机分配一个单元作为基地.\n",
    "- 只能攻击自己领地相邻的单元.\n",
    "- 占领不同的单元所需要的时间不同. 简单的说, 该单元被占领时间越长, 攻击它的所需时间越短.\n",
    "- 所有基地被占, 判负. 同时清空所有其他被占单元.\n",
    "\n",
    "## API说明\n",
    "---\n",
    "\n",
    "### 服务器BaseUrl\n",
    "---\n",
    "\n",
    "http://106.75.33.221:10001/\n",
    "\n",
    "### 状态说明\n",
    "---\n",
    "\n",
    "- 数据结构概念及状态说明\n",
    "\n",
    "### 游戏\n",
    "---\n",
    "\n",
    "- 创建游戏\n",
    "- 获取游戏列表\n",
    "- 加入游戏\n",
    "- 开始游戏\n",
    "- 获取游戏详细\n",
    "\n",
    "### 玩家\n",
    "---\n",
    "\n",
    "- 创建新玩家\n",
    "- 获取玩家信息\n",
    "\n",
    "### 地图\n",
    "---\n",
    "\n",
    "- 获取地图信息\n",
    "- 攻击单元\n"
   ]
  },
  {
   "cell_type": "code",
   "execution_count": null,
   "metadata": {
    "collapsed": true
   },
   "outputs": [],
   "source": []
  }
 ],
 "metadata": {
  "kernelspec": {
   "display_name": "Python 3",
   "language": "python",
   "name": "python3"
  },
  "language_info": {
   "codemirror_mode": {
    "name": "ipython",
    "version": 3
   },
   "file_extension": ".py",
   "mimetype": "text/x-python",
   "name": "python",
   "nbconvert_exporter": "python",
   "pygments_lexer": "ipython3",
   "version": "3.6.1"
  }
 },
 "nbformat": 4,
 "nbformat_minor": 2
}
