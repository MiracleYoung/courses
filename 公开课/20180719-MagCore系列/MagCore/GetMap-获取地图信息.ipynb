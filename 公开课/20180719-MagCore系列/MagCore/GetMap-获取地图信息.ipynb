{
 "cells": [
  {
   "cell_type": "markdown",
   "metadata": {},
   "source": [
    "## 获取地图信息\n",
    "---\n",
    "\n",
    "### URL\n",
    "---\n",
    "\n",
    "http://106.75.33.221:10001/api/map/{name}\n",
    "\n",
    "- {name}: 欲获取地图的名称\n",
    "\n",
    "### Method\n",
    "---\n",
    "\n",
    "GET\n",
    "\n",
    "### 返回结果\n",
    "---\n",
    "\n",
    "- 成功 Status Code: 200\n",
    "- 失败 Status Code: 404\n",
    "- Content: \n",
    "```json\n",
    "{\n",
    "    \"Edge\": 4,\n",
    "    \"Shift\": 0,\n",
    "    \"Direction\": 0,\n",
    "    \"Rows\": [\n",
    "        \"0111111111\",\n",
    "        \"1000111111\",\n",
    "        \"1011111111\",\n",
    "        \"1111111111\",\n",
    "        \"1111111111\",\n",
    "        \"1111111111\",\n",
    "        \"1111111111\",\n",
    "        \"1111111101\",\n",
    "        \"1111110001\",\n",
    "        \"1111111110\"\n",
    "    ]\n",
    "}\n",
    "```\n",
    "\n",
    "- Edge: 单元的形状(暂保留)\n",
    "- Shift: 单元是否错误(暂保留)\n",
    "- Direction: 单元的朝向(暂保留)\n",
    "- Rows: 各单元类型的**数组**\n"
   ]
  },
  {
   "cell_type": "code",
   "execution_count": null,
   "metadata": {
    "collapsed": true
   },
   "outputs": [],
   "source": []
  }
 ],
 "metadata": {
  "kernelspec": {
   "display_name": "Python 3",
   "language": "python",
   "name": "python3"
  },
  "language_info": {
   "codemirror_mode": {
    "name": "ipython",
    "version": 3
   },
   "file_extension": ".py",
   "mimetype": "text/x-python",
   "name": "python",
   "nbconvert_exporter": "python",
   "pygments_lexer": "ipython3",
   "version": "3.6.1"
  }
 },
 "nbformat": 4,
 "nbformat_minor": 2
}
