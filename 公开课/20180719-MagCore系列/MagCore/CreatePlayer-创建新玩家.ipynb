{
 "cells": [
  {
   "cell_type": "markdown",
   "metadata": {},
   "source": [
    "## 创建新玩家\n",
    "---\n",
    "\n",
    "### URL\n",
    "---\n",
    "\n",
    "http://106.75.33.221:10001/api/player\n",
    "\n",
    "### Method\n",
    "---\n",
    "\n",
    "POST\n",
    "\n",
    "### Header\n",
    "---\n",
    "\n",
    "Content-Type: application/json\n",
    "\n",
    "### Body\n",
    "---\n",
    "\n",
    "```json\n",
    "{\n",
    "\t\"Name\": \"Cola\",\n",
    "\t\"Color\": 0\n",
    "}\n",
    "```\n",
    "\n",
    "- Name: 欲创建玩家的昵称\n",
    "- Color: 欲选择的颜色(0~9可选)\n",
    "\n",
    "### 返回结果\n",
    "---\n",
    "\n",
    "- 成功 Status Code: 200\n",
    "- 失败 Status Code: 409\n",
    "- Content: \n",
    "```json\n",
    "{\n",
    "    \"Id\": \"784f7580cfba4344b039edecb8876dda\",\n",
    "    \"Name\": \"Cola\",\n",
    "    \"Token\": \"1e2e222bbca6493f9d5d740e9b70929b\",\n",
    "    \"Energy\": 0,\n",
    "    \"Color\": 0,\n",
    "    \"State\": 0,\n",
    "    \"Index\": 2,\n",
    "    \"Bases\": []\n",
    "}\n",
    "```\n",
    "\n",
    "- Id: 新创建的玩家Id\n",
    "- Name: 新创建的玩家昵称\n",
    "- Token: 新创建的玩家安全令牌(暂保留)\n",
    "- Energy: 新创建的玩家能量(暂保留)\n",
    "- Color: 新创建的玩家颜色\n",
    "- State: 新创建的玩家状态\n",
    "- Index: 新创建的玩家标识号\n",
    "- Bases: 新创建的玩家基地**数组**(暂保留)\n"
   ]
  },
  {
   "cell_type": "code",
   "execution_count": null,
   "metadata": {
    "collapsed": true
   },
   "outputs": [],
   "source": []
  }
 ],
 "metadata": {
  "kernelspec": {
   "display_name": "Python 3",
   "language": "python",
   "name": "python3"
  },
  "language_info": {
   "codemirror_mode": {
    "name": "ipython",
    "version": 3
   },
   "file_extension": ".py",
   "mimetype": "text/x-python",
   "name": "python",
   "nbconvert_exporter": "python",
   "pygments_lexer": "ipython3",
   "version": "3.6.1"
  }
 },
 "nbformat": 4,
 "nbformat_minor": 2
}
