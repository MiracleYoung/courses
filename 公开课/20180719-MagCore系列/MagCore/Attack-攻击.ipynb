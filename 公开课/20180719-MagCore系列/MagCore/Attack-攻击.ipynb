{
 "cells": [
  {
   "cell_type": "markdown",
   "metadata": {},
   "source": [
    "## 攻击单元\n",
    "---\n",
    "\n",
    "### URL\n",
    "---\n",
    "\n",
    "http://106.75.33.221:10001/api/cell/\n",
    "\n",
    "### Method\n",
    "---\n",
    "\n",
    "PUT\n",
    "\n",
    "### Header\n",
    "---\n",
    "\n",
    "Content-Type: application/json\n",
    "\n",
    "### Body\n",
    "---\n",
    "\n",
    "```json\n",
    "{\n",
    "\t\"Game\": \"382bb353448f4c4d9637263518c085b9\",\n",
    "\t\"Player\": \"48d19c8b4419409a9a63dfd1c8152db2\",\n",
    "\t\"X\": 2,\n",
    "\t\"Y\": 4\n",
    "}\n",
    "```\n",
    "\n",
    "- Game: 欲攻击单元的所属游戏Id\n",
    "- Player: 玩家自己的PlayerId\n",
    "- X: 欲攻击单元的x坐标\n",
    "- Y: 欲攻击单元的y坐标\n",
    "\n",
    "### 返回结果\n",
    "---\n",
    "\n",
    "- 成功 Status Code: 200\n",
    "- 失败 Status Code: 404\n"
   ]
  },
  {
   "cell_type": "code",
   "execution_count": null,
   "metadata": {
    "collapsed": true
   },
   "outputs": [],
   "source": []
  }
 ],
 "metadata": {
  "kernelspec": {
   "display_name": "Python 3",
   "language": "python",
   "name": "python3"
  },
  "language_info": {
   "codemirror_mode": {
    "name": "ipython",
    "version": 3
   },
   "file_extension": ".py",
   "mimetype": "text/x-python",
   "name": "python",
   "nbconvert_exporter": "python",
   "pygments_lexer": "ipython3",
   "version": "3.6.1"
  }
 },
 "nbformat": 4,
 "nbformat_minor": 2
}
