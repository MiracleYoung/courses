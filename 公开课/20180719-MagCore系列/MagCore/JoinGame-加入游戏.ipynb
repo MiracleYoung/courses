{
 "cells": [
  {
   "cell_type": "markdown",
   "metadata": {},
   "source": [
    "## 加入游戏\n",
    "---\n",
    "\n",
    "### URL\n",
    "---\n",
    "\n",
    "http://106.75.33.221:10001/api/game\n",
    "\n",
    "### Method\n",
    "---\n",
    "\n",
    "PATCH\n",
    "\n",
    "### Header\n",
    "---\n",
    "\n",
    "Content-Type: application/json\n",
    "\n",
    "### Body\n",
    "---\n",
    "\n",
    "```json\n",
    "{\n",
    "\t\"Game\": \"1b0aa68195de4a2ba5a43437672dc56a\",\n",
    "\t\"Player\": \"a8fe42fd032e45f2bc9579e573d89f06\"\n",
    "}\n",
    "```\n",
    "\n",
    "- Game: 欲参加的游戏Id\n",
    "- Player: 自己作为玩家的Id\n",
    "\n",
    "### 返回结果\n",
    "---\n",
    "\n",
    "- 成功 Status Code: 200\n",
    "- 失败 Status Code: 403\n"
   ]
  },
  {
   "cell_type": "code",
   "execution_count": null,
   "metadata": {
    "collapsed": true
   },
   "outputs": [],
   "source": []
  }
 ],
 "metadata": {
  "kernelspec": {
   "display_name": "Python 3",
   "language": "python",
   "name": "python3"
  },
  "language_info": {
   "codemirror_mode": {
    "name": "ipython",
    "version": 3
   },
   "file_extension": ".py",
   "mimetype": "text/x-python",
   "name": "python",
   "nbconvert_exporter": "python",
   "pygments_lexer": "ipython3",
   "version": "3.6.1"
  }
 },
 "nbformat": 4,
 "nbformat_minor": 2
}
