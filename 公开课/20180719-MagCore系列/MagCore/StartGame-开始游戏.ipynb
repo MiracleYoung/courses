{
 "cells": [
  {
   "cell_type": "markdown",
   "metadata": {},
   "source": [
    "## 开始游戏\n",
    "---\n",
    "\n",
    "### URL\n",
    "---\n",
    "\n",
    "http://106.75.33.221:10001/api/game/{GameId}\n",
    "\n",
    "- {GameId}: 欲开始的游戏Id\n",
    "\n",
    "### Method\n",
    "---\n",
    "\n",
    "PUT\n",
    "\n",
    "### 返回结果\n",
    "---\n",
    "\n",
    "- 成功 Status Code: 200\n",
    "- 失败 Status Code: 403"
   ]
  },
  {
   "cell_type": "code",
   "execution_count": null,
   "metadata": {
    "collapsed": true
   },
   "outputs": [],
   "source": []
  }
 ],
 "metadata": {
  "kernelspec": {
   "display_name": "Python 3",
   "language": "python",
   "name": "python3"
  },
  "language_info": {
   "codemirror_mode": {
    "name": "ipython",
    "version": 3
   },
   "file_extension": ".py",
   "mimetype": "text/x-python",
   "name": "python",
   "nbconvert_exporter": "python",
   "pygments_lexer": "ipython3",
   "version": "3.6.1"
  }
 },
 "nbformat": 4,
 "nbformat_minor": 2
}
