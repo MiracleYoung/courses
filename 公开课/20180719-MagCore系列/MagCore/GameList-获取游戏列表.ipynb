{
 "cells": [
  {
   "cell_type": "markdown",
   "metadata": {},
   "source": [
    "## 获取游戏列表\n",
    "---\n",
    "\n",
    "### URL\n",
    "---\n",
    "\n",
    "http://106.75.33.221:10001/api/game\n",
    "\n",
    "### Method\n",
    "---\n",
    "\n",
    "GET\n",
    "\n",
    "### 返回结果\n",
    "---\n",
    "\n",
    "- Status Code: 200\n",
    "- Content: 返回所有游戏的**数组**\n",
    "\n",
    "```json\n",
    "[\n",
    "    {\n",
    "        \"id\": \"ce71d669e4d141a298472591de92f8e6\",\n",
    "        \"map\": \"RectSmall\",\n",
    "        \"state\": 0\n",
    "    }\n",
    "]\n",
    "```\n",
    "\n",
    "- id: 游戏Id\n",
    "- map: 所用的地图\n",
    "- state: 游戏当前状态"
   ]
  },
  {
   "cell_type": "code",
   "execution_count": null,
   "metadata": {
    "collapsed": true
   },
   "outputs": [],
   "source": []
  }
 ],
 "metadata": {
  "kernelspec": {
   "display_name": "Python 3",
   "language": "python",
   "name": "python3"
  },
  "language_info": {
   "codemirror_mode": {
    "name": "ipython",
    "version": 3
   },
   "file_extension": ".py",
   "mimetype": "text/x-python",
   "name": "python",
   "nbconvert_exporter": "python",
   "pygments_lexer": "ipython3",
   "version": "3.6.1"
  }
 },
 "nbformat": 4,
 "nbformat_minor": 2
}
