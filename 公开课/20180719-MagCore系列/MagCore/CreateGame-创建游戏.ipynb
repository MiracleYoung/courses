{
 "cells": [
  {
   "cell_type": "markdown",
   "metadata": {},
   "source": [
    "## 创建游戏\n",
    "---\n",
    "\n",
    "### URL\n",
    "---\n",
    "\n",
    "http://106.75.33.221:10001/api/game\n",
    "\n",
    "### Method\n",
    "---\n",
    "\n",
    "POST\n",
    "\n",
    "### Header\n",
    "---\n",
    "\n",
    "Content-Type: application/json\n",
    "\n",
    "### Body\n",
    "---\n",
    "\n",
    "```json\n",
    "{\n",
    "\t\"Map\": \"RectSmall\"\n",
    "}\n",
    "```\n",
    "\n",
    "### 返回结果\n",
    "---\n",
    "\n",
    "- Status Code: 200\n",
    "- Content: 新创建游戏的GameId\n"
   ]
  },
  {
   "cell_type": "code",
   "execution_count": null,
   "metadata": {
    "collapsed": true
   },
   "outputs": [],
   "source": []
  }
 ],
 "metadata": {
  "kernelspec": {
   "display_name": "Python 3",
   "language": "python",
   "name": "python3"
  },
  "language_info": {
   "codemirror_mode": {
    "name": "ipython",
    "version": 3
   },
   "file_extension": ".py",
   "mimetype": "text/x-python",
   "name": "python",
   "nbconvert_exporter": "python",
   "pygments_lexer": "ipython3",
   "version": "3.6.1"
  }
 },
 "nbformat": 4,
 "nbformat_minor": 2
}
