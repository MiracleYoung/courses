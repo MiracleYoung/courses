{
 "cells": [
  {
   "cell_type": "markdown",
   "metadata": {},
   "source": [
    "## 获取玩家信息\n",
    "---\n",
    "\n",
    "### URL\n",
    "---\n",
    "\n",
    "http://106.75.33.221:10001/api/player/{PlayerId}\n",
    "\n",
    "- {PlayerId}: 欲获取信息的玩家Id\n",
    "\n",
    "### Method\n",
    "---\n",
    "\n",
    "GET\n",
    "\n",
    "### 返回结果\n",
    "---\n",
    "\n",
    "- 成功 Status Code: 200\n",
    "- 失败 Status Code: 404\n",
    "- Content: \n",
    "```json\n",
    "{\n",
    "    \"Id\": \"784f7580cfba4344b039edecb8876dda\",\n",
    "    \"Name\": \"Cola\",\n",
    "    \"Token\": \"1e2e222bbca6493f9d5d740e9b70929b\",\n",
    "    \"Energy\": 0,\n",
    "    \"Color\": 0,\n",
    "    \"State\": 1,\n",
    "    \"Index\": 2,\n",
    "    \"Bases\": [\n",
    "        \"3,7\"\n",
    "    ]\n",
    "}\n",
    "```\n",
    "\n",
    "- Id: 玩家Id\n",
    "- Name: 玩家昵称\n",
    "- Token: 玩家安全令牌(暂保留)\n",
    "- Energy: 玩家能量(暂保留)\n",
    "- Color: 玩家颜色\n",
    "- State: 玩家状态\n",
    "- Index: 玩家标识号\n",
    "- Bases:玩家基地坐标**数组**\n"
   ]
  },
  {
   "cell_type": "code",
   "execution_count": null,
   "metadata": {
    "collapsed": true
   },
   "outputs": [],
   "source": []
  }
 ],
 "metadata": {
  "kernelspec": {
   "display_name": "Python 3",
   "language": "python",
   "name": "python3"
  },
  "language_info": {
   "codemirror_mode": {
    "name": "ipython",
    "version": 3
   },
   "file_extension": ".py",
   "mimetype": "text/x-python",
   "name": "python",
   "nbconvert_exporter": "python",
   "pygments_lexer": "ipython3",
   "version": "3.6.1"
  }
 },
 "nbformat": 4,
 "nbformat_minor": 2
}
