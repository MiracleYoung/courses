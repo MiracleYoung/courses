{
 "cells": [
  {
   "cell_type": "markdown",
   "metadata": {},
   "source": [
    "Miracle-小胖"
   ]
  },
  {
   "cell_type": "markdown",
   "metadata": {},
   "source": [
    "全宇宙第一的公开课系列课程\n",
    "MagCore|"
   ]
  },
  {
   "cell_type": "markdown",
   "metadata": {},
   "source": [
    "- IDE\n",
    "    - Sublime\n",
    "    - VS Code\n",
    "    - Pycharm\n",
    "    - vim\n",
    "    - notebook\n",
    "    - IDLE\n",
    "    - Spyder\n",
    "- 生产环境部署\n",
    "- bash"
   ]
  },
  {
   "cell_type": "markdown",
   "metadata": {},
   "source": [
    "- pyenv\n",
    "    - `pyenv local versionNo versionName`\n",
    "    - `pyenv install 3.6.6`\n",
    "    - `pyenv uninstall miracle_3.6`\n",
    "    - `pyenv versions`\n",
    "    \n",
    "    - 通过当前目录下的python-version来控制"
   ]
  },
  {
   "cell_type": "markdown",
   "metadata": {},
   "source": [
    "## 练习\n",
    "1. pyenv将自己的开发环境安装好\n",
    "2. 开发环境使用3.6.6，名字叫magedu\n",
    "3. 安装requests库\n",
    "\n",
    "（windows使用virtualenv）"
   ]
  },
  {
   "cell_type": "code",
   "execution_count": null,
   "metadata": {
    "collapsed": true
   },
   "outputs": [],
   "source": []
  }
 ],
 "metadata": {
  "kernelspec": {
   "display_name": "Python 3",
   "language": "python",
   "name": "python3"
  },
  "language_info": {
   "codemirror_mode": {
    "name": "ipython",
    "version": 3
   },
   "file_extension": ".py",
   "mimetype": "text/x-python",
   "name": "python",
   "nbconvert_exporter": "python",
   "pygments_lexer": "ipython3",
   "version": "3.6.1"
  }
 },
 "nbformat": 4,
 "nbformat_minor": 2
}
