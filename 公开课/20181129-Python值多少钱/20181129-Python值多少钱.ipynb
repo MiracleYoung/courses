{
 "cells": [
  {
   "cell_type": "markdown",
   "metadata": {},
   "source": [
    "## 小胖\n",
    "## Miracle"
   ]
  },
  {
   "cell_type": "markdown",
   "metadata": {},
   "source": [
    "0. 零基础\n",
    "1. hello wordl\n",
    "2. 爬虫\n",
    "    - 豆瓣\n",
    "    - 京东\n",
    "    - 西刺\n",
    "    - 51job\n",
    "    - 校花网"
   ]
  },
  {
   "cell_type": "markdown",
   "metadata": {},
   "source": [
    "- 京东\n",
    "- 淘宝\n",
    "- 智联\n",
    "- 51job\n",
    "- 马哥教育\n",
    "- 亚马逊"
   ]
  },
  {
   "cell_type": "markdown",
   "metadata": {},
   "source": [
    "爬虫的核心是 爬取数据，不是存储数据"
   ]
  },
  {
   "cell_type": "markdown",
   "metadata": {},
   "source": [
    "- 输入职位\n",
    "- 下载\n",
    "    - 下载网页\n",
    "    - 解析，提取标签\n",
    "        - 把网页读到内存里，loading\n",
    "        - 提取想要的内容\n",
    "            - tools:\n",
    "                - 正则表达式\n",
    "                - beautifulsoup\n",
    "                - json\n",
    "                - xpath\n",
    "            - 内容的分类\n",
    "\n",
    "    - 清洗数据\n",
    "        - 去重\n",
    "        - 数据的校验\n",
    "- 保存到csv/excel\n",
    "    "
   ]
  },
  {
   "cell_type": "code",
   "execution_count": null,
   "metadata": {},
   "outputs": [],
   "source": []
  },
  {
   "cell_type": "code",
   "execution_count": null,
   "metadata": {},
   "outputs": [],
   "source": []
  }
 ],
 "metadata": {
  "kernelspec": {
   "display_name": "Python 3",
   "language": "python",
   "name": "python3"
  },
  "language_info": {
   "codemirror_mode": {
    "name": "ipython",
    "version": 3
   },
   "file_extension": ".py",
   "mimetype": "text/x-python",
   "name": "python",
   "nbconvert_exporter": "python",
   "pygments_lexer": "ipython3",
   "version": "3.7.0"
  }
 },
 "nbformat": 4,
 "nbformat_minor": 2
}
