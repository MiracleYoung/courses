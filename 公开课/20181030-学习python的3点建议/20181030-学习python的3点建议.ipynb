{
 "cells": [
  {
   "cell_type": "markdown",
   "metadata": {},
   "source": [
    "### Miracle Yang\n",
    "### 小胖\n",
    "# 我不是马哥"
   ]
  },
  {
   "cell_type": "markdown",
   "metadata": {},
   "source": [
    "- 你会python吗？\n",
    "- 怎么学python？\n",
    "- python的市场定位\n",
    "- python的学习路线"
   ]
  },
  {
   "cell_type": "markdown",
   "metadata": {},
   "source": [
    "1. 写过python的\n",
    "2. 写过hello world\n",
    "3. 写过函数的\n",
    "4. 写过django\n",
    "5. 写过爬虫的\n",
    "6. 写过自动化脚本的"
   ]
  },
  {
   "cell_type": "markdown",
   "metadata": {},
   "source": [
    "6. 看书自学\n",
    "7. 看视频的\n",
    "8. 自己瞎摸\n",
    "9. 参与培训"
   ]
  },
  {
   "cell_type": "markdown",
   "metadata": {},
   "source": [
    "6. 运维\n",
    "7. 测试\n",
    "8. 零基础python\n",
    "9. 转行的"
   ]
  },
  {
   "cell_type": "markdown",
   "metadata": {},
   "source": [
    "基本的数据类型：\n",
    "- 整型\n",
    "- 布尔\n",
    "- None\n",
    "\n",
    "内置数据结构：\n",
    "- 字符串\n",
    "- 列表（数组）\n",
    "- 集合\n",
    "- 字典\n",
    "- bytes\n",
    "- bytearray"
   ]
  },
  {
   "cell_type": "markdown",
   "metadata": {},
   "source": [
    "### 函数\n",
    "\n",
    "参数有几种类型：\n",
    "- 形参 实参\n",
    "- 位置参数\n",
    "- 关键字参数\n",
    "- 默认参数\n",
    "- 可变位置参数\n",
    "- 可变关键字参数"
   ]
  },
  {
   "cell_type": "code",
   "execution_count": null,
   "metadata": {},
   "outputs": [],
   "source": []
  },
  {
   "cell_type": "code",
   "execution_count": null,
   "metadata": {},
   "outputs": [],
   "source": []
  },
  {
   "cell_type": "code",
   "execution_count": 1,
   "metadata": {},
   "outputs": [],
   "source": [
    "def fn(a, b):\n",
    "    def gn():\n",
    "        pass\n",
    "    \n",
    "    return gn"
   ]
  },
  {
   "cell_type": "code",
   "execution_count": null,
   "metadata": {},
   "outputs": [],
   "source": [
    "def fn(gn):\n",
    "    def _wrap(*args):\n",
    "        pass\n",
    "    return _wrap"
   ]
  },
  {
   "cell_type": "code",
   "execution_count": null,
   "metadata": {},
   "outputs": [],
   "source": []
  },
  {
   "cell_type": "code",
   "execution_count": null,
   "metadata": {},
   "outputs": [],
   "source": []
  }
 ],
 "metadata": {
  "kernelspec": {
   "display_name": "Python 3",
   "language": "python",
   "name": "python3"
  },
  "language_info": {
   "codemirror_mode": {
    "name": "ipython",
    "version": 3
   },
   "file_extension": ".py",
   "mimetype": "text/x-python",
   "name": "python",
   "nbconvert_exporter": "python",
   "pygments_lexer": "ipython3",
   "version": "3.7.0"
  }
 },
 "nbformat": 4,
 "nbformat_minor": 2
}
