{
 "cells": [
  {
   "cell_type": "markdown",
   "metadata": {},
   "source": [
    "第一题"
   ]
  },
  {
   "cell_type": "code",
   "execution_count": 1,
   "metadata": {},
   "outputs": [
    {
     "name": "stdout",
     "output_type": "stream",
     "text": [
      "[1, 2, 3, 4, 10, -1]\n"
     ]
    }
   ],
   "source": [
    "list1=[1, 1, 10, 2, 3, 4, 4, -1, -1]\n",
    "list2=list(set(list1))\n",
    "print(list2)"
   ]
  },
  {
   "cell_type": "markdown",
   "metadata": {},
   "source": [
    "第二题"
   ]
  },
  {
   "cell_type": "code",
   "execution_count": 3,
   "metadata": {},
   "outputs": [],
   "source": [
    "array =  ['may', 'jack', 'may', 'tony', 'victor', 'may', 'tony']\n",
    "def single_list(arr, target):\n",
    "    return arr.count(target)"
   ]
  },
  {
   "cell_type": "code",
   "execution_count": 4,
   "metadata": {},
   "outputs": [
    {
     "data": {
      "text/plain": [
       "2"
      ]
     },
     "execution_count": 4,
     "metadata": {},
     "output_type": "execute_result"
    }
   ],
   "source": [
    "single_list(array, 'tony')"
   ]
  },
  {
   "cell_type": "markdown",
   "metadata": {},
   "source": [
    "第三题 网上抄来的，研究中"
   ]
  },
  {
   "cell_type": "code",
   "execution_count": 5,
   "metadata": {},
   "outputs": [
    {
     "name": "stdout",
     "output_type": "stream",
     "text": [
      "{'a.b': 1, 'a.c': 2, 'd.e': 3, 'd.f.g': 4}\n"
     ]
    }
   ],
   "source": [
    "source = {'a': {'b': 1, 'c': 2}, 'd': {'e': 3, 'f': {'g': 4}}}\n",
    "target = {}\n",
    " \n",
    " \n",
    "def flatmap(srcDic, targetKey=''):\n",
    "    for k, v in srcDic.items():\n",
    "        if isinstance(v, dict):\n",
    "            flatmap(v, targetKey=targetKey + k + '.')\n",
    "        else:\n",
    "            target[targetKey + k] = v\n",
    " \n",
    " \n",
    "flatmap(source)\n",
    "print(target)"
   ]
  },
  {
   "cell_type": "code",
   "execution_count": null,
   "metadata": {},
   "outputs": [],
   "source": []
  }
 ],
 "metadata": {
  "kernelspec": {
   "display_name": "Python 3",
   "language": "python",
   "name": "python3"
  },
  "language_info": {
   "codemirror_mode": {
    "name": "ipython",
    "version": 3
   },
   "file_extension": ".py",
   "mimetype": "text/x-python",
   "name": "python",
   "nbconvert_exporter": "python",
   "pygments_lexer": "ipython3",
   "version": "3.7.0"
  }
 },
 "nbformat": 4,
 "nbformat_minor": 2
}
