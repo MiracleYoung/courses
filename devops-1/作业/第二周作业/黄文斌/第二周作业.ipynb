{
 "cells": [
  {
   "cell_type": "markdown",
   "metadata": {},
   "source": [
    "#### 1. 移除列表中的重复元素，并保持新列表和元列表的顺序一致\n",
    "\n",
    "```\n",
    "[1, 1, 2, 3, 4, 2, 4, -1, -1] => [1, 2, 3, 4, -1]\n",
    "```"
   ]
  },
  {
   "cell_type": "markdown",
   "metadata": {},
   "source": [
    "##### 方法1"
   ]
  },
  {
   "cell_type": "code",
   "execution_count": 103,
   "metadata": {},
   "outputs": [
    {
     "name": "stdout",
     "output_type": "stream",
     "text": [
      "[1, 2, 3, 4, -1]\n"
     ]
    }
   ],
   "source": [
    "L = [1, 1, 2, 3, 4, 2, 4, -1, -1]\n",
    "l = sorted(set(L), key=L.index)\n",
    "print(l)"
   ]
  },
  {
   "cell_type": "markdown",
   "metadata": {},
   "source": [
    "#### 方法2"
   ]
  },
  {
   "cell_type": "code",
   "execution_count": 102,
   "metadata": {},
   "outputs": [
    {
     "name": "stdout",
     "output_type": "stream",
     "text": [
      "[1, 2, 3, 4, -1]\n"
     ]
    }
   ],
   "source": [
    "L = [1, 1, 2, 3, 4, 2, 4, -1, -1]\n",
    "l = []\n",
    "[l.append(i) for i in L if i not in l]\n",
    "print(l)"
   ]
  },
  {
   "cell_type": "markdown",
   "metadata": {},
   "source": [
    "#### 2. 统计文本中各单词出现的次数\n",
    "```\n",
    "'ab ab c cccc ccc cccc'\n",
    "```"
   ]
  },
  {
   "cell_type": "code",
   "execution_count": 95,
   "metadata": {},
   "outputs": [
    {
     "name": "stdout",
     "output_type": "stream",
     "text": [
      "ccc这个单词出现的次数为：1\n",
      "cccc这个单词出现的次数为：2\n",
      "c这个单词出现的次数为：1\n",
      "ab这个单词出现的次数为：2\n"
     ]
    }
   ],
   "source": [
    "text = 'ab ab c cccc ccc cccc' # 一串英文\n",
    "data = text.split() # 切割单词\n",
    "lst = list(set(data)) # 通过集合去除重复的单词\n",
    "\n",
    "d = {} #定义一个空字典\n",
    "for i  in range(len(lst)): # 遍历lst的长度\n",
    "    d[lst[i]] = 0 # 初始化字典的value为0\n",
    "    for j in range(len(data)): # 遍历data的长度\n",
    "        if lst[i] == data[j]: # 判断lst列表中索引的元素与data列表中索引的元素是否一样\n",
    "            d[lst[i]] += 1 # d[lst[i]]  = d[lst[i]] + 1 # 有一样的元素，字典中key对应的value加一次\n",
    "#print(d)            \n",
    "for k,v in d.items():\n",
    "    # print('%s这个单词次数为：%s'%(k, v))\n",
    "    print('{}这个单词出现的次数为：{}'.format(k, v))\n",
    "    \n",
    "\n",
    "\n"
   ]
  },
  {
   "cell_type": "markdown",
   "metadata": {},
   "source": [
    "#### 3. 扁平化字典\n",
    "```\n",
    "{'a': {'b': {'c': 1}, 'd': 2}, 'e': 3}} => {'a.b.c': 1, 'a.d': 2, 'e': 3}\n",
    "```\n"
   ]
  },
  {
   "cell_type": "markdown",
   "metadata": {},
   "source": [
    "###### 分解成组：\n",
    "```\n",
    "('a': {'b': {'c': 1}, 'd': 2),    ('e': 3})\n",
    "    \n",
    "(a:{'b': {'c': 1})，    ('a': {'d': 2}),     ('e': 3)\n",
    "    \n",
    "```"
   ]
  },
  {
   "cell_type": "code",
   "execution_count": 8,
   "metadata": {},
   "outputs": [
    {
     "data": {
      "text/plain": [
       "{'a.b.c': 1, 'a.d': 2, 'e': 3}"
      ]
     },
     "execution_count": 8,
     "metadata": {},
     "output_type": "execute_result"
    }
   ],
   "source": [
    "d = {'a': {'b': {'c': 1}, 'd': 2}, 'e': 3}\n",
    "\n",
    "def flat(data, dst, pattern=''): \n",
    "    for k,v in data.items(): # 遍历字典的键值对\n",
    "        #三元运算符，判断为空字符串，key = k，反之为key = pattern.k\n",
    "        key = k if pattern == '' else '{}.{}'.format(pattern, k) \n",
    "        if isinstance(v, dict): # 判断v和dict是否是同一类型\n",
    "            flat(v, dst, key) # 为True时，调用自身，并传v,dast,key的各个值\n",
    "        else:\n",
    "            result[key] = v # 为False时，把key与v作为键值对添加到字典result内\n",
    "    return result\n",
    "\n",
    "result = {} # 定义一个空字典\n",
    "\n",
    "flat(d, result)\n"
   ]
  },
  {
   "cell_type": "markdown",
   "metadata": {},
   "source": [
    "###### 测试看代码"
   ]
  },
  {
   "cell_type": "code",
   "execution_count": 130,
   "metadata": {
    "scrolled": false
   },
   "outputs": [
    {
     "name": "stdout",
     "output_type": "stream",
     "text": [
      "--------------------------------------------------\n",
      "a = {'b': {'c': 1}, 'd': 2}\n",
      "1\n",
      "<class 'dict'>\n",
      "2\n",
      "{}\n",
      "3\n",
      "a\n",
      "{'b': {'c': 1}, 'd': 2}\n",
      "--------------------------------------------------\n",
      "b = {'c': 1}\n",
      "1\n",
      "<class 'dict'>\n",
      "2\n",
      "{}\n",
      "3\n",
      "a.b\n",
      "{'c': 1}\n",
      "--------------------------------------------------\n",
      "c = 1\n",
      "1\n",
      "<class 'int'>\n",
      "4\n",
      "{'a.b.c': 1}\n",
      "--------------------------------------------------\n",
      "d = 2\n",
      "1\n",
      "<class 'int'>\n",
      "4\n",
      "{'a.b.c': 1, 'a.d': 2}\n",
      "--------------------------------------------------\n",
      "e = 3\n",
      "1\n",
      "<class 'int'>\n",
      "4\n",
      "{'a.b.c': 1, 'a.d': 2, 'e': 3}\n"
     ]
    }
   ],
   "source": [
    "def _flatten(src,dst,pattern=''):\n",
    "    for k,v in src.items():\n",
    "        print(\"-\"*50)\n",
    "        print(k,\"=\", v)\n",
    "        key = k if pattern == '' else '{}.{}'.format(pattern,k)\n",
    "        print('1')\n",
    "        if isinstance(v,dict):\n",
    "            print(type(v))\n",
    "            print('2')\n",
    "            print(dst)\n",
    "            print('3')\n",
    "            print(key)\n",
    "            print(v)\n",
    "            _flatten(v,dst,key)\n",
    "        else:\n",
    "            print(type(v))\n",
    "            print('4')\n",
    "            dst[key] = v \n",
    "            print(dst)\n",
    "result = {}\n",
    "_flatten(data,result)"
   ]
  }
 ],
 "metadata": {
  "kernelspec": {
   "display_name": "Python 3",
   "language": "python",
   "name": "python3"
  },
  "language_info": {
   "codemirror_mode": {
    "name": "ipython",
    "version": 3
   },
   "file_extension": ".py",
   "mimetype": "text/x-python",
   "name": "python",
   "nbconvert_exporter": "python",
   "pygments_lexer": "ipython3",
   "version": "3.7.1"
  }
 },
 "nbformat": 4,
 "nbformat_minor": 2
}
