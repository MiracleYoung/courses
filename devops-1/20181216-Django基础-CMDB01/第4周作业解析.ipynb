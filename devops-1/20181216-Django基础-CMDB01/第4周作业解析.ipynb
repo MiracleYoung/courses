{
 "cells": [
  {
   "cell_type": "markdown",
   "metadata": {},
   "source": [
    "## 实现一个带参数的缓存装饰器，允许指定过期时间"
   ]
  },
  {
   "cell_type": "code",
   "execution_count": 1,
   "metadata": {},
   "outputs": [
    {
     "name": "stdout",
     "output_type": "stream",
     "text": [
      "not in cache\n",
      "3\n",
      "in cache\n",
      "3\n",
      "not in cache\n",
      "7\n"
     ]
    }
   ],
   "source": [
    "from functools import wraps\n",
    "\n",
    "def cache(func):\n",
    "    data = {}\n",
    "\n",
    "    @wraps(func)\n",
    "    def wrapper(*args):\n",
    "        if args in data:\n",
    "            print(\"in cache\")\n",
    "            return data[args]\n",
    "        else:\n",
    "            print(\"not in cache\")\n",
    "            res = func(*args)\n",
    "            data[args] = res\n",
    "            return res\n",
    "\n",
    "    return wrapper\n",
    "\n",
    "\n",
    "@cache\n",
    "def add(x, y):\n",
    "    return x + y\n",
    "\n",
    "\n",
    "print(add(1, 2))\n",
    "print(add(1, 2))\n",
    "print(add(3, 4))"
   ]
  },
  {
   "cell_type": "code",
   "execution_count": 2,
   "metadata": {},
   "outputs": [
    {
     "ename": "TypeError",
     "evalue": "wrapper() got an unexpected keyword argument 'y'",
     "output_type": "error",
     "traceback": [
      "\u001b[0;31m---------------------------------------------------------------------------\u001b[0m",
      "\u001b[0;31mTypeError\u001b[0m                                 Traceback (most recent call last)",
      "\u001b[0;32m<ipython-input-2-f81295afa3f1>\u001b[0m in \u001b[0;36m<module>\u001b[0;34m()\u001b[0m\n\u001b[0;32m----> 1\u001b[0;31m \u001b[0madd\u001b[0m\u001b[0;34m(\u001b[0m\u001b[0my\u001b[0m\u001b[0;34m=\u001b[0m\u001b[0;36m2\u001b[0m\u001b[0;34m,\u001b[0m \u001b[0mx\u001b[0m\u001b[0;34m=\u001b[0m\u001b[0;36m1\u001b[0m\u001b[0;34m)\u001b[0m\u001b[0;34m\u001b[0m\u001b[0m\n\u001b[0m",
      "\u001b[0;31mTypeError\u001b[0m: wrapper() got an unexpected keyword argument 'y'"
     ]
    }
   ],
   "source": [
    "add(y=2, x=1)"
   ]
  },
  {
   "cell_type": "code",
   "execution_count": null,
   "metadata": {},
   "outputs": [],
   "source": [
    "def cache(fn):\n",
    "    # 存储缓存\n",
    "    c = {}\n",
    "    \n",
    "    @wraps(fn)\n",
    "    def wrap(*args, **kwargs):\n",
    "        # key ? args, kwargs\n",
    "        # 超时检测\n",
    "        ret = fn(*args, **kwargs)\n",
    "        c[key] = ret\n",
    "        return ret"
   ]
  },
  {
   "cell_type": "markdown",
   "metadata": {},
   "source": [
    "参数构造： \"x=1&y=2\""
   ]
  },
  {
   "cell_type": "markdown",
   "metadata": {},
   "source": [
    "kwargs 可以获取到key"
   ]
  },
  {
   "cell_type": "markdown",
   "metadata": {},
   "source": [
    "args 的key 如何获取？"
   ]
  },
  {
   "cell_type": "code",
   "execution_count": 3,
   "metadata": {},
   "outputs": [],
   "source": [
    "import inspect"
   ]
  },
  {
   "cell_type": "code",
   "execution_count": 4,
   "metadata": {},
   "outputs": [],
   "source": [
    "def add(x, y):\n",
    "    pass"
   ]
  },
  {
   "cell_type": "code",
   "execution_count": 5,
   "metadata": {},
   "outputs": [],
   "source": [
    "sig = inspect.signature(add)"
   ]
  },
  {
   "cell_type": "code",
   "execution_count": 6,
   "metadata": {},
   "outputs": [
    {
     "data": {
      "text/plain": [
       "<Signature (x, y)>"
      ]
     },
     "execution_count": 6,
     "metadata": {},
     "output_type": "execute_result"
    }
   ],
   "source": [
    "sig"
   ]
  },
  {
   "cell_type": "code",
   "execution_count": 7,
   "metadata": {},
   "outputs": [
    {
     "data": {
      "text/plain": [
       "mappingproxy({'x': <Parameter \"x\">, 'y': <Parameter \"y\">})"
      ]
     },
     "execution_count": 7,
     "metadata": {},
     "output_type": "execute_result"
    }
   ],
   "source": [
    "sig.parameters"
   ]
  },
  {
   "cell_type": "code",
   "execution_count": 8,
   "metadata": {},
   "outputs": [
    {
     "data": {
      "text/plain": [
       "odict_items([('x', <Parameter \"x\">), ('y', <Parameter \"y\">)])"
      ]
     },
     "execution_count": 8,
     "metadata": {},
     "output_type": "execute_result"
    }
   ],
   "source": [
    "sig.parameters.items()"
   ]
  },
  {
   "cell_type": "code",
   "execution_count": 9,
   "metadata": {},
   "outputs": [
    {
     "data": {
      "text/plain": [
       "odict_keys(['x', 'y'])"
      ]
     },
     "execution_count": 9,
     "metadata": {},
     "output_type": "execute_result"
    }
   ],
   "source": [
    "sig.parameters.keys()"
   ]
  },
  {
   "cell_type": "code",
   "execution_count": 14,
   "metadata": {},
   "outputs": [
    {
     "data": {
      "text/plain": [
       "'x'"
      ]
     },
     "execution_count": 14,
     "metadata": {},
     "output_type": "execute_result"
    }
   ],
   "source": [
    "list(sig.parameters.keys())[0]"
   ]
  },
  {
   "cell_type": "code",
   "execution_count": 11,
   "metadata": {},
   "outputs": [
    {
     "name": "stdout",
     "output_type": "stream",
     "text": [
      "x\n",
      "y\n"
     ]
    }
   ],
   "source": [
    "for k in sig.parameters.keys():\n",
    "    print(k)"
   ]
  },
  {
   "cell_type": "code",
   "execution_count": 31,
   "metadata": {},
   "outputs": [],
   "source": [
    "def cache(fn):\n",
    "    # 存储缓存\n",
    "    c = {}\n",
    "    \n",
    "    @wraps(fn)\n",
    "    def wrap(*args, **kwargs):\n",
    "        # key ? args, kwargs\n",
    "        print(args)\n",
    "        print(kwargs)\n",
    "        key = []\n",
    "        \n",
    "        params = inspect.signature(fn).parameters\n",
    "        # args\n",
    "        for i, arg in enumerate(args):\n",
    "            # args 是 位置参数，所以他的顺序和我们的params顺序 应该是一致的\n",
    "            # name 是我们的key\n",
    "            name = list(params.keys())[i]\n",
    "            key.append((name, arg))\n",
    "        \n",
    "        # kwrgs\n",
    "#         for k, v in kwargs.items():\n",
    "#             key.append((k, v))\n",
    "            \n",
    "        key.extend(kwargs.items())\n",
    "        \n",
    "        key.sort(key=lambda x: x[0])\n",
    "        \n",
    "        key = '&'.join([f'{name}={arg}' for name, arg in key])\n",
    "        \n",
    "        print(key)\n",
    "        \n",
    "        # 命中检测\n",
    "        if key in c.keys():\n",
    "            # 超时检测\n",
    "            print(f'命中缓存：{key}: {args}, {kwargs}')\n",
    "            return c[key]\n",
    "        \n",
    "        ret = fn(*args, **kwargs)\n",
    "        c[key] = ret\n",
    "        return ret\n",
    "    return wrap"
   ]
  },
  {
   "cell_type": "code",
   "execution_count": null,
   "metadata": {},
   "outputs": [],
   "source": [
    "add(1, 2) # key => [(x, 1), (y, 2)] "
   ]
  },
  {
   "cell_type": "code",
   "execution_count": 21,
   "metadata": {},
   "outputs": [],
   "source": [
    "@cache\n",
    "def add(x, y):\n",
    "    return x + y"
   ]
  },
  {
   "cell_type": "code",
   "execution_count": 22,
   "metadata": {},
   "outputs": [
    {
     "name": "stdout",
     "output_type": "stream",
     "text": [
      "x=1&y=2\n"
     ]
    },
    {
     "data": {
      "text/plain": [
       "3"
      ]
     },
     "execution_count": 22,
     "metadata": {},
     "output_type": "execute_result"
    }
   ],
   "source": [
    "add(1, 2)"
   ]
  },
  {
   "cell_type": "code",
   "execution_count": 23,
   "metadata": {},
   "outputs": [
    {
     "name": "stdout",
     "output_type": "stream",
     "text": [
      "x=1&y=2\n",
      "命中缓存：x=1&y=2: (1, 2), {}\n"
     ]
    },
    {
     "data": {
      "text/plain": [
       "3"
      ]
     },
     "execution_count": 23,
     "metadata": {},
     "output_type": "execute_result"
    }
   ],
   "source": [
    "add(1, 2)"
   ]
  },
  {
   "cell_type": "code",
   "execution_count": 24,
   "metadata": {},
   "outputs": [
    {
     "name": "stdout",
     "output_type": "stream",
     "text": [
      "x=3&y=4\n"
     ]
    },
    {
     "data": {
      "text/plain": [
       "7"
      ]
     },
     "execution_count": 24,
     "metadata": {},
     "output_type": "execute_result"
    }
   ],
   "source": [
    "add(3, 4)"
   ]
  },
  {
   "cell_type": "code",
   "execution_count": 25,
   "metadata": {},
   "outputs": [
    {
     "name": "stdout",
     "output_type": "stream",
     "text": [
      "x=3&y=4\n",
      "命中缓存：x=3&y=4: (3, 4), {}\n"
     ]
    },
    {
     "data": {
      "text/plain": [
       "7"
      ]
     },
     "execution_count": 25,
     "metadata": {},
     "output_type": "execute_result"
    }
   ],
   "source": [
    "add(3,4)"
   ]
  },
  {
   "cell_type": "code",
   "execution_count": 26,
   "metadata": {},
   "outputs": [
    {
     "name": "stdout",
     "output_type": "stream",
     "text": [
      "x=3&y=4\n",
      "命中缓存：x=3&y=4: (), {'y': 4, 'x': 3}\n"
     ]
    },
    {
     "data": {
      "text/plain": [
       "7"
      ]
     },
     "execution_count": 26,
     "metadata": {},
     "output_type": "execute_result"
    }
   ],
   "source": [
    "add(y=4, x=3)"
   ]
  },
  {
   "cell_type": "code",
   "execution_count": 27,
   "metadata": {},
   "outputs": [],
   "source": [
    "@cache\n",
    "def add(x, y=3):\n",
    "    return x + y"
   ]
  },
  {
   "cell_type": "code",
   "execution_count": 28,
   "metadata": {},
   "outputs": [
    {
     "name": "stdout",
     "output_type": "stream",
     "text": [
      "x=1&y=3\n"
     ]
    },
    {
     "data": {
      "text/plain": [
       "4"
      ]
     },
     "execution_count": 28,
     "metadata": {},
     "output_type": "execute_result"
    }
   ],
   "source": [
    "add(1, 3)"
   ]
  },
  {
   "cell_type": "code",
   "execution_count": 29,
   "metadata": {},
   "outputs": [
    {
     "name": "stdout",
     "output_type": "stream",
     "text": [
      "x=1&y=3\n",
      "命中缓存：x=1&y=3: (1, 3), {}\n"
     ]
    },
    {
     "data": {
      "text/plain": [
       "4"
      ]
     },
     "execution_count": 29,
     "metadata": {},
     "output_type": "execute_result"
    }
   ],
   "source": [
    "add(1, 3)"
   ]
  },
  {
   "cell_type": "code",
   "execution_count": 30,
   "metadata": {},
   "outputs": [
    {
     "name": "stdout",
     "output_type": "stream",
     "text": [
      "x=1\n"
     ]
    },
    {
     "data": {
      "text/plain": [
       "4"
      ]
     },
     "execution_count": 30,
     "metadata": {},
     "output_type": "execute_result"
    }
   ],
   "source": [
    "add(1)"
   ]
  },
  {
   "cell_type": "code",
   "execution_count": 32,
   "metadata": {},
   "outputs": [],
   "source": [
    "@cache\n",
    "def fn(a, b=1):\n",
    "    pass"
   ]
  },
  {
   "cell_type": "code",
   "execution_count": 33,
   "metadata": {},
   "outputs": [
    {
     "name": "stdout",
     "output_type": "stream",
     "text": [
      "(1,)\n",
      "{}\n",
      "a=1\n"
     ]
    }
   ],
   "source": [
    "fn(1)"
   ]
  },
  {
   "cell_type": "code",
   "execution_count": 34,
   "metadata": {},
   "outputs": [
    {
     "name": "stdout",
     "output_type": "stream",
     "text": [
      "()\n",
      "{'a': 1}\n",
      "a=1\n",
      "命中缓存：a=1: (), {'a': 1}\n"
     ]
    }
   ],
   "source": [
    "fn(a=1)"
   ]
  },
  {
   "cell_type": "code",
   "execution_count": 44,
   "metadata": {},
   "outputs": [],
   "source": [
    "def cache(fn):\n",
    "    # 存储缓存\n",
    "    c = {}\n",
    "    \n",
    "    @wraps(fn)\n",
    "    def wrap(*args, **kwargs):\n",
    "        # key ? args, kwargs\n",
    "        print(args)\n",
    "        print(kwargs)\n",
    "        key = []\n",
    "        \n",
    "        names = set()\n",
    "        \n",
    "        params = inspect.signature(fn).parameters\n",
    "        # args\n",
    "        for i, arg in enumerate(args):\n",
    "            # args 是 位置参数，所以他的顺序和我们的params顺序 应该是一致的\n",
    "            # name 是我们的key\n",
    "            name = list(params.keys())[i]\n",
    "            key.append((name, arg))\n",
    "            \n",
    "            names.add(name)\n",
    "        \n",
    "        # kwrgs\n",
    "#         for k, v in kwargs.items():\n",
    "#             key.append((k, v))\n",
    "            \n",
    "        key.extend(kwargs.items())\n",
    "        \n",
    "        names.update(kwargs.keys())\n",
    "        \n",
    "        for k, v in params.items():\n",
    "            # 如何获取到默认参数\n",
    "            # 如果定义函数的时候，有默认参数，在传参的时候没有传这个默认参数，我们就拿不到它\n",
    "            # params是整个函数的参数列表\n",
    "            # params 里 不在 names 里的 就是默认参数\n",
    "            if k not in names:\n",
    "                key.append((k, v.default))\n",
    "        \n",
    "        key.sort(key=lambda x: x[0])\n",
    "        \n",
    "        key = '&'.join([f'{name}={arg}' for name, arg in key])\n",
    "        \n",
    "        print(key)\n",
    "        \n",
    "        # 命中检测\n",
    "        if key in c.keys():\n",
    "            # 超时检测\n",
    "            print(f'命中缓存：{key}: {args}, {kwargs}')\n",
    "            return c[key]\n",
    "        \n",
    "        ret = fn(*args, **kwargs)\n",
    "        c[key] = ret\n",
    "        return ret\n",
    "    return wrap"
   ]
  },
  {
   "cell_type": "code",
   "execution_count": 35,
   "metadata": {},
   "outputs": [],
   "source": [
    "def fn(a, b=1):\n",
    "    pass"
   ]
  },
  {
   "cell_type": "code",
   "execution_count": 36,
   "metadata": {},
   "outputs": [],
   "source": [
    "sig = inspect.signature(fn)"
   ]
  },
  {
   "cell_type": "code",
   "execution_count": 37,
   "metadata": {},
   "outputs": [
    {
     "data": {
      "text/plain": [
       "mappingproxy({'a': <Parameter \"a\">, 'b': <Parameter \"b=1\">})"
      ]
     },
     "execution_count": 37,
     "metadata": {},
     "output_type": "execute_result"
    }
   ],
   "source": [
    "sig.parameters"
   ]
  },
  {
   "cell_type": "code",
   "execution_count": 41,
   "metadata": {},
   "outputs": [],
   "source": [
    "ret = list(sig.parameters.values())[1]"
   ]
  },
  {
   "cell_type": "code",
   "execution_count": 42,
   "metadata": {},
   "outputs": [
    {
     "data": {
      "text/plain": [
       "1"
      ]
     },
     "execution_count": 42,
     "metadata": {},
     "output_type": "execute_result"
    }
   ],
   "source": [
    "ret.default"
   ]
  },
  {
   "cell_type": "code",
   "execution_count": 43,
   "metadata": {},
   "outputs": [
    {
     "data": {
      "text/plain": [
       "inspect._empty"
      ]
     },
     "execution_count": 43,
     "metadata": {},
     "output_type": "execute_result"
    }
   ],
   "source": [
    "list(sig.parameters.values())[0].default"
   ]
  },
  {
   "cell_type": "code",
   "execution_count": 45,
   "metadata": {},
   "outputs": [],
   "source": [
    "@cache\n",
    "def add(a, b=2):\n",
    "    return a + b"
   ]
  },
  {
   "cell_type": "code",
   "execution_count": 46,
   "metadata": {},
   "outputs": [
    {
     "name": "stdout",
     "output_type": "stream",
     "text": [
      "(1, 2)\n",
      "{}\n",
      "a=1&b=2\n"
     ]
    },
    {
     "data": {
      "text/plain": [
       "3"
      ]
     },
     "execution_count": 46,
     "metadata": {},
     "output_type": "execute_result"
    }
   ],
   "source": [
    "add(1, 2)"
   ]
  },
  {
   "cell_type": "code",
   "execution_count": 47,
   "metadata": {},
   "outputs": [
    {
     "name": "stdout",
     "output_type": "stream",
     "text": [
      "()\n",
      "{'b': 2, 'a': 1}\n",
      "a=1&b=2\n",
      "命中缓存：a=1&b=2: (), {'b': 2, 'a': 1}\n"
     ]
    },
    {
     "data": {
      "text/plain": [
       "3"
      ]
     },
     "execution_count": 47,
     "metadata": {},
     "output_type": "execute_result"
    }
   ],
   "source": [
    "add(b=2, a=1)"
   ]
  },
  {
   "cell_type": "code",
   "execution_count": 48,
   "metadata": {},
   "outputs": [
    {
     "name": "stdout",
     "output_type": "stream",
     "text": [
      "(1,)\n",
      "{}\n",
      "a=1&b=2\n",
      "命中缓存：a=1&b=2: (1,), {}\n"
     ]
    },
    {
     "data": {
      "text/plain": [
       "3"
      ]
     },
     "execution_count": 48,
     "metadata": {},
     "output_type": "execute_result"
    }
   ],
   "source": [
    "add(1)"
   ]
  },
  {
   "cell_type": "code",
   "execution_count": 61,
   "metadata": {},
   "outputs": [],
   "source": [
    "import datetime \n",
    "\n",
    "def cache(exp=0, t):\n",
    "    # exp=0 没有超时时间\n",
    "    def _cache(fn):\n",
    "        # 存储缓存\n",
    "        c = {}\n",
    "        \n",
    "        def lru():\n",
    "            pass\n",
    "        \n",
    "        def fifo():\n",
    "            pass\n",
    "\n",
    "        @wraps(fn)\n",
    "        def wrap(*args, **kwargs):\n",
    "            # key ? args, kwargs\n",
    "            print(args)\n",
    "            print(kwargs)\n",
    "            key = []\n",
    "\n",
    "            names = set()\n",
    "\n",
    "            params = inspect.signature(fn).parameters\n",
    "            # args\n",
    "            for i, arg in enumerate(args):\n",
    "                # args 是 位置参数，所以他的顺序和我们的params顺序 应该是一致的\n",
    "                # name 是我们的key\n",
    "                name = list(params.keys())[i]\n",
    "                key.append((name, arg))\n",
    "\n",
    "                names.add(name)\n",
    "\n",
    "            # kwrgs\n",
    "    #         for k, v in kwargs.items():\n",
    "    #             key.append((k, v))\n",
    "\n",
    "            key.extend(kwargs.items())\n",
    "\n",
    "            names.update(kwargs.keys())\n",
    "\n",
    "            for k, v in params.items():\n",
    "                # 如何获取到默认参数\n",
    "                # 如果定义函数的时候，有默认参数，在传参的时候没有传这个默认参数，我们就拿不到它\n",
    "                # params是整个函数的参数列表\n",
    "                # params 里 不在 names 里的 就是默认参数\n",
    "                if k not in names:\n",
    "                    key.append((k, v.default))\n",
    "\n",
    "            key.sort(key=lambda x: x[0])\n",
    "\n",
    "            key = '&'.join([f'{name}={arg}' for name, arg in key])\n",
    "\n",
    "            print(key)\n",
    "\n",
    "            # 命中检测\n",
    "            if key in c.keys():\n",
    "                # 超时检测\n",
    "                # 如何判断 一组key 在什么时候执行过呢？\n",
    "                # key &ts=1231231231\n",
    "                # key = (key, timestamp): values\n",
    "                ret, timestamp = c[key]\n",
    "                if exp == 0 or datetime.datetime.now().timestamp() - timestamp < exp:\n",
    "                    print(f'命中缓存：{key}: {args}, {kwargs}')\n",
    "                    return c[key]\n",
    "\n",
    "            ret = fn(*args, **kwargs)\n",
    "            print('缓存未命中')\n",
    "            c[key] = (ret, datetime.datetime.now().timestamp())\n",
    "            return ret\n",
    "        return wrap\n",
    "    return _cache"
   ]
  },
  {
   "cell_type": "code",
   "execution_count": 50,
   "metadata": {},
   "outputs": [],
   "source": [
    "import datetime"
   ]
  },
  {
   "cell_type": "code",
   "execution_count": 53,
   "metadata": {},
   "outputs": [
    {
     "data": {
      "text/plain": [
       "1544921875.402381"
      ]
     },
     "execution_count": 53,
     "metadata": {},
     "output_type": "execute_result"
    }
   ],
   "source": [
    "datetime.datetime.now().timestamp()"
   ]
  },
  {
   "cell_type": "code",
   "execution_count": 62,
   "metadata": {},
   "outputs": [],
   "source": [
    "@cache(5)\n",
    "def add(a, b=2):\n",
    "    return a + b"
   ]
  },
  {
   "cell_type": "code",
   "execution_count": 63,
   "metadata": {},
   "outputs": [
    {
     "name": "stdout",
     "output_type": "stream",
     "text": [
      "(1, 2)\n",
      "{}\n",
      "a=1&b=2\n",
      "缓存未命中\n"
     ]
    },
    {
     "data": {
      "text/plain": [
       "3"
      ]
     },
     "execution_count": 63,
     "metadata": {},
     "output_type": "execute_result"
    }
   ],
   "source": [
    "add(1, 2)"
   ]
  },
  {
   "cell_type": "code",
   "execution_count": 64,
   "metadata": {},
   "outputs": [
    {
     "name": "stdout",
     "output_type": "stream",
     "text": [
      "(2, 1)\n",
      "{}\n",
      "a=2&b=1\n",
      "缓存未命中\n"
     ]
    },
    {
     "data": {
      "text/plain": [
       "3"
      ]
     },
     "execution_count": 64,
     "metadata": {},
     "output_type": "execute_result"
    }
   ],
   "source": [
    "add(2, 1)"
   ]
  },
  {
   "cell_type": "code",
   "execution_count": 65,
   "metadata": {},
   "outputs": [
    {
     "name": "stdout",
     "output_type": "stream",
     "text": [
      "()\n",
      "{'a': 1, 'b': 2}\n",
      "a=1&b=2\n",
      "命中缓存：a=1&b=2: (), {'a': 1, 'b': 2}\n"
     ]
    },
    {
     "data": {
      "text/plain": [
       "(3, 1544922062.303333)"
      ]
     },
     "execution_count": 65,
     "metadata": {},
     "output_type": "execute_result"
    }
   ],
   "source": [
    "add(a=1,b=2)"
   ]
  },
  {
   "cell_type": "code",
   "execution_count": 66,
   "metadata": {},
   "outputs": [
    {
     "name": "stdout",
     "output_type": "stream",
     "text": [
      "()\n",
      "{'a': 1, 'b': 2}\n",
      "a=1&b=2\n",
      "缓存未命中\n"
     ]
    },
    {
     "data": {
      "text/plain": [
       "3"
      ]
     },
     "execution_count": 66,
     "metadata": {},
     "output_type": "execute_result"
    }
   ],
   "source": [
    "add(a=1,b=2)"
   ]
  },
  {
   "cell_type": "code",
   "execution_count": 67,
   "metadata": {},
   "outputs": [
    {
     "ename": "ZeroDivisionError",
     "evalue": "division by zero",
     "output_type": "error",
     "traceback": [
      "\u001b[0;31m---------------------------------------------------------------------------\u001b[0m",
      "\u001b[0;31mZeroDivisionError\u001b[0m                         Traceback (most recent call last)",
      "\u001b[0;32m<ipython-input-67-b971f1464605>\u001b[0m in \u001b[0;36m<module>\u001b[0;34m()\u001b[0m\n\u001b[0;32m----> 1\u001b[0;31m \u001b[0;36m1\u001b[0m \u001b[0;34m/\u001b[0m \u001b[0;36m0\u001b[0m\u001b[0;34m\u001b[0m\u001b[0m\n\u001b[0m",
      "\u001b[0;31mZeroDivisionError\u001b[0m: division by zero"
     ]
    }
   ],
   "source": [
    "1 / 0 "
   ]
  },
  {
   "cell_type": "code",
   "execution_count": null,
   "metadata": {},
   "outputs": [],
   "source": []
  }
 ],
 "metadata": {
  "kernelspec": {
   "display_name": "Python 3",
   "language": "python",
   "name": "python3"
  },
  "language_info": {
   "codemirror_mode": {
    "name": "ipython",
    "version": 3
   },
   "file_extension": ".py",
   "mimetype": "text/x-python",
   "name": "python",
   "nbconvert_exporter": "python",
   "pygments_lexer": "ipython3",
   "version": "3.7.0"
  }
 },
 "nbformat": 4,
 "nbformat_minor": 2
}
