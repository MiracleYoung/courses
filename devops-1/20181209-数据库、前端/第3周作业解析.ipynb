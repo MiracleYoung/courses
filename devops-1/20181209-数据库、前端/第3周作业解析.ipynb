{
 "cells": [
  {
   "cell_type": "markdown",
   "metadata": {},
   "source": [
    "# 实现一个ls"
   ]
  },
  {
   "cell_type": "markdown",
   "metadata": {},
   "source": [
    "- 参数的获取：argparse\n",
    "- 文件的属性获取"
   ]
  },
  {
   "cell_type": "code",
   "execution_count": null,
   "metadata": {},
   "outputs": [],
   "source": []
  },
  {
   "cell_type": "code",
   "execution_count": 1,
   "metadata": {},
   "outputs": [],
   "source": [
    "import argparse"
   ]
  },
  {
   "cell_type": "code",
   "execution_count": null,
   "metadata": {},
   "outputs": [],
   "source": [
    "python ls.py -a -l # -l -a"
   ]
  },
  {
   "cell_type": "code",
   "execution_count": 2,
   "metadata": {},
   "outputs": [],
   "source": [
    "parser = argparse.ArgumentParser('python version ls.py')"
   ]
  },
  {
   "cell_type": "code",
   "execution_count": 6,
   "metadata": {
    "scrolled": true
   },
   "outputs": [
    {
     "name": "stdout",
     "output_type": "stream",
     "text": [
      "Namespace(integers=[1, 2, 3, 4])\r\n"
     ]
    }
   ],
   "source": [
    "!python ls.py 1 2 3 4"
   ]
  },
  {
   "cell_type": "code",
   "execution_count": 7,
   "metadata": {},
   "outputs": [
    {
     "name": "stdout",
     "output_type": "stream",
     "text": [
      "usage: python version ls.py [-h] N [N ...]\r\n",
      "\r\n",
      "positional arguments:\r\n",
      "  N           an integer for the accumulator\r\n",
      "\r\n",
      "optional arguments:\r\n",
      "  -h, --help  show this help message and exit\r\n"
     ]
    }
   ],
   "source": [
    "!python ls.py -h"
   ]
  },
  {
   "cell_type": "code",
   "execution_count": 8,
   "metadata": {},
   "outputs": [
    {
     "name": "stdout",
     "output_type": "stream",
     "text": [
      "usage: python version ls.py [-h] N [N ...]\r\n",
      "python version ls.py: error: argument N: invalid int value: 'a'\r\n"
     ]
    }
   ],
   "source": [
    "!python ls.py 1 2 3 'a'"
   ]
  },
  {
   "cell_type": "code",
   "execution_count": 11,
   "metadata": {},
   "outputs": [
    {
     "name": "stdout",
     "output_type": "stream",
     "text": [
      "Namespace(integers=[1, 2, 3])\r\n",
      "[1, 2, 3]\r\n"
     ]
    }
   ],
   "source": [
    "!python ls.py 1 2 3 "
   ]
  },
  {
   "cell_type": "code",
   "execution_count": 16,
   "metadata": {},
   "outputs": [
    {
     "name": "stdout",
     "output_type": "stream",
     "text": [
      "Namespace(all=True, human=False, long_format=True, path=['/Users/miracleYoung', '/', '/Users/miracleYoung/Codes/MiracleGit'])\r\n"
     ]
    }
   ],
   "source": [
    "!python ls.py  -al ~ / ~/Codes/MiracleGit"
   ]
  },
  {
   "cell_type": "code",
   "execution_count": 17,
   "metadata": {},
   "outputs": [
    {
     "name": "stdout",
     "output_type": "stream",
     "text": [
      "Namespace(all=True, human=False, long_format=True, path=['/Users/miracleYoung', '/', '/Users/miracleYoung/Codes/MiracleGit'])\r\n",
      "True\r\n",
      "False\r\n",
      "True\r\n",
      "['/Users/miracleYoung', '/', '/Users/miracleYoung/Codes/MiracleGit']\r\n"
     ]
    }
   ],
   "source": [
    "!python ls.py  -al ~ / ~/Codes/MiracleGit"
   ]
  },
  {
   "cell_type": "code",
   "execution_count": 18,
   "metadata": {},
   "outputs": [],
   "source": [
    "import pathlib"
   ]
  },
  {
   "cell_type": "code",
   "execution_count": 19,
   "metadata": {},
   "outputs": [],
   "source": [
    "p = pathlib.Path('/Users/miracleYoung/Codes/MiracleGit/courses/运维自动化开发班1期/')"
   ]
  },
  {
   "cell_type": "code",
   "execution_count": 20,
   "metadata": {},
   "outputs": [
    {
     "data": {
      "text/plain": [
       "<generator object Path.iterdir at 0x10b09fe58>"
      ]
     },
     "execution_count": 20,
     "metadata": {},
     "output_type": "execute_result"
    }
   ],
   "source": [
    "p.iterdir()"
   ]
  },
  {
   "cell_type": "code",
   "execution_count": 21,
   "metadata": {},
   "outputs": [
    {
     "data": {
      "text/plain": [
       "PosixPath('/Users/miracleYoung/Codes/MiracleGit/courses/运维自动化开发班1期/20181209-数据库、前端')"
      ]
     },
     "execution_count": 21,
     "metadata": {},
     "output_type": "execute_result"
    }
   ],
   "source": [
    "next(p.iterdir())"
   ]
  },
  {
   "cell_type": "code",
   "execution_count": 22,
   "metadata": {},
   "outputs": [],
   "source": [
    "item = next(p.iterdir())"
   ]
  },
  {
   "cell_type": "code",
   "execution_count": 23,
   "metadata": {},
   "outputs": [
    {
     "name": "stdout",
     "output_type": "stream",
     "text": [
      "/Users/miracleYoung/Codes/MiracleGit/courses/运维自动化开发班1期/20181209-数据库、前端\n",
      "/Users/miracleYoung/Codes/MiracleGit/courses/运维自动化开发班1期/20181125-内置数据结构、函数\n",
      "/Users/miracleYoung/Codes/MiracleGit/courses/运维自动化开发班1期/01-开班仪式.ipynb\n",
      "/Users/miracleYoung/Codes/MiracleGit/courses/运维自动化开发班1期/.ipynb_checkpoints\n",
      "/Users/miracleYoung/Codes/MiracleGit/courses/运维自动化开发班1期/20181118-环境、语法、运算符、程序结构\n",
      "/Users/miracleYoung/Codes/MiracleGit/courses/运维自动化开发班1期/20181202-装饰器2、面向对象\n",
      "/Users/miracleYoung/Codes/MiracleGit/courses/运维自动化开发班1期/作业\n"
     ]
    }
   ],
   "source": [
    "for i in p.iterdir():\n",
    "    print(i)"
   ]
  },
  {
   "cell_type": "code",
   "execution_count": 24,
   "metadata": {},
   "outputs": [
    {
     "data": {
      "text/plain": [
       "PosixPath('/Users/miracleYoung/Codes/MiracleGit/courses/运维自动化开发班1期/20181209-数据库、前端')"
      ]
     },
     "execution_count": 24,
     "metadata": {},
     "output_type": "execute_result"
    }
   ],
   "source": [
    "item"
   ]
  },
  {
   "cell_type": "code",
   "execution_count": 25,
   "metadata": {},
   "outputs": [],
   "source": [
    "def fn(a: str, b: int) -> list:\n",
    "    return [str(a), str(b)]"
   ]
  },
  {
   "cell_type": "code",
   "execution_count": 26,
   "metadata": {},
   "outputs": [
    {
     "data": {
      "text/plain": [
       "['1', '2']"
      ]
     },
     "execution_count": 26,
     "metadata": {},
     "output_type": "execute_result"
    }
   ],
   "source": [
    "fn(1, 2)"
   ]
  },
  {
   "cell_type": "code",
   "execution_count": 27,
   "metadata": {},
   "outputs": [
    {
     "data": {
      "text/plain": [
       "'20181209-数据库、前端'"
      ]
     },
     "execution_count": 27,
     "metadata": {},
     "output_type": "execute_result"
    }
   ],
   "source": [
    "item.name"
   ]
  },
  {
   "cell_type": "code",
   "execution_count": 28,
   "metadata": {},
   "outputs": [],
   "source": [
    "import stat"
   ]
  },
  {
   "cell_type": "code",
   "execution_count": 29,
   "metadata": {},
   "outputs": [],
   "source": [
    "st = item.stat()"
   ]
  },
  {
   "cell_type": "code",
   "execution_count": 30,
   "metadata": {},
   "outputs": [
    {
     "data": {
      "text/plain": [
       "os.stat_result(st_mode=16877, st_ino=8602853480, st_dev=16777220, st_nlink=5, st_uid=501, st_gid=20, st_size=160, st_atime=1544320622, st_mtime=1544320597, st_ctime=1544320597)"
      ]
     },
     "execution_count": 30,
     "metadata": {},
     "output_type": "execute_result"
    }
   ],
   "source": [
    "st"
   ]
  },
  {
   "cell_type": "code",
   "execution_count": 31,
   "metadata": {},
   "outputs": [
    {
     "data": {
      "text/plain": [
       "'drwxr-xr-x'"
      ]
     },
     "execution_count": 31,
     "metadata": {},
     "output_type": "execute_result"
    }
   ],
   "source": [
    "stat.filemode(st.st_mode)"
   ]
  },
  {
   "cell_type": "code",
   "execution_count": 32,
   "metadata": {},
   "outputs": [
    {
     "data": {
      "text/plain": [
       "5"
      ]
     },
     "execution_count": 32,
     "metadata": {},
     "output_type": "execute_result"
    }
   ],
   "source": [
    "st.st_nlink"
   ]
  },
  {
   "cell_type": "code",
   "execution_count": 33,
   "metadata": {},
   "outputs": [],
   "source": [
    "import pwd"
   ]
  },
  {
   "cell_type": "code",
   "execution_count": 35,
   "metadata": {},
   "outputs": [
    {
     "data": {
      "text/plain": [
       "'miracleYoung'"
      ]
     },
     "execution_count": 35,
     "metadata": {},
     "output_type": "execute_result"
    }
   ],
   "source": [
    "\n",
    "pwd.getpwuid(st.st_uid).pw_name"
   ]
  },
  {
   "cell_type": "code",
   "execution_count": 36,
   "metadata": {},
   "outputs": [],
   "source": [
    "import grp"
   ]
  },
  {
   "cell_type": "code",
   "execution_count": 38,
   "metadata": {},
   "outputs": [
    {
     "data": {
      "text/plain": [
       "'staff'"
      ]
     },
     "execution_count": 38,
     "metadata": {},
     "output_type": "execute_result"
    }
   ],
   "source": [
    "grp.getgrgid(st.st_gid).gr_name"
   ]
  },
  {
   "cell_type": "code",
   "execution_count": 39,
   "metadata": {},
   "outputs": [],
   "source": [
    "import datetime\n",
    "dt = datetime.datetime.fromtimestamp((1544320597))"
   ]
  },
  {
   "cell_type": "code",
   "execution_count": 40,
   "metadata": {},
   "outputs": [
    {
     "data": {
      "text/plain": [
       "12"
      ]
     },
     "execution_count": 40,
     "metadata": {},
     "output_type": "execute_result"
    }
   ],
   "source": [
    "dt.month"
   ]
  },
  {
   "cell_type": "code",
   "execution_count": 41,
   "metadata": {},
   "outputs": [
    {
     "data": {
      "text/plain": [
       "9"
      ]
     },
     "execution_count": 41,
     "metadata": {},
     "output_type": "execute_result"
    }
   ],
   "source": [
    "dt.day"
   ]
  },
  {
   "cell_type": "code",
   "execution_count": 43,
   "metadata": {},
   "outputs": [
    {
     "data": {
      "text/plain": [
       "9"
      ]
     },
     "execution_count": 43,
     "metadata": {},
     "output_type": "execute_result"
    }
   ],
   "source": [
    "dt.hour"
   ]
  },
  {
   "cell_type": "code",
   "execution_count": 44,
   "metadata": {},
   "outputs": [
    {
     "data": {
      "text/plain": [
       "56"
      ]
     },
     "execution_count": 44,
     "metadata": {},
     "output_type": "execute_result"
    }
   ],
   "source": [
    "dt.minute"
   ]
  },
  {
   "cell_type": "code",
   "execution_count": 51,
   "metadata": {},
   "outputs": [
    {
     "data": {
      "text/plain": [
       "'drwxr-xr-x 5 miracleYoung staff  20181209-数据库、前端'"
      ]
     },
     "execution_count": 51,
     "metadata": {},
     "output_type": "execute_result"
    }
   ],
   "source": [
    "attr = {\n",
    "        'mode': stat.filemode(st.st_mode),\n",
    "        'nlink': st.st_nlink,\n",
    "        'user': pwd.getpwuid(st.st_uid).pw_name,\n",
    "        'group': grp.getgrgid(st.st_gid).gr_name,\n",
    "\n",
    "        'name': item.name\n",
    "    }\n",
    "'{mode} {nlink} {user} {group}  {name}'.format(**attr)"
   ]
  },
  {
   "cell_type": "code",
   "execution_count": 49,
   "metadata": {},
   "outputs": [],
   "source": [
    "def time_format(mtime: int) -> str:\n",
    "    dt = datetime.datetime.fromtimestamp((mtime))\n",
    "    return f'{dt.month:>2} {dt.day:>2} {dt.hour:>2}:{dt.minute:>2}'\n",
    "\n",
    "def size_setup(size: int) -> str:\n",
    "    if not args.human:\n",
    "        return str(size)\n",
    "    units = ['', 'K', 'M', 'G', 'T', 'P', 'B']\n",
    "    idx = 0\n",
    "    while size > 1024:\n",
    "        size /= 1024\n",
    "        idx += 1\n",
    "    return f'{round(size, 1)}{units[idx]}'"
   ]
  },
  {
   "cell_type": "code",
   "execution_count": 59,
   "metadata": {
    "scrolled": true
   },
   "outputs": [
    {
     "name": "stdout",
     "output_type": "stream",
     "text": [
      "./\r\n",
      "-rw-r--r-- 1 miracleYoung staff     1.9K 12  9 10:25 ls.py\r\n",
      "drwxr-xr-x 3 miracleYoung staff       96 12  9  9: 2 .ipynb_checkpoints\r\n",
      "-rw-r--r-- 1 miracleYoung staff    19.6K 12  9 10:26 第3周作业解析.ipynb\r\n",
      "\r\n",
      "./第3周作业解析.ipynb\r\n",
      "Traceback (most recent call last):\r\n",
      "  File \"ls.py\", line 64, in <module>\r\n",
      "    main()\r\n",
      "  File \"ls.py\", line 55, in main\r\n",
      "    for item in scan(path):\r\n",
      "  File \"ls.py\", line 17, in scan\r\n",
      "    yield from (x for x in pathlib.Path(path).iterdir() if args.all or not x.name.startswith('.'))\r\n",
      "  File \"ls.py\", line 17, in <genexpr>\r\n",
      "    yield from (x for x in pathlib.Path(path).iterdir() if args.all or not x.name.startswith('.'))\r\n",
      "  File \"/Users/miracleYoung/.pyenv/versions/3.7.0/Python.framework/Versions/3.7/lib/python3.7/pathlib.py\", line 1063, in iterdir\r\n",
      "    for name in self._accessor.listdir(self):\r\n",
      "NotADirectoryError: [Errno 20] Not a directory: '第3周作业解析.ipynb'\r\n"
     ]
    }
   ],
   "source": [
    "!python ls.py -lha ./ ./第3周作业解析.ipynb"
   ]
  },
  {
   "cell_type": "code",
   "execution_count": null,
   "metadata": {},
   "outputs": [],
   "source": []
  }
 ],
 "metadata": {
  "kernelspec": {
   "display_name": "Python 3",
   "language": "python",
   "name": "python3"
  },
  "language_info": {
   "codemirror_mode": {
    "name": "ipython",
    "version": 3
   },
   "file_extension": ".py",
   "mimetype": "text/x-python",
   "name": "python",
   "nbconvert_exporter": "python",
   "pygments_lexer": "ipython3",
   "version": "3.7.0"
  }
 },
 "nbformat": 4,
 "nbformat_minor": 2
}
