{
 "cells": [
  {
   "cell_type": "markdown",
   "metadata": {},
   "source": [
    "# 自我介绍\n",
    "\n",
    "- Miracle Young / 小胖\n",
    "- 普华永道技术负责人\n",
    "- MongoDB 上海区主席/核心成员\n",
    "- MongoDB Professional\n",
    "- 《红色警戒复兴》联合创始人\n",
    "- 平安集团特邀讲师\n",
    "- 作息：\n",
    "    - 5：30~6：30：看新闻，做一些摘要，留着地铁上看\n",
    "    - 6：30~7：30：做早饭，刷碗，出门\n",
    "    - 9：00前到公司了，自己找一间会议室\n",
    "    - 把一天要做的事情 列出todolist - 花10分钟\n",
    "    - 看邮件\n",
    "    - 9：00~11：30：学习\n",
    "        - 花一周的时间看一本书：人人都是产品经理2.0\n",
    "    - 13：30~17：00：工作\n",
    "    - 19：00：到家\n",
    "    - 20：00：吃完饭，刷完碗，洗澡\n",
    "    - 20：00：做自己的事情\n",
    "    - 23：00：睡觉\n",
    "- 建议：\n",
    "    - 9点上班的，提前15分钟到公司，列一个todolist。\n",
    "    - 花一定的时间  把邮件处理了。\n",
    "    - 交付服务器，发布代码，开会，\n",
    "    - 能够挤出1-2个小时\n",
    "    - 番茄工作法\n",
    "        - 30分钟为一个单元\n",
    "        - 25分钟工作时间+5分钟休息时间\n",
    "        - 每4个单元 产生一个大作息\n",
    "        - 大作息 20分钟\n",
    "        - 25分钟工作时间，不倒水，可以喝水。不聊微信，不刷朋友圈。就工作\n",
    "        - 5分钟休息时间，25分钟一到，**立刻停下手头工作**，写一段代码，如果不停下，起码浪费2-3分钟\n",
    "        - 5分钟休息，眺望远方，躺在工位上 眼睛闭起来\n",
    "        - 上午 一个 大番茄（4个单元），下午2个大番茄，晚上1个大番茄"
   ]
  },
  {
   "cell_type": "code",
   "execution_count": null,
   "metadata": {
    "collapsed": true
   },
   "outputs": [],
   "source": []
  },
  {
   "cell_type": "code",
   "execution_count": null,
   "metadata": {
    "collapsed": true
   },
   "outputs": [],
   "source": []
  },
  {
   "cell_type": "code",
   "execution_count": null,
   "metadata": {
    "collapsed": true
   },
   "outputs": [],
   "source": []
  },
  {
   "cell_type": "code",
   "execution_count": null,
   "metadata": {
    "collapsed": true
   },
   "outputs": [],
   "source": []
  },
  {
   "cell_type": "code",
   "execution_count": null,
   "metadata": {
    "collapsed": true
   },
   "outputs": [],
   "source": []
  },
  {
   "cell_type": "code",
   "execution_count": null,
   "metadata": {
    "collapsed": true
   },
   "outputs": [],
   "source": []
  },
  {
   "cell_type": "markdown",
   "metadata": {},
   "source": [
    "# 上课规则\n",
    "- 众筹，1人1元，私发我\n",
    "- 我会点名，答对获得1元红包，答错\n",
    "- 每周都会布置课后练习，不止一个\n",
    "- 一周切成7天\n",
    "    - 周日上课：一天的内容非常多\n",
    "    - 周一~周三：课后复习，复习就需要2-3天\n",
    "    - 周四~周六：完成课后练习\n",
    "    - 周六晚上：预习\n",
    "- 上课时间：09：00~12：00，14：00~18：00"
   ]
  },
  {
   "cell_type": "code",
   "execution_count": null,
   "metadata": {
    "collapsed": true
   },
   "outputs": [],
   "source": []
  },
  {
   "cell_type": "code",
   "execution_count": null,
   "metadata": {
    "collapsed": true
   },
   "outputs": [],
   "source": []
  },
  {
   "cell_type": "code",
   "execution_count": 1,
   "metadata": {},
   "outputs": [
    {
     "name": "stdout",
     "output_type": "stream",
     "text": [
      "1\n"
     ]
    }
   ],
   "source": [
    "a = 1\n",
    "print(a)"
   ]
  },
  {
   "cell_type": "code",
   "execution_count": null,
   "metadata": {
    "collapsed": true
   },
   "outputs": [],
   "source": []
  },
  {
   "cell_type": "markdown",
   "metadata": {},
   "source": [
    "# 课程介绍\n",
    "\n",
    "**课后练习，80% 是上课说过的内容，20%是需要你自己去了解的**\n",
    "\n",
    "\n",
    "- 第一天\n",
    "    - 环境搭建\n",
    "        - 安装\n",
    "        - 搭建\n",
    "        - 调试\n",
    "    - 基本语法\n",
    "        - 常量/变量\n",
    "        - 运算符\n",
    "        - 表达式\n",
    "        - 程序结构\n",
    "    - 内置数据结构\n",
    "        - 列表\n",
    "        - 元组\n",
    "        - 字符串\n",
    "        - bytes\n",
    "        - 线性结构\n",
    "        - 切片 \n",
    "        - 解构封装 \n",
    "        - 集合\n",
    "        - 字典\n",
    "        - 解析式\n",
    "        - 迭代器\n",
    "- 第二天\n",
    "    - 函数\n",
    "        - 定义与调用\n",
    "        - 参数\n",
    "        - 返回值\n",
    "        - 执行流程\n",
    "        - 高阶函数\n",
    "        - 装饰器\n",
    "- 第三天\n",
    "    - 面向对象\n",
    "        - 定义、实例化\n",
    "        - 作用域\n",
    "        - 类方法/静态方法\n",
    "        - 访问控制\n",
    "        - 封装\n",
    "        - 继承\n",
    "    - 模块\n",
    "        - 安装第三方模块\n",
    "        - 第三方模块调用\n",
    "        - 常用模块\n",
    "- 第四天～第七天：实战项目1 - CMDB\n",
    "    - 第四天\n",
    "        - CMDB需求分析\n",
    "        - Django安装\n",
    "        - 创建项目和应用\n",
    "        - 配置项目、settings\n",
    "        - MTV\n",
    "            - 视图\n",
    "            - 模型\n",
    "                - mysql基本使用\n",
    "            - 页面\n",
    "                - html/css/js\n",
    "    - 第五天\n",
    "        - 页面美化\n",
    "        - 静态资源\n",
    "        - 模版继承\n",
    "    - 第六天\n",
    "        - agent开发\n",
    "            - 需求分析\n",
    "            - RESTFUL API\n",
    "            - FBV -> CBV\n",
    "    - 第七天\n",
    "        - 主机管理\n",
    "        - sweetalert\n",
    "        - datatable\n",
    "    - 项目部分截图\n",
    "        - CMDB-登陆界面\n",
    "        ![CMDB-登陆界面](https://ws2.sinaimg.cn/large/006tKfTcgy1ftiy7pwnjoj31kw0ut418.jpg)\n",
    "        - CMDB-用户管理界面\n",
    "        ![CMDB-用户管理界面](https://ws1.sinaimg.cn/large/006tKfTcgy1ftiy7pnscej31kw0bf0v6.jpg)\n",
    "        - CMDB-主机管理界面\n",
    "        ![CMDB-主机管理界面](https://ws3.sinaimg.cn/large/006tKfTcgy1ftiy3xq9raj31kw0lwwk0.jpg)\n",
    "        - CMDB-主机编辑\n",
    "        ![CMDB-主机编辑](https://ws4.sinaimg.cn/large/006tKfTcgy1ftiy7pa7pvj31kw0irwjc.jpg)\n",
    "- 第八天～第九天：实战项目2 - 任务分发系统\n",
    "    - 第八天\n",
    "        - 多线程\n",
    "        - 锁、并发\n",
    "        - 需求分析\n",
    "        - agent 设计\n",
    "        - agent 实现\n",
    "    - 第九天\n",
    "        - master 设计\n",
    "        - master 实现\n",
    "        - 多master设计\n"
   ]
  },
  {
   "cell_type": "markdown",
   "metadata": {},
   "source": [
    "# 行业情况"
   ]
  },
  {
   "cell_type": "markdown",
   "metadata": {},
   "source": [
    "# 如何成为一名优秀的运维开发工程师"
   ]
  },
  {
   "cell_type": "code",
   "execution_count": null,
   "metadata": {
    "collapsed": true
   },
   "outputs": [],
   "source": []
  }
 ],
 "metadata": {
  "kernelspec": {
   "display_name": "Python 3",
   "language": "python",
   "name": "python3"
  },
  "language_info": {
   "codemirror_mode": {
    "name": "ipython",
    "version": 3
   },
   "file_extension": ".py",
   "mimetype": "text/x-python",
   "name": "python",
   "nbconvert_exporter": "python",
   "pygments_lexer": "ipython3",
   "version": "3.6.1"
  }
 },
 "nbformat": 4,
 "nbformat_minor": 2
}
