{
 "cells": [
  {
   "cell_type": "markdown",
   "metadata": {},
   "source": [
    "## 实现一个contextlib.contextmanager 装饰器"
   ]
  },
  {
   "cell_type": "code",
   "execution_count": 1,
   "metadata": {
    "collapsed": true
   },
   "outputs": [],
   "source": [
    "from contextlib import contextmanager"
   ]
  },
  {
   "cell_type": "code",
   "execution_count": 2,
   "metadata": {},
   "outputs": [
    {
     "name": "stdout",
     "output_type": "stream",
     "text": [
      "Help on function contextmanager in module contextlib:\n",
      "\n",
      "contextmanager(func)\n",
      "    @contextmanager decorator.\n",
      "    \n",
      "    Typical usage:\n",
      "    \n",
      "        @contextmanager\n",
      "        def some_generator(<arguments>):\n",
      "            <setup>\n",
      "            try:\n",
      "                yield <value>\n",
      "            finally:\n",
      "                <cleanup>\n",
      "    \n",
      "    This makes this:\n",
      "    \n",
      "        with some_generator(<arguments>) as <variable>:\n",
      "            <body>\n",
      "    \n",
      "    equivalent to this:\n",
      "    \n",
      "        <setup>\n",
      "        try:\n",
      "            <variable> = <value>\n",
      "            <body>\n",
      "        finally:\n",
      "            <cleanup>\n",
      "\n"
     ]
    }
   ],
   "source": [
    "help(contextmanager)"
   ]
  },
  {
   "cell_type": "code",
   "execution_count": 3,
   "metadata": {
    "collapsed": true
   },
   "outputs": [],
   "source": [
    "# __enter__, __exit__, biz logic"
   ]
  },
  {
   "cell_type": "code",
   "execution_count": 4,
   "metadata": {
    "collapsed": true
   },
   "outputs": [],
   "source": [
    "class ContextManager:\n",
    "    def __init__(self, fn):\n",
    "        self.fn = fn\n",
    "        \n",
    "    def __call__(self, *args, **kwargs):\n",
    "        pass\n",
    "    \n",
    "    def __enter__(self):\n",
    "        pass\n",
    "    \n",
    "    def __exit__(self, *args):\n",
    "        pass"
   ]
  },
  {
   "cell_type": "code",
   "execution_count": 17,
   "metadata": {
    "collapsed": true
   },
   "outputs": [],
   "source": [
    "class ContextManager:\n",
    "    def __init__(self, fn):\n",
    "        self.fn = fn\n",
    "        \n",
    "    def __call__(self, *args, **kwargs):\n",
    "        print('start __call__')\n",
    "        self.gen = self.fn(*args, **kwargs)\n",
    "        print('end __call__')\n",
    "        return self\n",
    "    \n",
    "    def __enter__(self):\n",
    "        print('__enter__')\n",
    "        ret = next(self.gen)\n",
    "        print('__enter__ret')\n",
    "        return ret\n",
    "    \n",
    "    def __exit__(self, *args):\n",
    "        try:\n",
    "            ret = next(self.gen)\n",
    "            print('__exit__ret')\n",
    "            return ret\n",
    "        except StopIteration as e:\n",
    "            return False"
   ]
  },
  {
   "cell_type": "code",
   "execution_count": 22,
   "metadata": {
    "collapsed": true
   },
   "outputs": [],
   "source": [
    "@ContextManager\n",
    "def context():\n",
    "    '''this is a context'''\n",
    "    print('setup')\n",
    "    try:\n",
    "        print('context value')\n",
    "        yield 'value'\n",
    "    finally:\n",
    "        print('cleanup')"
   ]
  },
  {
   "cell_type": "code",
   "execution_count": 23,
   "metadata": {},
   "outputs": [
    {
     "name": "stdout",
     "output_type": "stream",
     "text": [
      "start __call__\n",
      "end __call__\n",
      "__enter__\n",
      "setup\n",
      "context value\n",
      "__enter__ret\n",
      "value\n",
      "cleanup\n"
     ]
    }
   ],
   "source": [
    "with context() as v:\n",
    "    print(v)"
   ]
  },
  {
   "cell_type": "code",
   "execution_count": 24,
   "metadata": {},
   "outputs": [
    {
     "name": "stdout",
     "output_type": "stream",
     "text": [
      "Help on ContextManager in module __main__ object:\n",
      "\n",
      "class ContextManager(builtins.object)\n",
      " |  Methods defined here:\n",
      " |  \n",
      " |  __call__(self, *args, **kwargs)\n",
      " |      Call self as a function.\n",
      " |  \n",
      " |  __enter__(self)\n",
      " |  \n",
      " |  __exit__(self, *args)\n",
      " |  \n",
      " |  __init__(self, fn)\n",
      " |      Initialize self.  See help(type(self)) for accurate signature.\n",
      " |  \n",
      " |  ----------------------------------------------------------------------\n",
      " |  Data descriptors defined here:\n",
      " |  \n",
      " |  __dict__\n",
      " |      dictionary for instance variables (if defined)\n",
      " |  \n",
      " |  __weakref__\n",
      " |      list of weak references to the object (if defined)\n",
      "\n"
     ]
    }
   ],
   "source": [
    "help(context)"
   ]
  },
  {
   "cell_type": "code",
   "execution_count": 25,
   "metadata": {
    "collapsed": true
   },
   "outputs": [],
   "source": [
    "from functools import wraps"
   ]
  },
  {
   "cell_type": "code",
   "execution_count": 26,
   "metadata": {
    "collapsed": true
   },
   "outputs": [],
   "source": [
    "class ContextManager:\n",
    "    def __init__(self, fn):\n",
    "        wraps(fn)(self)\n",
    "        self.fn = fn\n",
    "        \n",
    "    def __call__(self, *args, **kwargs):\n",
    "        print('start __call__')\n",
    "        self.gen = self.fn(*args, **kwargs)\n",
    "        print('end __call__')\n",
    "        return self\n",
    "    \n",
    "    def __enter__(self):\n",
    "        print('__enter__')\n",
    "        ret = next(self.gen)\n",
    "        print('__enter__ret')\n",
    "        return ret\n",
    "    \n",
    "    def __exit__(self, *args):\n",
    "        try:\n",
    "            ret = next(self.gen)\n",
    "            print('__exit__ret')\n",
    "            return ret\n",
    "        except StopIteration as e:\n",
    "            return False"
   ]
  },
  {
   "cell_type": "code",
   "execution_count": 27,
   "metadata": {},
   "outputs": [
    {
     "name": "stdout",
     "output_type": "stream",
     "text": [
      "start __call__\n",
      "end __call__\n",
      "__enter__\n",
      "setup\n",
      "context value\n",
      "__enter__ret\n",
      "value\n",
      "cleanup\n"
     ]
    }
   ],
   "source": [
    "@ContextManager\n",
    "def context():\n",
    "    '''this is a context'''\n",
    "    print('setup')\n",
    "    try:\n",
    "        print('context value')\n",
    "        yield 'value'\n",
    "    finally:\n",
    "        print('cleanup')\n",
    "        \n",
    "with context() as v:\n",
    "    print(v)"
   ]
  },
  {
   "cell_type": "code",
   "execution_count": 28,
   "metadata": {},
   "outputs": [
    {
     "name": "stdout",
     "output_type": "stream",
     "text": [
      "Help on ContextManager in module __main__ object:\n",
      "\n",
      "context = class ContextManager(builtins.object)\n",
      " |  Methods defined here:\n",
      " |  \n",
      " |  __call__(self, *args, **kwargs)\n",
      " |      Call self as a function.\n",
      " |  \n",
      " |  __enter__(self)\n",
      " |  \n",
      " |  __exit__(self, *args)\n",
      " |  \n",
      " |  __init__(self, fn)\n",
      " |      Initialize self.  See help(type(self)) for accurate signature.\n",
      " |  \n",
      " |  ----------------------------------------------------------------------\n",
      " |  Data descriptors defined here:\n",
      " |  \n",
      " |  __dict__\n",
      " |      dictionary for instance variables (if defined)\n",
      " |  \n",
      " |  __weakref__\n",
      " |      list of weak references to the object (if defined)\n",
      "\n"
     ]
    }
   ],
   "source": [
    "help(context)"
   ]
  },
  {
   "cell_type": "code",
   "execution_count": 29,
   "metadata": {
    "collapsed": true
   },
   "outputs": [],
   "source": [
    "def contextmanager(fn):\n",
    "    @wraps(fn)\n",
    "    def wrap(*args, **kwargs):\n",
    "        pass\n",
    "    return wrap"
   ]
  },
  {
   "cell_type": "code",
   "execution_count": 31,
   "metadata": {},
   "outputs": [],
   "source": [
    "@contextmanager\n",
    "def context():\n",
    "    '''this is a context'''\n",
    "    print('setup')\n",
    "    try:\n",
    "        print('context value')\n",
    "        yield 'value'\n",
    "    finally:\n",
    "        print('cleanup')\n",
    "        \n"
   ]
  },
  {
   "cell_type": "code",
   "execution_count": 32,
   "metadata": {},
   "outputs": [
    {
     "name": "stdout",
     "output_type": "stream",
     "text": [
      "Help on function context in module __main__:\n",
      "\n",
      "context()\n",
      "    this is a context\n",
      "\n"
     ]
    }
   ],
   "source": [
    "help(context)"
   ]
  },
  {
   "cell_type": "code",
   "execution_count": 37,
   "metadata": {
    "collapsed": true
   },
   "outputs": [],
   "source": [
    "class ContextManager:\n",
    "    def __init__(self, fn):\n",
    "        self.gen = fn(*args, **kwargs)\n",
    "    \n",
    "    def __enter__(self):\n",
    "        print('__enter__')\n",
    "        ret = next(self.gen)\n",
    "        print('__enter__ret')\n",
    "        return ret\n",
    "    \n",
    "    def __exit__(self, *args):\n",
    "        try:\n",
    "            ret = next(self.gen)\n",
    "            print('__exit__ret')\n",
    "            return ret\n",
    "        except StopIteration as e:\n",
    "            return False"
   ]
  },
  {
   "cell_type": "code",
   "execution_count": 34,
   "metadata": {
    "collapsed": true
   },
   "outputs": [],
   "source": [
    "def contextmanager(fn):\n",
    "    @wraps(fn)\n",
    "    def wrap(*args, **kwargs):\n",
    "        return ContextManager(fn, *args, **kwargs)\n",
    "    \n",
    "    return wrap"
   ]
  },
  {
   "cell_type": "code",
   "execution_count": 35,
   "metadata": {
    "collapsed": true
   },
   "outputs": [],
   "source": [
    "@contextmanager\n",
    "def context():\n",
    "    '''this is a context'''\n",
    "    print('setup')\n",
    "    try:\n",
    "        print('context value')\n",
    "        yield 'value'\n",
    "    finally:\n",
    "        print('cleanup')\n",
    "        \n"
   ]
  },
  {
   "cell_type": "code",
   "execution_count": 36,
   "metadata": {},
   "outputs": [
    {
     "name": "stdout",
     "output_type": "stream",
     "text": [
      "Help on function context in module __main__:\n",
      "\n",
      "context()\n",
      "    this is a context\n",
      "\n"
     ]
    }
   ],
   "source": [
    "help(context)"
   ]
  },
  {
   "cell_type": "markdown",
   "metadata": {},
   "source": [
    "## 实现super 函数"
   ]
  },
  {
   "cell_type": "code",
   "execution_count": 39,
   "metadata": {
    "collapsed": true
   },
   "outputs": [],
   "source": [
    "class Super:\n",
    "    def __init__(type, obj):\n",
    "        self.type = type\n",
    "        self.obj = obj\n",
    "        \n",
    "class Base:\n",
    "    def method(self):\n",
    "        print('base')\n",
    "        \n",
    "class A(Base):\n",
    "    def method(self):\n",
    "        super(A, self).method()\n",
    "        print('a')\n",
    "        "
   ]
  },
  {
   "cell_type": "code",
   "execution_count": 40,
   "metadata": {},
   "outputs": [
    {
     "name": "stdout",
     "output_type": "stream",
     "text": [
      "base\n",
      "a\n"
     ]
    }
   ],
   "source": [
    "A().method()"
   ]
  },
  {
   "cell_type": "code",
   "execution_count": 41,
   "metadata": {},
   "outputs": [
    {
     "data": {
      "text/plain": [
       "(__main__.A, __main__.Base, object)"
      ]
     },
     "execution_count": 41,
     "metadata": {},
     "output_type": "execute_result"
    }
   ],
   "source": [
    "A.__mro__"
   ]
  },
  {
   "cell_type": "code",
   "execution_count": 42,
   "metadata": {},
   "outputs": [
    {
     "name": "stdout",
     "output_type": "stream",
     "text": [
      "<class '__main__.A'>\n"
     ]
    }
   ],
   "source": [
    "for cls in A.__mro__:\n",
    "    if cls == A:\n",
    "        print(cls)"
   ]
  },
  {
   "cell_type": "code",
   "execution_count": 43,
   "metadata": {
    "collapsed": true
   },
   "outputs": [],
   "source": [
    "bases = []\n",
    "append = False\n",
    "\n",
    "for cls in A.__mro__:\n",
    "    if append:\n",
    "        bases.append(cls)\n",
    "    if cls == A:\n",
    "        append = True"
   ]
  },
  {
   "cell_type": "code",
   "execution_count": 44,
   "metadata": {},
   "outputs": [
    {
     "data": {
      "text/plain": [
       "[__main__.Base, object]"
      ]
     },
     "execution_count": 44,
     "metadata": {},
     "output_type": "execute_result"
    }
   ],
   "source": [
    "bases"
   ]
  },
  {
   "cell_type": "code",
   "execution_count": 45,
   "metadata": {},
   "outputs": [
    {
     "name": "stdout",
     "output_type": "stream",
     "text": [
      "<function Base.method at 0x110f992f0>\n"
     ]
    }
   ],
   "source": [
    "for cls in bases:\n",
    "    if hasattr(cls, 'method'):\n",
    "        print(getattr(cls, 'method'))\n",
    "        break"
   ]
  },
  {
   "cell_type": "code",
   "execution_count": 48,
   "metadata": {},
   "outputs": [
    {
     "data": {
      "text/plain": [
       "<function __main__.A.method>"
      ]
     },
     "execution_count": 48,
     "metadata": {},
     "output_type": "execute_result"
    }
   ],
   "source": [
    "getattr(A, 'method')"
   ]
  },
  {
   "cell_type": "code",
   "execution_count": 49,
   "metadata": {
    "collapsed": true
   },
   "outputs": [],
   "source": [
    "from types import MethodType"
   ]
  },
  {
   "cell_type": "code",
   "execution_count": 55,
   "metadata": {},
   "outputs": [],
   "source": [
    "class Super:\n",
    "    def __init__(self, type, obj):\n",
    "        self.type = type\n",
    "        self.obj = obj\n",
    "        \n",
    "    # 得到方法的名字\n",
    "    def lookup(self, name):\n",
    "        is_super = False\n",
    "        for cls in self.type.__mro__:\n",
    "            if is_super and hasattr(cls, name):\n",
    "                return MethodType(getattr(cls, name), self.obj)\n",
    "            if cls == self.type:\n",
    "                is_super = True\n",
    "        raise AttributeError()\n",
    "        \n",
    "    def __getattr__(self, name):\n",
    "        return self.lookup(name)"
   ]
  },
  {
   "cell_type": "code",
   "execution_count": 56,
   "metadata": {
    "collapsed": true
   },
   "outputs": [],
   "source": [
    "class A(Base):\n",
    "    def method(self):\n",
    "        Super(A, self).method()\n",
    "        print('a')"
   ]
  },
  {
   "cell_type": "code",
   "execution_count": 57,
   "metadata": {},
   "outputs": [
    {
     "name": "stdout",
     "output_type": "stream",
     "text": [
      "base\n",
      "a\n"
     ]
    }
   ],
   "source": [
    "A().method()"
   ]
  },
  {
   "cell_type": "code",
   "execution_count": 58,
   "metadata": {
    "collapsed": true
   },
   "outputs": [],
   "source": [
    "class Super:\n",
    "    def __init__(self, type, obj):\n",
    "        self.type = type\n",
    "        self.obj = obj\n",
    "\n",
    "    def __getattr__(self, name):\n",
    "        is_super = False\n",
    "        for cls in self.type.__mro__:\n",
    "            if is_super and hasattr(cls, name):\n",
    "                return MethodType(getattr(cls, name), self.obj)\n",
    "            if cls == self.type:\n",
    "                is_super = True\n",
    "        raise AttributeError()\n"
   ]
  },
  {
   "cell_type": "code",
   "execution_count": null,
   "metadata": {
    "collapsed": true
   },
   "outputs": [],
   "source": []
  }
 ],
 "metadata": {
  "kernelspec": {
   "display_name": "Python 3",
   "language": "python",
   "name": "python3"
  },
  "language_info": {
   "codemirror_mode": {
    "name": "ipython",
    "version": 3
   },
   "file_extension": ".py",
   "mimetype": "text/x-python",
   "name": "python",
   "nbconvert_exporter": "python",
   "pygments_lexer": "ipython3",
   "version": "3.6.1"
  }
 },
 "nbformat": 4,
 "nbformat_minor": 2
}
