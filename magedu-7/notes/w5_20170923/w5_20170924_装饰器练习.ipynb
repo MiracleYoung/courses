{
 "cells": [
  {
   "cell_type": "markdown",
   "metadata": {},
   "source": [
    "### cache 装饰器"
   ]
  },
  {
   "cell_type": "code",
   "execution_count": 1,
   "metadata": {
    "collapsed": true
   },
   "outputs": [],
   "source": [
    "import functools"
   ]
  },
  {
   "cell_type": "code",
   "execution_count": 5,
   "metadata": {
    "collapsed": true
   },
   "outputs": [],
   "source": [
    "import time, datetime\n",
    "\n",
    "@functools.lru_cache(2)\n",
    "def sleep(x):\n",
    "    print(datetime.datetime.now())\n",
    "    time.sleep(x)\n",
    "    print(datetime.datetime.now())"
   ]
  },
  {
   "cell_type": "code",
   "execution_count": 6,
   "metadata": {},
   "outputs": [
    {
     "name": "stdout",
     "output_type": "stream",
     "text": [
      "2017-09-24 09:06:17.594932\n",
      "2017-09-24 09:06:20.597974\n"
     ]
    }
   ],
   "source": [
    "sleep(3)"
   ]
  },
  {
   "cell_type": "code",
   "execution_count": 7,
   "metadata": {
    "collapsed": true
   },
   "outputs": [],
   "source": [
    "sleep(3)"
   ]
  },
  {
   "cell_type": "code",
   "execution_count": 8,
   "metadata": {},
   "outputs": [
    {
     "name": "stdout",
     "output_type": "stream",
     "text": [
      "2017-09-24 09:06:25.991697\n",
      "2017-09-24 09:06:27.993085\n"
     ]
    }
   ],
   "source": [
    "sleep(2)"
   ]
  },
  {
   "cell_type": "code",
   "execution_count": 9,
   "metadata": {
    "collapsed": true
   },
   "outputs": [],
   "source": [
    "sleep(2)"
   ]
  },
  {
   "cell_type": "code",
   "execution_count": 10,
   "metadata": {},
   "outputs": [
    {
     "name": "stdout",
     "output_type": "stream",
     "text": [
      "2017-09-24 09:06:33.570739\n",
      "2017-09-24 09:06:34.571038\n"
     ]
    }
   ],
   "source": [
    "sleep(1)"
   ]
  },
  {
   "cell_type": "code",
   "execution_count": 11,
   "metadata": {},
   "outputs": [
    {
     "name": "stdout",
     "output_type": "stream",
     "text": [
      "2017-09-24 09:06:37.945926\n",
      "2017-09-24 09:06:40.951043\n"
     ]
    }
   ],
   "source": [
    "sleep(3)"
   ]
  },
  {
   "cell_type": "markdown",
   "metadata": {},
   "source": [
    "- 允许过期（通过设置过期时间）\n",
    "- 没有换出\n",
    "- 没有清除"
   ]
  },
  {
   "cell_type": "markdown",
   "metadata": {},
   "source": [
    "- cache 需要具备哪些元素？\n",
    "- 这些元素需要如何保存\n",
    "- 通过一种机制，保证同样的输入 能够直接得到缓存，而不是被执行"
   ]
  },
  {
   "cell_type": "markdown",
   "metadata": {},
   "source": [
    "- 简单的缓存器（只要能够缓存值就可以了）\n",
    "- 在考虑如何添加过期时间"
   ]
  },
  {
   "cell_type": "markdown",
   "metadata": {},
   "source": [
    "key -> value\n",
    "\n",
    "exp = 30 "
   ]
  },
  {
   "cell_type": "code",
   "execution_count": 13,
   "metadata": {
    "collapsed": true
   },
   "outputs": [],
   "source": [
    "import functools"
   ]
  },
  {
   "cell_type": "markdown",
   "metadata": {},
   "source": [
    "key -> 'x=1&y=3'\n",
    "\n",
    "\n",
    "\n",
    "key -> [(key, value), (key, value)]"
   ]
  },
  {
   "cell_type": "code",
   "execution_count": null,
   "metadata": {
    "collapsed": true
   },
   "outputs": [],
   "source": [
    "def cache(fn):\n",
    "    cache = {}\n",
    "    @functools.wraps(fn)\n",
    "    def wrap(*args, **kwargs):\n",
    "        # TODO key 如何瓶装\n",
    "        if key in cache.keys():\n",
    "            # TODO 超时检测\n",
    "            return cache[key]\n",
    "        ret = fn(*args, **kwargs)\n",
    "        return ret\n",
    "    return wrap"
   ]
  },
  {
   "cell_type": "code",
   "execution_count": null,
   "metadata": {
    "collapsed": true
   },
   "outputs": [],
   "source": [
    "@cache\n",
    "def add(x, y):\n",
    "    return x + y"
   ]
  },
  {
   "cell_type": "code",
   "execution_count": 14,
   "metadata": {
    "collapsed": true
   },
   "outputs": [],
   "source": [
    "import inspect"
   ]
  },
  {
   "cell_type": "code",
   "execution_count": 34,
   "metadata": {},
   "outputs": [],
   "source": [
    "def add(x, y=3):\n",
    "    pass\n",
    "\n",
    "sig = inspect.signature(add)"
   ]
  },
  {
   "cell_type": "code",
   "execution_count": 35,
   "metadata": {},
   "outputs": [
    {
     "data": {
      "text/plain": [
       "mappingproxy({'x': <Parameter \"x\">, 'y': <Parameter \"y=3\">})"
      ]
     },
     "execution_count": 35,
     "metadata": {},
     "output_type": "execute_result"
    }
   ],
   "source": [
    "sig.parameters"
   ]
  },
  {
   "cell_type": "code",
   "execution_count": 37,
   "metadata": {},
   "outputs": [
    {
     "data": {
      "text/plain": [
       "3"
      ]
     },
     "execution_count": 37,
     "metadata": {},
     "output_type": "execute_result"
    }
   ],
   "source": [
    "sig.parameters['y'].default"
   ]
  },
  {
   "cell_type": "code",
   "execution_count": null,
   "metadata": {
    "collapsed": true
   },
   "outputs": [],
   "source": []
  },
  {
   "cell_type": "code",
   "execution_count": null,
   "metadata": {
    "collapsed": true
   },
   "outputs": [],
   "source": []
  },
  {
   "cell_type": "code",
   "execution_count": 20,
   "metadata": {
    "collapsed": true
   },
   "outputs": [],
   "source": [
    "def cache(fn):\n",
    "    cache = {}\n",
    "    @functools.wraps(fn)\n",
    "    def wrap(*args, **kwargs):\n",
    "        key = []\n",
    "        \n",
    "        # 处理位置参数\n",
    "        params = inspect.signature(fn).parameters\n",
    "        for i, arg in enumerate(args):\n",
    "            name = list(params.keys())[i]\n",
    "            key.append((name, arg))\n",
    "            \n",
    "        # 关键字参数\n",
    "        # for k, v in kwargs.items():\n",
    "        #    key.append((k, v))\n",
    "            \n",
    "        key.extend(kwargs.items())\n",
    "        \n",
    "        key.sort(key=lambda x: x[0])\n",
    "        \n",
    "        key = '&'.join(['{}={}'.format(name, arg) for name, arg in key])\n",
    "        \n",
    "        print(key)\n",
    "        \n",
    "        \n",
    "        # TODO key 如何瓶装\n",
    "        if key in cache.keys():\n",
    "            # TODO 超时检测\n",
    "            print('cache hit')\n",
    "            return cache[key]\n",
    "        ret = fn(*args, **kwargs)\n",
    "        cache[key] = ret\n",
    "        print('cache miss')\n",
    "        return ret\n",
    "    return wrap"
   ]
  },
  {
   "cell_type": "code",
   "execution_count": 25,
   "metadata": {
    "collapsed": true
   },
   "outputs": [],
   "source": [
    "@cache\n",
    "def add(x, y=3):\n",
    "    return x + y"
   ]
  },
  {
   "cell_type": "code",
   "execution_count": 28,
   "metadata": {},
   "outputs": [
    {
     "name": "stdout",
     "output_type": "stream",
     "text": [
      "x=3&y=3\n",
      "cache miss\n"
     ]
    },
    {
     "data": {
      "text/plain": [
       "6"
      ]
     },
     "execution_count": 28,
     "metadata": {},
     "output_type": "execute_result"
    }
   ],
   "source": [
    "add(3, y=3)"
   ]
  },
  {
   "cell_type": "code",
   "execution_count": 24,
   "metadata": {},
   "outputs": [
    {
     "name": "stdout",
     "output_type": "stream",
     "text": [
      "x=2&y=2\n",
      "cache miss\n"
     ]
    },
    {
     "data": {
      "text/plain": [
       "4"
      ]
     },
     "execution_count": 24,
     "metadata": {},
     "output_type": "execute_result"
    }
   ],
   "source": [
    "add(2, 2)"
   ]
  },
  {
   "cell_type": "code",
   "execution_count": 38,
   "metadata": {
    "collapsed": true
   },
   "outputs": [],
   "source": [
    "def cache(fn):\n",
    "    cache = {}\n",
    "    @functools.wraps(fn)\n",
    "    def wrap(*args, **kwargs):\n",
    "        key = []\n",
    "        \n",
    "        # 对默认值进行 预处理\n",
    "        # 需要把默认值  和 其参数 存储起来\n",
    "        # names 中存储的是什么？是我们的参数key\n",
    "        # 默认值不需要存储，因为 可以通过v.default\n",
    "        names = set()\n",
    "        \n",
    "        # 处理位置参数\n",
    "        params = inspect.signature(fn).parameters\n",
    "        for i, arg in enumerate(args):\n",
    "            name = list(params.keys())[i]\n",
    "            key.append((name, arg))\n",
    "            \n",
    "            names.add(name)\n",
    "            \n",
    "        # 关键字参数\n",
    "        # for k, v in kwargs.items():\n",
    "        #    key.append((k, v))\n",
    "            \n",
    "        key.extend(kwargs.items())\n",
    "        names.update(kwargs.keys())\n",
    "        \n",
    "        # 如果 参数中 有默认值，就需要 往key中添加一对 k-v 对\n",
    "        for k, v in params.items():\n",
    "            if k not in names:\n",
    "                key.append((k, v.default))\n",
    "        \n",
    "        key.sort(key=lambda x: x[0])\n",
    "        \n",
    "        key = '&'.join(['{}={}'.format(name, arg) for name, arg in key])\n",
    "        \n",
    "        print(key)\n",
    "        \n",
    "        \n",
    "        # TODO key 如何瓶装\n",
    "        if key in cache.keys():\n",
    "            # TODO 超时检测\n",
    "            print('cache hit')\n",
    "            return cache[key]\n",
    "        ret = fn(*args, **kwargs)\n",
    "        cache[key] = ret\n",
    "        print('cache miss')\n",
    "        return ret\n",
    "    return wrap"
   ]
  },
  {
   "cell_type": "code",
   "execution_count": 39,
   "metadata": {
    "collapsed": true
   },
   "outputs": [],
   "source": [
    "@cache\n",
    "def add(x, y=3):\n",
    "    return x + y"
   ]
  },
  {
   "cell_type": "code",
   "execution_count": 40,
   "metadata": {},
   "outputs": [
    {
     "name": "stdout",
     "output_type": "stream",
     "text": [
      "x=1&y=3\n",
      "cache miss\n"
     ]
    },
    {
     "data": {
      "text/plain": [
       "4"
      ]
     },
     "execution_count": 40,
     "metadata": {},
     "output_type": "execute_result"
    }
   ],
   "source": [
    "add(1)"
   ]
  },
  {
   "cell_type": "code",
   "execution_count": 42,
   "metadata": {},
   "outputs": [
    {
     "name": "stdout",
     "output_type": "stream",
     "text": [
      "x=1&y=3\n",
      "cache hit\n"
     ]
    },
    {
     "data": {
      "text/plain": [
       "4"
      ]
     },
     "execution_count": 42,
     "metadata": {},
     "output_type": "execute_result"
    }
   ],
   "source": [
    "add(1, 3)"
   ]
  },
  {
   "cell_type": "code",
   "execution_count": 43,
   "metadata": {
    "collapsed": true
   },
   "outputs": [],
   "source": [
    "d = {('a', 'b'): 1}"
   ]
  },
  {
   "cell_type": "code",
   "execution_count": 44,
   "metadata": {},
   "outputs": [
    {
     "data": {
      "text/plain": [
       "{('a', 'b'): 1}"
      ]
     },
     "execution_count": 44,
     "metadata": {},
     "output_type": "execute_result"
    }
   ],
   "source": [
    "d"
   ]
  },
  {
   "cell_type": "code",
   "execution_count": 45,
   "metadata": {},
   "outputs": [
    {
     "data": {
      "text/plain": [
       "-2513720613213709825"
      ]
     },
     "execution_count": 45,
     "metadata": {},
     "output_type": "execute_result"
    }
   ],
   "source": [
    "hash(('a', 'b'))"
   ]
  },
  {
   "cell_type": "code",
   "execution_count": 46,
   "metadata": {
    "collapsed": true
   },
   "outputs": [],
   "source": [
    "dt = datetime.datetime.now()"
   ]
  },
  {
   "cell_type": "code",
   "execution_count": 48,
   "metadata": {},
   "outputs": [
    {
     "data": {
      "text/plain": [
       "1506220488.572322"
      ]
     },
     "execution_count": 48,
     "metadata": {},
     "output_type": "execute_result"
    }
   ],
   "source": [
    "dt.timestamp()"
   ]
  },
  {
   "cell_type": "code",
   "execution_count": null,
   "metadata": {
    "collapsed": true
   },
   "outputs": [],
   "source": []
  },
  {
   "cell_type": "code",
   "execution_count": 49,
   "metadata": {
    "collapsed": true
   },
   "outputs": [],
   "source": [
    "\n",
    "def cache(exp=0):\n",
    "    def _cache(fn):\n",
    "        cache = {}\n",
    "        @functools.wraps(fn)\n",
    "        def wrap(*args, **kwargs):\n",
    "            key = []\n",
    "\n",
    "            # 对默认值进行 预处理\n",
    "            # 需要把默认值  和 其参数 存储起来\n",
    "            # names 中存储的是什么？是我们的参数key\n",
    "            # 默认值不需要存储，因为 可以通过v.default\n",
    "            names = set()\n",
    "\n",
    "            # 处理位置参数\n",
    "            params = inspect.signature(fn).parameters\n",
    "            for i, arg in enumerate(args):\n",
    "                name = list(params.keys())[i]\n",
    "                key.append((name, arg))\n",
    "\n",
    "                names.add(name)\n",
    "\n",
    "            # 关键字参数\n",
    "            # for k, v in kwargs.items():\n",
    "            #    key.append((k, v))\n",
    "\n",
    "            key.extend(kwargs.items())\n",
    "            names.update(kwargs.keys())\n",
    "\n",
    "            # 如果 参数中 有默认值，就需要 往key中添加一对 k-v 对\n",
    "            for k, v in params.items():\n",
    "                if k not in names:\n",
    "                    key.append((k, v.default))\n",
    "\n",
    "            key.sort(key=lambda x: x[0])\n",
    "\n",
    "            key = '&'.join(['{}={}'.format(name, arg) for name, arg in key])\n",
    "\n",
    "            print(key)\n",
    "\n",
    "\n",
    "            # TODO key 如何瓶装\n",
    "            if key in cache.keys():\n",
    "                # TODO 超时检测\n",
    "                # key -> 'x=1&y=3&timestamp=12345678'\n",
    "                ret, timestamp = cache[key]\n",
    "                if exp == 0 or datetime.datetime.now().timestamp() - timestamp < exp:\n",
    "\n",
    "                    print('cache hit')\n",
    "                    return cache[key]\n",
    "            ret = fn(*args, **kwargs)\n",
    "            cache[key] = (ret, datetime.datetime.now().timestamp())\n",
    "            print('cache miss')\n",
    "            return ret\n",
    "        return wrap\n",
    "    return _cache"
   ]
  },
  {
   "cell_type": "code",
   "execution_count": 50,
   "metadata": {
    "collapsed": true
   },
   "outputs": [],
   "source": [
    "@cache(5)\n",
    "def add(x, y=3):\n",
    "    return x + y"
   ]
  },
  {
   "cell_type": "code",
   "execution_count": 54,
   "metadata": {},
   "outputs": [
    {
     "name": "stdout",
     "output_type": "stream",
     "text": [
      "x=1&y=3\n",
      "cache miss\n"
     ]
    },
    {
     "data": {
      "text/plain": [
       "4"
      ]
     },
     "execution_count": 54,
     "metadata": {},
     "output_type": "execute_result"
    }
   ],
   "source": [
    "add(1, 3)"
   ]
  },
  {
   "cell_type": "markdown",
   "metadata": {},
   "source": [
    "### 写一个命令分发器"
   ]
  },
  {
   "cell_type": "markdown",
   "metadata": {},
   "source": [
    "- 程序员可以方便的注册函数到某个命令，当用户输入某个命令时，路由到注册的函数，如果此命令没有注册函数，则执行默认函数"
   ]
  },
  {
   "cell_type": "markdown",
   "metadata": {},
   "source": [
    "register(command, fn)\n",
    "\n",
    "run():\n",
    "\n",
    "    while True:\n",
    "    \n",
    "        'exit'\n",
    "        \n",
    "        "
   ]
  },
  {
   "cell_type": "code",
   "execution_count": null,
   "metadata": {
    "collapsed": true
   },
   "outputs": [],
   "source": [
    "@command\n",
    "def add(x, y):\n",
    "    return x + y "
   ]
  },
  {
   "cell_type": "code",
   "execution_count": 55,
   "metadata": {
    "collapsed": true
   },
   "outputs": [],
   "source": [
    "commands = {}"
   ]
  },
  {
   "cell_type": "code",
   "execution_count": 56,
   "metadata": {
    "collapsed": true
   },
   "outputs": [],
   "source": [
    "def register(command, fn):\n",
    "    commands[command] = fn"
   ]
  },
  {
   "cell_type": "code",
   "execution_count": 57,
   "metadata": {
    "collapsed": true
   },
   "outputs": [],
   "source": [
    "def default_fn():\n",
    "    print('undefined command')"
   ]
  },
  {
   "cell_type": "code",
   "execution_count": 58,
   "metadata": {
    "collapsed": true
   },
   "outputs": [],
   "source": [
    "def run():\n",
    "    while True:\n",
    "        cmd = input('>>')\n",
    "        if cmd.strip() == 'quit':\n",
    "            return\n",
    "        \n",
    "        commands.get(cmd.strip(), default_fn)()"
   ]
  },
  {
   "cell_type": "code",
   "execution_count": 61,
   "metadata": {
    "collapsed": true
   },
   "outputs": [],
   "source": [
    "d = {'a': default_fn}"
   ]
  },
  {
   "cell_type": "code",
   "execution_count": 62,
   "metadata": {},
   "outputs": [
    {
     "name": "stdout",
     "output_type": "stream",
     "text": [
      "undefined command\n"
     ]
    }
   ],
   "source": [
    "d.get('a', 'b')()"
   ]
  },
  {
   "cell_type": "code",
   "execution_count": 64,
   "metadata": {
    "collapsed": true
   },
   "outputs": [],
   "source": [
    "def commands():\n",
    "    commands = {}\n",
    "    \n",
    "    def register(command, fn):\n",
    "        commands[command] = fn\n",
    "        \n",
    "    def default_fn():\n",
    "        print('undefined command')\n",
    "        \n",
    "    def run():\n",
    "        while True:\n",
    "            cmd = input('>>')\n",
    "            if cmd.strip() == 'quit':\n",
    "                return\n",
    "\n",
    "            commands.get(cmd.strip(), default_fn)()\n",
    "            \n",
    "    return register, run"
   ]
  },
  {
   "cell_type": "code",
   "execution_count": 65,
   "metadata": {
    "collapsed": true
   },
   "outputs": [],
   "source": [
    "register, run = commands()"
   ]
  },
  {
   "cell_type": "code",
   "execution_count": 71,
   "metadata": {
    "collapsed": true
   },
   "outputs": [],
   "source": [
    "def pa():\n",
    "    print('papapa')"
   ]
  },
  {
   "cell_type": "code",
   "execution_count": 73,
   "metadata": {},
   "outputs": [],
   "source": [
    "register('papapa', pa)"
   ]
  },
  {
   "cell_type": "code",
   "execution_count": 74,
   "metadata": {},
   "outputs": [
    {
     "name": "stdout",
     "output_type": "stream",
     "text": [
      ">>pa\n",
      "undefined command\n",
      ">>papapa\n",
      "papapa\n",
      ">>quit\n"
     ]
    }
   ],
   "source": [
    "run()"
   ]
  },
  {
   "cell_type": "code",
   "execution_count": 81,
   "metadata": {
    "collapsed": true
   },
   "outputs": [],
   "source": [
    "def commands():\n",
    "    commands = {}\n",
    "    \n",
    "    \n",
    "    def register(command):\n",
    "        def _register(fn):\n",
    "            commands[command] = fn\n",
    "            return fn\n",
    "        return _register\n",
    "        \n",
    "    def default_fn():\n",
    "        print('undefined command')\n",
    "        \n",
    "    def run():\n",
    "        while True:\n",
    "            cmd = input('>>')\n",
    "            if cmd.strip() == 'quit':\n",
    "                return\n",
    "\n",
    "            commands.get(cmd.strip(), default_fn)()\n",
    "            \n",
    "    return register, run"
   ]
  },
  {
   "cell_type": "code",
   "execution_count": 86,
   "metadata": {
    "collapsed": true
   },
   "outputs": [],
   "source": [
    "register, run = commands()"
   ]
  },
  {
   "cell_type": "code",
   "execution_count": 90,
   "metadata": {},
   "outputs": [],
   "source": [
    "@register('papa')\n",
    "def papapa():\n",
    "    print('pa')\n",
    "    return 1"
   ]
  },
  {
   "cell_type": "code",
   "execution_count": null,
   "metadata": {},
   "outputs": [
    {
     "name": "stdout",
     "output_type": "stream",
     "text": [
      ">>pa\n",
      "undefined command\n",
      ">>papa\n",
      "pa\n"
     ]
    }
   ],
   "source": [
    "run()"
   ]
  },
  {
   "cell_type": "code",
   "execution_count": null,
   "metadata": {
    "collapsed": true
   },
   "outputs": [],
   "source": []
  },
  {
   "cell_type": "markdown",
   "metadata": {},
   "source": [
    "### 第五周作业"
   ]
  },
  {
   "cell_type": "markdown",
   "metadata": {},
   "source": [
    "1. 实现base64解码（不需要用装饰器）\n",
    "\n",
    "2. 带过期的LRU缓存装饰器（要用装饰期）"
   ]
  },
  {
   "cell_type": "code",
   "execution_count": null,
   "metadata": {
    "collapsed": true
   },
   "outputs": [],
   "source": []
  },
  {
   "cell_type": "code",
   "execution_count": null,
   "metadata": {
    "collapsed": true
   },
   "outputs": [],
   "source": []
  }
 ],
 "metadata": {
  "kernelspec": {
   "display_name": "Python 3",
   "language": "python",
   "name": "python3"
  },
  "language_info": {
   "codemirror_mode": {
    "name": "ipython",
    "version": 3
   },
   "file_extension": ".py",
   "mimetype": "text/x-python",
   "name": "python",
   "nbconvert_exporter": "python",
   "pygments_lexer": "ipython3",
   "version": "3.6.1"
  }
 },
 "nbformat": 4,
 "nbformat_minor": 2
}
