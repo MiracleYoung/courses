{
 "cells": [
  {
   "cell_type": "markdown",
   "metadata": {},
   "source": [
    "## socket"
   ]
  },
  {
   "cell_type": "markdown",
   "metadata": {},
   "source": [
    "OSI: Open System Interconnection, 开放系统互联"
   ]
  },
  {
   "cell_type": "markdown",
   "metadata": {},
   "source": [
    "OSI: 物理 数据链路 网络 传输 会话 表示 应用"
   ]
  },
  {
   "cell_type": "markdown",
   "metadata": {},
   "source": [
    "socket 是在传输层，tcp在网络"
   ]
  },
  {
   "cell_type": "markdown",
   "metadata": {},
   "source": [
    "- `socket.AF_INET4`, IPv4\n",
    "- `socket.AF_INET6`, IPv6\n",
    "- `socket.AF_UNIX`, unix domain socket, 本地套接字"
   ]
  },
  {
   "cell_type": "markdown",
   "metadata": {},
   "source": [
    "- `socket.SOCK_DGRAM` , UDP\n",
    "- `socket.SOCK_STREAM`， TCP\n",
    "- `socket.SOCK_RAW`，既不是TCP, 也不是UDP,需要我们自己封包"
   ]
  },
  {
   "cell_type": "code",
   "execution_count": null,
   "metadata": {
    "collapsed": true
   },
   "outputs": [],
   "source": []
  }
 ],
 "metadata": {
  "kernelspec": {
   "display_name": "Python 3",
   "language": "python",
   "name": "python3"
  },
  "language_info": {
   "codemirror_mode": {
    "name": "ipython",
    "version": 3
   },
   "file_extension": ".py",
   "mimetype": "text/x-python",
   "name": "python",
   "nbconvert_exporter": "python",
   "pygments_lexer": "ipython3",
   "version": "3.6.1"
  }
 },
 "nbformat": 4,
 "nbformat_minor": 2
}
