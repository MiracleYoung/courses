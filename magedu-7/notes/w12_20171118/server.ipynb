{
 "cells": [
  {
   "cell_type": "code",
   "execution_count": 94,
   "metadata": {
    "collapsed": true
   },
   "outputs": [],
   "source": [
    "import socket"
   ]
  },
  {
   "cell_type": "code",
   "execution_count": 2,
   "metadata": {},
   "outputs": [
    {
     "name": "stdout",
     "output_type": "stream",
     "text": [
      "Help on class socket in module socket:\n",
      "\n",
      "class socket(_socket.socket)\n",
      " |  A subclass of _socket.socket adding the makefile() method.\n",
      " |  \n",
      " |  Method resolution order:\n",
      " |      socket\n",
      " |      _socket.socket\n",
      " |      builtins.object\n",
      " |  \n",
      " |  Methods defined here:\n",
      " |  \n",
      " |  __enter__(self)\n",
      " |  \n",
      " |  __exit__(self, *args)\n",
      " |  \n",
      " |  __getstate__(self)\n",
      " |  \n",
      " |  __init__(self, family=<AddressFamily.AF_INET: 2>, type=<SocketKind.SOCK_STREAM: 1>, proto=0, fileno=None)\n",
      " |      Initialize self.  See help(type(self)) for accurate signature.\n",
      " |  \n",
      " |  __repr__(self)\n",
      " |      Wrap __repr__() to reveal the real class name and socket\n",
      " |      address(es).\n",
      " |  \n",
      " |  accept(self)\n",
      " |      accept() -> (socket object, address info)\n",
      " |      \n",
      " |      Wait for an incoming connection.  Return a new socket\n",
      " |      representing the connection, and the address of the client.\n",
      " |      For IP sockets, the address info is a pair (hostaddr, port).\n",
      " |  \n",
      " |  close(self)\n",
      " |      close()\n",
      " |      \n",
      " |      Close the socket.  It cannot be used after this call.\n",
      " |  \n",
      " |  detach(self)\n",
      " |      detach() -> file descriptor\n",
      " |      \n",
      " |      Close the socket object without closing the underlying file descriptor.\n",
      " |      The object cannot be used after this call, but the file descriptor\n",
      " |      can be reused for other purposes.  The file descriptor is returned.\n",
      " |  \n",
      " |  dup(self)\n",
      " |      dup() -> socket object\n",
      " |      \n",
      " |      Duplicate the socket. Return a new socket object connected to the same\n",
      " |      system resource. The new socket is non-inheritable.\n",
      " |  \n",
      " |  get_inheritable(self)\n",
      " |      Get the inheritable flag of the socket\n",
      " |  \n",
      " |  makefile(self, mode='r', buffering=None, *, encoding=None, errors=None, newline=None)\n",
      " |      makefile(...) -> an I/O stream connected to the socket\n",
      " |      \n",
      " |      The arguments are as for io.open() after the filename, except the only\n",
      " |      supported mode values are 'r' (default), 'w' and 'b'.\n",
      " |  \n",
      " |  sendfile(self, file, offset=0, count=None)\n",
      " |      sendfile(file[, offset[, count]]) -> sent\n",
      " |      \n",
      " |      Send a file until EOF is reached by using high-performance\n",
      " |      os.sendfile() and return the total number of bytes which\n",
      " |      were sent.\n",
      " |      *file* must be a regular file object opened in binary mode.\n",
      " |      If os.sendfile() is not available (e.g. Windows) or file is\n",
      " |      not a regular file socket.send() will be used instead.\n",
      " |      *offset* tells from where to start reading the file.\n",
      " |      If specified, *count* is the total number of bytes to transmit\n",
      " |      as opposed to sending the file until EOF is reached.\n",
      " |      File position is updated on return or also in case of error in\n",
      " |      which case file.tell() can be used to figure out the number of\n",
      " |      bytes which were sent.\n",
      " |      The socket must be of SOCK_STREAM type.\n",
      " |      Non-blocking sockets are not supported.\n",
      " |  \n",
      " |  set_inheritable(self, inheritable)\n",
      " |      Set the inheritable flag of the socket\n",
      " |  \n",
      " |  ----------------------------------------------------------------------\n",
      " |  Data descriptors defined here:\n",
      " |  \n",
      " |  __weakref__\n",
      " |      list of weak references to the object (if defined)\n",
      " |  \n",
      " |  family\n",
      " |      Read-only access to the address family for this socket.\n",
      " |  \n",
      " |  type\n",
      " |      Read-only access to the socket type.\n",
      " |  \n",
      " |  ----------------------------------------------------------------------\n",
      " |  Methods inherited from _socket.socket:\n",
      " |  \n",
      " |  __del__(...)\n",
      " |  \n",
      " |  __getattribute__(self, name, /)\n",
      " |      Return getattr(self, name).\n",
      " |  \n",
      " |  __new__(*args, **kwargs) from builtins.type\n",
      " |      Create and return a new object.  See help(type) for accurate signature.\n",
      " |  \n",
      " |  bind(...)\n",
      " |      bind(address)\n",
      " |      \n",
      " |      Bind the socket to a local address.  For IP sockets, the address is a\n",
      " |      pair (host, port); the host must refer to the local host. For raw packet\n",
      " |      sockets the address is a tuple (ifname, proto [,pkttype [,hatype]])\n",
      " |  \n",
      " |  connect(...)\n",
      " |      connect(address)\n",
      " |      \n",
      " |      Connect the socket to a remote address.  For IP sockets, the address\n",
      " |      is a pair (host, port).\n",
      " |  \n",
      " |  connect_ex(...)\n",
      " |      connect_ex(address) -> errno\n",
      " |      \n",
      " |      This is like connect(address), but returns an error code (the errno value)\n",
      " |      instead of raising an exception when an error occurs.\n",
      " |  \n",
      " |  fileno(...)\n",
      " |      fileno() -> integer\n",
      " |      \n",
      " |      Return the integer file descriptor of the socket.\n",
      " |  \n",
      " |  getpeername(...)\n",
      " |      getpeername() -> address info\n",
      " |      \n",
      " |      Return the address of the remote endpoint.  For IP sockets, the address\n",
      " |      info is a pair (hostaddr, port).\n",
      " |  \n",
      " |  getsockname(...)\n",
      " |      getsockname() -> address info\n",
      " |      \n",
      " |      Return the address of the local endpoint.  For IP sockets, the address\n",
      " |      info is a pair (hostaddr, port).\n",
      " |  \n",
      " |  getsockopt(...)\n",
      " |      getsockopt(level, option[, buffersize]) -> value\n",
      " |      \n",
      " |      Get a socket option.  See the Unix manual for level and option.\n",
      " |      If a nonzero buffersize argument is given, the return value is a\n",
      " |      string of that length; otherwise it is an integer.\n",
      " |  \n",
      " |  gettimeout(...)\n",
      " |      gettimeout() -> timeout\n",
      " |      \n",
      " |      Returns the timeout in seconds (float) associated with socket \n",
      " |      operations. A timeout of None indicates that timeouts on socket \n",
      " |      operations are disabled.\n",
      " |  \n",
      " |  listen(...)\n",
      " |      listen([backlog])\n",
      " |      \n",
      " |      Enable a server to accept connections.  If backlog is specified, it must be\n",
      " |      at least 0 (if it is lower, it is set to 0); it specifies the number of\n",
      " |      unaccepted connections that the system will allow before refusing new\n",
      " |      connections. If not specified, a default reasonable value is chosen.\n",
      " |  \n",
      " |  recv(...)\n",
      " |      recv(buffersize[, flags]) -> data\n",
      " |      \n",
      " |      Receive up to buffersize bytes from the socket.  For the optional flags\n",
      " |      argument, see the Unix manual.  When no data is available, block until\n",
      " |      at least one byte is available or until the remote end is closed.  When\n",
      " |      the remote end is closed and all data is read, return the empty string.\n",
      " |  \n",
      " |  recv_into(...)\n",
      " |      recv_into(buffer, [nbytes[, flags]]) -> nbytes_read\n",
      " |      \n",
      " |      A version of recv() that stores its data into a buffer rather than creating \n",
      " |      a new string.  Receive up to buffersize bytes from the socket.  If buffersize \n",
      " |      is not specified (or 0), receive up to the size available in the given buffer.\n",
      " |      \n",
      " |      See recv() for documentation about the flags.\n",
      " |  \n",
      " |  recvfrom(...)\n",
      " |      recvfrom(buffersize[, flags]) -> (data, address info)\n",
      " |      \n",
      " |      Like recv(buffersize, flags) but also return the sender's address info.\n",
      " |  \n",
      " |  recvfrom_into(...)\n",
      " |      recvfrom_into(buffer[, nbytes[, flags]]) -> (nbytes, address info)\n",
      " |      \n",
      " |      Like recv_into(buffer[, nbytes[, flags]]) but also return the sender's address info.\n",
      " |  \n",
      " |  recvmsg(...)\n",
      " |      recvmsg(bufsize[, ancbufsize[, flags]]) -> (data, ancdata, msg_flags, address)\n",
      " |      \n",
      " |      Receive normal data (up to bufsize bytes) and ancillary data from the\n",
      " |      socket.  The ancbufsize argument sets the size in bytes of the\n",
      " |      internal buffer used to receive the ancillary data; it defaults to 0,\n",
      " |      meaning that no ancillary data will be received.  Appropriate buffer\n",
      " |      sizes for ancillary data can be calculated using CMSG_SPACE() or\n",
      " |      CMSG_LEN(), and items which do not fit into the buffer might be\n",
      " |      truncated or discarded.  The flags argument defaults to 0 and has the\n",
      " |      same meaning as for recv().\n",
      " |      \n",
      " |      The return value is a 4-tuple: (data, ancdata, msg_flags, address).\n",
      " |      The data item is a bytes object holding the non-ancillary data\n",
      " |      received.  The ancdata item is a list of zero or more tuples\n",
      " |      (cmsg_level, cmsg_type, cmsg_data) representing the ancillary data\n",
      " |      (control messages) received: cmsg_level and cmsg_type are integers\n",
      " |      specifying the protocol level and protocol-specific type respectively,\n",
      " |      and cmsg_data is a bytes object holding the associated data.  The\n",
      " |      msg_flags item is the bitwise OR of various flags indicating\n",
      " |      conditions on the received message; see your system documentation for\n",
      " |      details.  If the receiving socket is unconnected, address is the\n",
      " |      address of the sending socket, if available; otherwise, its value is\n",
      " |      unspecified.\n",
      " |      \n",
      " |      If recvmsg() raises an exception after the system call returns, it\n",
      " |      will first attempt to close any file descriptors received via the\n",
      " |      SCM_RIGHTS mechanism.\n",
      " |  \n",
      " |  recvmsg_into(...)\n",
      " |      recvmsg_into(buffers[, ancbufsize[, flags]]) -> (nbytes, ancdata, msg_flags, address)\n",
      " |      \n",
      " |      Receive normal data and ancillary data from the socket, scattering the\n",
      " |      non-ancillary data into a series of buffers.  The buffers argument\n",
      " |      must be an iterable of objects that export writable buffers\n",
      " |      (e.g. bytearray objects); these will be filled with successive chunks\n",
      " |      of the non-ancillary data until it has all been written or there are\n",
      " |      no more buffers.  The ancbufsize argument sets the size in bytes of\n",
      " |      the internal buffer used to receive the ancillary data; it defaults to\n",
      " |      0, meaning that no ancillary data will be received.  Appropriate\n",
      " |      buffer sizes for ancillary data can be calculated using CMSG_SPACE()\n",
      " |      or CMSG_LEN(), and items which do not fit into the buffer might be\n",
      " |      truncated or discarded.  The flags argument defaults to 0 and has the\n",
      " |      same meaning as for recv().\n",
      " |      \n",
      " |      The return value is a 4-tuple: (nbytes, ancdata, msg_flags, address).\n",
      " |      The nbytes item is the total number of bytes of non-ancillary data\n",
      " |      written into the buffers.  The ancdata item is a list of zero or more\n",
      " |      tuples (cmsg_level, cmsg_type, cmsg_data) representing the ancillary\n",
      " |      data (control messages) received: cmsg_level and cmsg_type are\n",
      " |      integers specifying the protocol level and protocol-specific type\n",
      " |      respectively, and cmsg_data is a bytes object holding the associated\n",
      " |      data.  The msg_flags item is the bitwise OR of various flags\n",
      " |      indicating conditions on the received message; see your system\n",
      " |      documentation for details.  If the receiving socket is unconnected,\n",
      " |      address is the address of the sending socket, if available; otherwise,\n",
      " |      its value is unspecified.\n",
      " |      \n",
      " |      If recvmsg_into() raises an exception after the system call returns,\n",
      " |      it will first attempt to close any file descriptors received via the\n",
      " |      SCM_RIGHTS mechanism.\n",
      " |  \n",
      " |  send(...)\n",
      " |      send(data[, flags]) -> count\n",
      " |      \n",
      " |      Send a data string to the socket.  For the optional flags\n",
      " |      argument, see the Unix manual.  Return the number of bytes\n",
      " |      sent; this may be less than len(data) if the network is busy.\n",
      " |  \n",
      " |  sendall(...)\n",
      " |      sendall(data[, flags])\n",
      " |      \n",
      " |      Send a data string to the socket.  For the optional flags\n",
      " |      argument, see the Unix manual.  This calls send() repeatedly\n",
      " |      until all data is sent.  If an error occurs, it's impossible\n",
      " |      to tell how much data has been sent.\n",
      " |  \n",
      " |  sendmsg(...)\n",
      " |      sendmsg(buffers[, ancdata[, flags[, address]]]) -> count\n",
      " |      \n",
      " |      Send normal and ancillary data to the socket, gathering the\n",
      " |      non-ancillary data from a series of buffers and concatenating it into\n",
      " |      a single message.  The buffers argument specifies the non-ancillary\n",
      " |      data as an iterable of bytes-like objects (e.g. bytes objects).\n",
      " |      The ancdata argument specifies the ancillary data (control messages)\n",
      " |      as an iterable of zero or more tuples (cmsg_level, cmsg_type,\n",
      " |      cmsg_data), where cmsg_level and cmsg_type are integers specifying the\n",
      " |      protocol level and protocol-specific type respectively, and cmsg_data\n",
      " |      is a bytes-like object holding the associated data.  The flags\n",
      " |      argument defaults to 0 and has the same meaning as for send().  If\n",
      " |      address is supplied and not None, it sets a destination address for\n",
      " |      the message.  The return value is the number of bytes of non-ancillary\n",
      " |      data sent.\n",
      " |  \n",
      " |  sendto(...)\n",
      " |      sendto(data[, flags], address) -> count\n",
      " |      \n",
      " |      Like send(data, flags) but allows specifying the destination address.\n",
      " |      For IP sockets, the address is a pair (hostaddr, port).\n",
      " |  \n",
      " |  setblocking(...)\n",
      " |      setblocking(flag)\n",
      " |      \n",
      " |      Set the socket to blocking (flag is true) or non-blocking (false).\n",
      " |      setblocking(True) is equivalent to settimeout(None);\n",
      " |      setblocking(False) is equivalent to settimeout(0.0).\n",
      " |  \n",
      " |  setsockopt(...)\n",
      " |      setsockopt(level, option, value: int)\n",
      " |      setsockopt(level, option, value: buffer)\n",
      " |      setsockopt(level, option, None, optlen: int)\n",
      " |      \n",
      " |      Set a socket option.  See the Unix manual for level and option.\n",
      " |      The value argument can either be an integer, a string buffer, or \n",
      " |      None, optlen.\n",
      " |  \n",
      " |  settimeout(...)\n",
      " |      settimeout(timeout)\n",
      " |      \n",
      " |      Set a timeout on socket operations.  'timeout' can be a float,\n",
      " |      giving in seconds, or None.  Setting a timeout of None disables\n",
      " |      the timeout feature and is equivalent to setblocking(1).\n",
      " |      Setting a timeout of zero is the same as setblocking(0).\n",
      " |  \n",
      " |  shutdown(...)\n",
      " |      shutdown(flag)\n",
      " |      \n",
      " |      Shut down the reading side of the socket (flag == SHUT_RD), the writing side\n",
      " |      of the socket (flag == SHUT_WR), or both ends (flag == SHUT_RDWR).\n",
      " |  \n",
      " |  ----------------------------------------------------------------------\n",
      " |  Data descriptors inherited from _socket.socket:\n",
      " |  \n",
      " |  proto\n",
      " |      the socket protocol\n",
      " |  \n",
      " |  timeout\n",
      " |      the socket timeout\n",
      "\n"
     ]
    }
   ],
   "source": [
    "help(socket.socket)"
   ]
  },
  {
   "cell_type": "code",
   "execution_count": 3,
   "metadata": {
    "collapsed": true
   },
   "outputs": [],
   "source": [
    "so = socket.socket()"
   ]
  },
  {
   "cell_type": "code",
   "execution_count": 4,
   "metadata": {},
   "outputs": [
    {
     "data": {
      "text/plain": [
       "<socket.socket fd=55, family=AddressFamily.AF_INET, type=SocketKind.SOCK_STREAM, proto=0, laddr=('0.0.0.0', 0)>"
      ]
     },
     "execution_count": 4,
     "metadata": {},
     "output_type": "execute_result"
    }
   ],
   "source": [
    "so"
   ]
  },
  {
   "cell_type": "code",
   "execution_count": 5,
   "metadata": {},
   "outputs": [
    {
     "name": "stdout",
     "output_type": "stream",
     "text": [
      "Help on socket in module socket object:\n",
      "\n",
      "class socket(_socket.socket)\n",
      " |  A subclass of _socket.socket adding the makefile() method.\n",
      " |  \n",
      " |  Method resolution order:\n",
      " |      socket\n",
      " |      _socket.socket\n",
      " |      builtins.object\n",
      " |  \n",
      " |  Methods defined here:\n",
      " |  \n",
      " |  __enter__(self)\n",
      " |  \n",
      " |  __exit__(self, *args)\n",
      " |  \n",
      " |  __getstate__(self)\n",
      " |  \n",
      " |  __init__(self, family=<AddressFamily.AF_INET: 2>, type=<SocketKind.SOCK_STREAM: 1>, proto=0, fileno=None)\n",
      " |      Initialize self.  See help(type(self)) for accurate signature.\n",
      " |  \n",
      " |  __repr__(self)\n",
      " |      Wrap __repr__() to reveal the real class name and socket\n",
      " |      address(es).\n",
      " |  \n",
      " |  accept(self)\n",
      " |      accept() -> (socket object, address info)\n",
      " |      \n",
      " |      Wait for an incoming connection.  Return a new socket\n",
      " |      representing the connection, and the address of the client.\n",
      " |      For IP sockets, the address info is a pair (hostaddr, port).\n",
      " |  \n",
      " |  close(self)\n",
      " |      close()\n",
      " |      \n",
      " |      Close the socket.  It cannot be used after this call.\n",
      " |  \n",
      " |  detach(self)\n",
      " |      detach() -> file descriptor\n",
      " |      \n",
      " |      Close the socket object without closing the underlying file descriptor.\n",
      " |      The object cannot be used after this call, but the file descriptor\n",
      " |      can be reused for other purposes.  The file descriptor is returned.\n",
      " |  \n",
      " |  dup(self)\n",
      " |      dup() -> socket object\n",
      " |      \n",
      " |      Duplicate the socket. Return a new socket object connected to the same\n",
      " |      system resource. The new socket is non-inheritable.\n",
      " |  \n",
      " |  get_inheritable(self)\n",
      " |      Get the inheritable flag of the socket\n",
      " |  \n",
      " |  makefile(self, mode='r', buffering=None, *, encoding=None, errors=None, newline=None)\n",
      " |      makefile(...) -> an I/O stream connected to the socket\n",
      " |      \n",
      " |      The arguments are as for io.open() after the filename, except the only\n",
      " |      supported mode values are 'r' (default), 'w' and 'b'.\n",
      " |  \n",
      " |  sendfile(self, file, offset=0, count=None)\n",
      " |      sendfile(file[, offset[, count]]) -> sent\n",
      " |      \n",
      " |      Send a file until EOF is reached by using high-performance\n",
      " |      os.sendfile() and return the total number of bytes which\n",
      " |      were sent.\n",
      " |      *file* must be a regular file object opened in binary mode.\n",
      " |      If os.sendfile() is not available (e.g. Windows) or file is\n",
      " |      not a regular file socket.send() will be used instead.\n",
      " |      *offset* tells from where to start reading the file.\n",
      " |      If specified, *count* is the total number of bytes to transmit\n",
      " |      as opposed to sending the file until EOF is reached.\n",
      " |      File position is updated on return or also in case of error in\n",
      " |      which case file.tell() can be used to figure out the number of\n",
      " |      bytes which were sent.\n",
      " |      The socket must be of SOCK_STREAM type.\n",
      " |      Non-blocking sockets are not supported.\n",
      " |  \n",
      " |  set_inheritable(self, inheritable)\n",
      " |      Set the inheritable flag of the socket\n",
      " |  \n",
      " |  ----------------------------------------------------------------------\n",
      " |  Data descriptors defined here:\n",
      " |  \n",
      " |  __weakref__\n",
      " |      list of weak references to the object (if defined)\n",
      " |  \n",
      " |  family\n",
      " |      Read-only access to the address family for this socket.\n",
      " |  \n",
      " |  type\n",
      " |      Read-only access to the socket type.\n",
      " |  \n",
      " |  ----------------------------------------------------------------------\n",
      " |  Methods inherited from _socket.socket:\n",
      " |  \n",
      " |  __del__(...)\n",
      " |  \n",
      " |  __getattribute__(self, name, /)\n",
      " |      Return getattr(self, name).\n",
      " |  \n",
      " |  __new__(*args, **kwargs) from builtins.type\n",
      " |      Create and return a new object.  See help(type) for accurate signature.\n",
      " |  \n",
      " |  bind(...)\n",
      " |      bind(address)\n",
      " |      \n",
      " |      Bind the socket to a local address.  For IP sockets, the address is a\n",
      " |      pair (host, port); the host must refer to the local host. For raw packet\n",
      " |      sockets the address is a tuple (ifname, proto [,pkttype [,hatype]])\n",
      " |  \n",
      " |  connect(...)\n",
      " |      connect(address)\n",
      " |      \n",
      " |      Connect the socket to a remote address.  For IP sockets, the address\n",
      " |      is a pair (host, port).\n",
      " |  \n",
      " |  connect_ex(...)\n",
      " |      connect_ex(address) -> errno\n",
      " |      \n",
      " |      This is like connect(address), but returns an error code (the errno value)\n",
      " |      instead of raising an exception when an error occurs.\n",
      " |  \n",
      " |  fileno(...)\n",
      " |      fileno() -> integer\n",
      " |      \n",
      " |      Return the integer file descriptor of the socket.\n",
      " |  \n",
      " |  getpeername(...)\n",
      " |      getpeername() -> address info\n",
      " |      \n",
      " |      Return the address of the remote endpoint.  For IP sockets, the address\n",
      " |      info is a pair (hostaddr, port).\n",
      " |  \n",
      " |  getsockname(...)\n",
      " |      getsockname() -> address info\n",
      " |      \n",
      " |      Return the address of the local endpoint.  For IP sockets, the address\n",
      " |      info is a pair (hostaddr, port).\n",
      " |  \n",
      " |  getsockopt(...)\n",
      " |      getsockopt(level, option[, buffersize]) -> value\n",
      " |      \n",
      " |      Get a socket option.  See the Unix manual for level and option.\n",
      " |      If a nonzero buffersize argument is given, the return value is a\n",
      " |      string of that length; otherwise it is an integer.\n",
      " |  \n",
      " |  gettimeout(...)\n",
      " |      gettimeout() -> timeout\n",
      " |      \n",
      " |      Returns the timeout in seconds (float) associated with socket \n",
      " |      operations. A timeout of None indicates that timeouts on socket \n",
      " |      operations are disabled.\n",
      " |  \n",
      " |  listen(...)\n",
      " |      listen([backlog])\n",
      " |      \n",
      " |      Enable a server to accept connections.  If backlog is specified, it must be\n",
      " |      at least 0 (if it is lower, it is set to 0); it specifies the number of\n",
      " |      unaccepted connections that the system will allow before refusing new\n",
      " |      connections. If not specified, a default reasonable value is chosen.\n",
      " |  \n",
      " |  recv(...)\n",
      " |      recv(buffersize[, flags]) -> data\n",
      " |      \n",
      " |      Receive up to buffersize bytes from the socket.  For the optional flags\n",
      " |      argument, see the Unix manual.  When no data is available, block until\n",
      " |      at least one byte is available or until the remote end is closed.  When\n",
      " |      the remote end is closed and all data is read, return the empty string.\n",
      " |  \n",
      " |  recv_into(...)\n",
      " |      recv_into(buffer, [nbytes[, flags]]) -> nbytes_read\n",
      " |      \n",
      " |      A version of recv() that stores its data into a buffer rather than creating \n",
      " |      a new string.  Receive up to buffersize bytes from the socket.  If buffersize \n",
      " |      is not specified (or 0), receive up to the size available in the given buffer.\n",
      " |      \n",
      " |      See recv() for documentation about the flags.\n",
      " |  \n",
      " |  recvfrom(...)\n",
      " |      recvfrom(buffersize[, flags]) -> (data, address info)\n",
      " |      \n",
      " |      Like recv(buffersize, flags) but also return the sender's address info.\n",
      " |  \n",
      " |  recvfrom_into(...)\n",
      " |      recvfrom_into(buffer[, nbytes[, flags]]) -> (nbytes, address info)\n",
      " |      \n",
      " |      Like recv_into(buffer[, nbytes[, flags]]) but also return the sender's address info.\n",
      " |  \n",
      " |  recvmsg(...)\n",
      " |      recvmsg(bufsize[, ancbufsize[, flags]]) -> (data, ancdata, msg_flags, address)\n",
      " |      \n",
      " |      Receive normal data (up to bufsize bytes) and ancillary data from the\n",
      " |      socket.  The ancbufsize argument sets the size in bytes of the\n",
      " |      internal buffer used to receive the ancillary data; it defaults to 0,\n",
      " |      meaning that no ancillary data will be received.  Appropriate buffer\n",
      " |      sizes for ancillary data can be calculated using CMSG_SPACE() or\n",
      " |      CMSG_LEN(), and items which do not fit into the buffer might be\n",
      " |      truncated or discarded.  The flags argument defaults to 0 and has the\n",
      " |      same meaning as for recv().\n",
      " |      \n",
      " |      The return value is a 4-tuple: (data, ancdata, msg_flags, address).\n",
      " |      The data item is a bytes object holding the non-ancillary data\n",
      " |      received.  The ancdata item is a list of zero or more tuples\n",
      " |      (cmsg_level, cmsg_type, cmsg_data) representing the ancillary data\n",
      " |      (control messages) received: cmsg_level and cmsg_type are integers\n",
      " |      specifying the protocol level and protocol-specific type respectively,\n",
      " |      and cmsg_data is a bytes object holding the associated data.  The\n",
      " |      msg_flags item is the bitwise OR of various flags indicating\n",
      " |      conditions on the received message; see your system documentation for\n",
      " |      details.  If the receiving socket is unconnected, address is the\n",
      " |      address of the sending socket, if available; otherwise, its value is\n",
      " |      unspecified.\n",
      " |      \n",
      " |      If recvmsg() raises an exception after the system call returns, it\n",
      " |      will first attempt to close any file descriptors received via the\n",
      " |      SCM_RIGHTS mechanism.\n",
      " |  \n",
      " |  recvmsg_into(...)\n",
      " |      recvmsg_into(buffers[, ancbufsize[, flags]]) -> (nbytes, ancdata, msg_flags, address)\n",
      " |      \n",
      " |      Receive normal data and ancillary data from the socket, scattering the\n",
      " |      non-ancillary data into a series of buffers.  The buffers argument\n",
      " |      must be an iterable of objects that export writable buffers\n",
      " |      (e.g. bytearray objects); these will be filled with successive chunks\n",
      " |      of the non-ancillary data until it has all been written or there are\n",
      " |      no more buffers.  The ancbufsize argument sets the size in bytes of\n",
      " |      the internal buffer used to receive the ancillary data; it defaults to\n",
      " |      0, meaning that no ancillary data will be received.  Appropriate\n",
      " |      buffer sizes for ancillary data can be calculated using CMSG_SPACE()\n",
      " |      or CMSG_LEN(), and items which do not fit into the buffer might be\n",
      " |      truncated or discarded.  The flags argument defaults to 0 and has the\n",
      " |      same meaning as for recv().\n",
      " |      \n",
      " |      The return value is a 4-tuple: (nbytes, ancdata, msg_flags, address).\n",
      " |      The nbytes item is the total number of bytes of non-ancillary data\n",
      " |      written into the buffers.  The ancdata item is a list of zero or more\n",
      " |      tuples (cmsg_level, cmsg_type, cmsg_data) representing the ancillary\n",
      " |      data (control messages) received: cmsg_level and cmsg_type are\n",
      " |      integers specifying the protocol level and protocol-specific type\n",
      " |      respectively, and cmsg_data is a bytes object holding the associated\n",
      " |      data.  The msg_flags item is the bitwise OR of various flags\n",
      " |      indicating conditions on the received message; see your system\n",
      " |      documentation for details.  If the receiving socket is unconnected,\n",
      " |      address is the address of the sending socket, if available; otherwise,\n",
      " |      its value is unspecified.\n",
      " |      \n",
      " |      If recvmsg_into() raises an exception after the system call returns,\n",
      " |      it will first attempt to close any file descriptors received via the\n",
      " |      SCM_RIGHTS mechanism.\n",
      " |  \n",
      " |  send(...)\n",
      " |      send(data[, flags]) -> count\n",
      " |      \n",
      " |      Send a data string to the socket.  For the optional flags\n",
      " |      argument, see the Unix manual.  Return the number of bytes\n",
      " |      sent; this may be less than len(data) if the network is busy.\n",
      " |  \n",
      " |  sendall(...)\n",
      " |      sendall(data[, flags])\n",
      " |      \n",
      " |      Send a data string to the socket.  For the optional flags\n",
      " |      argument, see the Unix manual.  This calls send() repeatedly\n",
      " |      until all data is sent.  If an error occurs, it's impossible\n",
      " |      to tell how much data has been sent.\n",
      " |  \n",
      " |  sendmsg(...)\n",
      " |      sendmsg(buffers[, ancdata[, flags[, address]]]) -> count\n",
      " |      \n",
      " |      Send normal and ancillary data to the socket, gathering the\n",
      " |      non-ancillary data from a series of buffers and concatenating it into\n",
      " |      a single message.  The buffers argument specifies the non-ancillary\n",
      " |      data as an iterable of bytes-like objects (e.g. bytes objects).\n",
      " |      The ancdata argument specifies the ancillary data (control messages)\n",
      " |      as an iterable of zero or more tuples (cmsg_level, cmsg_type,\n",
      " |      cmsg_data), where cmsg_level and cmsg_type are integers specifying the\n",
      " |      protocol level and protocol-specific type respectively, and cmsg_data\n",
      " |      is a bytes-like object holding the associated data.  The flags\n",
      " |      argument defaults to 0 and has the same meaning as for send().  If\n",
      " |      address is supplied and not None, it sets a destination address for\n",
      " |      the message.  The return value is the number of bytes of non-ancillary\n",
      " |      data sent.\n",
      " |  \n",
      " |  sendto(...)\n",
      " |      sendto(data[, flags], address) -> count\n",
      " |      \n",
      " |      Like send(data, flags) but allows specifying the destination address.\n",
      " |      For IP sockets, the address is a pair (hostaddr, port).\n",
      " |  \n",
      " |  setblocking(...)\n",
      " |      setblocking(flag)\n",
      " |      \n",
      " |      Set the socket to blocking (flag is true) or non-blocking (false).\n",
      " |      setblocking(True) is equivalent to settimeout(None);\n",
      " |      setblocking(False) is equivalent to settimeout(0.0).\n",
      " |  \n",
      " |  setsockopt(...)\n",
      " |      setsockopt(level, option, value: int)\n",
      " |      setsockopt(level, option, value: buffer)\n",
      " |      setsockopt(level, option, None, optlen: int)\n",
      " |      \n",
      " |      Set a socket option.  See the Unix manual for level and option.\n",
      " |      The value argument can either be an integer, a string buffer, or \n",
      " |      None, optlen.\n",
      " |  \n",
      " |  settimeout(...)\n",
      " |      settimeout(timeout)\n",
      " |      \n",
      " |      Set a timeout on socket operations.  'timeout' can be a float,\n",
      " |      giving in seconds, or None.  Setting a timeout of None disables\n",
      " |      the timeout feature and is equivalent to setblocking(1).\n",
      " |      Setting a timeout of zero is the same as setblocking(0).\n",
      " |  \n",
      " |  shutdown(...)\n",
      " |      shutdown(flag)\n",
      " |      \n",
      " |      Shut down the reading side of the socket (flag == SHUT_RD), the writing side\n",
      " |      of the socket (flag == SHUT_WR), or both ends (flag == SHUT_RDWR).\n",
      " |  \n",
      " |  ----------------------------------------------------------------------\n",
      " |  Data descriptors inherited from _socket.socket:\n",
      " |  \n",
      " |  proto\n",
      " |      the socket protocol\n",
      " |  \n",
      " |  timeout\n",
      " |      the socket timeout\n",
      "\n"
     ]
    }
   ],
   "source": [
    "help(so)"
   ]
  },
  {
   "cell_type": "code",
   "execution_count": 6,
   "metadata": {
    "collapsed": true
   },
   "outputs": [],
   "source": [
    "so.bind(('127.0.0.1', 1234))"
   ]
  },
  {
   "cell_type": "code",
   "execution_count": 7,
   "metadata": {
    "collapsed": true
   },
   "outputs": [],
   "source": [
    "so.listen()"
   ]
  },
  {
   "cell_type": "code",
   "execution_count": 8,
   "metadata": {},
   "outputs": [
    {
     "name": "stdout",
     "output_type": "stream",
     "text": [
      "Help on method accept in module socket:\n",
      "\n",
      "accept() method of socket.socket instance\n",
      "    accept() -> (socket object, address info)\n",
      "    \n",
      "    Wait for an incoming connection.  Return a new socket\n",
      "    representing the connection, and the address of the client.\n",
      "    For IP sockets, the address info is a pair (hostaddr, port).\n",
      "\n"
     ]
    }
   ],
   "source": [
    "help(so.accept)"
   ]
  },
  {
   "cell_type": "code",
   "execution_count": 9,
   "metadata": {
    "collapsed": true
   },
   "outputs": [],
   "source": [
    "s, info = so.accept()"
   ]
  },
  {
   "cell_type": "code",
   "execution_count": 10,
   "metadata": {},
   "outputs": [
    {
     "data": {
      "text/plain": [
       "<socket.socket fd=56, family=AddressFamily.AF_INET, type=SocketKind.SOCK_STREAM, proto=0, laddr=('127.0.0.1', 1234), raddr=('127.0.0.1', 54028)>"
      ]
     },
     "execution_count": 10,
     "metadata": {},
     "output_type": "execute_result"
    }
   ],
   "source": [
    "s"
   ]
  },
  {
   "cell_type": "code",
   "execution_count": 11,
   "metadata": {},
   "outputs": [
    {
     "data": {
      "text/plain": [
       "('127.0.0.1', 54028)"
      ]
     },
     "execution_count": 11,
     "metadata": {},
     "output_type": "execute_result"
    }
   ],
   "source": [
    "info"
   ]
  },
  {
   "cell_type": "code",
   "execution_count": 12,
   "metadata": {},
   "outputs": [
    {
     "data": {
      "text/plain": [
       "b'1234\\r\\n'"
      ]
     },
     "execution_count": 12,
     "metadata": {},
     "output_type": "execute_result"
    }
   ],
   "source": [
    "s.recv(1024)"
   ]
  },
  {
   "cell_type": "code",
   "execution_count": 13,
   "metadata": {},
   "outputs": [
    {
     "data": {
      "text/plain": [
       "b'abcd\\r\\n'"
      ]
     },
     "execution_count": 13,
     "metadata": {},
     "output_type": "execute_result"
    }
   ],
   "source": [
    "s.recv(1024)"
   ]
  },
  {
   "cell_type": "code",
   "execution_count": 14,
   "metadata": {},
   "outputs": [
    {
     "data": {
      "text/plain": [
       "b'qwer\\r\\n'"
      ]
     },
     "execution_count": 14,
     "metadata": {},
     "output_type": "execute_result"
    }
   ],
   "source": [
    "s.recv(1024)"
   ]
  },
  {
   "cell_type": "markdown",
   "metadata": {},
   "source": [
    "- 初始化socket 实例\n",
    "- bind\n",
    "- listen\n",
    "- accept"
   ]
  },
  {
   "cell_type": "code",
   "execution_count": 16,
   "metadata": {},
   "outputs": [
    {
     "data": {
      "text/plain": [
       "4"
      ]
     },
     "execution_count": 16,
     "metadata": {},
     "output_type": "execute_result"
    }
   ],
   "source": [
    "s.send(b'1234')"
   ]
  },
  {
   "cell_type": "code",
   "execution_count": 17,
   "metadata": {},
   "outputs": [
    {
     "data": {
      "text/plain": [
       "7"
      ]
     },
     "execution_count": 17,
     "metadata": {},
     "output_type": "execute_result"
    }
   ],
   "source": [
    "s.send(b'miracle')"
   ]
  },
  {
   "cell_type": "code",
   "execution_count": 18,
   "metadata": {
    "collapsed": true
   },
   "outputs": [],
   "source": [
    "s.close()"
   ]
  },
  {
   "cell_type": "code",
   "execution_count": 19,
   "metadata": {
    "collapsed": true
   },
   "outputs": [],
   "source": [
    "so.close()"
   ]
  },
  {
   "cell_type": "code",
   "execution_count": 20,
   "metadata": {
    "collapsed": true
   },
   "outputs": [],
   "source": [
    "so = socket.socket()"
   ]
  },
  {
   "cell_type": "code",
   "execution_count": 21,
   "metadata": {
    "collapsed": true
   },
   "outputs": [],
   "source": [
    "so.bind(('127.0.0.1', 1234))"
   ]
  },
  {
   "cell_type": "code",
   "execution_count": 22,
   "metadata": {
    "collapsed": true
   },
   "outputs": [],
   "source": [
    "so.listen()"
   ]
  },
  {
   "cell_type": "code",
   "execution_count": 23,
   "metadata": {
    "collapsed": true
   },
   "outputs": [],
   "source": [
    "s, _ = so.accept()"
   ]
  },
  {
   "cell_type": "code",
   "execution_count": 24,
   "metadata": {},
   "outputs": [
    {
     "data": {
      "text/plain": [
       "b'asdf\\r\\n'"
      ]
     },
     "execution_count": 24,
     "metadata": {},
     "output_type": "execute_result"
    }
   ],
   "source": [
    "s.recv(1024)"
   ]
  },
  {
   "cell_type": "code",
   "execution_count": 25,
   "metadata": {},
   "outputs": [
    {
     "data": {
      "text/plain": [
       "7"
      ]
     },
     "execution_count": 25,
     "metadata": {},
     "output_type": "execute_result"
    }
   ],
   "source": [
    "s.send(b'miracle')"
   ]
  },
  {
   "cell_type": "code",
   "execution_count": 26,
   "metadata": {},
   "outputs": [
    {
     "data": {
      "text/plain": [
       "5"
      ]
     },
     "execution_count": 26,
     "metadata": {},
     "output_type": "execute_result"
    }
   ],
   "source": [
    "s.send(b'young')"
   ]
  },
  {
   "cell_type": "code",
   "execution_count": 27,
   "metadata": {
    "collapsed": true
   },
   "outputs": [],
   "source": [
    "s2, _ = so.accept()"
   ]
  },
  {
   "cell_type": "code",
   "execution_count": 28,
   "metadata": {},
   "outputs": [
    {
     "data": {
      "text/plain": [
       "2"
      ]
     },
     "execution_count": 28,
     "metadata": {},
     "output_type": "execute_result"
    }
   ],
   "source": [
    "s2.send(b's2')"
   ]
  },
  {
   "cell_type": "code",
   "execution_count": 29,
   "metadata": {
    "collapsed": true
   },
   "outputs": [],
   "source": [
    "s.close()"
   ]
  },
  {
   "cell_type": "code",
   "execution_count": 33,
   "metadata": {
    "collapsed": true
   },
   "outputs": [],
   "source": [
    "import threading"
   ]
  },
  {
   "cell_type": "code",
   "execution_count": 30,
   "metadata": {
    "collapsed": true
   },
   "outputs": [],
   "source": [
    "s2.close()"
   ]
  },
  {
   "cell_type": "code",
   "execution_count": 59,
   "metadata": {
    "collapsed": true
   },
   "outputs": [],
   "source": [
    "class ChatServer:\n",
    "    def __init__(self, ip='127.0.0.1', port=1234):\n",
    "        self.addr = (ip, port)\n",
    "        self.sock = socket.socket()\n",
    "        self.event = threading.Event()\n",
    "        self.clients = {}\n",
    "    \n",
    "    def recv(self, so, ip, port):\n",
    "        while not self.event.is_set():\n",
    "            data = so.recv(1024).decode()\n",
    "            if data.strip() == '/quit':\n",
    "                so.close()\n",
    "                self.clients.pop((ip, port))\n",
    "                return\n",
    "            for s in self.clients.values():\n",
    "                s.send('{}:{}\\n{}'.format(ip, port, data).encode())\n",
    "    \n",
    "    def accept(self):\n",
    "        while not self.event.is_set():\n",
    "            so, (ip, port) = self.sock.accept()\n",
    "            self.clients[(ip, port)] = so\n",
    "            threading.Thread(target=self.recv, name='client-{}:{}'.format(ip, port), args=(so, ip, port)).start()\n",
    "    \n",
    "    def start(self):\n",
    "        # TODO 开启服务端\n",
    "        # 是否需要启用多线程呢？\n",
    "        self.sock.bind(self.addr)\n",
    "        self.sock.listen()\n",
    "\n",
    "        threading.Thread(target=self.accept, name='listen').start()        \n",
    "        \n",
    "    def stop(self):\n",
    "        for so in self.clients.values():\n",
    "            so.close()\n",
    "        self.sock.close()\n",
    "        self.event.set()"
   ]
  },
  {
   "cell_type": "code",
   "execution_count": 60,
   "metadata": {
    "collapsed": true
   },
   "outputs": [],
   "source": [
    "chat_server = ChatServer(port=1239)"
   ]
  },
  {
   "cell_type": "code",
   "execution_count": 61,
   "metadata": {
    "collapsed": true
   },
   "outputs": [],
   "source": [
    "chat_server.start()"
   ]
  },
  {
   "cell_type": "code",
   "execution_count": 62,
   "metadata": {},
   "outputs": [
    {
     "name": "stderr",
     "output_type": "stream",
     "text": [
      "Exception in thread listen:\n",
      "Traceback (most recent call last):\n",
      "  File \"/Users/miracleYoung/.pyenv/versions/3.6.1/lib/python3.6/threading.py\", line 916, in _bootstrap_inner\n",
      "    self.run()\n",
      "  File \"/Users/miracleYoung/.pyenv/versions/3.6.1/lib/python3.6/threading.py\", line 864, in run\n",
      "    self._target(*self._args, **self._kwargs)\n",
      "  File \"<ipython-input-59-c8298e251039>\", line 20, in accept\n",
      "    so, (ip, port) = self.sock.accept()\n",
      "  File \"/Users/miracleYoung/.pyenv/versions/3.6.1/lib/python3.6/socket.py\", line 205, in accept\n",
      "    fd, addr = self._accept()\n",
      "ConnectionAbortedError: [Errno 53] Software caused connection abort\n",
      "Exception in thread client-127.0.0.1:55142:\n",
      "Traceback (most recent call last):\n",
      "  File \"/Users/miracleYoung/.pyenv/versions/3.6.1/lib/python3.6/threading.py\", line 916, in _bootstrap_inner\n",
      "    self.run()\n",
      "  File \"/Users/miracleYoung/.pyenv/versions/3.6.1/lib/python3.6/threading.py\", line 864, in run\n",
      "    self._target(*self._args, **self._kwargs)\n",
      "  File \"<ipython-input-59-c8298e251039>\", line 10, in recv\n",
      "    data = so.recv(1024).decode()\n",
      "OSError: [Errno 9] Bad file descriptor\n",
      "\n",
      "\n"
     ]
    }
   ],
   "source": [
    "chat_server.stop()"
   ]
  },
  {
   "cell_type": "code",
   "execution_count": 63,
   "metadata": {
    "collapsed": true
   },
   "outputs": [],
   "source": [
    "so = socket.socket()\n",
    "so.bind(('127.0.0.1', 10086))\n",
    "so.listen()"
   ]
  },
  {
   "cell_type": "code",
   "execution_count": 64,
   "metadata": {
    "collapsed": true
   },
   "outputs": [],
   "source": [
    "s, _ = so.accept()"
   ]
  },
  {
   "cell_type": "code",
   "execution_count": 65,
   "metadata": {},
   "outputs": [
    {
     "name": "stdout",
     "output_type": "stream",
     "text": [
      "Help on built-in function recv:\n",
      "\n",
      "recv(...) method of socket.socket instance\n",
      "    recv(buffersize[, flags]) -> data\n",
      "    \n",
      "    Receive up to buffersize bytes from the socket.  For the optional flags\n",
      "    argument, see the Unix manual.  When no data is available, block until\n",
      "    at least one byte is available or until the remote end is closed.  When\n",
      "    the remote end is closed and all data is read, return the empty string.\n",
      "\n"
     ]
    }
   ],
   "source": [
    "help(s.recv)"
   ]
  },
  {
   "cell_type": "code",
   "execution_count": 66,
   "metadata": {},
   "outputs": [
    {
     "name": "stdout",
     "output_type": "stream",
     "text": [
      "Help on built-in function recv_into:\n",
      "\n",
      "recv_into(...) method of socket.socket instance\n",
      "    recv_into(buffer, [nbytes[, flags]]) -> nbytes_read\n",
      "    \n",
      "    A version of recv() that stores its data into a buffer rather than creating \n",
      "    a new string.  Receive up to buffersize bytes from the socket.  If buffersize \n",
      "    is not specified (or 0), receive up to the size available in the given buffer.\n",
      "    \n",
      "    See recv() for documentation about the flags.\n",
      "\n"
     ]
    }
   ],
   "source": [
    "help(s.recv_into)"
   ]
  },
  {
   "cell_type": "code",
   "execution_count": 67,
   "metadata": {},
   "outputs": [
    {
     "name": "stdout",
     "output_type": "stream",
     "text": [
      "Help on built-in function recvfrom:\n",
      "\n",
      "recvfrom(...) method of socket.socket instance\n",
      "    recvfrom(buffersize[, flags]) -> (data, address info)\n",
      "    \n",
      "    Like recv(buffersize, flags) but also return the sender's address info.\n",
      "\n"
     ]
    }
   ],
   "source": [
    "help(s.recvfrom)"
   ]
  },
  {
   "cell_type": "code",
   "execution_count": 68,
   "metadata": {},
   "outputs": [
    {
     "name": "stdout",
     "output_type": "stream",
     "text": [
      "Help on built-in function recvfrom_into:\n",
      "\n",
      "recvfrom_into(...) method of socket.socket instance\n",
      "    recvfrom_into(buffer[, nbytes[, flags]]) -> (nbytes, address info)\n",
      "    \n",
      "    Like recv_into(buffer[, nbytes[, flags]]) but also return the sender's address info.\n",
      "\n"
     ]
    }
   ],
   "source": [
    "help(s.recvfrom_into)"
   ]
  },
  {
   "cell_type": "code",
   "execution_count": 69,
   "metadata": {},
   "outputs": [
    {
     "name": "stdout",
     "output_type": "stream",
     "text": [
      "Help on built-in function recvmsg:\n",
      "\n",
      "recvmsg(...) method of socket.socket instance\n",
      "    recvmsg(bufsize[, ancbufsize[, flags]]) -> (data, ancdata, msg_flags, address)\n",
      "    \n",
      "    Receive normal data (up to bufsize bytes) and ancillary data from the\n",
      "    socket.  The ancbufsize argument sets the size in bytes of the\n",
      "    internal buffer used to receive the ancillary data; it defaults to 0,\n",
      "    meaning that no ancillary data will be received.  Appropriate buffer\n",
      "    sizes for ancillary data can be calculated using CMSG_SPACE() or\n",
      "    CMSG_LEN(), and items which do not fit into the buffer might be\n",
      "    truncated or discarded.  The flags argument defaults to 0 and has the\n",
      "    same meaning as for recv().\n",
      "    \n",
      "    The return value is a 4-tuple: (data, ancdata, msg_flags, address).\n",
      "    The data item is a bytes object holding the non-ancillary data\n",
      "    received.  The ancdata item is a list of zero or more tuples\n",
      "    (cmsg_level, cmsg_type, cmsg_data) representing the ancillary data\n",
      "    (control messages) received: cmsg_level and cmsg_type are integers\n",
      "    specifying the protocol level and protocol-specific type respectively,\n",
      "    and cmsg_data is a bytes object holding the associated data.  The\n",
      "    msg_flags item is the bitwise OR of various flags indicating\n",
      "    conditions on the received message; see your system documentation for\n",
      "    details.  If the receiving socket is unconnected, address is the\n",
      "    address of the sending socket, if available; otherwise, its value is\n",
      "    unspecified.\n",
      "    \n",
      "    If recvmsg() raises an exception after the system call returns, it\n",
      "    will first attempt to close any file descriptors received via the\n",
      "    SCM_RIGHTS mechanism.\n",
      "\n"
     ]
    }
   ],
   "source": [
    "help(s.recvmsg)"
   ]
  },
  {
   "cell_type": "code",
   "execution_count": 70,
   "metadata": {},
   "outputs": [
    {
     "name": "stdout",
     "output_type": "stream",
     "text": [
      "Help on built-in function send:\n",
      "\n",
      "send(...) method of socket.socket instance\n",
      "    send(data[, flags]) -> count\n",
      "    \n",
      "    Send a data string to the socket.  For the optional flags\n",
      "    argument, see the Unix manual.  Return the number of bytes\n",
      "    sent; this may be less than len(data) if the network is busy.\n",
      "\n"
     ]
    }
   ],
   "source": [
    "help(s.send)"
   ]
  },
  {
   "cell_type": "code",
   "execution_count": 71,
   "metadata": {},
   "outputs": [
    {
     "name": "stdout",
     "output_type": "stream",
     "text": [
      "Help on built-in function sendall:\n",
      "\n",
      "sendall(...) method of socket.socket instance\n",
      "    sendall(data[, flags])\n",
      "    \n",
      "    Send a data string to the socket.  For the optional flags\n",
      "    argument, see the Unix manual.  This calls send() repeatedly\n",
      "    until all data is sent.  If an error occurs, it's impossible\n",
      "    to tell how much data has been sent.\n",
      "\n"
     ]
    }
   ],
   "source": [
    "help(s.sendall)"
   ]
  },
  {
   "cell_type": "code",
   "execution_count": 72,
   "metadata": {
    "collapsed": true
   },
   "outputs": [],
   "source": [
    "f = s.makefile()"
   ]
  },
  {
   "cell_type": "code",
   "execution_count": 73,
   "metadata": {},
   "outputs": [
    {
     "data": {
      "text/plain": [
       "'sadfs'"
      ]
     },
     "execution_count": 73,
     "metadata": {},
     "output_type": "execute_result"
    }
   ],
   "source": [
    "f.read(5)"
   ]
  },
  {
   "cell_type": "code",
   "execution_count": 74,
   "metadata": {
    "collapsed": true
   },
   "outputs": [],
   "source": [
    "w = s.makefile('w')"
   ]
  },
  {
   "cell_type": "code",
   "execution_count": 75,
   "metadata": {},
   "outputs": [
    {
     "data": {
      "text/plain": [
       "7"
      ]
     },
     "execution_count": 75,
     "metadata": {},
     "output_type": "execute_result"
    }
   ],
   "source": [
    "w.write('123456\\n')"
   ]
  },
  {
   "cell_type": "code",
   "execution_count": 76,
   "metadata": {
    "collapsed": true
   },
   "outputs": [],
   "source": [
    "w.flush()"
   ]
  },
  {
   "cell_type": "code",
   "execution_count": 77,
   "metadata": {
    "collapsed": true
   },
   "outputs": [],
   "source": [
    "b = s.makefile('br')"
   ]
  },
  {
   "cell_type": "code",
   "execution_count": 78,
   "metadata": {},
   "outputs": [
    {
     "data": {
      "text/plain": [
       "b'sdfsdfsdfsdfsdf\\r\\n'"
      ]
     },
     "execution_count": 78,
     "metadata": {},
     "output_type": "execute_result"
    }
   ],
   "source": [
    "b.readline()"
   ]
  },
  {
   "cell_type": "code",
   "execution_count": 79,
   "metadata": {
    "collapsed": true
   },
   "outputs": [],
   "source": [
    "s.close()"
   ]
  },
  {
   "cell_type": "code",
   "execution_count": 80,
   "metadata": {
    "collapsed": true
   },
   "outputs": [],
   "source": [
    "b.close()"
   ]
  },
  {
   "cell_type": "code",
   "execution_count": 81,
   "metadata": {
    "collapsed": true
   },
   "outputs": [],
   "source": [
    "f.close()"
   ]
  },
  {
   "cell_type": "code",
   "execution_count": 82,
   "metadata": {
    "collapsed": true
   },
   "outputs": [],
   "source": [
    "w.close()"
   ]
  },
  {
   "cell_type": "code",
   "execution_count": 83,
   "metadata": {
    "collapsed": true
   },
   "outputs": [],
   "source": [
    "s.close()"
   ]
  },
  {
   "cell_type": "code",
   "execution_count": 84,
   "metadata": {
    "collapsed": true
   },
   "outputs": [],
   "source": [
    "so.close()"
   ]
  },
  {
   "cell_type": "code",
   "execution_count": 85,
   "metadata": {
    "collapsed": true
   },
   "outputs": [],
   "source": [
    "so = socket.socket()"
   ]
  },
  {
   "cell_type": "code",
   "execution_count": 86,
   "metadata": {},
   "outputs": [
    {
     "data": {
      "text/plain": [
       "('0.0.0.0', 0)"
      ]
     },
     "execution_count": 86,
     "metadata": {},
     "output_type": "execute_result"
    }
   ],
   "source": [
    "so.getsockname()"
   ]
  },
  {
   "cell_type": "code",
   "execution_count": 87,
   "metadata": {
    "collapsed": true
   },
   "outputs": [],
   "source": [
    "so.bind(('127.0.0.1', 10087))"
   ]
  },
  {
   "cell_type": "code",
   "execution_count": 88,
   "metadata": {},
   "outputs": [
    {
     "data": {
      "text/plain": [
       "('127.0.0.1', 10087)"
      ]
     },
     "execution_count": 88,
     "metadata": {},
     "output_type": "execute_result"
    }
   ],
   "source": [
    "so.getsockname()"
   ]
  },
  {
   "cell_type": "code",
   "execution_count": 91,
   "metadata": {},
   "outputs": [
    {
     "ename": "TypeError",
     "evalue": "getsockopt() takes at least 2 arguments (0 given)",
     "output_type": "error",
     "traceback": [
      "\u001b[0;31m-----------------------------------------\u001b[0m",
      "\u001b[0;31mTypeError\u001b[0mTraceback (most recent call last)",
      "\u001b[0;32m<ipython-input-91-0fc4b3c4c2dd>\u001b[0m in \u001b[0;36m<module>\u001b[0;34m()\u001b[0m\n\u001b[0;32m----> 1\u001b[0;31m \u001b[0mso\u001b[0m\u001b[0;34m.\u001b[0m\u001b[0mgetsockopt\u001b[0m\u001b[0;34m(\u001b[0m\u001b[0;34m)\u001b[0m\u001b[0;34m\u001b[0m\u001b[0m\n\u001b[0m",
      "\u001b[0;31mTypeError\u001b[0m: getsockopt() takes at least 2 arguments (0 given)"
     ]
    }
   ],
   "source": [
    "so.getsockopt()"
   ]
  },
  {
   "cell_type": "code",
   "execution_count": 92,
   "metadata": {
    "collapsed": true
   },
   "outputs": [],
   "source": [
    "so.timeout"
   ]
  },
  {
   "cell_type": "code",
   "execution_count": 93,
   "metadata": {},
   "outputs": [
    {
     "ename": "AttributeError",
     "evalue": "'socket' object attribute 'settimeout' is read-only",
     "output_type": "error",
     "traceback": [
      "\u001b[0;31m-----------------------------------------\u001b[0m",
      "\u001b[0;31mAttributeError\u001b[0mTraceback (most recent call last)",
      "\u001b[0;32m<ipython-input-93-d0a39a3afe2e>\u001b[0m in \u001b[0;36m<module>\u001b[0;34m()\u001b[0m\n\u001b[0;32m----> 1\u001b[0;31m \u001b[0mso\u001b[0m\u001b[0;34m.\u001b[0m\u001b[0msettimeout\u001b[0m \u001b[0;34m=\u001b[0m \u001b[0;36m3\u001b[0m\u001b[0;34m\u001b[0m\u001b[0m\n\u001b[0m",
      "\u001b[0;31mAttributeError\u001b[0m: 'socket' object attribute 'settimeout' is read-only"
     ]
    }
   ],
   "source": [
    "so.settimeout = 3"
   ]
  },
  {
   "cell_type": "code",
   "execution_count": 95,
   "metadata": {
    "collapsed": true
   },
   "outputs": [],
   "source": [
    "class ChatServer:\n",
    "    def __init__(self, ip='127.0.0.1', port=1234):\n",
    "        self.addr = (ip, port)\n",
    "        self.sock = socket.socket()\n",
    "        self.event = threading.Event()\n",
    "        self.clients = {}\n",
    "    \n",
    "    def recv(self, so, ip, port):\n",
    "        while not self.event.is_set():\n",
    "            data = so.recv(1024).decode()\n",
    "            if data.strip() == '/quit':\n",
    "                so.close()\n",
    "                self.clients.pop((ip, port))\n",
    "                return\n",
    "            for s in self.clients.values():\n",
    "                s.send('{}:{}\\n{}'.format(ip, port, data).encode())\n",
    "    \n",
    "    def accept(self):\n",
    "        while not self.event.is_set():\n",
    "            so, (ip, port) = self.sock.accept()\n",
    "            self.clients[(ip, port)] = so\n",
    "            threading.Thread(target=self.recv, name='client-{}:{}'.format(ip, port), args=(so, ip, port)).start()\n",
    "    \n",
    "    def start(self):\n",
    "        # TODO 开启服务端\n",
    "        # 是否需要启用多线程呢？\n",
    "        self.sock.bind(self.addr)\n",
    "        self.sock.listen()\n",
    "\n",
    "        t = threading.Thread(target=self.accept, name='listen', daemon=True)\n",
    "        try:\n",
    "            t.start()\n",
    "            t.join()\n",
    "        except KeyboardInterrupt:\n",
    "            self.stop()\n",
    "        \n",
    "    def stop(self):\n",
    "        for so in self.clients.values():\n",
    "            so.close()\n",
    "        self.sock.close()\n",
    "        self.event.set()"
   ]
  },
  {
   "cell_type": "markdown",
   "metadata": {},
   "source": [
    "## UDP Server"
   ]
  },
  {
   "cell_type": "code",
   "execution_count": 107,
   "metadata": {
    "collapsed": true
   },
   "outputs": [],
   "source": [
    "so = socket.socket(type=socket.SOCK_DGRAM)"
   ]
  },
  {
   "cell_type": "code",
   "execution_count": 108,
   "metadata": {
    "collapsed": true
   },
   "outputs": [],
   "source": [
    "so.bind(('127.0.0.1', 1234))"
   ]
  },
  {
   "cell_type": "code",
   "execution_count": 98,
   "metadata": {},
   "outputs": [
    {
     "ename": "OSError",
     "evalue": "[Errno 102] Operation not supported on socket",
     "output_type": "error",
     "traceback": [
      "\u001b[0;31m-----------------------------------------\u001b[0m",
      "\u001b[0;31mOSError\u001b[0m Traceback (most recent call last)",
      "\u001b[0;32m<ipython-input-98-0fdb69aecfbb>\u001b[0m in \u001b[0;36m<module>\u001b[0;34m()\u001b[0m\n\u001b[0;32m----> 1\u001b[0;31m \u001b[0mso\u001b[0m\u001b[0;34m.\u001b[0m\u001b[0maccept\u001b[0m\u001b[0;34m(\u001b[0m\u001b[0;34m)\u001b[0m\u001b[0;34m\u001b[0m\u001b[0m\n\u001b[0m",
      "\u001b[0;32m~/.pyenv/versions/3.6.1/lib/python3.6/socket.py\u001b[0m in \u001b[0;36maccept\u001b[0;34m(self)\u001b[0m\n\u001b[1;32m    203\u001b[0m         \u001b[0mFor\u001b[0m \u001b[0mIP\u001b[0m \u001b[0msockets\u001b[0m\u001b[0;34m,\u001b[0m \u001b[0mthe\u001b[0m \u001b[0maddress\u001b[0m \u001b[0minfo\u001b[0m \u001b[0;32mis\u001b[0m \u001b[0ma\u001b[0m \u001b[0mpair\u001b[0m \u001b[0;34m(\u001b[0m\u001b[0mhostaddr\u001b[0m\u001b[0;34m,\u001b[0m \u001b[0mport\u001b[0m\u001b[0;34m)\u001b[0m\u001b[0;34m.\u001b[0m\u001b[0;34m\u001b[0m\u001b[0m\n\u001b[1;32m    204\u001b[0m         \"\"\"\n\u001b[0;32m--> 205\u001b[0;31m         \u001b[0mfd\u001b[0m\u001b[0;34m,\u001b[0m \u001b[0maddr\u001b[0m \u001b[0;34m=\u001b[0m \u001b[0mself\u001b[0m\u001b[0;34m.\u001b[0m\u001b[0m_accept\u001b[0m\u001b[0;34m(\u001b[0m\u001b[0;34m)\u001b[0m\u001b[0;34m\u001b[0m\u001b[0m\n\u001b[0m\u001b[1;32m    206\u001b[0m         \u001b[0;31m# If our type has the SOCK_NONBLOCK flag, we shouldn't pass it onto the\u001b[0m\u001b[0;34m\u001b[0m\u001b[0;34m\u001b[0m\u001b[0m\n\u001b[1;32m    207\u001b[0m         \u001b[0;31m# new socket. We do not currently allow passing SOCK_NONBLOCK to\u001b[0m\u001b[0;34m\u001b[0m\u001b[0;34m\u001b[0m\u001b[0m\n",
      "\u001b[0;31mOSError\u001b[0m: [Errno 102] Operation not supported on socket"
     ]
    }
   ],
   "source": [
    "so.accept()"
   ]
  },
  {
   "cell_type": "code",
   "execution_count": 99,
   "metadata": {},
   "outputs": [
    {
     "ename": "OSError",
     "evalue": "[Errno 102] Operation not supported on socket",
     "output_type": "error",
     "traceback": [
      "\u001b[0;31m-----------------------------------------\u001b[0m",
      "\u001b[0;31mOSError\u001b[0m Traceback (most recent call last)",
      "\u001b[0;32m<ipython-input-99-3b299bad308d>\u001b[0m in \u001b[0;36m<module>\u001b[0;34m()\u001b[0m\n\u001b[0;32m----> 1\u001b[0;31m \u001b[0mso\u001b[0m\u001b[0;34m.\u001b[0m\u001b[0mlisten\u001b[0m\u001b[0;34m(\u001b[0m\u001b[0;34m)\u001b[0m\u001b[0;34m\u001b[0m\u001b[0m\n\u001b[0m",
      "\u001b[0;31mOSError\u001b[0m: [Errno 102] Operation not supported on socket"
     ]
    }
   ],
   "source": [
    "so.listen()"
   ]
  },
  {
   "cell_type": "code",
   "execution_count": 100,
   "metadata": {},
   "outputs": [
    {
     "data": {
      "text/plain": [
       "b'hello\\n'"
      ]
     },
     "execution_count": 100,
     "metadata": {},
     "output_type": "execute_result"
    }
   ],
   "source": [
    "so.recv(1024)"
   ]
  },
  {
   "cell_type": "markdown",
   "metadata": {},
   "source": [
    "- 初始化 socket 实例，注意type 类型（socket.SOCK_DGRAM）\n",
    "- bind"
   ]
  },
  {
   "cell_type": "code",
   "execution_count": 101,
   "metadata": {},
   "outputs": [
    {
     "data": {
      "text/plain": [
       "b'hello\\n'"
      ]
     },
     "execution_count": 101,
     "metadata": {},
     "output_type": "execute_result"
    }
   ],
   "source": [
    "so.recv(1024)"
   ]
  },
  {
   "cell_type": "code",
   "execution_count": 102,
   "metadata": {},
   "outputs": [
    {
     "data": {
      "text/plain": [
       "b'hello\\n'"
      ]
     },
     "execution_count": 102,
     "metadata": {},
     "output_type": "execute_result"
    }
   ],
   "source": [
    "so.recv(1024)"
   ]
  },
  {
   "cell_type": "code",
   "execution_count": 104,
   "metadata": {},
   "outputs": [
    {
     "ename": "OSError",
     "evalue": "[Errno 39] Destination address required",
     "output_type": "error",
     "traceback": [
      "\u001b[0;31m-----------------------------------------\u001b[0m",
      "\u001b[0;31mOSError\u001b[0m Traceback (most recent call last)",
      "\u001b[0;32m<ipython-input-104-c714013fd180>\u001b[0m in \u001b[0;36m<module>\u001b[0;34m()\u001b[0m\n\u001b[0;32m----> 1\u001b[0;31m \u001b[0mso\u001b[0m\u001b[0;34m.\u001b[0m\u001b[0msend\u001b[0m\u001b[0;34m(\u001b[0m\u001b[0;34mb'sdfsfd'\u001b[0m\u001b[0;34m)\u001b[0m\u001b[0;34m\u001b[0m\u001b[0m\n\u001b[0m",
      "\u001b[0;31mOSError\u001b[0m: [Errno 39] Destination address required"
     ]
    }
   ],
   "source": [
    "so.send(b'sdfsfd')"
   ]
  },
  {
   "cell_type": "markdown",
   "metadata": {},
   "source": [
    "- 如何知道对端地址\n",
    "- 如何发送数据回去"
   ]
  },
  {
   "cell_type": "code",
   "execution_count": 109,
   "metadata": {},
   "outputs": [
    {
     "data": {
      "text/plain": [
       "8"
      ]
     },
     "execution_count": 109,
     "metadata": {},
     "output_type": "execute_result"
    }
   ],
   "source": [
    "so.sendto(b'miracle\\n', ('127.0.0.1', 65432))"
   ]
  },
  {
   "cell_type": "code",
   "execution_count": 110,
   "metadata": {},
   "outputs": [
    {
     "name": "stdout",
     "output_type": "stream",
     "text": [
      "Help on built-in function recvfrom:\n",
      "\n",
      "recvfrom(...) method of socket.socket instance\n",
      "    recvfrom(buffersize[, flags]) -> (data, address info)\n",
      "    \n",
      "    Like recv(buffersize, flags) but also return the sender's address info.\n",
      "\n"
     ]
    }
   ],
   "source": [
    "help(so.recvfrom)"
   ]
  },
  {
   "cell_type": "code",
   "execution_count": 111,
   "metadata": {},
   "outputs": [
    {
     "data": {
      "text/plain": [
       "(b'hello\\n', ('127.0.0.1', 51290))"
      ]
     },
     "execution_count": 111,
     "metadata": {},
     "output_type": "execute_result"
    }
   ],
   "source": [
    "so.recvfrom(1024)"
   ]
  },
  {
   "cell_type": "code",
   "execution_count": 114,
   "metadata": {
    "collapsed": true
   },
   "outputs": [],
   "source": [
    "class ChatServer:\n",
    "    def __init__(self, ip='127.0.0.1', port=1234):\n",
    "        self.addr = (ip, port)\n",
    "        self.sock = socket.socket(type=socket.SOCK_DGRAM)\n",
    "        self.event = threading.Event()\n",
    "        self.clients = {}\n",
    "    \n",
    "    def recv(self):\n",
    "        while not self.event.is_set():\n",
    "            data, peer = self.sock.recvfrom(1024)\n",
    "            data = data.decode().strip()\n",
    "            self.clients[peer] = True\n",
    "\n",
    "            for addr in self.clients.keys():\n",
    "                self.sock.sendto('{}:{}\\n{}'.format(peer[0], peer[1], data).encode(), addr)\n",
    "\n",
    "    def start(self):\n",
    "        # TODO 开启服务端\n",
    "        # 是否需要启用多线程呢？\n",
    "        self.sock.bind(self.addr)\n",
    "        self.recv()\n",
    "        \n",
    "    def stop(self):\n",
    "#         for so in self.clients.values():\n",
    "#             so.close()\n",
    "        self.sock.close()\n",
    "        self.event.set()"
   ]
  },
  {
   "cell_type": "code",
   "execution_count": 115,
   "metadata": {},
   "outputs": [],
   "source": [
    "chat_server = ChatServer()"
   ]
  },
  {
   "cell_type": "code",
   "execution_count": 116,
   "metadata": {},
   "outputs": [
    {
     "ename": "OSError",
     "evalue": "[Errno 48] Address already in use",
     "output_type": "error",
     "traceback": [
      "\u001b[0;31m-----------------------------------------\u001b[0m",
      "\u001b[0;31mOSError\u001b[0m Traceback (most recent call last)",
      "\u001b[0;32m<ipython-input-116-3c63f7bf91f7>\u001b[0m in \u001b[0;36m<module>\u001b[0;34m()\u001b[0m\n\u001b[0;32m----> 1\u001b[0;31m \u001b[0mchat_server\u001b[0m\u001b[0;34m.\u001b[0m\u001b[0mstart\u001b[0m\u001b[0;34m(\u001b[0m\u001b[0;34m)\u001b[0m\u001b[0;34m\u001b[0m\u001b[0m\n\u001b[0m",
      "\u001b[0;32m<ipython-input-114-111dead0c24d>\u001b[0m in \u001b[0;36mstart\u001b[0;34m(self)\u001b[0m\n\u001b[1;32m     24\u001b[0m         \u001b[0;31m# TODO 开启服务端\u001b[0m\u001b[0;34m\u001b[0m\u001b[0;34m\u001b[0m\u001b[0m\n\u001b[1;32m     25\u001b[0m         \u001b[0;31m# 是否需要启用多线程呢？\u001b[0m\u001b[0;34m\u001b[0m\u001b[0;34m\u001b[0m\u001b[0m\n\u001b[0;32m---> 26\u001b[0;31m         \u001b[0mself\u001b[0m\u001b[0;34m.\u001b[0m\u001b[0msock\u001b[0m\u001b[0;34m.\u001b[0m\u001b[0mbind\u001b[0m\u001b[0;34m(\u001b[0m\u001b[0mself\u001b[0m\u001b[0;34m.\u001b[0m\u001b[0maddr\u001b[0m\u001b[0;34m)\u001b[0m\u001b[0;34m\u001b[0m\u001b[0m\n\u001b[0m\u001b[1;32m     27\u001b[0m         \u001b[0mself\u001b[0m\u001b[0;34m.\u001b[0m\u001b[0mrecv\u001b[0m\u001b[0;34m(\u001b[0m\u001b[0;34m)\u001b[0m\u001b[0;34m\u001b[0m\u001b[0m\n\u001b[1;32m     28\u001b[0m \u001b[0;34m\u001b[0m\u001b[0m\n",
      "\u001b[0;31mOSError\u001b[0m: [Errno 48] Address already in use"
     ]
    }
   ],
   "source": [
    "chat_server.start()"
   ]
  },
  {
   "cell_type": "code",
   "execution_count": 117,
   "metadata": {
    "collapsed": true
   },
   "outputs": [],
   "source": [
    "so.close()"
   ]
  },
  {
   "cell_type": "code",
   "execution_count": 118,
   "metadata": {},
   "outputs": [
    {
     "ename": "KeyboardInterrupt",
     "evalue": "",
     "output_type": "error",
     "traceback": [
      "\u001b[0;31m-----------------------------------------\u001b[0m",
      "\u001b[0;31mKeyboardInterrupt\u001b[0mTraceback (most recent call last)",
      "\u001b[0;32m<ipython-input-118-3c63f7bf91f7>\u001b[0m in \u001b[0;36m<module>\u001b[0;34m()\u001b[0m\n\u001b[0;32m----> 1\u001b[0;31m \u001b[0mchat_server\u001b[0m\u001b[0;34m.\u001b[0m\u001b[0mstart\u001b[0m\u001b[0;34m(\u001b[0m\u001b[0;34m)\u001b[0m\u001b[0;34m\u001b[0m\u001b[0m\n\u001b[0m",
      "\u001b[0;32m<ipython-input-114-111dead0c24d>\u001b[0m in \u001b[0;36mstart\u001b[0;34m(self)\u001b[0m\n\u001b[1;32m     25\u001b[0m         \u001b[0;31m# 是否需要启用多线程呢？\u001b[0m\u001b[0;34m\u001b[0m\u001b[0;34m\u001b[0m\u001b[0m\n\u001b[1;32m     26\u001b[0m         \u001b[0mself\u001b[0m\u001b[0;34m.\u001b[0m\u001b[0msock\u001b[0m\u001b[0;34m.\u001b[0m\u001b[0mbind\u001b[0m\u001b[0;34m(\u001b[0m\u001b[0mself\u001b[0m\u001b[0;34m.\u001b[0m\u001b[0maddr\u001b[0m\u001b[0;34m)\u001b[0m\u001b[0;34m\u001b[0m\u001b[0m\n\u001b[0;32m---> 27\u001b[0;31m         \u001b[0mself\u001b[0m\u001b[0;34m.\u001b[0m\u001b[0mrecv\u001b[0m\u001b[0;34m(\u001b[0m\u001b[0;34m)\u001b[0m\u001b[0;34m\u001b[0m\u001b[0m\n\u001b[0m\u001b[1;32m     28\u001b[0m \u001b[0;34m\u001b[0m\u001b[0m\n\u001b[1;32m     29\u001b[0m     \u001b[0;32mdef\u001b[0m \u001b[0mstop\u001b[0m\u001b[0;34m(\u001b[0m\u001b[0mself\u001b[0m\u001b[0;34m)\u001b[0m\u001b[0;34m:\u001b[0m\u001b[0;34m\u001b[0m\u001b[0m\n",
      "\u001b[0;32m<ipython-input-114-111dead0c24d>\u001b[0m in \u001b[0;36mrecv\u001b[0;34m(self)\u001b[0m\n\u001b[1;32m      8\u001b[0m     \u001b[0;32mdef\u001b[0m \u001b[0mrecv\u001b[0m\u001b[0;34m(\u001b[0m\u001b[0mself\u001b[0m\u001b[0;34m)\u001b[0m\u001b[0;34m:\u001b[0m\u001b[0;34m\u001b[0m\u001b[0m\n\u001b[1;32m      9\u001b[0m         \u001b[0;32mwhile\u001b[0m \u001b[0;32mnot\u001b[0m \u001b[0mself\u001b[0m\u001b[0;34m.\u001b[0m\u001b[0mevent\u001b[0m\u001b[0;34m.\u001b[0m\u001b[0mis_set\u001b[0m\u001b[0;34m(\u001b[0m\u001b[0;34m)\u001b[0m\u001b[0;34m:\u001b[0m\u001b[0;34m\u001b[0m\u001b[0m\n\u001b[0;32m---> 10\u001b[0;31m             \u001b[0mdata\u001b[0m\u001b[0;34m,\u001b[0m \u001b[0mpeer\u001b[0m \u001b[0;34m=\u001b[0m \u001b[0mself\u001b[0m\u001b[0;34m.\u001b[0m\u001b[0msock\u001b[0m\u001b[0;34m.\u001b[0m\u001b[0mrecvfrom\u001b[0m\u001b[0;34m(\u001b[0m\u001b[0;36m1024\u001b[0m\u001b[0;34m)\u001b[0m\u001b[0;34m\u001b[0m\u001b[0m\n\u001b[0m\u001b[1;32m     11\u001b[0m             \u001b[0mdata\u001b[0m \u001b[0;34m=\u001b[0m \u001b[0mdata\u001b[0m\u001b[0;34m.\u001b[0m\u001b[0mdecode\u001b[0m\u001b[0;34m(\u001b[0m\u001b[0;34m)\u001b[0m\u001b[0;34m.\u001b[0m\u001b[0mstrip\u001b[0m\u001b[0;34m(\u001b[0m\u001b[0;34m)\u001b[0m\u001b[0;34m\u001b[0m\u001b[0m\n\u001b[1;32m     12\u001b[0m             \u001b[0mself\u001b[0m\u001b[0;34m.\u001b[0m\u001b[0mclients\u001b[0m\u001b[0;34m[\u001b[0m\u001b[0mpeer\u001b[0m\u001b[0;34m]\u001b[0m \u001b[0;34m=\u001b[0m \u001b[0;32mTrue\u001b[0m\u001b[0;34m\u001b[0m\u001b[0m\n",
      "\u001b[0;31mKeyboardInterrupt\u001b[0m: "
     ]
    }
   ],
   "source": [
    "chat_server.start()"
   ]
  },
  {
   "cell_type": "code",
   "execution_count": 119,
   "metadata": {
    "collapsed": true
   },
   "outputs": [],
   "source": [
    "chat_server.stop()"
   ]
  },
  {
   "cell_type": "code",
   "execution_count": 120,
   "metadata": {
    "collapsed": true
   },
   "outputs": [],
   "source": [
    "import datetime\n",
    "\n",
    "class ChatServer:\n",
    "    def __init__(self, ip='127.0.0.1', port=1234):\n",
    "        self.addr = (ip, port)\n",
    "        self.sock = socket.socket(type=socket.SOCK_DGRAM)\n",
    "        self.event = threading.Event()\n",
    "        self.clients = {}\n",
    "    \n",
    "    def recv(self):\n",
    "        while not self.event.is_set():\n",
    "            now = datetime.datetime.now()\n",
    "            data, peer = self.sock.recvfrom(1024)\n",
    "            data = data.decode().strip()\n",
    "            \n",
    "            if data == '#ping#':\n",
    "                self.clients[peer] = now\n",
    "                continue\n",
    "                \n",
    "            disconnected = set()\n",
    "\n",
    "            for addr, timestamp in self.clients.items():\n",
    "                if (now - timestamp).total_seconds() > 10:\n",
    "                    disconnected.add(addr)\n",
    "                else:\n",
    "                    self.sock.sendto('{}:{}\\n{}'.format(peer[0], peer[1], data).encode(), addr)\n",
    "                    \n",
    "            for addr in disconnected:\n",
    "                self.clients.pop(addr)\n",
    "\n",
    "    def start(self):\n",
    "        # TODO 开启服务端\n",
    "        # 是否需要启用多线程呢？\n",
    "        self.sock.bind(self.addr)\n",
    "        self.recv()\n",
    "        \n",
    "    def stop(self):\n",
    "#         for so in self.clients.values():\n",
    "#             so.close()\n",
    "        self.sock.close()\n",
    "        self.event.set()"
   ]
  },
  {
   "cell_type": "code",
   "execution_count": 121,
   "metadata": {
    "collapsed": true
   },
   "outputs": [],
   "source": [
    "chat_server = ChatServer()"
   ]
  },
  {
   "cell_type": "code",
   "execution_count": 122,
   "metadata": {},
   "outputs": [
    {
     "ename": "KeyboardInterrupt",
     "evalue": "",
     "output_type": "error",
     "traceback": [
      "\u001b[0;31m-----------------------------------------\u001b[0m",
      "\u001b[0;31mKeyboardInterrupt\u001b[0mTraceback (most recent call last)",
      "\u001b[0;32m<ipython-input-122-3c63f7bf91f7>\u001b[0m in \u001b[0;36m<module>\u001b[0;34m()\u001b[0m\n\u001b[0;32m----> 1\u001b[0;31m \u001b[0mchat_server\u001b[0m\u001b[0;34m.\u001b[0m\u001b[0mstart\u001b[0m\u001b[0;34m(\u001b[0m\u001b[0;34m)\u001b[0m\u001b[0;34m\u001b[0m\u001b[0m\n\u001b[0m",
      "\u001b[0;32m<ipython-input-120-4cbfb7816c10>\u001b[0m in \u001b[0;36mstart\u001b[0;34m(self)\u001b[0m\n\u001b[1;32m     33\u001b[0m         \u001b[0;31m# 是否需要启用多线程呢？\u001b[0m\u001b[0;34m\u001b[0m\u001b[0;34m\u001b[0m\u001b[0m\n\u001b[1;32m     34\u001b[0m         \u001b[0mself\u001b[0m\u001b[0;34m.\u001b[0m\u001b[0msock\u001b[0m\u001b[0;34m.\u001b[0m\u001b[0mbind\u001b[0m\u001b[0;34m(\u001b[0m\u001b[0mself\u001b[0m\u001b[0;34m.\u001b[0m\u001b[0maddr\u001b[0m\u001b[0;34m)\u001b[0m\u001b[0;34m\u001b[0m\u001b[0m\n\u001b[0;32m---> 35\u001b[0;31m         \u001b[0mself\u001b[0m\u001b[0;34m.\u001b[0m\u001b[0mrecv\u001b[0m\u001b[0;34m(\u001b[0m\u001b[0;34m)\u001b[0m\u001b[0;34m\u001b[0m\u001b[0m\n\u001b[0m\u001b[1;32m     36\u001b[0m \u001b[0;34m\u001b[0m\u001b[0m\n\u001b[1;32m     37\u001b[0m     \u001b[0;32mdef\u001b[0m \u001b[0mstop\u001b[0m\u001b[0;34m(\u001b[0m\u001b[0mself\u001b[0m\u001b[0;34m)\u001b[0m\u001b[0;34m:\u001b[0m\u001b[0;34m\u001b[0m\u001b[0m\n",
      "\u001b[0;32m<ipython-input-120-4cbfb7816c10>\u001b[0m in \u001b[0;36mrecv\u001b[0;34m(self)\u001b[0m\n\u001b[1;32m     11\u001b[0m         \u001b[0;32mwhile\u001b[0m \u001b[0;32mnot\u001b[0m \u001b[0mself\u001b[0m\u001b[0;34m.\u001b[0m\u001b[0mevent\u001b[0m\u001b[0;34m.\u001b[0m\u001b[0mis_set\u001b[0m\u001b[0;34m(\u001b[0m\u001b[0;34m)\u001b[0m\u001b[0;34m:\u001b[0m\u001b[0;34m\u001b[0m\u001b[0m\n\u001b[1;32m     12\u001b[0m             \u001b[0mnow\u001b[0m \u001b[0;34m=\u001b[0m \u001b[0mdatetime\u001b[0m\u001b[0;34m.\u001b[0m\u001b[0mdatetime\u001b[0m\u001b[0;34m.\u001b[0m\u001b[0mnow\u001b[0m\u001b[0;34m(\u001b[0m\u001b[0;34m)\u001b[0m\u001b[0;34m\u001b[0m\u001b[0m\n\u001b[0;32m---> 13\u001b[0;31m             \u001b[0mdata\u001b[0m\u001b[0;34m,\u001b[0m \u001b[0mpeer\u001b[0m \u001b[0;34m=\u001b[0m \u001b[0mself\u001b[0m\u001b[0;34m.\u001b[0m\u001b[0msock\u001b[0m\u001b[0;34m.\u001b[0m\u001b[0mrecvfrom\u001b[0m\u001b[0;34m(\u001b[0m\u001b[0;36m1024\u001b[0m\u001b[0;34m)\u001b[0m\u001b[0;34m\u001b[0m\u001b[0m\n\u001b[0m\u001b[1;32m     14\u001b[0m             \u001b[0mdata\u001b[0m \u001b[0;34m=\u001b[0m \u001b[0mdata\u001b[0m\u001b[0;34m.\u001b[0m\u001b[0mdecode\u001b[0m\u001b[0;34m(\u001b[0m\u001b[0;34m)\u001b[0m\u001b[0;34m.\u001b[0m\u001b[0mstrip\u001b[0m\u001b[0;34m(\u001b[0m\u001b[0;34m)\u001b[0m\u001b[0;34m\u001b[0m\u001b[0m\n\u001b[1;32m     15\u001b[0m \u001b[0;34m\u001b[0m\u001b[0m\n",
      "\u001b[0;31mKeyboardInterrupt\u001b[0m: "
     ]
    }
   ],
   "source": [
    "chat_server.start()"
   ]
  },
  {
   "cell_type": "markdown",
   "metadata": {},
   "source": [
    "## socketserver"
   ]
  },
  {
   "cell_type": "code",
   "execution_count": 123,
   "metadata": {
    "collapsed": true
   },
   "outputs": [],
   "source": [
    "import socketserver"
   ]
  },
  {
   "cell_type": "code",
   "execution_count": 124,
   "metadata": {
    "collapsed": true
   },
   "outputs": [],
   "source": [
    "class EchoHandler(socketserver.BaseRequestHandler):\n",
    "    pass"
   ]
  },
  {
   "cell_type": "code",
   "execution_count": 128,
   "metadata": {},
   "outputs": [],
   "source": [
    "class EchoHandler(socketserver.BaseRequestHandler):\n",
    "    # 初始化工作\n",
    "    def setup(self):\n",
    "        super().setup()\n",
    "    \n",
    "    # 清理工作，通常情况下，不用重写\n",
    "    def finish(self):\n",
    "        super().finish()\n",
    "    \n",
    "    \n",
    "    def handle(self):\n",
    "        message = self.request.recv(1024).strip()\n",
    "        # self.request == socket.socket().connect()\n",
    "        self.request.send(message)"
   ]
  },
  {
   "cell_type": "code",
   "execution_count": 129,
   "metadata": {
    "collapsed": true
   },
   "outputs": [],
   "source": [
    "server = socketserver.ThreadingTCPServer(('127.0.0.1', 1234), EchoHandler)\n",
    "\n",
    "try:\n",
    "    server.serve_forever()\n",
    "except KeyboardInterrupt:\n",
    "    server.shutdown()"
   ]
  },
  {
   "cell_type": "code",
   "execution_count": 130,
   "metadata": {
    "collapsed": true
   },
   "outputs": [],
   "source": [
    "server.server_close()"
   ]
  },
  {
   "cell_type": "code",
   "execution_count": 131,
   "metadata": {
    "collapsed": true
   },
   "outputs": [],
   "source": [
    "class EchoHandler(socketserver.BaseRequestHandler):\n",
    "    # 初始化工作\n",
    "    def setup(self):\n",
    "        print('setup {}:{}'.format(*self.request.getpeername()))\n",
    "        super().setup()\n",
    "    \n",
    "    # 清理工作，通常情况下，不用重写\n",
    "    def finish(self):\n",
    "        print('finish {}:{}'.format(*self.request.getpeername()))\n",
    "        super().finish()\n",
    "    \n",
    "    \n",
    "    def handle(self):\n",
    "        message = self.request.recv(1024).strip()\n",
    "        # self.request == so, _ = socket.accept()\n",
    "        self.request.send(message)"
   ]
  },
  {
   "cell_type": "code",
   "execution_count": 132,
   "metadata": {},
   "outputs": [
    {
     "name": "stdout",
     "output_type": "stream",
     "text": [
      "setup 127.0.0.1:57237\n",
      "finish 127.0.0.1:57237\n"
     ]
    }
   ],
   "source": [
    "server = socketserver.ThreadingTCPServer(('127.0.0.1', 1234), EchoHandler)\n",
    "\n",
    "try:\n",
    "    server.serve_forever()\n",
    "except KeyboardInterrupt:\n",
    "    server.shutdown()\n",
    "    server.server_close()"
   ]
  },
  {
   "cell_type": "code",
   "execution_count": 145,
   "metadata": {
    "collapsed": true
   },
   "outputs": [],
   "source": [
    "import datetime\n",
    "\n",
    "class ChatHandler(socketserver.BaseRequestHandler):\n",
    "    clients = {}\n",
    "    \n",
    "    def setup(self):\n",
    "        self.event = threading.Event()\n",
    "        self.clients[self.request.getpeername()] = self.request\n",
    "        super().setup()\n",
    "        \n",
    "    def finish(self):\n",
    "        del self.clients[self.request.getpeername()]\n",
    "        self.event.set()\n",
    "        super().finish()\n",
    "        \n",
    "    def handle(self):\n",
    "        while not self.event.is_set():\n",
    "            message = self.request.recv(1024).strip().decode()\n",
    "            for so in self.clients.values():\n",
    "                try:\n",
    "                    so.send('{1}:{2}\\n{0}'.format(message, *self.request.getpeername()).encode())\n",
    "                except:\n",
    "                    pass"
   ]
  },
  {
   "cell_type": "code",
   "execution_count": 147,
   "metadata": {},
   "outputs": [],
   "source": [
    "server = socketserver.ThreadingTCPServer(('127.0.0.1', 5002), ChatHandler)"
   ]
  },
  {
   "cell_type": "code",
   "execution_count": 148,
   "metadata": {},
   "outputs": [
    {
     "name": "stderr",
     "output_type": "stream",
     "text": [
      "----------------------------------------\n",
      "Exception happened during processing of request from ('127.0.0.1', 57321)\n",
      "Traceback (most recent call last):\n",
      "  File \"/Users/miracleYoung/.pyenv/versions/3.6.1/lib/python3.6/socketserver.py\", line 639, in process_request_thread\n",
      "    self.finish_request(request, client_address)\n",
      "  File \"/Users/miracleYoung/.pyenv/versions/3.6.1/lib/python3.6/socketserver.py\", line 361, in finish_request\n",
      "    self.RequestHandlerClass(request, client_address, self)\n",
      "  File \"/Users/miracleYoung/.pyenv/versions/3.6.1/lib/python3.6/socketserver.py\", line 696, in __init__\n",
      "    self.handle()\n",
      "  File \"<ipython-input-138-cd0fc36b21f4>\", line 18, in handle\n",
      "    message = self.request.recv(1024).strip().decode()\n",
      "UnicodeDecodeError: 'utf-8' codec can't decode byte 0xff in position 0: invalid start byte\n",
      "----------------------------------------\n"
     ]
    }
   ],
   "source": [
    "try:\n",
    "    server.serve_forever()\n",
    "except KeyboardInterrupt:\n",
    "    server.server_close()\n",
    "    server.shutdown()"
   ]
  },
  {
   "cell_type": "code",
   "execution_count": 142,
   "metadata": {
    "collapsed": true
   },
   "outputs": [],
   "source": [
    "server.server_close()"
   ]
  },
  {
   "cell_type": "code",
   "execution_count": 149,
   "metadata": {},
   "outputs": [
    {
     "name": "stdout",
     "output_type": "stream",
     "text": [
      "Help on class BaseServer in module socketserver:\n",
      "\n",
      "class BaseServer(builtins.object)\n",
      " |  Base class for server classes.\n",
      " |  \n",
      " |  Methods for the caller:\n",
      " |  \n",
      " |  - __init__(server_address, RequestHandlerClass)\n",
      " |  - serve_forever(poll_interval=0.5)\n",
      " |  - shutdown()\n",
      " |  - handle_request()  # if you do not use serve_forever()\n",
      " |  - fileno() -> int   # for selector\n",
      " |  \n",
      " |  Methods that may be overridden:\n",
      " |  \n",
      " |  - server_bind()\n",
      " |  - server_activate()\n",
      " |  - get_request() -> request, client_address\n",
      " |  - handle_timeout()\n",
      " |  - verify_request(request, client_address)\n",
      " |  - server_close()\n",
      " |  - process_request(request, client_address)\n",
      " |  - shutdown_request(request)\n",
      " |  - close_request(request)\n",
      " |  - service_actions()\n",
      " |  - handle_error()\n",
      " |  \n",
      " |  Methods for derived classes:\n",
      " |  \n",
      " |  - finish_request(request, client_address)\n",
      " |  \n",
      " |  Class variables that may be overridden by derived classes or\n",
      " |  instances:\n",
      " |  \n",
      " |  - timeout\n",
      " |  - address_family\n",
      " |  - socket_type\n",
      " |  - allow_reuse_address\n",
      " |  \n",
      " |  Instance variables:\n",
      " |  \n",
      " |  - RequestHandlerClass\n",
      " |  - socket\n",
      " |  \n",
      " |  Methods defined here:\n",
      " |  \n",
      " |  __enter__(self)\n",
      " |  \n",
      " |  __exit__(self, *args)\n",
      " |  \n",
      " |  __init__(self, server_address, RequestHandlerClass)\n",
      " |      Constructor.  May be extended, do not override.\n",
      " |  \n",
      " |  close_request(self, request)\n",
      " |      Called to clean up an individual request.\n",
      " |  \n",
      " |  finish_request(self, request, client_address)\n",
      " |      Finish one request by instantiating RequestHandlerClass.\n",
      " |  \n",
      " |  handle_error(self, request, client_address)\n",
      " |      Handle an error gracefully.  May be overridden.\n",
      " |      \n",
      " |      The default is to print a traceback and continue.\n",
      " |  \n",
      " |  handle_request(self)\n",
      " |      Handle one request, possibly blocking.\n",
      " |      \n",
      " |      Respects self.timeout.\n",
      " |  \n",
      " |  handle_timeout(self)\n",
      " |      Called if no new request arrives within self.timeout.\n",
      " |      \n",
      " |      Overridden by ForkingMixIn.\n",
      " |  \n",
      " |  process_request(self, request, client_address)\n",
      " |      Call finish_request.\n",
      " |      \n",
      " |      Overridden by ForkingMixIn and ThreadingMixIn.\n",
      " |  \n",
      " |  serve_forever(self, poll_interval=0.5)\n",
      " |      Handle one request at a time until shutdown.\n",
      " |      \n",
      " |      Polls for shutdown every poll_interval seconds. Ignores\n",
      " |      self.timeout. If you need to do periodic tasks, do them in\n",
      " |      another thread.\n",
      " |  \n",
      " |  server_activate(self)\n",
      " |      Called by constructor to activate the server.\n",
      " |      \n",
      " |      May be overridden.\n",
      " |  \n",
      " |  server_close(self)\n",
      " |      Called to clean-up the server.\n",
      " |      \n",
      " |      May be overridden.\n",
      " |  \n",
      " |  service_actions(self)\n",
      " |      Called by the serve_forever() loop.\n",
      " |      \n",
      " |      May be overridden by a subclass / Mixin to implement any code that\n",
      " |      needs to be run during the loop.\n",
      " |  \n",
      " |  shutdown(self)\n",
      " |      Stops the serve_forever loop.\n",
      " |      \n",
      " |      Blocks until the loop has finished. This must be called while\n",
      " |      serve_forever() is running in another thread, or it will\n",
      " |      deadlock.\n",
      " |  \n",
      " |  shutdown_request(self, request)\n",
      " |      Called to shutdown and close an individual request.\n",
      " |  \n",
      " |  verify_request(self, request, client_address)\n",
      " |      Verify the request.  May be overridden.\n",
      " |      \n",
      " |      Return True if we should proceed with this request.\n",
      " |  \n",
      " |  ----------------------------------------------------------------------\n",
      " |  Data descriptors defined here:\n",
      " |  \n",
      " |  __dict__\n",
      " |      dictionary for instance variables (if defined)\n",
      " |  \n",
      " |  __weakref__\n",
      " |      list of weak references to the object (if defined)\n",
      " |  \n",
      " |  ----------------------------------------------------------------------\n",
      " |  Data and other attributes defined here:\n",
      " |  \n",
      " |  timeout = None\n",
      "\n"
     ]
    }
   ],
   "source": [
    "help(socketserver.BaseServer)"
   ]
  },
  {
   "cell_type": "code",
   "execution_count": null,
   "metadata": {
    "collapsed": true
   },
   "outputs": [],
   "source": []
  },
  {
   "cell_type": "code",
   "execution_count": null,
   "metadata": {
    "collapsed": true
   },
   "outputs": [],
   "source": []
  },
  {
   "cell_type": "code",
   "execution_count": null,
   "metadata": {
    "collapsed": true
   },
   "outputs": [],
   "source": []
  }
 ],
 "metadata": {
  "kernelspec": {
   "display_name": "Python 3",
   "language": "python",
   "name": "python3"
  },
  "language_info": {
   "codemirror_mode": {
    "name": "ipython",
    "version": 3
   },
   "file_extension": ".py",
   "mimetype": "text/x-python",
   "name": "python",
   "nbconvert_exporter": "python",
   "pygments_lexer": "ipython3",
   "version": "3.6.1"
  }
 },
 "nbformat": 4,
 "nbformat_minor": 2
}
