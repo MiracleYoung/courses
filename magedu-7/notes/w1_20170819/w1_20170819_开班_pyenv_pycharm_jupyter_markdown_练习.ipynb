{
 "cells": [
  {
   "cell_type": "markdown",
   "metadata": {},
   "source": [
    "- 对于开发工具的使用不是很清楚\n",
    "- 程序结构（if、for、while），没有学扎实\n",
    "- 部分同学对于linux 系统不是很熟悉"
   ]
  },
  {
   "cell_type": "markdown",
   "metadata": {},
   "source": [
    "**课程大纲**\n",
    "\n",
    "- python 基础\n",
    "- python 高级用法\n",
    "- python web 开发\n",
    "- python 案例应用和进阶"
   ]
  },
  {
   "cell_type": "markdown",
   "metadata": {},
   "source": [
    "**python 基础**\n",
    "\n",
    "- 基本语法\n",
    "- 内置数据结构\n",
    "- 函数\n",
    "- IO与文件操作\n",
    "- 面向对象\n",
    "- 异常处理\n",
    "- 模块化"
   ]
  },
  {
   "cell_type": "markdown",
   "metadata": {},
   "source": [
    "**python 高级用法**\n",
    "\n",
    "- D1:\n",
    "    - 基于文件存储实现一个留言板\n",
    "    - settings的配置\n",
    "    - url 配置\n",
    "    - view 逻辑\n",
    "    - template 显示\n",
    "\n",
    "- D2:\n",
    "    - 数据库概述\n",
    "    - SQL 语句学习\n",
    "    - Python 连机mysql\n",
    "    - 实现留言板的增删改差\n",
    "    \n",
    "- D3：\n",
    "    - form 验证\n",
    "    - session + cookie 登录验证\n",
    "    - admin\n",
    "    - 使用ORM"
   ]
  },
  {
   "cell_type": "markdown",
   "metadata": {},
   "source": [
    "**python web 开发：**\n",
    "\n",
    "- C1：\n",
    "    - html\n",
    "    - css\n",
    "    - bootstrap\n",
    "    \n",
    "- C2：\n",
    "    - js\n",
    "    - jquery\n",
    "    - jquery 选择器\n",
    "    - jquery 操作函数\n",
    "    - jquery 动画\n",
    "    \n",
    "- C3：\n",
    "    - jquery 插件\n",
    "    - bootstrap 的 js 插件使用\n",
    "    - sweetalert \n",
    "    - 表单验证\n"
   ]
  },
  {
   "cell_type": "markdown",
   "metadata": {},
   "source": [
    "**python 案例应用和进阶**\n",
    "\n",
    "- 电商\n",
    "- 实现用户管理\n",
    "- 商户端\n",
    "- 实现商品列表\n",
    "- 爬虫项目实战\n",
    "- 可视化\n",
    "- 商户图表统计\n",
    "- 代码优化\n",
    "- Redis\n",
    "- 消息队列与Celery\n",
    "- Mysql 进阶\n",
    "- vuejs"
   ]
  },
  {
   "cell_type": "markdown",
   "metadata": {},
   "source": [
    "## pyenv"
   ]
  },
  {
   "cell_type": "markdown",
   "metadata": {},
   "source": [
    "python virtual environment"
   ]
  },
  {
   "cell_type": "markdown",
   "metadata": {},
   "source": [
    "**pyenv 安装步骤**\n",
    "\n",
    "- `yum install -y git`\n",
    "- `curl -L https://raw.githubusercontent.com/pyenv/pyenv-installer/master/bin/pyenv-installer | bash`\n",
    "- 将如下3行加入.bash_profile\n",
    "```bash\n",
    "export PATH=\"~/.pyenv/bin:$PATH\"\n",
    "eval \"$(pyenv init -)\"\n",
    "eval \"$(pyenv virtualenv-init -)\"\n",
    "```\n",
    "- source ~/.bash_profile"
   ]
  },
  {
   "cell_type": "markdown",
   "metadata": {},
   "source": [
    "**pyenv 使用**"
   ]
  },
  {
   "cell_type": "markdown",
   "metadata": {},
   "source": [
    "- `yum -y install gcc make patch gdbm-devel openssl-devel sqlite-devel readline-devel zlib-devel bzip2-devel`\n",
    "- `pyenv install 3.6.2`"
   ]
  },
  {
   "cell_type": "markdown",
   "metadata": {},
   "source": [
    "- mkdir '目录名字'\n",
    "- ls -l 罗列当前目录下的文件和文件夹\n",
    "- ls -la 罗列隐藏文件及文件夹\n",
    "- cd '目录名字'\n",
    "- pwd， 显示当前所在目录\n",
    "- cat '文件名'， 查看该文件内的文本内容\n",
    "- rm -f '文件名'，强制删除某个文件\n",
    "- rm -rf '文件或文件夹名'， 强制删除某些文件或文件夹"
   ]
  },
  {
   "cell_type": "markdown",
   "metadata": {},
   "source": [
    "- pyenv versions，显示当前pyenv 的所有可用版本\n",
    "- pyenv install 3.6.2 ， 安装3.6.2版本\n",
    "- pyenv virtualenv 3.6.2 magedu_test， 安装3.6.2的虚拟环境，名字是magedu_test\n",
    "- pyenv global system ， 将全局版本切换成system 版本\n",
    "- pyenv local magedu_test ， 将当前目录切换到magedu_test 环境\n",
    "- pyenv shell system， 将当前shell 切换到system 版本\n",
    "- pyenv uninstall magedu_test , 删除magedu_test 环境\n",
    "\n",
    "pyenv shell > pyenv local > pyenv global\n",
    "\n",
    "- pip freeze > requirements.txt, 导出环境所需模块\n",
    "- pip install -r requirments.txt ， 安装所需模块"
   ]
  },
  {
   "cell_type": "markdown",
   "metadata": {},
   "source": [
    "## pycharm"
   ]
  },
  {
   "cell_type": "markdown",
   "metadata": {},
   "source": [
    "地址：https://www.jetbrains.com/pycharm/download/#section=linux"
   ]
  },
  {
   "cell_type": "markdown",
   "metadata": {
    "collapsed": true
   },
   "source": [
    "## jupyter"
   ]
  },
  {
   "cell_type": "markdown",
   "metadata": {
    "collapsed": true
   },
   "source": [
    "pip install jupyter"
   ]
  },
  {
   "cell_type": "markdown",
   "metadata": {
    "collapsed": true
   },
   "source": [
    "`jupyter notebook --ip=0.0.0.0 --no-browser --notebook-dir=../../notes/ --allow-root`"
   ]
  },
  {
   "cell_type": "markdown",
   "metadata": {
    "collapsed": true
   },
   "source": [
    "ifconfig ， 查看ip 地址"
   ]
  },
  {
   "cell_type": "markdown",
   "metadata": {
    "collapsed": true
   },
   "source": [
    "ipython"
   ]
  },
  {
   "cell_type": "markdown",
   "metadata": {},
   "source": [
    "## 练习"
   ]
  },
  {
   "cell_type": "code",
   "execution_count": 1,
   "metadata": {},
   "outputs": [
    {
     "name": "stdout",
     "output_type": "stream",
     "text": [
      "3\n"
     ]
    }
   ],
   "source": [
    "a=1\n",
    "b=2\n",
    "print(a+b)"
   ]
  },
  {
   "cell_type": "code",
   "execution_count": 3,
   "metadata": {},
   "outputs": [
    {
     "name": "stdout",
     "output_type": "stream",
     "text": [
      "3\n"
     ]
    }
   ],
   "source": [
    "a = 1\n",
    "b = 2\n",
    "print(a + b)"
   ]
  },
  {
   "cell_type": "code",
   "execution_count": 4,
   "metadata": {
    "collapsed": true
   },
   "outputs": [],
   "source": [
    "a, b = 1, 2"
   ]
  },
  {
   "cell_type": "markdown",
   "metadata": {
    "collapsed": true
   },
   "source": [
    "### 程序结构\n",
    "\n",
    "- 顺序结构\n",
    "- 分支结构\n",
    "    - if, else\n",
    "- 循环解构\n",
    "    - for\n",
    "    - while"
   ]
  },
  {
   "cell_type": "code",
   "execution_count": 5,
   "metadata": {},
   "outputs": [
    {
     "name": "stdout",
     "output_type": "stream",
     "text": [
      "for .. else\n"
     ]
    }
   ],
   "source": [
    "for i in range(10):\n",
    "    if i == 10:\n",
    "        print(i)\n",
    "else:\n",
    "    print('for .. else')"
   ]
  },
  {
   "cell_type": "code",
   "execution_count": 6,
   "metadata": {
    "collapsed": true
   },
   "outputs": [],
   "source": [
    "# switch .. case\n",
    "if 1:\n",
    "    pass\n",
    "elif 2:\n",
    "    pass\n",
    "else:\n",
    "    pass"
   ]
  },
  {
   "cell_type": "code",
   "execution_count": 8,
   "metadata": {
    "collapsed": true
   },
   "outputs": [],
   "source": [
    "i = 3\n",
    "# 常量还是变量？"
   ]
  },
  {
   "cell_type": "code",
   "execution_count": 9,
   "metadata": {
    "collapsed": true
   },
   "outputs": [],
   "source": [
    "# 在python 中 常量的例子"
   ]
  },
  {
   "cell_type": "markdown",
   "metadata": {},
   "source": [
    "**不存在常量**"
   ]
  },
  {
   "cell_type": "markdown",
   "metadata": {},
   "source": [
    "常量的定义：一旦赋值，就不能在改变的。"
   ]
  },
  {
   "cell_type": "code",
   "execution_count": 10,
   "metadata": {
    "collapsed": true
   },
   "outputs": [],
   "source": [
    "小胖 = 1"
   ]
  },
  {
   "cell_type": "code",
   "execution_count": 11,
   "metadata": {},
   "outputs": [
    {
     "data": {
      "text/plain": [
       "1"
      ]
     },
     "execution_count": 11,
     "metadata": {},
     "output_type": "execute_result"
    }
   ],
   "source": [
    "小胖"
   ]
  },
  {
   "cell_type": "markdown",
   "metadata": {},
   "source": [
    "**字面常量** ： 一个单独出现的量，未赋值给任何的常量或者变量。"
   ]
  },
  {
   "cell_type": "markdown",
   "metadata": {},
   "source": [
    "在python 中 不存在字面常量"
   ]
  },
  {
   "cell_type": "markdown",
   "metadata": {},
   "source": [
    "##### 基本类型"
   ]
  },
  {
   "cell_type": "markdown",
   "metadata": {},
   "source": [
    "- int\n",
    "- float\n",
    "- bool\n",
    "- None"
   ]
  },
  {
   "cell_type": "code",
   "execution_count": 16,
   "metadata": {},
   "outputs": [
    {
     "data": {
      "text/plain": [
       "19.799999999999997"
      ]
     },
     "execution_count": 16,
     "metadata": {},
     "output_type": "execute_result"
    }
   ],
   "source": [
    "3.3 * 6"
   ]
  },
  {
   "cell_type": "code",
   "execution_count": 17,
   "metadata": {},
   "outputs": [
    {
     "data": {
      "text/plain": [
       "55.5"
      ]
     },
     "execution_count": 17,
     "metadata": {},
     "output_type": "execute_result"
    }
   ],
   "source": [
    "111 / 2"
   ]
  },
  {
   "cell_type": "code",
   "execution_count": 18,
   "metadata": {},
   "outputs": [
    {
     "data": {
      "text/plain": [
       "1101111"
      ]
     },
     "execution_count": 18,
     "metadata": {},
     "output_type": "execute_result"
    }
   ],
   "source": [
    "1101111"
   ]
  },
  {
   "cell_type": "code",
   "execution_count": 20,
   "metadata": {},
   "outputs": [
    {
     "data": {
      "text/plain": [
       "19.8"
      ]
     },
     "execution_count": 20,
     "metadata": {},
     "output_type": "execute_result"
    }
   ],
   "source": [
    "round(3.3 * 6, 2)"
   ]
  },
  {
   "cell_type": "markdown",
   "metadata": {},
   "source": [
    "#### 成员运算符"
   ]
  },
  {
   "cell_type": "markdown",
   "metadata": {},
   "source": [
    "- in\n",
    "- not in"
   ]
  },
  {
   "cell_type": "code",
   "execution_count": 21,
   "metadata": {},
   "outputs": [
    {
     "data": {
      "text/plain": [
       "True"
      ]
     },
     "execution_count": 21,
     "metadata": {},
     "output_type": "execute_result"
    }
   ],
   "source": [
    "1 in [1, 2, 3]"
   ]
  },
  {
   "cell_type": "code",
   "execution_count": 22,
   "metadata": {},
   "outputs": [
    {
     "data": {
      "text/plain": [
       "False"
      ]
     },
     "execution_count": 22,
     "metadata": {},
     "output_type": "execute_result"
    }
   ],
   "source": [
    "4 in [1, 2, 3]"
   ]
  },
  {
   "cell_type": "code",
   "execution_count": 23,
   "metadata": {},
   "outputs": [
    {
     "name": "stdout",
     "output_type": "stream",
     "text": [
      "1\n",
      "2\n",
      "3\n",
      "4\n"
     ]
    }
   ],
   "source": [
    "l = [1, 2, 3, 4]\n",
    "for i in range(4):\n",
    "    print(l[i])"
   ]
  },
  {
   "cell_type": "code",
   "execution_count": 26,
   "metadata": {},
   "outputs": [
    {
     "name": "stdout",
     "output_type": "stream",
     "text": [
      "1\n",
      "cached\n"
     ]
    }
   ],
   "source": [
    "for ll in l:\n",
    "    if ll == 1:\n",
    "        print(ll)\n",
    "        print('cached')\n",
    "        break"
   ]
  },
  {
   "cell_type": "code",
   "execution_count": 27,
   "metadata": {},
   "outputs": [
    {
     "name": "stdout",
     "output_type": "stream",
     "text": [
      "cached\n"
     ]
    }
   ],
   "source": [
    "if 1 in l:\n",
    "    print('cached')"
   ]
  },
  {
   "cell_type": "markdown",
   "metadata": {},
   "source": [
    "#### 身份运算符"
   ]
  },
  {
   "cell_type": "markdown",
   "metadata": {},
   "source": [
    "- is\n",
    "- is not"
   ]
  },
  {
   "cell_type": "code",
   "execution_count": 28,
   "metadata": {
    "collapsed": true
   },
   "outputs": [],
   "source": [
    "a = 1"
   ]
  },
  {
   "cell_type": "code",
   "execution_count": 29,
   "metadata": {
    "collapsed": true
   },
   "outputs": [],
   "source": [
    "b = 1"
   ]
  },
  {
   "cell_type": "code",
   "execution_count": 30,
   "metadata": {},
   "outputs": [
    {
     "data": {
      "text/plain": [
       "True"
      ]
     },
     "execution_count": 30,
     "metadata": {},
     "output_type": "execute_result"
    }
   ],
   "source": [
    "a == b"
   ]
  },
  {
   "cell_type": "code",
   "execution_count": 31,
   "metadata": {},
   "outputs": [
    {
     "data": {
      "text/plain": [
       "True"
      ]
     },
     "execution_count": 31,
     "metadata": {},
     "output_type": "execute_result"
    }
   ],
   "source": [
    "a is b"
   ]
  },
  {
   "cell_type": "code",
   "execution_count": 41,
   "metadata": {
    "collapsed": true
   },
   "outputs": [],
   "source": [
    "a = 'a'"
   ]
  },
  {
   "cell_type": "code",
   "execution_count": 42,
   "metadata": {
    "collapsed": true
   },
   "outputs": [],
   "source": [
    "b = 'a'"
   ]
  },
  {
   "cell_type": "code",
   "execution_count": 43,
   "metadata": {},
   "outputs": [
    {
     "data": {
      "text/plain": [
       "True"
      ]
     },
     "execution_count": 43,
     "metadata": {},
     "output_type": "execute_result"
    }
   ],
   "source": [
    "a == b"
   ]
  },
  {
   "cell_type": "code",
   "execution_count": 44,
   "metadata": {},
   "outputs": [
    {
     "data": {
      "text/plain": [
       "True"
      ]
     },
     "execution_count": 44,
     "metadata": {},
     "output_type": "execute_result"
    }
   ],
   "source": [
    "a is b"
   ]
  },
  {
   "cell_type": "code",
   "execution_count": 45,
   "metadata": {
    "collapsed": true
   },
   "outputs": [],
   "source": [
    "a = [1]"
   ]
  },
  {
   "cell_type": "code",
   "execution_count": 46,
   "metadata": {
    "collapsed": true
   },
   "outputs": [],
   "source": [
    "b = [1]"
   ]
  },
  {
   "cell_type": "code",
   "execution_count": 47,
   "metadata": {},
   "outputs": [
    {
     "data": {
      "text/plain": [
       "True"
      ]
     },
     "execution_count": 47,
     "metadata": {},
     "output_type": "execute_result"
    }
   ],
   "source": [
    "a == b"
   ]
  },
  {
   "cell_type": "code",
   "execution_count": 48,
   "metadata": {},
   "outputs": [
    {
     "data": {
      "text/plain": [
       "False"
      ]
     },
     "execution_count": 48,
     "metadata": {},
     "output_type": "execute_result"
    }
   ],
   "source": [
    "a is b"
   ]
  },
  {
   "cell_type": "code",
   "execution_count": 49,
   "metadata": {},
   "outputs": [
    {
     "data": {
      "text/plain": [
       "4550976520"
      ]
     },
     "execution_count": 49,
     "metadata": {},
     "output_type": "execute_result"
    }
   ],
   "source": [
    "id(a)"
   ]
  },
  {
   "cell_type": "code",
   "execution_count": 50,
   "metadata": {},
   "outputs": [
    {
     "data": {
      "text/plain": [
       "4550952392"
      ]
     },
     "execution_count": 50,
     "metadata": {},
     "output_type": "execute_result"
    }
   ],
   "source": [
    "id(b)"
   ]
  },
  {
   "cell_type": "markdown",
   "metadata": {},
   "source": [
    "**== 用来判断值，is 用来判断是否指向统一对象**"
   ]
  },
  {
   "cell_type": "markdown",
   "metadata": {},
   "source": [
    "1.小明身高1.75m，体重80.5KG，请根据BMI公式（体重除以身高的平方），帮小明计算他的BMI指数。并根据BMI质数：\n",
    "- 低于18.5： 过轻\n",
    "- 18.5-25： 正常\n",
    "- 25-28： 肥胖\n",
    "- 高于32： 严重肥胖\n",
    "<br>"
   ]
  },
  {
   "cell_type": "markdown",
   "metadata": {},
   "source": [
    "\n",
    "2.请利用循环依次对list 中的每个名字打印出 Hello，xxx。\n",
    "L = ['miracle', 'young', 'papapa']"
   ]
  },
  {
   "cell_type": "markdown",
   "metadata": {},
   "source": [
    "3.有1、2、3、4 个数字，能组成多少个互不相同且无重复数字的三位数？分别是多少？"
   ]
  },
  {
   "cell_type": "code",
   "execution_count": 53,
   "metadata": {
    "collapsed": true
   },
   "outputs": [],
   "source": [
    "num = [1, 2, 3, 4]\n",
    "count = 0"
   ]
  },
  {
   "cell_type": "code",
   "execution_count": 54,
   "metadata": {},
   "outputs": [
    {
     "name": "stdout",
     "output_type": "stream",
     "text": [
      "123\n",
      "124\n",
      "132\n",
      "134\n",
      "142\n",
      "143\n",
      "213\n",
      "214\n",
      "231\n",
      "234\n",
      "241\n",
      "243\n",
      "312\n",
      "314\n",
      "321\n",
      "324\n",
      "341\n",
      "342\n",
      "412\n",
      "413\n",
      "421\n",
      "423\n",
      "431\n",
      "432\n"
     ]
    }
   ],
   "source": [
    "for x in num:\n",
    "    for y in num:\n",
    "        if x == y:\n",
    "            continue\n",
    "        else:\n",
    "            for z in num:\n",
    "                if y == z or z == x:\n",
    "                    continue\n",
    "                else:\n",
    "                    count += 1\n",
    "                    print(x * 100 + y * 10 + z)\n",
    "    "
   ]
  },
  {
   "cell_type": "code",
   "execution_count": 55,
   "metadata": {},
   "outputs": [
    {
     "data": {
      "text/plain": [
       "24"
      ]
     },
     "execution_count": 55,
     "metadata": {},
     "output_type": "execute_result"
    }
   ],
   "source": [
    "count"
   ]
  },
  {
   "cell_type": "markdown",
   "metadata": {},
   "source": [
    "4 \n",
    "\n",
    "<= 10w , 10%\n",
    "\n",
    "10w< <= 20w, 低于10w 10%，10w~20w 之间的 7.5%\n",
    "\n",
    "20w~40W, 5%\n",
    "\n",
    "40w~60w, 3%\n",
    "\n",
    "60w~100w, 1.5%\n",
    "\n",
    "高于100w， 1%\n",
    "\n",
    "从键盘输入营业额，求应发放奖金总数"
   ]
  },
  {
   "cell_type": "markdown",
   "metadata": {},
   "source": [
    "15w -> 10w \\* 10% + 5w \\* 7.5%"
   ]
  },
  {
   "cell_type": "markdown",
   "metadata": {},
   "source": [
    "5.输出9x9口诀表"
   ]
  },
  {
   "cell_type": "code",
   "execution_count": null,
   "metadata": {
    "collapsed": true
   },
   "outputs": [],
   "source": []
  },
  {
   "cell_type": "markdown",
   "metadata": {
    "collapsed": true
   },
   "source": [
    "### Markdown"
   ]
  },
  {
   "cell_type": "markdown",
   "metadata": {},
   "source": [
    "- list1\n",
    "- list2\n",
    "- list3"
   ]
  },
  {
   "cell_type": "markdown",
   "metadata": {},
   "source": [
    "1. list1\n",
    "2. list2\n",
    "3. list3"
   ]
  },
  {
   "cell_type": "markdown",
   "metadata": {},
   "source": [
    "# h1"
   ]
  },
  {
   "cell_type": "markdown",
   "metadata": {},
   "source": [
    "## h2"
   ]
  },
  {
   "cell_type": "markdown",
   "metadata": {},
   "source": [
    "### h3"
   ]
  },
  {
   "cell_type": "markdown",
   "metadata": {},
   "source": [
    "###### h6"
   ]
  },
  {
   "cell_type": "markdown",
   "metadata": {},
   "source": [
    "**bome**"
   ]
  },
  {
   "cell_type": "markdown",
   "metadata": {},
   "source": [
    "*Isadfsdf*"
   ]
  },
  {
   "cell_type": "markdown",
   "metadata": {},
   "source": [
    "```python\n",
    "def test():\n",
    "    print(1)\n",
    "```"
   ]
  },
  {
   "cell_type": "markdown",
   "metadata": {},
   "source": []
  },
  {
   "cell_type": "code",
   "execution_count": null,
   "metadata": {
    "collapsed": true
   },
   "outputs": [],
   "source": []
  },
  {
   "cell_type": "code",
   "execution_count": null,
   "metadata": {
    "collapsed": true
   },
   "outputs": [],
   "source": []
  }
 ],
 "metadata": {
  "kernelspec": {
   "display_name": "Python 3",
   "language": "python",
   "name": "python3"
  },
  "language_info": {
   "codemirror_mode": {
    "name": "ipython",
    "version": 3
   },
   "file_extension": ".py",
   "mimetype": "text/x-python",
   "name": "python",
   "nbconvert_exporter": "python",
   "pygments_lexer": "ipython3",
   "version": "3.6.1"
  }
 },
 "nbformat": 4,
 "nbformat_minor": 2
}
