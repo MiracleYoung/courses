{
 "cells": [
  {
   "cell_type": "markdown",
   "metadata": {},
   "source": [
    "## LinkedList"
   ]
  },
  {
   "cell_type": "markdown",
   "metadata": {},
   "source": [
    "在链表里面，数据就是一个个节点，连起来就是我们的链表了"
   ]
  },
  {
   "cell_type": "markdown",
   "metadata": {},
   "source": [
    "节点里面放的是我们的数据，通过指针来连接我们的节点"
   ]
  },
  {
   "cell_type": "code",
   "execution_count": 1,
   "metadata": {
    "collapsed": true
   },
   "outputs": [],
   "source": [
    "class Node:\n",
    "    def __init__(self, value):\n",
    "        self.value = value\n",
    "        self.next = None"
   ]
  },
  {
   "cell_type": "code",
   "execution_count": 2,
   "metadata": {
    "collapsed": true
   },
   "outputs": [],
   "source": [
    "class LinkedList:\n",
    "    def __init__(self):\n",
    "        self.head = None\n",
    "        \n",
    "    def append(self, value):\n",
    "        pass\n",
    "    \n",
    "    def pop(self, value):\n",
    "        pass\n",
    "    \n",
    "    def insert(self, index, value):\n",
    "        pass\n",
    "    \n",
    "    def remove(self, index):\n",
    "        pass"
   ]
  },
  {
   "cell_type": "code",
   "execution_count": 8,
   "metadata": {
    "collapsed": true
   },
   "outputs": [],
   "source": [
    "class LinkedList:\n",
    "    def __init__(self):\n",
    "        self.head = None\n",
    "        \n",
    "    def __find_tail(self):\n",
    "        current = self.head\n",
    "        # 队尾的指针一定是None的\n",
    "        while current.next is not None:\n",
    "            current = current.next\n",
    "        return current\n",
    "        \n",
    "    def append(self, value):\n",
    "        node = Node(value)\n",
    "        \n",
    "        if self.head is None:\n",
    "            self.head = node\n",
    "        else:\n",
    "            tail = self.__find_tail()\n",
    "            tail.next = node\n",
    "    \n",
    "    def pop(self):\n",
    "        if self.head is None:\n",
    "            return\n",
    "        \n",
    "        current = self.head\n",
    "        tmp = None\n",
    "        \n",
    "        while current.next is not None:\n",
    "            tmp = current\n",
    "            current = current.next\n",
    "            \n",
    "        if tmp is not None:\n",
    "            tmp.next = None\n",
    "            return current.value\n",
    "            \n",
    "        if tmp is None:\n",
    "            value = current.value\n",
    "            self.head = None\n",
    "            return current.value\n",
    "    \n",
    "    def insert(self, index, value):\n",
    "        node = Node(value)\n",
    "        \n",
    "        if index == 0:\n",
    "            node.next = self.head\n",
    "            self.head = node\n",
    "            return \n",
    "        \n",
    "#         if index == 1:\n",
    "#             current = self.head\n",
    "#             node.next = current.next\n",
    "#             current.next = node\n",
    "            \n",
    "#         if index == 2:\n",
    "#             current = self.head.next\n",
    "#             node.next = current.next\n",
    "#             current.next = node\n",
    "\n",
    "        current = self.head\n",
    "        for _ in range(2, index + 1):\n",
    "            if current is None:\n",
    "                raise Exception('')\n",
    "                \n",
    "            current = current.next\n",
    "            \n",
    "        node.next = current.next\n",
    "        current.next = node\n",
    "    \n",
    "    def remove(self, index):\n",
    "        if index == 0:\n",
    "            if self.head is None:\n",
    "                raise Exception('')\n",
    "            self.head = self.head.next\n",
    "            return\n",
    "        \n",
    "#         if index == 1:\n",
    "#             current = self.head\n",
    "#             current.next = current.next.next\n",
    "            \n",
    "#         if index == 2:\n",
    "#             current = self.head.next\n",
    "#             current.next = current.next.next\n",
    "\n",
    "        current = self.head\n",
    "    \n",
    "        for _ in range(2, index + 1):\n",
    "            if current is None:\n",
    "                raise Exception('')\n",
    "            current = current.next\n",
    "            \n",
    "        if current.next is None:\n",
    "            raise Exception('')\n",
    "            \n",
    "        current.next = current.next.next"
   ]
  },
  {
   "cell_type": "code",
   "execution_count": 9,
   "metadata": {
    "collapsed": true
   },
   "outputs": [],
   "source": [
    "lst = LinkedList()"
   ]
  },
  {
   "cell_type": "code",
   "execution_count": 10,
   "metadata": {
    "collapsed": true
   },
   "outputs": [],
   "source": [
    "lst.append(1)"
   ]
  },
  {
   "cell_type": "code",
   "execution_count": 11,
   "metadata": {
    "collapsed": true
   },
   "outputs": [],
   "source": [
    "lst.append(2)"
   ]
  },
  {
   "cell_type": "code",
   "execution_count": 12,
   "metadata": {},
   "outputs": [
    {
     "data": {
      "text/plain": [
       "2"
      ]
     },
     "execution_count": 12,
     "metadata": {},
     "output_type": "execute_result"
    }
   ],
   "source": [
    "lst.pop()"
   ]
  },
  {
   "cell_type": "code",
   "execution_count": 13,
   "metadata": {},
   "outputs": [
    {
     "data": {
      "text/plain": [
       "1"
      ]
     },
     "execution_count": 13,
     "metadata": {},
     "output_type": "execute_result"
    }
   ],
   "source": [
    "lst.pop()"
   ]
  },
  {
   "cell_type": "code",
   "execution_count": 14,
   "metadata": {
    "collapsed": true
   },
   "outputs": [],
   "source": [
    "lst.pop()"
   ]
  },
  {
   "cell_type": "code",
   "execution_count": 15,
   "metadata": {
    "collapsed": true
   },
   "outputs": [],
   "source": [
    "lst.append(1)"
   ]
  },
  {
   "cell_type": "code",
   "execution_count": 16,
   "metadata": {
    "collapsed": true
   },
   "outputs": [],
   "source": [
    "lst.append(2)"
   ]
  },
  {
   "cell_type": "code",
   "execution_count": 17,
   "metadata": {
    "collapsed": true
   },
   "outputs": [],
   "source": [
    "lst.append(3)"
   ]
  },
  {
   "cell_type": "code",
   "execution_count": 18,
   "metadata": {
    "collapsed": true
   },
   "outputs": [],
   "source": [
    "lst.insert(1, 5)"
   ]
  },
  {
   "cell_type": "code",
   "execution_count": 19,
   "metadata": {},
   "outputs": [
    {
     "data": {
      "text/plain": [
       "3"
      ]
     },
     "execution_count": 19,
     "metadata": {},
     "output_type": "execute_result"
    }
   ],
   "source": [
    "lst.pop()"
   ]
  },
  {
   "cell_type": "code",
   "execution_count": 20,
   "metadata": {},
   "outputs": [
    {
     "data": {
      "text/plain": [
       "2"
      ]
     },
     "execution_count": 20,
     "metadata": {},
     "output_type": "execute_result"
    }
   ],
   "source": [
    "lst.pop()"
   ]
  },
  {
   "cell_type": "code",
   "execution_count": 21,
   "metadata": {},
   "outputs": [
    {
     "data": {
      "text/plain": [
       "5"
      ]
     },
     "execution_count": 21,
     "metadata": {},
     "output_type": "execute_result"
    }
   ],
   "source": [
    "lst.pop()"
   ]
  },
  {
   "cell_type": "code",
   "execution_count": 22,
   "metadata": {},
   "outputs": [
    {
     "data": {
      "text/plain": [
       "1"
      ]
     },
     "execution_count": 22,
     "metadata": {},
     "output_type": "execute_result"
    }
   ],
   "source": [
    "lst.pop()"
   ]
  },
  {
   "cell_type": "code",
   "execution_count": 23,
   "metadata": {
    "collapsed": true
   },
   "outputs": [],
   "source": [
    "class LinkedList:\n",
    "    def __init__(self):\n",
    "        self.head = None\n",
    "        self.tail = None\n",
    "        \n",
    "#     def __find_tail(self):\n",
    "#         current = self.head\n",
    "#         # 队尾的指针一定是None的\n",
    "#         while current.next is not None:\n",
    "#             current = current.next\n",
    "#         return current\n",
    "        \n",
    "    def append(self, value):\n",
    "        node = Node(value)\n",
    "        \n",
    "        if self.head is None:\n",
    "            self.head = node\n",
    "            self.tail = node\n",
    "        else:\n",
    "            self.tail.next = node\n",
    "            self.tail = node\n",
    "    \n",
    "    def pop(self):\n",
    "        if self.head is None:\n",
    "            return\n",
    "        \n",
    "        current = self.head\n",
    "        tmp = None\n",
    "        \n",
    "        while current.next is not None:\n",
    "            tmp = current\n",
    "            current = current.next\n",
    "            \n",
    "        if tmp is not None:\n",
    "            tmp.next = None\n",
    "            self.tail = tmp\n",
    "            return current.value\n",
    "            \n",
    "        if tmp is None:\n",
    "            value = current.value\n",
    "            self.head = None\n",
    "            self.tail = None\n",
    "            return current.value\n",
    "    \n",
    "    def insert(self, index, value):\n",
    "        node = Node(value)\n",
    "        \n",
    "        if index == 0:\n",
    "            node.next = self.head\n",
    "            self.head = node\n",
    "            \n",
    "            if node.next is None:\n",
    "                self.tail = node\n",
    "            \n",
    "            return \n",
    "\n",
    "        current = self.head\n",
    "        for _ in range(2, index + 1):\n",
    "            if current is None:\n",
    "                raise Exception('')\n",
    "                \n",
    "            current = current.next\n",
    "            \n",
    "        node.next = current.next\n",
    "        current.next = node\n",
    "        \n",
    "        if node.next is None:\n",
    "            self.tail = node\n",
    "    \n",
    "    def remove(self, index):\n",
    "        if index == 0:\n",
    "            if self.head is None:\n",
    "                raise Exception('')\n",
    "            self.head = self.head.next\n",
    "            return\n",
    "\n",
    "        current = self.head\n",
    "    \n",
    "        for _ in range(2, index + 1):\n",
    "            if current is None:\n",
    "                raise Exception('')\n",
    "            current = current.next\n",
    "            \n",
    "        if current.next is None:\n",
    "            raise Exception('')\n",
    "            \n",
    "        current.next = current.next.next\n",
    "        \n",
    "        if current.next is None:\n",
    "            self.tail = current"
   ]
  },
  {
   "cell_type": "code",
   "execution_count": 25,
   "metadata": {
    "collapsed": true
   },
   "outputs": [],
   "source": [
    "class Node:\n",
    "    def __init__(self, value):\n",
    "        self.value = value\n",
    "        self.next = None\n",
    "        self.prev = None"
   ]
  },
  {
   "cell_type": "code",
   "execution_count": 26,
   "metadata": {
    "collapsed": true
   },
   "outputs": [],
   "source": [
    "class LinkedList:\n",
    "    def __init__(self):\n",
    "        self.head = None\n",
    "        self.tail = None\n",
    "        \n",
    "    def append(self, value):\n",
    "        node = Node(value)\n",
    "        \n",
    "        if self.head is None:\n",
    "            self.head = node\n",
    "            self.tail = node\n",
    "        else:\n",
    "            self.tail.next = node\n",
    "            node.prev = self.tail\n",
    "            self.tail = node\n",
    "    \n",
    "    def pop(self):\n",
    "        if self.head is None:\n",
    "            return\n",
    "        \n",
    "        node = self.tail\n",
    "        self.tail = node.prev\n",
    "        value = node.value\n",
    "        self.tail.next = None\n",
    "        return value\n",
    "        \n",
    "#         current = self.head\n",
    "#         tmp = None\n",
    "        \n",
    "#         while current.next is not None:\n",
    "#             tmp = current\n",
    "#             current = current.next\n",
    "            \n",
    "#         if tmp is not None:\n",
    "#             tmp.next = None\n",
    "#             self.tail = tmp\n",
    "#             return current.value\n",
    "            \n",
    "#         if tmp is None:\n",
    "#             value = current.value\n",
    "#             self.head = None\n",
    "#             self.tail = None\n",
    "#             return current.value\n",
    "    \n",
    "    def insert(self, index, value):\n",
    "        node = Node(value)\n",
    "        \n",
    "        if index == 0:\n",
    "            node.next = self.head\n",
    "            \n",
    "            if self.head is not None:\n",
    "                self.head.prev = node\n",
    "            \n",
    "            self.head = node\n",
    "            \n",
    "            if node.next is None:\n",
    "                self.tail = node\n",
    "            \n",
    "            return \n",
    "\n",
    "        current = self.head\n",
    "        for _ in range(2, index + 1):\n",
    "            if current is None:\n",
    "                raise Exception('')\n",
    "                \n",
    "            current = current.next\n",
    "            \n",
    "        node.next = current.next\n",
    "        node.prev = current\n",
    "        \n",
    "        current.next = node\n",
    "        \n",
    "        if node.next is None:\n",
    "            self.tail = node\n",
    "    \n",
    "    def remove(self, index):\n",
    "        if index == 0:\n",
    "            if self.head is None:\n",
    "                raise Exception('')\n",
    "            self.head = self.head.next\n",
    "            self.prev = None\n",
    "            return\n",
    "\n",
    "        current = self.head\n",
    "    \n",
    "        for _ in range(2, index + 1):\n",
    "            if current is None:\n",
    "                raise Exception('')\n",
    "            current = current.next\n",
    "            \n",
    "        if current.next is None:\n",
    "            raise Exception('')\n",
    "            \n",
    "            \n",
    "        node = current.next.next\n",
    "        current.next = node\n",
    "        node.prev = current\n",
    "        if node is not None:\n",
    "            node.prev = current\n",
    "            \n",
    "#         current.next = current.next.next\n",
    "        \n",
    "        if current.next is None:\n",
    "            self.tail = current"
   ]
  },
  {
   "cell_type": "markdown",
   "metadata": {},
   "source": [
    "## 优先队列"
   ]
  },
  {
   "cell_type": "code",
   "execution_count": 48,
   "metadata": {
    "collapsed": true
   },
   "outputs": [],
   "source": [
    "class Heap:\n",
    "    @staticmethod\n",
    "    def cmp(x, y):\n",
    "        if x > y:\n",
    "            return 1\n",
    "        if x < y:\n",
    "            return -1\n",
    "        return 0\n",
    "    \n",
    "    def __init__(self, cmp=None):\n",
    "        if cmp is None:\n",
    "            self.cmp = Heap.cmp\n",
    "        else:\n",
    "            self.cmp = cmp\n",
    "            \n",
    "        self.data = []\n",
    "        \n",
    "    def put(self, value):\n",
    "        i = len(self.data)\n",
    "        self.data.append(value)\n",
    "        \n",
    "        pi = (i - 1) // 2\n",
    "        print(pi)\n",
    "        while pi >= 0 and self.cmp(value, self.data[pi]) > 0:\n",
    "            self.data[pi], self.data[i] = self.data[i], self.data[pi]\n",
    "            \n",
    "            i = pi\n",
    "            pi = (i - 1) //  2\n",
    "            \n",
    "    def pop(self):\n",
    "        if self.data is None:\n",
    "            return None\n",
    "        if len(self.data) == 1:\n",
    "            return self.data.pop()\n",
    "        \n",
    "        i = 0\n",
    "        value = self.data[i]\n",
    "        self.data[i] = self.data.pop()\n",
    "        \n",
    "        li= 2 * i + 1\n",
    "        ri = 2 * i + 2\n",
    "        \n",
    "        while self.data and li < len(self.data):\n",
    "            ci = li\n",
    "            if ri < len(self.data) and self.cmp(self.data[ri], self.data[li]) > 0:\n",
    "                ci = ri\n",
    "            if self.cmp(self.data[ci], self.data[i]) > 0:\n",
    "                self.data[ci], self.data[i] = self.data[i], self.data[ci]\n",
    "                i = ci\n",
    "                li = 2 * i + 1\n",
    "                ri = 2 * i + 2\n",
    "            else:\n",
    "                break\n",
    "        return value"
   ]
  },
  {
   "cell_type": "code",
   "execution_count": 49,
   "metadata": {
    "collapsed": true
   },
   "outputs": [],
   "source": [
    "heap = Heap()"
   ]
  },
  {
   "cell_type": "code",
   "execution_count": 50,
   "metadata": {},
   "outputs": [
    {
     "name": "stdout",
     "output_type": "stream",
     "text": [
      "-1\n"
     ]
    }
   ],
   "source": [
    "heap.put(1)"
   ]
  },
  {
   "cell_type": "code",
   "execution_count": 51,
   "metadata": {},
   "outputs": [
    {
     "name": "stdout",
     "output_type": "stream",
     "text": [
      "0\n"
     ]
    }
   ],
   "source": [
    "heap.put(5)"
   ]
  },
  {
   "cell_type": "code",
   "execution_count": 52,
   "metadata": {},
   "outputs": [
    {
     "data": {
      "text/plain": [
       "[5, 1]"
      ]
     },
     "execution_count": 52,
     "metadata": {},
     "output_type": "execute_result"
    }
   ],
   "source": [
    "heap.data"
   ]
  },
  {
   "cell_type": "code",
   "execution_count": 53,
   "metadata": {},
   "outputs": [
    {
     "name": "stdout",
     "output_type": "stream",
     "text": [
      "0\n"
     ]
    }
   ],
   "source": [
    "heap.put(3)"
   ]
  },
  {
   "cell_type": "code",
   "execution_count": 54,
   "metadata": {},
   "outputs": [
    {
     "data": {
      "text/plain": [
       "[5, 1, 3]"
      ]
     },
     "execution_count": 54,
     "metadata": {},
     "output_type": "execute_result"
    }
   ],
   "source": [
    "heap.data"
   ]
  },
  {
   "cell_type": "code",
   "execution_count": 55,
   "metadata": {},
   "outputs": [
    {
     "name": "stdout",
     "output_type": "stream",
     "text": [
      "1\n"
     ]
    }
   ],
   "source": [
    "heap.put(10)"
   ]
  },
  {
   "cell_type": "code",
   "execution_count": 56,
   "metadata": {},
   "outputs": [
    {
     "data": {
      "text/plain": [
       "[10, 5, 3, 1]"
      ]
     },
     "execution_count": 56,
     "metadata": {},
     "output_type": "execute_result"
    }
   ],
   "source": [
    "heap.data"
   ]
  },
  {
   "cell_type": "code",
   "execution_count": 57,
   "metadata": {},
   "outputs": [
    {
     "data": {
      "text/plain": [
       "10"
      ]
     },
     "execution_count": 57,
     "metadata": {},
     "output_type": "execute_result"
    }
   ],
   "source": [
    "heap.pop()"
   ]
  },
  {
   "cell_type": "code",
   "execution_count": 58,
   "metadata": {},
   "outputs": [
    {
     "data": {
      "text/plain": [
       "5"
      ]
     },
     "execution_count": 58,
     "metadata": {},
     "output_type": "execute_result"
    }
   ],
   "source": [
    "heap.pop()"
   ]
  },
  {
   "cell_type": "code",
   "execution_count": 59,
   "metadata": {},
   "outputs": [
    {
     "data": {
      "text/plain": [
       "[3, 1]"
      ]
     },
     "execution_count": 59,
     "metadata": {},
     "output_type": "execute_result"
    }
   ],
   "source": [
    "heap.data"
   ]
  },
  {
   "cell_type": "code",
   "execution_count": null,
   "metadata": {
    "collapsed": true
   },
   "outputs": [],
   "source": []
  },
  {
   "cell_type": "code",
   "execution_count": 36,
   "metadata": {
    "collapsed": true
   },
   "outputs": [],
   "source": [
    "class Node:\n",
    "    def __init__(self, value, pri):\n",
    "        self.value = value\n",
    "        self.pri = pri"
   ]
  },
  {
   "cell_type": "code",
   "execution_count": 39,
   "metadata": {
    "collapsed": true
   },
   "outputs": [],
   "source": [
    "class PriorityQueue(Heap):\n",
    "    @classmethod\n",
    "    def cmp(x, y):\n",
    "        return Heap.cmp(x.pri, y.pri)\n",
    "    \n",
    "    def __init__(self):\n",
    "        super().__init__(cmp=PriorityQueue.cmp)\n",
    "        \n",
    "    def put(self, value, pri=0):\n",
    "        super().put(Node(value, pri))\n",
    "        \n",
    "    def pop(self):\n",
    "        node = super().pop()\n",
    "        if node is None:\n",
    "            return None\n",
    "        return node.value"
   ]
  },
  {
   "cell_type": "code",
   "execution_count": null,
   "metadata": {
    "collapsed": true
   },
   "outputs": [],
   "source": []
  },
  {
   "cell_type": "markdown",
   "metadata": {
    "collapsed": true
   },
   "source": [
    "## 魔术方法"
   ]
  },
  {
   "cell_type": "markdown",
   "metadata": {},
   "source": [
    "### `__hash__`,`__eq__`"
   ]
  },
  {
   "cell_type": "markdown",
   "metadata": {},
   "source": [
    "- 运算重载符\n",
    "- 逻辑运算符"
   ]
  },
  {
   "cell_type": "markdown",
   "metadata": {},
   "source": [
    "`help(int), help(list)`"
   ]
  },
  {
   "cell_type": "code",
   "execution_count": null,
   "metadata": {
    "collapsed": true
   },
   "outputs": [],
   "source": [
    "hash(123)"
   ]
  },
  {
   "cell_type": "code",
   "execution_count": null,
   "metadata": {
    "collapsed": true
   },
   "outputs": [],
   "source": []
  },
  {
   "cell_type": "code",
   "execution_count": null,
   "metadata": {
    "collapsed": true
   },
   "outputs": [],
   "source": []
  },
  {
   "cell_type": "code",
   "execution_count": null,
   "metadata": {
    "collapsed": true
   },
   "outputs": [],
   "source": []
  }
 ],
 "metadata": {
  "kernelspec": {
   "display_name": "Python 3",
   "language": "python",
   "name": "python3"
  },
  "language_info": {
   "codemirror_mode": {
    "name": "ipython",
    "version": 3
   },
   "file_extension": ".py",
   "mimetype": "text/x-python",
   "name": "python",
   "nbconvert_exporter": "python",
   "pygments_lexer": "ipython3",
   "version": "3.6.1"
  }
 },
 "nbformat": 4,
 "nbformat_minor": 2
}
