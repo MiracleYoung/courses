{
 "cells": [
  {
   "cell_type": "markdown",
   "metadata": {},
   "source": [
    "## 把字符串形式的整数或浮点数转化为int或float"
   ]
  },
  {
   "cell_type": "code",
   "execution_count": 1,
   "metadata": {
    "collapsed": true
   },
   "outputs": [],
   "source": [
    "mapping = {str(x):x for x in range(10)}"
   ]
  },
  {
   "cell_type": "code",
   "execution_count": 4,
   "metadata": {},
   "outputs": [
    {
     "data": {
      "text/plain": [
       "{'0': 0,\n",
       " '1': 1,\n",
       " '2': 2,\n",
       " '3': 3,\n",
       " '4': 4,\n",
       " '5': 5,\n",
       " '6': 6,\n",
       " '7': 7,\n",
       " '8': 8,\n",
       " '9': 9}"
      ]
     },
     "execution_count": 4,
     "metadata": {},
     "output_type": "execute_result"
    }
   ],
   "source": [
    "mapping"
   ]
  },
  {
   "cell_type": "code",
   "execution_count": 6,
   "metadata": {},
   "outputs": [],
   "source": [
    "s = '123456.7890'"
   ]
  },
  {
   "cell_type": "code",
   "execution_count": 7,
   "metadata": {},
   "outputs": [
    {
     "data": {
      "text/plain": [
       "('123456', '.', '7890')"
      ]
     },
     "execution_count": 7,
     "metadata": {},
     "output_type": "execute_result"
    }
   ],
   "source": [
    "s.partition('.')"
   ]
  },
  {
   "cell_type": "code",
   "execution_count": 9,
   "metadata": {},
   "outputs": [
    {
     "data": {
      "text/plain": [
       "('12', '', '')"
      ]
     },
     "execution_count": 9,
     "metadata": {},
     "output_type": "execute_result"
    }
   ],
   "source": [
    "'12'.partition('.')"
   ]
  },
  {
   "cell_type": "code",
   "execution_count": 11,
   "metadata": {},
   "outputs": [],
   "source": [
    "i, _, f = s.partition('.')"
   ]
  },
  {
   "cell_type": "code",
   "execution_count": 14,
   "metadata": {},
   "outputs": [
    {
     "data": {
      "text/plain": [
       "'654321'"
      ]
     },
     "execution_count": 14,
     "metadata": {},
     "output_type": "execute_result"
    }
   ],
   "source": [
    "i[::-1]"
   ]
  },
  {
   "cell_type": "code",
   "execution_count": 13,
   "metadata": {},
   "outputs": [
    {
     "data": {
      "text/plain": [
       "'7890'"
      ]
     },
     "execution_count": 13,
     "metadata": {},
     "output_type": "execute_result"
    }
   ],
   "source": [
    "f"
   ]
  },
  {
   "cell_type": "code",
   "execution_count": 15,
   "metadata": {
    "collapsed": true
   },
   "outputs": [],
   "source": [
    "ret = 0\n",
    "for idx, x in enumerate(i[::-1]):\n",
    "    ret += mapping[x] * 10 ** idx"
   ]
  },
  {
   "cell_type": "code",
   "execution_count": 16,
   "metadata": {},
   "outputs": [
    {
     "data": {
      "text/plain": [
       "123456"
      ]
     },
     "execution_count": 16,
     "metadata": {},
     "output_type": "execute_result"
    }
   ],
   "source": [
    "ret"
   ]
  },
  {
   "cell_type": "code",
   "execution_count": 17,
   "metadata": {},
   "outputs": [
    {
     "data": {
      "text/plain": [
       "int"
      ]
     },
     "execution_count": 17,
     "metadata": {},
     "output_type": "execute_result"
    }
   ],
   "source": [
    "type(ret)"
   ]
  },
  {
   "cell_type": "code",
   "execution_count": 18,
   "metadata": {
    "collapsed": true
   },
   "outputs": [],
   "source": [
    "for idx, x in enumerate(f):\n",
    "    ret += mapping[x] / 10 ** (idx + 1)"
   ]
  },
  {
   "cell_type": "code",
   "execution_count": 19,
   "metadata": {},
   "outputs": [
    {
     "data": {
      "text/plain": [
       "123456.789"
      ]
     },
     "execution_count": 19,
     "metadata": {},
     "output_type": "execute_result"
    }
   ],
   "source": [
    "ret"
   ]
  },
  {
   "cell_type": "code",
   "execution_count": 20,
   "metadata": {},
   "outputs": [
    {
     "data": {
      "text/plain": [
       "float"
      ]
     },
     "execution_count": 20,
     "metadata": {},
     "output_type": "execute_result"
    }
   ],
   "source": [
    "type(ret)"
   ]
  },
  {
   "cell_type": "code",
   "execution_count": 26,
   "metadata": {},
   "outputs": [
    {
     "name": "stdout",
     "output_type": "stream",
     "text": [
      "123456.7\n",
      "123456.78\n",
      "123456.789\n",
      "123456.7898\n",
      "123456.78987\n",
      "123456.789876\n",
      "123456.7898765\n",
      "123456.78987654\n",
      "123456.789876543\n",
      "123456.7898765432\n",
      "123456.78987654322\n",
      "123456.78987654322\n",
      "123456.78987654322\n",
      "123456.78987654322\n",
      "123456.78987654322\n",
      "123456.78987654322\n",
      "123456.78987654322\n",
      "123456.78987654322\n",
      "123456.78987654322\n"
     ]
    }
   ],
   "source": [
    "mapping = {str(x):x for x in range(10)}\n",
    "s = '123456.7898765432123456789'\n",
    "i, _, f = s.partition('.')\n",
    "ret = 0\n",
    "for idx, x in enumerate(i[::-1]):\n",
    "    ret += mapping[x] * 10 ** idx\n",
    "for idx, x in enumerate(f):\n",
    "    ret += mapping[x] / 10 ** (idx + 1)\n",
    "    print(ret)"
   ]
  },
  {
   "cell_type": "code",
   "execution_count": 24,
   "metadata": {},
   "outputs": [
    {
     "data": {
      "text/plain": [
       "123456.78987654322"
      ]
     },
     "execution_count": 24,
     "metadata": {},
     "output_type": "execute_result"
    }
   ],
   "source": [
    "ret"
   ]
  },
  {
   "cell_type": "code",
   "execution_count": 25,
   "metadata": {},
   "outputs": [
    {
     "data": {
      "text/plain": [
       "0.0009"
      ]
     },
     "execution_count": 25,
     "metadata": {},
     "output_type": "execute_result"
    }
   ],
   "source": [
    "9 / 10 ** 4"
   ]
  },
  {
   "cell_type": "code",
   "execution_count": 27,
   "metadata": {
    "collapsed": true
   },
   "outputs": [],
   "source": [
    "ret = 0\n",
    "for idx, x in enumerate((i + f)[::-1]):\n",
    "    ret += mapping[x] * 10 ** idx"
   ]
  },
  {
   "cell_type": "code",
   "execution_count": 28,
   "metadata": {},
   "outputs": [
    {
     "data": {
      "text/plain": [
       "1234567898765432123456789"
      ]
     },
     "execution_count": 28,
     "metadata": {},
     "output_type": "execute_result"
    }
   ],
   "source": [
    "ret"
   ]
  },
  {
   "cell_type": "code",
   "execution_count": 29,
   "metadata": {},
   "outputs": [
    {
     "data": {
      "text/plain": [
       "123456.78987654322"
      ]
     },
     "execution_count": 29,
     "metadata": {},
     "output_type": "execute_result"
    }
   ],
   "source": [
    "ret / 10 ** (len(f))"
   ]
  },
  {
   "cell_type": "markdown",
   "metadata": {},
   "source": [
    "## 移出列表中的重复元素，并保持新列表和原列表的顺序一致"
   ]
  },
  {
   "cell_type": "code",
   "execution_count": 30,
   "metadata": {
    "collapsed": true
   },
   "outputs": [],
   "source": [
    "lst = [1, 2, 3, 5, 4, 2, 3, 2, 6, 4, 5]"
   ]
  },
  {
   "cell_type": "code",
   "execution_count": 31,
   "metadata": {
    "collapsed": true
   },
   "outputs": [],
   "source": [
    "new_lst = []\n",
    "for x in lst:\n",
    "    if x not in new_lst:\n",
    "        new_lst.append(x)"
   ]
  },
  {
   "cell_type": "code",
   "execution_count": 32,
   "metadata": {},
   "outputs": [
    {
     "data": {
      "text/plain": [
       "[1, 2, 3, 5, 4, 6]"
      ]
     },
     "execution_count": 32,
     "metadata": {},
     "output_type": "execute_result"
    }
   ],
   "source": [
    "new_lst"
   ]
  },
  {
   "cell_type": "code",
   "execution_count": 33,
   "metadata": {
    "collapsed": true
   },
   "outputs": [],
   "source": [
    "s = set()\n",
    "new_lst = []\n",
    "for x in lst:\n",
    "    if x not in s:\n",
    "        new_lst.append(x)\n",
    "    s.add(x)"
   ]
  },
  {
   "cell_type": "code",
   "execution_count": 34,
   "metadata": {},
   "outputs": [
    {
     "data": {
      "text/plain": [
       "{1, 2, 3, 4, 5, 6}"
      ]
     },
     "execution_count": 34,
     "metadata": {},
     "output_type": "execute_result"
    }
   ],
   "source": [
    "s"
   ]
  },
  {
   "cell_type": "code",
   "execution_count": 35,
   "metadata": {
    "collapsed": true
   },
   "outputs": [],
   "source": [
    "s = set(lst)"
   ]
  },
  {
   "cell_type": "code",
   "execution_count": 36,
   "metadata": {},
   "outputs": [
    {
     "data": {
      "text/plain": [
       "{1, 2, 3, 4, 5, 6}"
      ]
     },
     "execution_count": 36,
     "metadata": {},
     "output_type": "execute_result"
    }
   ],
   "source": [
    "s"
   ]
  },
  {
   "cell_type": "code",
   "execution_count": 37,
   "metadata": {
    "collapsed": true
   },
   "outputs": [],
   "source": [
    "s = set(lst)\n",
    "new_lst = []\n",
    "for x in lst:\n",
    "    if x in s:\n",
    "        new_lst.append(x)\n",
    "        s.remove(x)"
   ]
  },
  {
   "cell_type": "code",
   "execution_count": 40,
   "metadata": {},
   "outputs": [],
   "source": [
    "from collections import OrderedDict"
   ]
  },
  {
   "cell_type": "code",
   "execution_count": 42,
   "metadata": {
    "collapsed": true
   },
   "outputs": [],
   "source": [
    "od = OrderedDict()\n",
    "for x in lst:\n",
    "    od[x] = x\n",
    "new_list = list(od.keys())"
   ]
  },
  {
   "cell_type": "code",
   "execution_count": 43,
   "metadata": {},
   "outputs": [
    {
     "data": {
      "text/plain": [
       "[1, 2, 3, 5, 4, 6]"
      ]
     },
     "execution_count": 43,
     "metadata": {},
     "output_type": "execute_result"
    }
   ],
   "source": [
    "new_list"
   ]
  },
  {
   "cell_type": "code",
   "execution_count": null,
   "metadata": {
    "collapsed": true
   },
   "outputs": [],
   "source": []
  },
  {
   "cell_type": "markdown",
   "metadata": {},
   "source": [
    "## 统计文本中各单词出现的次数"
   ]
  },
  {
   "cell_type": "code",
   "execution_count": 44,
   "metadata": {},
   "outputs": [
    {
     "name": "stdout",
     "output_type": "stream",
     "text": [
      "{'Then': 1, 'I': 2, 'fell': 1, 'ill': 1, 'with': 2, 'Chronic': 1, 'Fatigue': 1, 'Syndrome': 1, '(CFS)': 1, 'and': 2, 'became': 1, 'virtually': 1, 'bed': 1, 'bound.': 1, 'had': 1, 'to': 1, 'quit': 1, 'my': 1, 'job': 1, 'subsequently': 1, 'was': 1, 'left': 1, 'no': 1, 'income.': 1}\n"
     ]
    }
   ],
   "source": [
    "s = \"Then I fell ill with Chronic Fatigue Syndrome (CFS) and became virtually bed bound. I had to quit my job and subsequently was left with no income.\"\n",
    "counter = {}\n",
    "for word in s.split():\n",
    "    if word not in counter.keys():\n",
    "        # 初始化字典\n",
    "        counter[word] = 0\n",
    "    counter[word] += 1\n",
    "print(counter)"
   ]
  },
  {
   "cell_type": "code",
   "execution_count": 45,
   "metadata": {
    "collapsed": true
   },
   "outputs": [],
   "source": [
    "def f():\n",
    "    return 0"
   ]
  },
  {
   "cell_type": "code",
   "execution_count": 47,
   "metadata": {},
   "outputs": [
    {
     "data": {
      "text/plain": [
       "{'(CFS)': 1,\n",
       " 'Chronic': 1,\n",
       " 'Fatigue': 1,\n",
       " 'I': 2,\n",
       " 'Syndrome': 1,\n",
       " 'Then': 1,\n",
       " 'and': 2,\n",
       " 'became': 1,\n",
       " 'bed': 1,\n",
       " 'bound.': 1,\n",
       " 'fell': 1,\n",
       " 'had': 1,\n",
       " 'ill': 1,\n",
       " 'income.': 1,\n",
       " 'job': 1,\n",
       " 'left': 1,\n",
       " 'my': 1,\n",
       " 'no': 1,\n",
       " 'quit': 1,\n",
       " 'subsequently': 1,\n",
       " 'to': 1,\n",
       " 'virtually': 1,\n",
       " 'was': 1,\n",
       " 'with': 2}"
      ]
     },
     "execution_count": 47,
     "metadata": {},
     "output_type": "execute_result"
    }
   ],
   "source": [
    "from collections import defaultdict\n",
    "\n",
    "counter = defaultdict(f)\n",
    "for word in s.split():\n",
    "    counter[word] += 1\n",
    "\n",
    "dict(counter)"
   ]
  },
  {
   "cell_type": "code",
   "execution_count": 49,
   "metadata": {},
   "outputs": [
    {
     "name": "stdout",
     "output_type": "stream",
     "text": [
      "{'Then': 1, 'I': 2, 'fell': 1, 'ill': 1, 'with': 2, 'Chronic': 1, 'Fatigue': 1, 'Syndrome': 1, '(CFS)': 1, 'and': 2, 'became': 1, 'virtually': 1, 'bed': 1, 'bound.': 1, 'had': 1, 'to': 1, 'quit': 1, 'my': 1, 'job': 1, 'subsequently': 1, 'was': 1, 'left': 1, 'no': 1, 'income.': 1}\n"
     ]
    }
   ],
   "source": [
    "counter = {}\n",
    "for word in s.split():\n",
    "    counter[word] = counter.setdefault(word, 0) + 1\n",
    "print(counter)"
   ]
  },
  {
   "cell_type": "markdown",
   "metadata": {},
   "source": [
    "## 把1-4000之间的任意整数转化为罗马数字"
   ]
  },
  {
   "cell_type": "markdown",
   "metadata": {},
   "source": [
    "I(1)\n",
    "\n",
    "X(10)\n",
    "\n",
    "C(100)\n",
    "\n",
    "M(1000)\n",
    "\n",
    "V(5)\n",
    "\n",
    "L(50)\n",
    "\n",
    "D(500)"
   ]
  },
  {
   "cell_type": "markdown",
   "metadata": {},
   "source": [
    "- 相同的数字连写，表示的数等于这些数字相加得到的数，比如III = 3\n",
    "- 小的数字在大的数字右边，所标示的数等于这些数字相加得到的数，比如VIII = 8, XII = 12\n",
    "- 小的数字在大的数字左边，所表示的数等于大数减去小数得到的数，比如IV = 4, IX = 9\n",
    "- 在一个数的上面画一条横线，表示这个数值增加1000倍"
   ]
  },
  {
   "cell_type": "code",
   "execution_count": 50,
   "metadata": {
    "collapsed": true
   },
   "outputs": [],
   "source": [
    "character = (\n",
    "    ('I', 'V', 'X'), # 个位\n",
    "    ('X', 'L', 'C'), # 十位\n",
    "    ('C', 'D', 'M'), # 百位\n",
    "    ('M', '', '') # 千位\n",
    ")"
   ]
  },
  {
   "cell_type": "markdown",
   "metadata": {},
   "source": [
    "num = 1987\n",
    "\n",
    "7 = VII\n",
    "\n",
    "80 = LXXX\n",
    "\n",
    "900 = CM\n",
    "\n",
    "1000 = M"
   ]
  },
  {
   "cell_type": "code",
   "execution_count": 55,
   "metadata": {},
   "outputs": [],
   "source": [
    "# i 位数\n",
    "# n 具体数字\n",
    "def n_to_c(n, i):\n",
    "    cs = character[i]\n",
    "    if n < 4:\n",
    "        return cs[0] * n\n",
    "    elif n == 4:\n",
    "        return cs[0] + cs[1]\n",
    "    elif n == 5:\n",
    "        return cs[1]\n",
    "    elif n > 5 and n < 9:\n",
    "        return cs[1] + cs[0] * (n -5)\n",
    "    else:\n",
    "        return cs[0] + cs[2]\n",
    "    \n",
    "i = 0\n",
    "ret = []\n",
    "num = 1987\n",
    "while num > 0 :\n",
    "    n = num % 10\n",
    "    ret.append(n_to_c(n, i))\n",
    "    num //= 10\n",
    "    i += 1\n",
    "\n",
    "# i = 0 代表 当前循环需要遍历个位数\n",
    "# n = 1987 % 10 = 7\n",
    "\n",
    "# n = 7 , 个位数\n",
    "\n",
    "# => 获得一个 罗马数字\n",
    "\n",
    "# num //= 10\n"
   ]
  },
  {
   "cell_type": "code",
   "execution_count": 56,
   "metadata": {},
   "outputs": [
    {
     "data": {
      "text/plain": [
       "['VII', 'LXXX', 'CM', 'M']"
      ]
     },
     "execution_count": 56,
     "metadata": {},
     "output_type": "execute_result"
    }
   ],
   "source": [
    "ret"
   ]
  },
  {
   "cell_type": "code",
   "execution_count": 57,
   "metadata": {},
   "outputs": [
    {
     "data": {
      "text/plain": [
       "'MCMLXXXVII'"
      ]
     },
     "execution_count": 57,
     "metadata": {},
     "output_type": "execute_result"
    }
   ],
   "source": [
    "''.join(ret[::-1])"
   ]
  },
  {
   "cell_type": "code",
   "execution_count": null,
   "metadata": {
    "collapsed": true
   },
   "outputs": [],
   "source": []
  }
 ],
 "metadata": {
  "kernelspec": {
   "display_name": "Python 3",
   "language": "python",
   "name": "python3"
  },
  "language_info": {
   "codemirror_mode": {
    "name": "ipython",
    "version": 3
   },
   "file_extension": ".py",
   "mimetype": "text/x-python",
   "name": "python",
   "nbconvert_exporter": "python",
   "pygments_lexer": "ipython3",
   "version": "3.6.1"
  }
 },
 "nbformat": 4,
 "nbformat_minor": 2
}
