{
 "cells": [
  {
   "cell_type": "markdown",
   "metadata": {},
   "source": [
    "https://www.apachefriends.org/zh_cn/index.html\n",
    "\n",
    "https://navicat.com.cn/download/navicat-premium"
   ]
  },
  {
   "cell_type": "code",
   "execution_count": null,
   "metadata": {
    "collapsed": true
   },
   "outputs": [],
   "source": []
  },
  {
   "cell_type": "markdown",
   "metadata": {},
   "source": [
    "- mysql基础\n",
    "    - mysql 安装\n",
    "    - mysql 应用\n",
    "    - sql 基础\n",
    "    - sql 高阶\n",
    "- pymysql\n",
    "- sqlalchemy"
   ]
  },
  {
   "cell_type": "markdown",
   "metadata": {},
   "source": [
    "- 安装xampp，navicat\n",
    "- 打开mysql\n",
    "- 使用navicat 连接mysql\n",
    "- 创建demo 数据库，注意的是字符集\n",
    "- 在demo数据库中创建一张user表\n",
    "- 创建id，name，age字段如视频操作"
   ]
  },
  {
   "cell_type": "markdown",
   "metadata": {},
   "source": [
    "- `use database`\n",
    "- `insert into`的语法"
   ]
  },
  {
   "cell_type": "markdown",
   "metadata": {},
   "source": [
    "- python版本兼容\n",
    "- 操作系统的兼容"
   ]
  },
  {
   "cell_type": "markdown",
   "metadata": {
    "collapsed": true
   },
   "source": [
    "`pip install pymysql`"
   ]
  },
  {
   "cell_type": "code",
   "execution_count": 1,
   "metadata": {
    "collapsed": true
   },
   "outputs": [],
   "source": [
    "import pymysql"
   ]
  },
  {
   "cell_type": "code",
   "execution_count": 2,
   "metadata": {},
   "outputs": [
    {
     "name": "stdout",
     "output_type": "stream",
     "text": [
      "Help on function Connect in module pymysql:\n",
      "\n",
      "Connect(*args, **kwargs)\n",
      "    Establish a connection to the MySQL database. Accepts several\n",
      "    arguments:\n",
      "    \n",
      "    host: Host where the database server is located\n",
      "    user: Username to log in as\n",
      "    password: Password to use.\n",
      "    database: Database to use, None to not use a particular one.\n",
      "    port: MySQL port to use, default is usually OK. (default: 3306)\n",
      "    bind_address: When the client has multiple network interfaces, specify\n",
      "        the interface from which to connect to the host. Argument can be\n",
      "        a hostname or an IP address.\n",
      "    unix_socket: Optionally, you can use a unix socket rather than TCP/IP.\n",
      "    charset: Charset you want to use.\n",
      "    sql_mode: Default SQL_MODE to use.\n",
      "    read_default_file:\n",
      "        Specifies  my.cnf file to read these parameters from under the [client] section.\n",
      "    conv:\n",
      "        Conversion dictionary to use instead of the default one.\n",
      "        This is used to provide custom marshalling and unmarshaling of types.\n",
      "        See converters.\n",
      "    use_unicode:\n",
      "        Whether or not to default to unicode strings.\n",
      "        This option defaults to true for Py3k.\n",
      "    client_flag: Custom flags to send to MySQL. Find potential values in constants.CLIENT.\n",
      "    cursorclass: Custom cursor class to use.\n",
      "    init_command: Initial SQL statement to run when connection is established.\n",
      "    connect_timeout: Timeout before throwing an exception when connecting.\n",
      "        (default: 10, min: 1, max: 31536000)\n",
      "    ssl:\n",
      "        A dict of arguments similar to mysql_ssl_set()'s parameters.\n",
      "        For now the capath and cipher arguments are not supported.\n",
      "    read_default_group: Group to read from in the configuration file.\n",
      "    compress; Not supported\n",
      "    named_pipe: Not supported\n",
      "    autocommit: Autocommit mode. None means use server default. (default: False)\n",
      "    local_infile: Boolean to enable the use of LOAD DATA LOCAL command. (default: False)\n",
      "    max_allowed_packet: Max size of packet sent to server in bytes. (default: 16MB)\n",
      "        Only used to limit size of \"LOAD LOCAL INFILE\" data packet smaller than default (16KB).\n",
      "    defer_connect: Don't explicitly connect on contruction - wait for connect call.\n",
      "        (default: False)\n",
      "    auth_plugin_map: A dict of plugin names to a class that processes that plugin.\n",
      "        The class will take the Connection object as the argument to the constructor.\n",
      "        The class needs an authenticate method taking an authentication packet as\n",
      "        an argument.  For the dialog plugin, a prompt(echo, prompt) method can be used\n",
      "        (if no authenticate method) for returning a string from the user. (experimental)\n",
      "    db: Alias for database. (for compatibility to MySQLdb)\n",
      "    passwd: Alias for password. (for compatibility to MySQLdb)\n",
      "\n"
     ]
    }
   ],
   "source": [
    "help(pymysql.connect)"
   ]
  },
  {
   "cell_type": "code",
   "execution_count": 3,
   "metadata": {
    "collapsed": true
   },
   "outputs": [],
   "source": [
    "conn = pymysql.connect(host='127.0.0.1', port=3306, user='root', password='', database='demo')"
   ]
  },
  {
   "cell_type": "markdown",
   "metadata": {},
   "source": [
    "**游标**"
   ]
  },
  {
   "cell_type": "code",
   "execution_count": 4,
   "metadata": {
    "collapsed": true
   },
   "outputs": [],
   "source": [
    "cur = conn.cursor()"
   ]
  },
  {
   "cell_type": "code",
   "execution_count": 5,
   "metadata": {},
   "outputs": [
    {
     "data": {
      "text/plain": [
       "1"
      ]
     },
     "execution_count": 5,
     "metadata": {},
     "output_type": "execute_result"
    }
   ],
   "source": [
    "cur.execute('''insert into user (name, age, type, address) values ('miracle', 18, 5, 'China');''')"
   ]
  },
  {
   "cell_type": "code",
   "execution_count": 6,
   "metadata": {
    "collapsed": true
   },
   "outputs": [],
   "source": [
    "conn.commit()"
   ]
  },
  {
   "cell_type": "markdown",
   "metadata": {},
   "source": [
    "- 创建连接\n",
    "- 获取游标\n",
    "- 执行sql\n",
    "- 提交事务"
   ]
  },
  {
   "cell_type": "code",
   "execution_count": 7,
   "metadata": {
    "collapsed": true
   },
   "outputs": [],
   "source": [
    "cur.close()"
   ]
  },
  {
   "cell_type": "code",
   "execution_count": 8,
   "metadata": {
    "collapsed": true
   },
   "outputs": [],
   "source": [
    "conn.close()"
   ]
  },
  {
   "cell_type": "code",
   "execution_count": 9,
   "metadata": {},
   "outputs": [
    {
     "ename": "ProgrammingError",
     "evalue": "Cursor closed",
     "output_type": "error",
     "traceback": [
      "\u001b[0;31m-----------------------------------------\u001b[0m",
      "\u001b[0;31mProgrammingError\u001b[0mTraceback (most recent call last)",
      "\u001b[0;32m<ipython-input-9-461f32dde627>\u001b[0m in \u001b[0;36m<module>\u001b[0;34m()\u001b[0m\n\u001b[0;32m----> 1\u001b[0;31m \u001b[0mcur\u001b[0m\u001b[0;34m.\u001b[0m\u001b[0mexecute\u001b[0m\u001b[0;34m(\u001b[0m\u001b[0;34m'''insert into user (name, age, type, address) values ('miracle', 18, 5, 'China');'''\u001b[0m\u001b[0;34m)\u001b[0m\u001b[0;34m\u001b[0m\u001b[0m\n\u001b[0m",
      "\u001b[0;32m~/.pyenv/versions/3.6.1/envs/miracle_3.6/lib/python3.6/site-packages/pymysql/cursors.py\u001b[0m in \u001b[0;36mexecute\u001b[0;34m(self, query, args)\u001b[0m\n\u001b[1;32m    159\u001b[0m         \u001b[0mIf\u001b[0m \u001b[0margs\u001b[0m \u001b[0;32mis\u001b[0m \u001b[0ma\u001b[0m \u001b[0mdict\u001b[0m\u001b[0;34m,\u001b[0m \u001b[0;34m%\u001b[0m\u001b[0;34m(\u001b[0m\u001b[0mname\u001b[0m\u001b[0;34m)\u001b[0m\u001b[0ms\u001b[0m \u001b[0mcan\u001b[0m \u001b[0mbe\u001b[0m \u001b[0mused\u001b[0m \u001b[0;32mas\u001b[0m \u001b[0ma\u001b[0m \u001b[0mplaceholder\u001b[0m \u001b[0;32min\u001b[0m \u001b[0mthe\u001b[0m \u001b[0mquery\u001b[0m\u001b[0;34m.\u001b[0m\u001b[0;34m\u001b[0m\u001b[0m\n\u001b[1;32m    160\u001b[0m         \"\"\"\n\u001b[0;32m--> 161\u001b[0;31m         \u001b[0;32mwhile\u001b[0m \u001b[0mself\u001b[0m\u001b[0;34m.\u001b[0m\u001b[0mnextset\u001b[0m\u001b[0;34m(\u001b[0m\u001b[0;34m)\u001b[0m\u001b[0;34m:\u001b[0m\u001b[0;34m\u001b[0m\u001b[0m\n\u001b[0m\u001b[1;32m    162\u001b[0m             \u001b[0;32mpass\u001b[0m\u001b[0;34m\u001b[0m\u001b[0m\n\u001b[1;32m    163\u001b[0m \u001b[0;34m\u001b[0m\u001b[0m\n",
      "\u001b[0;32m~/.pyenv/versions/3.6.1/envs/miracle_3.6/lib/python3.6/site-packages/pymysql/cursors.py\u001b[0m in \u001b[0;36mnextset\u001b[0;34m(self)\u001b[0m\n\u001b[1;32m    101\u001b[0m \u001b[0;34m\u001b[0m\u001b[0m\n\u001b[1;32m    102\u001b[0m     \u001b[0;32mdef\u001b[0m \u001b[0mnextset\u001b[0m\u001b[0;34m(\u001b[0m\u001b[0mself\u001b[0m\u001b[0;34m)\u001b[0m\u001b[0;34m:\u001b[0m\u001b[0;34m\u001b[0m\u001b[0m\n\u001b[0;32m--> 103\u001b[0;31m         \u001b[0;32mreturn\u001b[0m \u001b[0mself\u001b[0m\u001b[0;34m.\u001b[0m\u001b[0m_nextset\u001b[0m\u001b[0;34m(\u001b[0m\u001b[0;32mFalse\u001b[0m\u001b[0;34m)\u001b[0m\u001b[0;34m\u001b[0m\u001b[0m\n\u001b[0m\u001b[1;32m    104\u001b[0m \u001b[0;34m\u001b[0m\u001b[0m\n\u001b[1;32m    105\u001b[0m     \u001b[0;32mdef\u001b[0m \u001b[0m_ensure_bytes\u001b[0m\u001b[0;34m(\u001b[0m\u001b[0mself\u001b[0m\u001b[0;34m,\u001b[0m \u001b[0mx\u001b[0m\u001b[0;34m,\u001b[0m \u001b[0mencoding\u001b[0m\u001b[0;34m=\u001b[0m\u001b[0;32mNone\u001b[0m\u001b[0;34m)\u001b[0m\u001b[0;34m:\u001b[0m\u001b[0;34m\u001b[0m\u001b[0m\n",
      "\u001b[0;32m~/.pyenv/versions/3.6.1/envs/miracle_3.6/lib/python3.6/site-packages/pymysql/cursors.py\u001b[0m in \u001b[0;36m_nextset\u001b[0;34m(self, unbuffered)\u001b[0m\n\u001b[1;32m     87\u001b[0m     \u001b[0;32mdef\u001b[0m \u001b[0m_nextset\u001b[0m\u001b[0;34m(\u001b[0m\u001b[0mself\u001b[0m\u001b[0;34m,\u001b[0m \u001b[0munbuffered\u001b[0m\u001b[0;34m=\u001b[0m\u001b[0;32mFalse\u001b[0m\u001b[0;34m)\u001b[0m\u001b[0;34m:\u001b[0m\u001b[0;34m\u001b[0m\u001b[0m\n\u001b[1;32m     88\u001b[0m         \u001b[0;34m\"\"\"Get the next query set\"\"\"\u001b[0m\u001b[0;34m\u001b[0m\u001b[0m\n\u001b[0;32m---> 89\u001b[0;31m         \u001b[0mconn\u001b[0m \u001b[0;34m=\u001b[0m \u001b[0mself\u001b[0m\u001b[0;34m.\u001b[0m\u001b[0m_get_db\u001b[0m\u001b[0;34m(\u001b[0m\u001b[0;34m)\u001b[0m\u001b[0;34m\u001b[0m\u001b[0m\n\u001b[0m\u001b[1;32m     90\u001b[0m         \u001b[0mcurrent_result\u001b[0m \u001b[0;34m=\u001b[0m \u001b[0mself\u001b[0m\u001b[0;34m.\u001b[0m\u001b[0m_result\u001b[0m\u001b[0;34m\u001b[0m\u001b[0m\n\u001b[1;32m     91\u001b[0m         \u001b[0;31m# for unbuffered queries warnings are only available once whole result has been read\u001b[0m\u001b[0;34m\u001b[0m\u001b[0;34m\u001b[0m\u001b[0m\n",
      "\u001b[0;32m~/.pyenv/versions/3.6.1/envs/miracle_3.6/lib/python3.6/site-packages/pymysql/cursors.py\u001b[0m in \u001b[0;36m_get_db\u001b[0;34m(self)\u001b[0m\n\u001b[1;32m     69\u001b[0m     \u001b[0;32mdef\u001b[0m \u001b[0m_get_db\u001b[0m\u001b[0;34m(\u001b[0m\u001b[0mself\u001b[0m\u001b[0;34m)\u001b[0m\u001b[0;34m:\u001b[0m\u001b[0;34m\u001b[0m\u001b[0m\n\u001b[1;32m     70\u001b[0m         \u001b[0;32mif\u001b[0m \u001b[0;32mnot\u001b[0m \u001b[0mself\u001b[0m\u001b[0;34m.\u001b[0m\u001b[0mconnection\u001b[0m\u001b[0;34m:\u001b[0m\u001b[0;34m\u001b[0m\u001b[0m\n\u001b[0;32m---> 71\u001b[0;31m             \u001b[0;32mraise\u001b[0m \u001b[0merr\u001b[0m\u001b[0;34m.\u001b[0m\u001b[0mProgrammingError\u001b[0m\u001b[0;34m(\u001b[0m\u001b[0;34m\"Cursor closed\"\u001b[0m\u001b[0;34m)\u001b[0m\u001b[0;34m\u001b[0m\u001b[0m\n\u001b[0m\u001b[1;32m     72\u001b[0m         \u001b[0;32mreturn\u001b[0m \u001b[0mself\u001b[0m\u001b[0;34m.\u001b[0m\u001b[0mconnection\u001b[0m\u001b[0;34m\u001b[0m\u001b[0m\n\u001b[1;32m     73\u001b[0m \u001b[0;34m\u001b[0m\u001b[0m\n",
      "\u001b[0;31mProgrammingError\u001b[0m: Cursor closed"
     ]
    }
   ],
   "source": [
    "cur.execute('''insert into user (name, age, type, address) values ('miracle', 18, 5, 'China');''')"
   ]
  },
  {
   "cell_type": "code",
   "execution_count": 10,
   "metadata": {
    "collapsed": true
   },
   "outputs": [],
   "source": [
    "conn = pymysql.connect(host='127.0.0.1', port=3306, user='root', password='', database='demo')"
   ]
  },
  {
   "cell_type": "code",
   "execution_count": 11,
   "metadata": {
    "collapsed": true
   },
   "outputs": [],
   "source": [
    "cur = conn.cursor()"
   ]
  },
  {
   "cell_type": "code",
   "execution_count": 12,
   "metadata": {},
   "outputs": [
    {
     "data": {
      "text/plain": [
       "1"
      ]
     },
     "execution_count": 12,
     "metadata": {},
     "output_type": "execute_result"
    }
   ],
   "source": [
    "cur.execute('''insert into user (name, age, type, address) values ('miracle', 18, 5, 'China');''')"
   ]
  },
  {
   "cell_type": "code",
   "execution_count": 14,
   "metadata": {},
   "outputs": [],
   "source": [
    "conn.commit()"
   ]
  },
  {
   "cell_type": "code",
   "execution_count": 15,
   "metadata": {},
   "outputs": [
    {
     "data": {
      "text/plain": [
       "1"
      ]
     },
     "execution_count": 15,
     "metadata": {},
     "output_type": "execute_result"
    }
   ],
   "source": [
    "cur.execute('''insert into user (name, age, type, address) values ('ziqi', 18, 5, 'taiwan');''')"
   ]
  },
  {
   "cell_type": "code",
   "execution_count": 16,
   "metadata": {
    "collapsed": true
   },
   "outputs": [],
   "source": [
    "conn.commit()"
   ]
  },
  {
   "cell_type": "code",
   "execution_count": 17,
   "metadata": {
    "collapsed": true
   },
   "outputs": [],
   "source": [
    "cur.close()"
   ]
  },
  {
   "cell_type": "code",
   "execution_count": 18,
   "metadata": {},
   "outputs": [
    {
     "ename": "ProgrammingError",
     "evalue": "Cursor closed",
     "output_type": "error",
     "traceback": [
      "\u001b[0;31m-----------------------------------------\u001b[0m",
      "\u001b[0;31mProgrammingError\u001b[0mTraceback (most recent call last)",
      "\u001b[0;32m<ipython-input-18-9cd77126ef0a>\u001b[0m in \u001b[0;36m<module>\u001b[0;34m()\u001b[0m\n\u001b[0;32m----> 1\u001b[0;31m \u001b[0mcur\u001b[0m\u001b[0;34m.\u001b[0m\u001b[0mexecute\u001b[0m\u001b[0;34m(\u001b[0m\u001b[0;34m'''insert into user (name, age, type, address) values ('ziqi', 18, 5, 'taiwan');'''\u001b[0m\u001b[0;34m)\u001b[0m\u001b[0;34m\u001b[0m\u001b[0m\n\u001b[0m",
      "\u001b[0;32m~/.pyenv/versions/3.6.1/envs/miracle_3.6/lib/python3.6/site-packages/pymysql/cursors.py\u001b[0m in \u001b[0;36mexecute\u001b[0;34m(self, query, args)\u001b[0m\n\u001b[1;32m    159\u001b[0m         \u001b[0mIf\u001b[0m \u001b[0margs\u001b[0m \u001b[0;32mis\u001b[0m \u001b[0ma\u001b[0m \u001b[0mdict\u001b[0m\u001b[0;34m,\u001b[0m \u001b[0;34m%\u001b[0m\u001b[0;34m(\u001b[0m\u001b[0mname\u001b[0m\u001b[0;34m)\u001b[0m\u001b[0ms\u001b[0m \u001b[0mcan\u001b[0m \u001b[0mbe\u001b[0m \u001b[0mused\u001b[0m \u001b[0;32mas\u001b[0m \u001b[0ma\u001b[0m \u001b[0mplaceholder\u001b[0m \u001b[0;32min\u001b[0m \u001b[0mthe\u001b[0m \u001b[0mquery\u001b[0m\u001b[0;34m.\u001b[0m\u001b[0;34m\u001b[0m\u001b[0m\n\u001b[1;32m    160\u001b[0m         \"\"\"\n\u001b[0;32m--> 161\u001b[0;31m         \u001b[0;32mwhile\u001b[0m \u001b[0mself\u001b[0m\u001b[0;34m.\u001b[0m\u001b[0mnextset\u001b[0m\u001b[0;34m(\u001b[0m\u001b[0;34m)\u001b[0m\u001b[0;34m:\u001b[0m\u001b[0;34m\u001b[0m\u001b[0m\n\u001b[0m\u001b[1;32m    162\u001b[0m             \u001b[0;32mpass\u001b[0m\u001b[0;34m\u001b[0m\u001b[0m\n\u001b[1;32m    163\u001b[0m \u001b[0;34m\u001b[0m\u001b[0m\n",
      "\u001b[0;32m~/.pyenv/versions/3.6.1/envs/miracle_3.6/lib/python3.6/site-packages/pymysql/cursors.py\u001b[0m in \u001b[0;36mnextset\u001b[0;34m(self)\u001b[0m\n\u001b[1;32m    101\u001b[0m \u001b[0;34m\u001b[0m\u001b[0m\n\u001b[1;32m    102\u001b[0m     \u001b[0;32mdef\u001b[0m \u001b[0mnextset\u001b[0m\u001b[0;34m(\u001b[0m\u001b[0mself\u001b[0m\u001b[0;34m)\u001b[0m\u001b[0;34m:\u001b[0m\u001b[0;34m\u001b[0m\u001b[0m\n\u001b[0;32m--> 103\u001b[0;31m         \u001b[0;32mreturn\u001b[0m \u001b[0mself\u001b[0m\u001b[0;34m.\u001b[0m\u001b[0m_nextset\u001b[0m\u001b[0;34m(\u001b[0m\u001b[0;32mFalse\u001b[0m\u001b[0;34m)\u001b[0m\u001b[0;34m\u001b[0m\u001b[0m\n\u001b[0m\u001b[1;32m    104\u001b[0m \u001b[0;34m\u001b[0m\u001b[0m\n\u001b[1;32m    105\u001b[0m     \u001b[0;32mdef\u001b[0m \u001b[0m_ensure_bytes\u001b[0m\u001b[0;34m(\u001b[0m\u001b[0mself\u001b[0m\u001b[0;34m,\u001b[0m \u001b[0mx\u001b[0m\u001b[0;34m,\u001b[0m \u001b[0mencoding\u001b[0m\u001b[0;34m=\u001b[0m\u001b[0;32mNone\u001b[0m\u001b[0;34m)\u001b[0m\u001b[0;34m:\u001b[0m\u001b[0;34m\u001b[0m\u001b[0m\n",
      "\u001b[0;32m~/.pyenv/versions/3.6.1/envs/miracle_3.6/lib/python3.6/site-packages/pymysql/cursors.py\u001b[0m in \u001b[0;36m_nextset\u001b[0;34m(self, unbuffered)\u001b[0m\n\u001b[1;32m     87\u001b[0m     \u001b[0;32mdef\u001b[0m \u001b[0m_nextset\u001b[0m\u001b[0;34m(\u001b[0m\u001b[0mself\u001b[0m\u001b[0;34m,\u001b[0m \u001b[0munbuffered\u001b[0m\u001b[0;34m=\u001b[0m\u001b[0;32mFalse\u001b[0m\u001b[0;34m)\u001b[0m\u001b[0;34m:\u001b[0m\u001b[0;34m\u001b[0m\u001b[0m\n\u001b[1;32m     88\u001b[0m         \u001b[0;34m\"\"\"Get the next query set\"\"\"\u001b[0m\u001b[0;34m\u001b[0m\u001b[0m\n\u001b[0;32m---> 89\u001b[0;31m         \u001b[0mconn\u001b[0m \u001b[0;34m=\u001b[0m \u001b[0mself\u001b[0m\u001b[0;34m.\u001b[0m\u001b[0m_get_db\u001b[0m\u001b[0;34m(\u001b[0m\u001b[0;34m)\u001b[0m\u001b[0;34m\u001b[0m\u001b[0m\n\u001b[0m\u001b[1;32m     90\u001b[0m         \u001b[0mcurrent_result\u001b[0m \u001b[0;34m=\u001b[0m \u001b[0mself\u001b[0m\u001b[0;34m.\u001b[0m\u001b[0m_result\u001b[0m\u001b[0;34m\u001b[0m\u001b[0m\n\u001b[1;32m     91\u001b[0m         \u001b[0;31m# for unbuffered queries warnings are only available once whole result has been read\u001b[0m\u001b[0;34m\u001b[0m\u001b[0;34m\u001b[0m\u001b[0m\n",
      "\u001b[0;32m~/.pyenv/versions/3.6.1/envs/miracle_3.6/lib/python3.6/site-packages/pymysql/cursors.py\u001b[0m in \u001b[0;36m_get_db\u001b[0;34m(self)\u001b[0m\n\u001b[1;32m     69\u001b[0m     \u001b[0;32mdef\u001b[0m \u001b[0m_get_db\u001b[0m\u001b[0;34m(\u001b[0m\u001b[0mself\u001b[0m\u001b[0;34m)\u001b[0m\u001b[0;34m:\u001b[0m\u001b[0;34m\u001b[0m\u001b[0m\n\u001b[1;32m     70\u001b[0m         \u001b[0;32mif\u001b[0m \u001b[0;32mnot\u001b[0m \u001b[0mself\u001b[0m\u001b[0;34m.\u001b[0m\u001b[0mconnection\u001b[0m\u001b[0;34m:\u001b[0m\u001b[0;34m\u001b[0m\u001b[0m\n\u001b[0;32m---> 71\u001b[0;31m             \u001b[0;32mraise\u001b[0m \u001b[0merr\u001b[0m\u001b[0;34m.\u001b[0m\u001b[0mProgrammingError\u001b[0m\u001b[0;34m(\u001b[0m\u001b[0;34m\"Cursor closed\"\u001b[0m\u001b[0;34m)\u001b[0m\u001b[0;34m\u001b[0m\u001b[0m\n\u001b[0m\u001b[1;32m     72\u001b[0m         \u001b[0;32mreturn\u001b[0m \u001b[0mself\u001b[0m\u001b[0;34m.\u001b[0m\u001b[0mconnection\u001b[0m\u001b[0;34m\u001b[0m\u001b[0m\n\u001b[1;32m     73\u001b[0m \u001b[0;34m\u001b[0m\u001b[0m\n",
      "\u001b[0;31mProgrammingError\u001b[0m: Cursor closed"
     ]
    }
   ],
   "source": [
    "cur.execute('''insert into user (name, age, type, address) values ('ziqi', 18, 5, 'taiwan');''')"
   ]
  },
  {
   "cell_type": "code",
   "execution_count": 19,
   "metadata": {
    "collapsed": true
   },
   "outputs": [],
   "source": [
    "cur = conn.cursor()"
   ]
  },
  {
   "cell_type": "code",
   "execution_count": 20,
   "metadata": {},
   "outputs": [
    {
     "data": {
      "text/plain": [
       "6"
      ]
     },
     "execution_count": 20,
     "metadata": {},
     "output_type": "execute_result"
    }
   ],
   "source": [
    "cur.execute('''select * from user where age <= 18''')"
   ]
  },
  {
   "cell_type": "code",
   "execution_count": 21,
   "metadata": {},
   "outputs": [
    {
     "data": {
      "text/plain": [
       "((1, 'miracle', 18, 1, 'shanghai'),\n",
       " (126, 'ziqi', 18, 5, None),\n",
       " (130, '???', 0, 1, None),\n",
       " (132, 'miracle', 18, 5, 'China'),\n",
       " (133, 'miracle', 18, 5, 'China'),\n",
       " (134, 'ziqi', 18, 5, 'taiwan'))"
      ]
     },
     "execution_count": 21,
     "metadata": {},
     "output_type": "execute_result"
    }
   ],
   "source": [
    "cur.fetchall()"
   ]
  },
  {
   "cell_type": "code",
   "execution_count": 22,
   "metadata": {},
   "outputs": [
    {
     "data": {
      "text/plain": [
       "()"
      ]
     },
     "execution_count": 22,
     "metadata": {},
     "output_type": "execute_result"
    }
   ],
   "source": [
    "cur.fetchall()"
   ]
  },
  {
   "cell_type": "code",
   "execution_count": 23,
   "metadata": {},
   "outputs": [
    {
     "name": "stdout",
     "output_type": "stream",
     "text": [
      "Help on method fetchmany in module pymysql.cursors:\n",
      "\n",
      "fetchmany(size=None) method of pymysql.cursors.Cursor instance\n",
      "    Fetch several rows\n",
      "\n"
     ]
    }
   ],
   "source": [
    "help(cur.fetchmany)"
   ]
  },
  {
   "cell_type": "code",
   "execution_count": 24,
   "metadata": {},
   "outputs": [
    {
     "data": {
      "text/plain": [
       "6"
      ]
     },
     "execution_count": 24,
     "metadata": {},
     "output_type": "execute_result"
    }
   ],
   "source": [
    "cur.execute('''select * from user where age <= 18''')"
   ]
  },
  {
   "cell_type": "code",
   "execution_count": 28,
   "metadata": {},
   "outputs": [
    {
     "data": {
      "text/plain": [
       "((132, 'miracle', 18, 5, 'China'),)"
      ]
     },
     "execution_count": 28,
     "metadata": {},
     "output_type": "execute_result"
    }
   ],
   "source": [
    "cur.fetchmany(1)"
   ]
  },
  {
   "cell_type": "code",
   "execution_count": 26,
   "metadata": {},
   "outputs": [
    {
     "data": {
      "text/plain": [
       "(126, 'ziqi', 18, 5, None)"
      ]
     },
     "execution_count": 26,
     "metadata": {},
     "output_type": "execute_result"
    }
   ],
   "source": [
    "cur.fetchone()"
   ]
  },
  {
   "cell_type": "markdown",
   "metadata": {},
   "source": [
    "- `fetchmany=1` 返回一个元组，里面只有一组数据\n",
    "- `fetchall` 返回的也是一个元组，只不过是全部\n",
    "- `fetchone` 返回一行数据\n"
   ]
  },
  {
   "cell_type": "markdown",
   "metadata": {},
   "source": [
    "- `fetchall` 返回的是一个元组\n",
    "- `fetchmany` 返回元组，等于返回前size行数据，相当于`fetchall[:N]`\n",
    "- `fetchone` 返回首行 相当于`fetchall[0]`"
   ]
  },
  {
   "cell_type": "markdown",
   "metadata": {},
   "source": [
    "`fetchall`, `fetchmany`, `fetchone` 他们的差异1都是在客户端决定的"
   ]
  },
  {
   "cell_type": "code",
   "execution_count": 29,
   "metadata": {},
   "outputs": [
    {
     "data": {
      "text/plain": [
       "5"
      ]
     },
     "execution_count": 29,
     "metadata": {},
     "output_type": "execute_result"
    }
   ],
   "source": [
    "cur.execute('''desc user''')"
   ]
  },
  {
   "cell_type": "code",
   "execution_count": 30,
   "metadata": {},
   "outputs": [
    {
     "data": {
      "text/plain": [
       "(('id', 'int(11)', 'NO', 'PRI', None, 'auto_increment'),\n",
       " ('name', 'varchar(255)', 'NO', '', '', ''),\n",
       " ('age', 'int(11)', 'NO', '', '0', ''),\n",
       " ('type', 'int(2)', 'NO', 'MUL', '0', ''),\n",
       " ('address', 'varchar(255)', 'YES', '', None, ''))"
      ]
     },
     "execution_count": 30,
     "metadata": {},
     "output_type": "execute_result"
    }
   ],
   "source": [
    "cur.fetchall()"
   ]
  },
  {
   "cell_type": "code",
   "execution_count": 31,
   "metadata": {
    "collapsed": true
   },
   "outputs": [],
   "source": [
    "cur.close()"
   ]
  },
  {
   "cell_type": "code",
   "execution_count": 32,
   "metadata": {
    "collapsed": true
   },
   "outputs": [],
   "source": [
    "from pymysql.cursors import DictCursor"
   ]
  },
  {
   "cell_type": "code",
   "execution_count": 33,
   "metadata": {
    "collapsed": true
   },
   "outputs": [],
   "source": [
    "cur = conn.cursor(cursor=DictCursor)"
   ]
  },
  {
   "cell_type": "code",
   "execution_count": 34,
   "metadata": {},
   "outputs": [
    {
     "data": {
      "text/plain": [
       "12"
      ]
     },
     "execution_count": 34,
     "metadata": {},
     "output_type": "execute_result"
    }
   ],
   "source": [
    "cur.execute('''select * from user;''')"
   ]
  },
  {
   "cell_type": "code",
   "execution_count": 35,
   "metadata": {},
   "outputs": [
    {
     "data": {
      "text/plain": [
       "[{'address': 'shanghai', 'age': 18, 'id': 1, 'name': 'miracle', 'type': 1},\n",
       " {'address': None, 'age': 22, 'id': 124, 'name': 'magedu', 'type': 2},\n",
       " {'address': None, 'age': 25, 'id': 125, 'name': 'ck', 'type': 5},\n",
       " {'address': None, 'age': 18, 'id': 126, 'name': 'ziqi', 'type': 5},\n",
       " {'address': None, 'age': 30, 'id': 127, 'name': '???', 'type': 3},\n",
       " {'address': None, 'age': 30, 'id': 128, 'name': '???', 'type': 6},\n",
       " {'address': None, 'age': 50, 'id': 129, 'name': '???', 'type': 2},\n",
       " {'address': None, 'age': 0, 'id': 130, 'name': '???', 'type': 1},\n",
       " {'address': 'US', 'age': 99, 'id': 131, 'name': 'test', 'type': 3},\n",
       " {'address': 'China', 'age': 18, 'id': 132, 'name': 'miracle', 'type': 5},\n",
       " {'address': 'China', 'age': 18, 'id': 133, 'name': 'miracle', 'type': 5},\n",
       " {'address': 'taiwan', 'age': 18, 'id': 134, 'name': 'ziqi', 'type': 5}]"
      ]
     },
     "execution_count": 35,
     "metadata": {},
     "output_type": "execute_result"
    }
   ],
   "source": [
    "cur.fetchall()"
   ]
  },
  {
   "cell_type": "code",
   "execution_count": 36,
   "metadata": {},
   "outputs": [
    {
     "data": {
      "text/plain": [
       "5"
      ]
     },
     "execution_count": 36,
     "metadata": {},
     "output_type": "execute_result"
    }
   ],
   "source": [
    "cur.execute('''desc user''')"
   ]
  },
  {
   "cell_type": "code",
   "execution_count": 37,
   "metadata": {},
   "outputs": [
    {
     "data": {
      "text/plain": [
       "[{'Default': None,\n",
       "  'Extra': 'auto_increment',\n",
       "  'Field': 'id',\n",
       "  'Key': 'PRI',\n",
       "  'Null': 'NO',\n",
       "  'Type': 'int(11)'},\n",
       " {'Default': '',\n",
       "  'Extra': '',\n",
       "  'Field': 'name',\n",
       "  'Key': '',\n",
       "  'Null': 'NO',\n",
       "  'Type': 'varchar(255)'},\n",
       " {'Default': '0',\n",
       "  'Extra': '',\n",
       "  'Field': 'age',\n",
       "  'Key': '',\n",
       "  'Null': 'NO',\n",
       "  'Type': 'int(11)'},\n",
       " {'Default': '0',\n",
       "  'Extra': '',\n",
       "  'Field': 'type',\n",
       "  'Key': 'MUL',\n",
       "  'Null': 'NO',\n",
       "  'Type': 'int(2)'},\n",
       " {'Default': None,\n",
       "  'Extra': '',\n",
       "  'Field': 'address',\n",
       "  'Key': '',\n",
       "  'Null': 'YES',\n",
       "  'Type': 'varchar(255)'}]"
      ]
     },
     "execution_count": 37,
     "metadata": {},
     "output_type": "execute_result"
    }
   ],
   "source": [
    "cur.fetchall()"
   ]
  },
  {
   "cell_type": "markdown",
   "metadata": {},
   "source": [
    "- 创建连接\n",
    "- 增删改查，update，delete，带着where 条件练\n",
    "- `fetch*` 都要练习\n",
    "- 字典游标，`DictCursor`, `from pymysql.cursors import DictCursor`"
   ]
  },
  {
   "cell_type": "markdown",
   "metadata": {},
   "source": [
    "### 参数化查询"
   ]
  },
  {
   "cell_type": "code",
   "execution_count": null,
   "metadata": {
    "collapsed": true
   },
   "outputs": [],
   "source": [
    "cur.execute('''select * from user where age <= 18;''')"
   ]
  },
  {
   "cell_type": "code",
   "execution_count": 40,
   "metadata": {
    "collapsed": true
   },
   "outputs": [],
   "source": [
    "def get_juveniles(age=18):\n",
    "    cur.execute('''select * from user where age <= {};'''.format(age))\n",
    "    return cur.fetchall()"
   ]
  },
  {
   "cell_type": "code",
   "execution_count": 41,
   "metadata": {},
   "outputs": [
    {
     "data": {
      "text/plain": [
       "[{'address': 'shanghai', 'age': 18, 'id': 1, 'name': 'miracle', 'type': 1},\n",
       " {'address': None, 'age': 18, 'id': 126, 'name': 'ziqi', 'type': 5},\n",
       " {'address': None, 'age': 0, 'id': 130, 'name': '???', 'type': 1},\n",
       " {'address': 'China', 'age': 18, 'id': 132, 'name': 'miracle', 'type': 5},\n",
       " {'address': 'China', 'age': 18, 'id': 133, 'name': 'miracle', 'type': 5},\n",
       " {'address': 'taiwan', 'age': 18, 'id': 134, 'name': 'ziqi', 'type': 5}]"
      ]
     },
     "execution_count": 41,
     "metadata": {},
     "output_type": "execute_result"
    }
   ],
   "source": [
    "get_juveniles(18)"
   ]
  },
  {
   "cell_type": "code",
   "execution_count": 42,
   "metadata": {},
   "outputs": [
    {
     "data": {
      "text/plain": [
       "[{'address': 'shanghai', 'age': 18, 'id': 1, 'name': 'miracle', 'type': 1},\n",
       " {'address': None, 'age': 18, 'id': 126, 'name': 'ziqi', 'type': 5},\n",
       " {'address': None, 'age': 0, 'id': 130, 'name': '???', 'type': 1},\n",
       " {'address': 'China', 'age': 18, 'id': 132, 'name': 'miracle', 'type': 5},\n",
       " {'address': 'China', 'age': 18, 'id': 133, 'name': 'miracle', 'type': 5},\n",
       " {'address': 'taiwan', 'age': 18, 'id': 134, 'name': 'ziqi', 'type': 5}]"
      ]
     },
     "execution_count": 42,
     "metadata": {},
     "output_type": "execute_result"
    }
   ],
   "source": [
    "get_juveniles('18')"
   ]
  },
  {
   "cell_type": "code",
   "execution_count": 43,
   "metadata": {},
   "outputs": [
    {
     "data": {
      "text/plain": [
       "[{'address': 'shanghai', 'age': 18, 'id': 1, 'name': 'miracle', 'type': 1},\n",
       " {'address': None, 'age': 22, 'id': 124, 'name': 'magedu', 'type': 2},\n",
       " {'address': None, 'age': 25, 'id': 125, 'name': 'ck', 'type': 5},\n",
       " {'address': None, 'age': 18, 'id': 126, 'name': 'ziqi', 'type': 5},\n",
       " {'address': None, 'age': 30, 'id': 127, 'name': '???', 'type': 3},\n",
       " {'address': None, 'age': 30, 'id': 128, 'name': '???', 'type': 6},\n",
       " {'address': None, 'age': 50, 'id': 129, 'name': '???', 'type': 2},\n",
       " {'address': None, 'age': 0, 'id': 130, 'name': '???', 'type': 1},\n",
       " {'address': 'US', 'age': 99, 'id': 131, 'name': 'test', 'type': 3},\n",
       " {'address': 'China', 'age': 18, 'id': 132, 'name': 'miracle', 'type': 5},\n",
       " {'address': 'China', 'age': 18, 'id': 133, 'name': 'miracle', 'type': 5},\n",
       " {'address': 'taiwan', 'age': 18, 'id': 134, 'name': 'ziqi', 'type': 5}]"
      ]
     },
     "execution_count": 43,
     "metadata": {},
     "output_type": "execute_result"
    }
   ],
   "source": [
    "get_juveniles('18 or 1=1')"
   ]
  },
  {
   "cell_type": "code",
   "execution_count": 45,
   "metadata": {
    "collapsed": true
   },
   "outputs": [],
   "source": [
    "def get_juveniles(age=18):\n",
    "    query = '''select * from user where age <= %s;'''\n",
    "    cur.execute(query, age)\n",
    "    return cur.fetchall()"
   ]
  },
  {
   "cell_type": "code",
   "execution_count": 46,
   "metadata": {},
   "outputs": [
    {
     "data": {
      "text/plain": [
       "[{'address': 'shanghai', 'age': 18, 'id': 1, 'name': 'miracle', 'type': 1},\n",
       " {'address': None, 'age': 18, 'id': 126, 'name': 'ziqi', 'type': 5},\n",
       " {'address': None, 'age': 0, 'id': 130, 'name': '???', 'type': 1},\n",
       " {'address': 'China', 'age': 18, 'id': 132, 'name': 'miracle', 'type': 5},\n",
       " {'address': 'China', 'age': 18, 'id': 133, 'name': 'miracle', 'type': 5},\n",
       " {'address': 'taiwan', 'age': 18, 'id': 134, 'name': 'ziqi', 'type': 5}]"
      ]
     },
     "execution_count": 46,
     "metadata": {},
     "output_type": "execute_result"
    }
   ],
   "source": [
    "get_juveniles()"
   ]
  },
  {
   "cell_type": "code",
   "execution_count": 47,
   "metadata": {},
   "outputs": [
    {
     "name": "stderr",
     "output_type": "stream",
     "text": [
      "/Users/miracleYoung/.pyenv/versions/3.6.1/envs/miracle_3.6/lib/python3.6/site-packages/pymysql/cursors.py:323: Warning: (1292, \"Truncated incorrect DOUBLE value: '18 or 1=1'\")\n",
      "  self._do_get_result()\n"
     ]
    },
    {
     "data": {
      "text/plain": [
       "[{'address': 'shanghai', 'age': 18, 'id': 1, 'name': 'miracle', 'type': 1},\n",
       " {'address': None, 'age': 18, 'id': 126, 'name': 'ziqi', 'type': 5},\n",
       " {'address': None, 'age': 0, 'id': 130, 'name': '???', 'type': 1},\n",
       " {'address': 'China', 'age': 18, 'id': 132, 'name': 'miracle', 'type': 5},\n",
       " {'address': 'China', 'age': 18, 'id': 133, 'name': 'miracle', 'type': 5},\n",
       " {'address': 'taiwan', 'age': 18, 'id': 134, 'name': 'ziqi', 'type': 5}]"
      ]
     },
     "execution_count": 47,
     "metadata": {},
     "output_type": "execute_result"
    }
   ],
   "source": [
    "get_juveniles('18 or 1=1')"
   ]
  },
  {
   "cell_type": "code",
   "execution_count": 49,
   "metadata": {},
   "outputs": [
    {
     "name": "stderr",
     "output_type": "stream",
     "text": [
      "/Users/miracleYoung/.pyenv/versions/3.6.1/envs/miracle_3.6/lib/python3.6/site-packages/pymysql/cursors.py:323: Warning: (1292, \"Truncated incorrect DOUBLE value: 'sdfsf'\")\n",
      "  self._do_get_result()\n"
     ]
    },
    {
     "data": {
      "text/plain": [
       "[{'address': None, 'age': 0, 'id': 130, 'name': '???', 'type': 1}]"
      ]
     },
     "execution_count": 49,
     "metadata": {},
     "output_type": "execute_result"
    }
   ],
   "source": [
    "get_juveniles('sdfsf')"
   ]
  },
  {
   "cell_type": "code",
   "execution_count": 52,
   "metadata": {
    "collapsed": true
   },
   "outputs": [],
   "source": [
    "def get_juveniles(age=18):\n",
    "    query = '''select * from user where age <= %(age)s;'''\n",
    "    cur.execute(query, {'age': age})\n",
    "    return cur.fetchall()"
   ]
  },
  {
   "cell_type": "code",
   "execution_count": 53,
   "metadata": {},
   "outputs": [
    {
     "name": "stderr",
     "output_type": "stream",
     "text": [
      "/Users/miracleYoung/.pyenv/versions/3.6.1/envs/miracle_3.6/lib/python3.6/site-packages/pymysql/cursors.py:323: Warning: (1292, \"Truncated incorrect DOUBLE value: '18 or 1=1'\")\n",
      "  self._do_get_result()\n"
     ]
    },
    {
     "data": {
      "text/plain": [
       "[{'address': 'shanghai', 'age': 18, 'id': 1, 'name': 'miracle', 'type': 1},\n",
       " {'address': None, 'age': 18, 'id': 126, 'name': 'ziqi', 'type': 5},\n",
       " {'address': None, 'age': 0, 'id': 130, 'name': '???', 'type': 1},\n",
       " {'address': 'China', 'age': 18, 'id': 132, 'name': 'miracle', 'type': 5},\n",
       " {'address': 'China', 'age': 18, 'id': 133, 'name': 'miracle', 'type': 5},\n",
       " {'address': 'taiwan', 'age': 18, 'id': 134, 'name': 'ziqi', 'type': 5}]"
      ]
     },
     "execution_count": 53,
     "metadata": {},
     "output_type": "execute_result"
    }
   ],
   "source": [
    "get_juveniles('18 or 1=1')"
   ]
  },
  {
   "cell_type": "code",
   "execution_count": 58,
   "metadata": {},
   "outputs": [],
   "source": [
    "name = 'miracle'"
   ]
  },
  {
   "cell_type": "code",
   "execution_count": 59,
   "metadata": {},
   "outputs": [],
   "source": [
    "a = f'{name}'"
   ]
  },
  {
   "cell_type": "code",
   "execution_count": 60,
   "metadata": {},
   "outputs": [
    {
     "data": {
      "text/plain": [
       "'miracle'"
      ]
     },
     "execution_count": 60,
     "metadata": {},
     "output_type": "execute_result"
    }
   ],
   "source": [
    "a"
   ]
  },
  {
   "cell_type": "code",
   "execution_count": 62,
   "metadata": {},
   "outputs": [],
   "source": [
    "with cur:\n",
    "    cur.execute('''update user set age = 20 where name ='miracle'; ''')"
   ]
  },
  {
   "cell_type": "code",
   "execution_count": 63,
   "metadata": {
    "collapsed": true
   },
   "outputs": [],
   "source": [
    "conn.commit()"
   ]
  },
  {
   "cell_type": "code",
   "execution_count": 64,
   "metadata": {},
   "outputs": [
    {
     "ename": "ProgrammingError",
     "evalue": "Cursor closed",
     "output_type": "error",
     "traceback": [
      "\u001b[0;31m-----------------------------------------\u001b[0m",
      "\u001b[0;31mProgrammingError\u001b[0mTraceback (most recent call last)",
      "\u001b[0;32m<ipython-input-64-efda0c5c179d>\u001b[0m in \u001b[0;36m<module>\u001b[0;34m()\u001b[0m\n\u001b[0;32m----> 1\u001b[0;31m \u001b[0mcur\u001b[0m\u001b[0;34m.\u001b[0m\u001b[0mexecute\u001b[0m\u001b[0;34m(\u001b[0m\u001b[0;34m'select 1'\u001b[0m\u001b[0;34m)\u001b[0m\u001b[0;34m\u001b[0m\u001b[0m\n\u001b[0m",
      "\u001b[0;32m~/.pyenv/versions/3.6.1/envs/miracle_3.6/lib/python3.6/site-packages/pymysql/cursors.py\u001b[0m in \u001b[0;36mexecute\u001b[0;34m(self, query, args)\u001b[0m\n\u001b[1;32m    159\u001b[0m         \u001b[0mIf\u001b[0m \u001b[0margs\u001b[0m \u001b[0;32mis\u001b[0m \u001b[0ma\u001b[0m \u001b[0mdict\u001b[0m\u001b[0;34m,\u001b[0m \u001b[0;34m%\u001b[0m\u001b[0;34m(\u001b[0m\u001b[0mname\u001b[0m\u001b[0;34m)\u001b[0m\u001b[0ms\u001b[0m \u001b[0mcan\u001b[0m \u001b[0mbe\u001b[0m \u001b[0mused\u001b[0m \u001b[0;32mas\u001b[0m \u001b[0ma\u001b[0m \u001b[0mplaceholder\u001b[0m \u001b[0;32min\u001b[0m \u001b[0mthe\u001b[0m \u001b[0mquery\u001b[0m\u001b[0;34m.\u001b[0m\u001b[0;34m\u001b[0m\u001b[0m\n\u001b[1;32m    160\u001b[0m         \"\"\"\n\u001b[0;32m--> 161\u001b[0;31m         \u001b[0;32mwhile\u001b[0m \u001b[0mself\u001b[0m\u001b[0;34m.\u001b[0m\u001b[0mnextset\u001b[0m\u001b[0;34m(\u001b[0m\u001b[0;34m)\u001b[0m\u001b[0;34m:\u001b[0m\u001b[0;34m\u001b[0m\u001b[0m\n\u001b[0m\u001b[1;32m    162\u001b[0m             \u001b[0;32mpass\u001b[0m\u001b[0;34m\u001b[0m\u001b[0m\n\u001b[1;32m    163\u001b[0m \u001b[0;34m\u001b[0m\u001b[0m\n",
      "\u001b[0;32m~/.pyenv/versions/3.6.1/envs/miracle_3.6/lib/python3.6/site-packages/pymysql/cursors.py\u001b[0m in \u001b[0;36mnextset\u001b[0;34m(self)\u001b[0m\n\u001b[1;32m    101\u001b[0m \u001b[0;34m\u001b[0m\u001b[0m\n\u001b[1;32m    102\u001b[0m     \u001b[0;32mdef\u001b[0m \u001b[0mnextset\u001b[0m\u001b[0;34m(\u001b[0m\u001b[0mself\u001b[0m\u001b[0;34m)\u001b[0m\u001b[0;34m:\u001b[0m\u001b[0;34m\u001b[0m\u001b[0m\n\u001b[0;32m--> 103\u001b[0;31m         \u001b[0;32mreturn\u001b[0m \u001b[0mself\u001b[0m\u001b[0;34m.\u001b[0m\u001b[0m_nextset\u001b[0m\u001b[0;34m(\u001b[0m\u001b[0;32mFalse\u001b[0m\u001b[0;34m)\u001b[0m\u001b[0;34m\u001b[0m\u001b[0m\n\u001b[0m\u001b[1;32m    104\u001b[0m \u001b[0;34m\u001b[0m\u001b[0m\n\u001b[1;32m    105\u001b[0m     \u001b[0;32mdef\u001b[0m \u001b[0m_ensure_bytes\u001b[0m\u001b[0;34m(\u001b[0m\u001b[0mself\u001b[0m\u001b[0;34m,\u001b[0m \u001b[0mx\u001b[0m\u001b[0;34m,\u001b[0m \u001b[0mencoding\u001b[0m\u001b[0;34m=\u001b[0m\u001b[0;32mNone\u001b[0m\u001b[0;34m)\u001b[0m\u001b[0;34m:\u001b[0m\u001b[0;34m\u001b[0m\u001b[0m\n",
      "\u001b[0;32m~/.pyenv/versions/3.6.1/envs/miracle_3.6/lib/python3.6/site-packages/pymysql/cursors.py\u001b[0m in \u001b[0;36m_nextset\u001b[0;34m(self, unbuffered)\u001b[0m\n\u001b[1;32m     87\u001b[0m     \u001b[0;32mdef\u001b[0m \u001b[0m_nextset\u001b[0m\u001b[0;34m(\u001b[0m\u001b[0mself\u001b[0m\u001b[0;34m,\u001b[0m \u001b[0munbuffered\u001b[0m\u001b[0;34m=\u001b[0m\u001b[0;32mFalse\u001b[0m\u001b[0;34m)\u001b[0m\u001b[0;34m:\u001b[0m\u001b[0;34m\u001b[0m\u001b[0m\n\u001b[1;32m     88\u001b[0m         \u001b[0;34m\"\"\"Get the next query set\"\"\"\u001b[0m\u001b[0;34m\u001b[0m\u001b[0m\n\u001b[0;32m---> 89\u001b[0;31m         \u001b[0mconn\u001b[0m \u001b[0;34m=\u001b[0m \u001b[0mself\u001b[0m\u001b[0;34m.\u001b[0m\u001b[0m_get_db\u001b[0m\u001b[0;34m(\u001b[0m\u001b[0;34m)\u001b[0m\u001b[0;34m\u001b[0m\u001b[0m\n\u001b[0m\u001b[1;32m     90\u001b[0m         \u001b[0mcurrent_result\u001b[0m \u001b[0;34m=\u001b[0m \u001b[0mself\u001b[0m\u001b[0;34m.\u001b[0m\u001b[0m_result\u001b[0m\u001b[0;34m\u001b[0m\u001b[0m\n\u001b[1;32m     91\u001b[0m         \u001b[0;31m# for unbuffered queries warnings are only available once whole result has been read\u001b[0m\u001b[0;34m\u001b[0m\u001b[0;34m\u001b[0m\u001b[0m\n",
      "\u001b[0;32m~/.pyenv/versions/3.6.1/envs/miracle_3.6/lib/python3.6/site-packages/pymysql/cursors.py\u001b[0m in \u001b[0;36m_get_db\u001b[0;34m(self)\u001b[0m\n\u001b[1;32m     69\u001b[0m     \u001b[0;32mdef\u001b[0m \u001b[0m_get_db\u001b[0m\u001b[0;34m(\u001b[0m\u001b[0mself\u001b[0m\u001b[0;34m)\u001b[0m\u001b[0;34m:\u001b[0m\u001b[0;34m\u001b[0m\u001b[0m\n\u001b[1;32m     70\u001b[0m         \u001b[0;32mif\u001b[0m \u001b[0;32mnot\u001b[0m \u001b[0mself\u001b[0m\u001b[0;34m.\u001b[0m\u001b[0mconnection\u001b[0m\u001b[0;34m:\u001b[0m\u001b[0;34m\u001b[0m\u001b[0m\n\u001b[0;32m---> 71\u001b[0;31m             \u001b[0;32mraise\u001b[0m \u001b[0merr\u001b[0m\u001b[0;34m.\u001b[0m\u001b[0mProgrammingError\u001b[0m\u001b[0;34m(\u001b[0m\u001b[0;34m\"Cursor closed\"\u001b[0m\u001b[0;34m)\u001b[0m\u001b[0;34m\u001b[0m\u001b[0m\n\u001b[0m\u001b[1;32m     72\u001b[0m         \u001b[0;32mreturn\u001b[0m \u001b[0mself\u001b[0m\u001b[0;34m.\u001b[0m\u001b[0mconnection\u001b[0m\u001b[0;34m\u001b[0m\u001b[0m\n\u001b[1;32m     73\u001b[0m \u001b[0;34m\u001b[0m\u001b[0m\n",
      "\u001b[0;31mProgrammingError\u001b[0m: Cursor closed"
     ]
    }
   ],
   "source": [
    "cur.execute('select 1')"
   ]
  },
  {
   "cell_type": "code",
   "execution_count": 66,
   "metadata": {},
   "outputs": [],
   "source": [
    "with conn as cur:\n",
    "    cur.execute('''select 1''')"
   ]
  },
  {
   "cell_type": "code",
   "execution_count": 67,
   "metadata": {},
   "outputs": [
    {
     "data": {
      "text/plain": [
       "((1,),)"
      ]
     },
     "execution_count": 67,
     "metadata": {},
     "output_type": "execute_result"
    }
   ],
   "source": [
    "cur.fetchall()"
   ]
  },
  {
   "cell_type": "code",
   "execution_count": 68,
   "metadata": {},
   "outputs": [
    {
     "data": {
      "text/plain": [
       "1"
      ]
     },
     "execution_count": 68,
     "metadata": {},
     "output_type": "execute_result"
    }
   ],
   "source": [
    "cur.execute('select 1')"
   ]
  },
  {
   "cell_type": "code",
   "execution_count": 69,
   "metadata": {
    "collapsed": true
   },
   "outputs": [],
   "source": [
    "with conn as cur:\n",
    "    with cur:\n",
    "        cur.execute('select * from user limit 2;')"
   ]
  },
  {
   "cell_type": "code",
   "execution_count": 70,
   "metadata": {},
   "outputs": [
    {
     "data": {
      "text/plain": [
       "((1, 'miracle', 20, 1, 'shanghai'), (124, 'magedu', 22, 2, None))"
      ]
     },
     "execution_count": 70,
     "metadata": {},
     "output_type": "execute_result"
    }
   ],
   "source": [
    "cur.fetchall()"
   ]
  },
  {
   "cell_type": "code",
   "execution_count": 72,
   "metadata": {},
   "outputs": [
    {
     "data": {
      "text/plain": [
       "<pymysql.connections.OKPacketWrapper at 0x10b739898>"
      ]
     },
     "execution_count": 72,
     "metadata": {},
     "output_type": "execute_result"
    }
   ],
   "source": [
    "conn.ping()"
   ]
  },
  {
   "cell_type": "code",
   "execution_count": 73,
   "metadata": {
    "collapsed": true
   },
   "outputs": [],
   "source": [
    "packet = conn.ping()"
   ]
  },
  {
   "cell_type": "code",
   "execution_count": 74,
   "metadata": {},
   "outputs": [
    {
     "data": {
      "text/plain": [
       "<pymysql.connections.OKPacketWrapper at 0x10b7397f0>"
      ]
     },
     "execution_count": 74,
     "metadata": {},
     "output_type": "execute_result"
    }
   ],
   "source": [
    "packet"
   ]
  },
  {
   "cell_type": "code",
   "execution_count": 75,
   "metadata": {},
   "outputs": [
    {
     "data": {
      "text/plain": [
       "0"
      ]
     },
     "execution_count": 75,
     "metadata": {},
     "output_type": "execute_result"
    }
   ],
   "source": [
    "packet.server_status"
   ]
  },
  {
   "cell_type": "code",
   "execution_count": 76,
   "metadata": {},
   "outputs": [
    {
     "data": {
      "text/plain": [
       "b''"
      ]
     },
     "execution_count": 76,
     "metadata": {},
     "output_type": "execute_result"
    }
   ],
   "source": [
    "packet.message"
   ]
  },
  {
   "cell_type": "code",
   "execution_count": 77,
   "metadata": {
    "collapsed": true
   },
   "outputs": [],
   "source": [
    "conn.close()"
   ]
  },
  {
   "cell_type": "code",
   "execution_count": 81,
   "metadata": {},
   "outputs": [],
   "source": [
    "conn= pymysql.connect(host='127.0.0.1', port=3306, user='root', password='', database='demo', cursorclass=DictCursor)"
   ]
  },
  {
   "cell_type": "code",
   "execution_count": 82,
   "metadata": {},
   "outputs": [
    {
     "name": "stdout",
     "output_type": "stream",
     "text": [
      "[{'id': 1, 'name': 'miracle', 'age': 20, 'type': 1, 'address': 'shanghai'}, {'id': 124, 'name': 'magedu', 'age': 22, 'type': 2, 'address': None}, {'id': 125, 'name': 'ck', 'age': 25, 'type': 5, 'address': None}, {'id': 126, 'name': 'ziqi', 'age': 18, 'type': 5, 'address': None}, {'id': 127, 'name': '???', 'age': 30, 'type': 3, 'address': None}, {'id': 128, 'name': '???', 'age': 30, 'type': 6, 'address': None}, {'id': 129, 'name': '???', 'age': 50, 'type': 2, 'address': None}, {'id': 130, 'name': '???', 'age': 0, 'type': 1, 'address': None}, {'id': 131, 'name': 'test', 'age': 99, 'type': 3, 'address': 'US'}, {'id': 132, 'name': 'miracle', 'age': 20, 'type': 5, 'address': 'China'}, {'id': 133, 'name': 'miracle', 'age': 20, 'type': 5, 'address': 'China'}, {'id': 134, 'name': 'ziqi', 'age': 18, 'type': 5, 'address': 'taiwan'}]\n"
     ]
    }
   ],
   "source": [
    "with conn as cur:\n",
    "    with cur:\n",
    "        cur.execute('select * from user;')\n",
    "        print(cur.fetchall())"
   ]
  },
  {
   "cell_type": "code",
   "execution_count": 83,
   "metadata": {},
   "outputs": [
    {
     "data": {
      "text/plain": [
       "b''"
      ]
     },
     "execution_count": 83,
     "metadata": {},
     "output_type": "execute_result"
    }
   ],
   "source": [
    "packet.message"
   ]
  },
  {
   "cell_type": "code",
   "execution_count": 84,
   "metadata": {},
   "outputs": [
    {
     "data": {
      "text/plain": [
       "0"
      ]
     },
     "execution_count": 84,
     "metadata": {},
     "output_type": "execute_result"
    }
   ],
   "source": [
    "packet.server_status"
   ]
  },
  {
   "cell_type": "code",
   "execution_count": 89,
   "metadata": {
    "collapsed": true
   },
   "outputs": [],
   "source": [
    "from queue import Queue\n",
    "\n",
    "class ConnectionPool:\n",
    "    def __init__(self, size, *args, **kwargs):\n",
    "        self._pool = Queue(size)\n",
    "        self.args = args\n",
    "        self.kwargs = kwargs\n",
    "        for x in range(size):\n",
    "            self._pool.put(self._connect())\n",
    "    \n",
    "    def _connect(self):\n",
    "        # TODO \n",
    "        # 创建连接\n",
    "        return pymysql.connect(*self.args, **self.kwargs)\n",
    "    \n",
    "    def _close(self, conn):\n",
    "        conn.close()\n",
    "    \n",
    "    def get(self):\n",
    "        return self._pool.get()\n",
    "    \n",
    "    def return_resource(self, conn):\n",
    "        self._pool.put(conn)"
   ]
  },
  {
   "cell_type": "code",
   "execution_count": 90,
   "metadata": {
    "collapsed": true
   },
   "outputs": [],
   "source": [
    "cp = ConnectionPool(10, host='127.0.0.1', port=3306, user='root', password='', database='demo')"
   ]
  },
  {
   "cell_type": "code",
   "execution_count": 91,
   "metadata": {
    "collapsed": true
   },
   "outputs": [],
   "source": [
    "conn = cp.get()"
   ]
  },
  {
   "cell_type": "code",
   "execution_count": 92,
   "metadata": {},
   "outputs": [
    {
     "name": "stdout",
     "output_type": "stream",
     "text": [
      "((1, 'miracle', 20, 1, 'shanghai'), (124, 'magedu', 22, 2, None), (125, 'ck', 25, 5, None), (126, 'ziqi', 18, 5, None), (127, '???', 30, 3, None), (128, '???', 30, 6, None), (129, '???', 50, 2, None), (130, '???', 0, 1, None), (131, 'test', 99, 3, 'US'), (132, 'miracle', 20, 5, 'China'), (133, 'miracle', 20, 5, 'China'), (134, 'ziqi', 18, 5, 'taiwan'))\n"
     ]
    }
   ],
   "source": [
    "with conn as cur:\n",
    "    with cur:\n",
    "        cur.execute('''select * from user;''')\n",
    "        print(cur.fetchall())"
   ]
  },
  {
   "cell_type": "code",
   "execution_count": 93,
   "metadata": {
    "collapsed": true
   },
   "outputs": [],
   "source": [
    "cp.return_resource(conn)"
   ]
  },
  {
   "cell_type": "code",
   "execution_count": 94,
   "metadata": {},
   "outputs": [
    {
     "data": {
      "text/plain": [
       "<__main__.ConnectionPool at 0x10b705780>"
      ]
     },
     "execution_count": 94,
     "metadata": {},
     "output_type": "execute_result"
    }
   ],
   "source": [
    "cp"
   ]
  },
  {
   "cell_type": "code",
   "execution_count": 95,
   "metadata": {},
   "outputs": [
    {
     "data": {
      "text/plain": [
       "<pymysql.connections.Connection at 0x10b70fda0>"
      ]
     },
     "execution_count": 95,
     "metadata": {},
     "output_type": "execute_result"
    }
   ],
   "source": [
    "conn"
   ]
  },
  {
   "cell_type": "markdown",
   "metadata": {},
   "source": [
    "- 需要2个with\n",
    "- return resource，并且return回来的这个连接，外部是不是还可以继续使用？"
   ]
  },
  {
   "cell_type": "code",
   "execution_count": null,
   "metadata": {
    "collapsed": true
   },
   "outputs": [],
   "source": [
    "from queue import Queue\n",
    "\n",
    "class ConnectionPool:\n",
    "    def __init__(self, size, *args, **kwargs):\n",
    "        self._pool = Queue(size)\n",
    "        self.args = args\n",
    "        self.kwargs = kwargs\n",
    "        for x in range(size):\n",
    "            self._pool.put(self._connect())\n",
    "            \n",
    "    def __enter__(self):\n",
    "        conn = self.get()\n",
    "        return conn.cursor()\n",
    "    \n",
    "    def __exit__(self, *args):\n",
    "        self.return_resource()\n",
    "    \n",
    "    def _connect(self):\n",
    "        # TODO \n",
    "        # 创建连接\n",
    "        return pymysql.connect(*self.args, **self.kwargs)\n",
    "    \n",
    "    def _close(self, conn):\n",
    "        conn.close()\n",
    "    \n",
    "    def get(self):\n",
    "        return self._pool.get()\n",
    "    \n",
    "    def return_resource(self, conn):\n",
    "        self._pool.put(conn)"
   ]
  },
  {
   "cell_type": "code",
   "execution_count": 97,
   "metadata": {
    "collapsed": true
   },
   "outputs": [],
   "source": [
    "import threading"
   ]
  },
  {
   "cell_type": "code",
   "execution_count": 99,
   "metadata": {},
   "outputs": [],
   "source": [
    "l = threading.local()"
   ]
  },
  {
   "cell_type": "code",
   "execution_count": 101,
   "metadata": {
    "collapsed": true
   },
   "outputs": [],
   "source": [
    "l.conn = 1"
   ]
  },
  {
   "cell_type": "code",
   "execution_count": 102,
   "metadata": {},
   "outputs": [
    {
     "data": {
      "text/plain": [
       "1"
      ]
     },
     "execution_count": 102,
     "metadata": {},
     "output_type": "execute_result"
    }
   ],
   "source": [
    "l.conn"
   ]
  },
  {
   "cell_type": "code",
   "execution_count": 109,
   "metadata": {},
   "outputs": [
    {
     "data": {
      "text/plain": [
       "1"
      ]
     },
     "execution_count": 109,
     "metadata": {},
     "output_type": "execute_result"
    }
   ],
   "source": [
    "getattr(l, 'conn')"
   ]
  },
  {
   "cell_type": "code",
   "execution_count": null,
   "metadata": {
    "collapsed": true
   },
   "outputs": [],
   "source": []
  },
  {
   "cell_type": "code",
   "execution_count": 106,
   "metadata": {
    "collapsed": true
   },
   "outputs": [],
   "source": [
    "from queue import Queue\n",
    "\n",
    "class ConnectionPool:\n",
    "    def __init__(self, size, *args, **kwargs):\n",
    "        self._pool = Queue(size)\n",
    "        self.args = args\n",
    "        self.kwargs = kwargs\n",
    "        for x in range(size):\n",
    "            self._pool.put(self._connect())\n",
    "            \n",
    "        self.local = threading.local()\n",
    "            \n",
    "    def __enter__(self):\n",
    "        try:\n",
    "            return self.local.conn.cursor()\n",
    "        except AttributeError:\n",
    "            self.local.conn = self.get()\n",
    "            return self.local.conn.cursor()\n",
    "        \n",
    "    \n",
    "    def __exit__(self, *args):\n",
    "        self.local.conn.commit()\n",
    "        self.return_resource(self.local.conn)\n",
    "        del self.local.conn\n",
    "    \n",
    "    def _connect(self):\n",
    "        # TODO \n",
    "        # 创建连接\n",
    "        return pymysql.connect(*self.args, **self.kwargs)\n",
    "    \n",
    "    def _close(self, conn):\n",
    "        conn.close()\n",
    "    \n",
    "    def get(self):\n",
    "        return self._pool.get()\n",
    "    \n",
    "    def return_resource(self, conn):\n",
    "        self._pool.put(conn)"
   ]
  },
  {
   "cell_type": "code",
   "execution_count": 107,
   "metadata": {
    "collapsed": true
   },
   "outputs": [],
   "source": [
    "cp = ConnectionPool(10, host='127.0.0.1', port=3306, user='root', password='', database='demo')"
   ]
  },
  {
   "cell_type": "code",
   "execution_count": 110,
   "metadata": {},
   "outputs": [
    {
     "name": "stdout",
     "output_type": "stream",
     "text": [
      "((1, 'miracle', 20, 1, 'shanghai'), (124, 'magedu', 22, 2, None), (125, 'ck', 25, 5, None), (126, 'ziqi', 18, 5, None), (127, '???', 30, 3, None), (128, '???', 30, 6, None), (129, '???', 50, 2, None), (130, '???', 0, 1, None), (131, 'test', 99, 3, 'US'), (132, 'miracle', 20, 5, 'China'), (133, 'miracle', 20, 5, 'China'), (134, 'ziqi', 18, 5, 'taiwan'))\n"
     ]
    }
   ],
   "source": [
    "with cp as cur:\n",
    "    with cur:\n",
    "        cur.execute('select * from user;')\n",
    "        print(cur.fetchall())"
   ]
  },
  {
   "cell_type": "code",
   "execution_count": 111,
   "metadata": {},
   "outputs": [
    {
     "data": {
      "text/plain": [
       "<pymysql.connections.Connection at 0x10b70fda0>"
      ]
     },
     "execution_count": 111,
     "metadata": {},
     "output_type": "execute_result"
    }
   ],
   "source": [
    "conn"
   ]
  },
  {
   "cell_type": "code",
   "execution_count": 112,
   "metadata": {
    "collapsed": true
   },
   "outputs": [],
   "source": [
    "c = conn.cursor()"
   ]
  },
  {
   "cell_type": "code",
   "execution_count": 114,
   "metadata": {},
   "outputs": [],
   "source": [
    "c.connection.commit()"
   ]
  },
  {
   "cell_type": "code",
   "execution_count": null,
   "metadata": {
    "collapsed": true
   },
   "outputs": [],
   "source": []
  },
  {
   "cell_type": "code",
   "execution_count": null,
   "metadata": {
    "collapsed": true
   },
   "outputs": [],
   "source": []
  },
  {
   "cell_type": "code",
   "execution_count": 115,
   "metadata": {
    "collapsed": true
   },
   "outputs": [],
   "source": [
    "from queue import Queue\n",
    "\n",
    "class ConnectionPool:\n",
    "    def __init__(self, size, *args, **kwargs):\n",
    "        self._pool = Queue(size)\n",
    "        self.args = args\n",
    "        self.kwargs = kwargs\n",
    "        for x in range(size):\n",
    "            self._pool.put(self._connect())\n",
    "            \n",
    "        self.local = threading.local()\n",
    "            \n",
    "    def __enter__(self):\n",
    "        try:\n",
    "            return self.local.cursor\n",
    "        except AttributeError:\n",
    "            self.local.cursor = self.get().cursor()\n",
    "            return self.local.cursor\n",
    "        \n",
    "    \n",
    "    def __exit__(self, *args):\n",
    "        self.local.cursor.connection.commit()\n",
    "        self.return_resource(self.local.cursor.connection)\n",
    "        self.local.cursor.close()\n",
    "        del self.local.cursor\n",
    "    \n",
    "    def _connect(self):\n",
    "        # TODO \n",
    "        # 创建连接\n",
    "        return pymysql.connect(*self.args, **self.kwargs)\n",
    "    \n",
    "    def _close(self, conn):\n",
    "        conn.close()\n",
    "    \n",
    "    def get(self):\n",
    "        return self._pool.get()\n",
    "    \n",
    "    def return_resource(self, conn):\n",
    "        self._pool.put(conn)"
   ]
  },
  {
   "cell_type": "code",
   "execution_count": 116,
   "metadata": {
    "collapsed": true
   },
   "outputs": [],
   "source": [
    "cp = ConnectionPool(10, host='127.0.0.1', port=3306, user='root', password='', database='demo')"
   ]
  },
  {
   "cell_type": "code",
   "execution_count": 117,
   "metadata": {},
   "outputs": [
    {
     "name": "stdout",
     "output_type": "stream",
     "text": [
      "((1, 'miracle', 20, 1, 'shanghai'), (124, 'magedu', 22, 2, None), (125, 'ck', 25, 5, None), (126, 'ziqi', 18, 5, None), (127, '???', 30, 3, None), (128, '???', 30, 6, None), (129, '???', 50, 2, None), (130, '???', 0, 1, None), (131, 'test', 99, 3, 'US'), (132, 'miracle', 20, 5, 'China'), (133, 'miracle', 20, 5, 'China'), (134, 'ziqi', 18, 5, 'taiwan'))\n"
     ]
    }
   ],
   "source": [
    "with cp as cur:\n",
    "    threading.Thread(target=func, args=(, ))\n",
    "    cur.execute('select * from user')\n",
    "    print(cur.fetchall())"
   ]
  },
  {
   "cell_type": "code",
   "execution_count": 118,
   "metadata": {},
   "outputs": [
    {
     "ename": "ProgrammingError",
     "evalue": "Cursor closed",
     "output_type": "error",
     "traceback": [
      "\u001b[0;31m-----------------------------------------\u001b[0m",
      "\u001b[0;31mProgrammingError\u001b[0mTraceback (most recent call last)",
      "\u001b[0;32m<ipython-input-118-efda0c5c179d>\u001b[0m in \u001b[0;36m<module>\u001b[0;34m()\u001b[0m\n\u001b[0;32m----> 1\u001b[0;31m \u001b[0mcur\u001b[0m\u001b[0;34m.\u001b[0m\u001b[0mexecute\u001b[0m\u001b[0;34m(\u001b[0m\u001b[0;34m'select 1'\u001b[0m\u001b[0;34m)\u001b[0m\u001b[0;34m\u001b[0m\u001b[0m\n\u001b[0m",
      "\u001b[0;32m~/.pyenv/versions/3.6.1/envs/miracle_3.6/lib/python3.6/site-packages/pymysql/cursors.py\u001b[0m in \u001b[0;36mexecute\u001b[0;34m(self, query, args)\u001b[0m\n\u001b[1;32m    159\u001b[0m         \u001b[0mIf\u001b[0m \u001b[0margs\u001b[0m \u001b[0;32mis\u001b[0m \u001b[0ma\u001b[0m \u001b[0mdict\u001b[0m\u001b[0;34m,\u001b[0m \u001b[0;34m%\u001b[0m\u001b[0;34m(\u001b[0m\u001b[0mname\u001b[0m\u001b[0;34m)\u001b[0m\u001b[0ms\u001b[0m \u001b[0mcan\u001b[0m \u001b[0mbe\u001b[0m \u001b[0mused\u001b[0m \u001b[0;32mas\u001b[0m \u001b[0ma\u001b[0m \u001b[0mplaceholder\u001b[0m \u001b[0;32min\u001b[0m \u001b[0mthe\u001b[0m \u001b[0mquery\u001b[0m\u001b[0;34m.\u001b[0m\u001b[0;34m\u001b[0m\u001b[0m\n\u001b[1;32m    160\u001b[0m         \"\"\"\n\u001b[0;32m--> 161\u001b[0;31m         \u001b[0;32mwhile\u001b[0m \u001b[0mself\u001b[0m\u001b[0;34m.\u001b[0m\u001b[0mnextset\u001b[0m\u001b[0;34m(\u001b[0m\u001b[0;34m)\u001b[0m\u001b[0;34m:\u001b[0m\u001b[0;34m\u001b[0m\u001b[0m\n\u001b[0m\u001b[1;32m    162\u001b[0m             \u001b[0;32mpass\u001b[0m\u001b[0;34m\u001b[0m\u001b[0m\n\u001b[1;32m    163\u001b[0m \u001b[0;34m\u001b[0m\u001b[0m\n",
      "\u001b[0;32m~/.pyenv/versions/3.6.1/envs/miracle_3.6/lib/python3.6/site-packages/pymysql/cursors.py\u001b[0m in \u001b[0;36mnextset\u001b[0;34m(self)\u001b[0m\n\u001b[1;32m    101\u001b[0m \u001b[0;34m\u001b[0m\u001b[0m\n\u001b[1;32m    102\u001b[0m     \u001b[0;32mdef\u001b[0m \u001b[0mnextset\u001b[0m\u001b[0;34m(\u001b[0m\u001b[0mself\u001b[0m\u001b[0;34m)\u001b[0m\u001b[0;34m:\u001b[0m\u001b[0;34m\u001b[0m\u001b[0m\n\u001b[0;32m--> 103\u001b[0;31m         \u001b[0;32mreturn\u001b[0m \u001b[0mself\u001b[0m\u001b[0;34m.\u001b[0m\u001b[0m_nextset\u001b[0m\u001b[0;34m(\u001b[0m\u001b[0;32mFalse\u001b[0m\u001b[0;34m)\u001b[0m\u001b[0;34m\u001b[0m\u001b[0m\n\u001b[0m\u001b[1;32m    104\u001b[0m \u001b[0;34m\u001b[0m\u001b[0m\n\u001b[1;32m    105\u001b[0m     \u001b[0;32mdef\u001b[0m \u001b[0m_ensure_bytes\u001b[0m\u001b[0;34m(\u001b[0m\u001b[0mself\u001b[0m\u001b[0;34m,\u001b[0m \u001b[0mx\u001b[0m\u001b[0;34m,\u001b[0m \u001b[0mencoding\u001b[0m\u001b[0;34m=\u001b[0m\u001b[0;32mNone\u001b[0m\u001b[0;34m)\u001b[0m\u001b[0;34m:\u001b[0m\u001b[0;34m\u001b[0m\u001b[0m\n",
      "\u001b[0;32m~/.pyenv/versions/3.6.1/envs/miracle_3.6/lib/python3.6/site-packages/pymysql/cursors.py\u001b[0m in \u001b[0;36m_nextset\u001b[0;34m(self, unbuffered)\u001b[0m\n\u001b[1;32m     87\u001b[0m     \u001b[0;32mdef\u001b[0m \u001b[0m_nextset\u001b[0m\u001b[0;34m(\u001b[0m\u001b[0mself\u001b[0m\u001b[0;34m,\u001b[0m \u001b[0munbuffered\u001b[0m\u001b[0;34m=\u001b[0m\u001b[0;32mFalse\u001b[0m\u001b[0;34m)\u001b[0m\u001b[0;34m:\u001b[0m\u001b[0;34m\u001b[0m\u001b[0m\n\u001b[1;32m     88\u001b[0m         \u001b[0;34m\"\"\"Get the next query set\"\"\"\u001b[0m\u001b[0;34m\u001b[0m\u001b[0m\n\u001b[0;32m---> 89\u001b[0;31m         \u001b[0mconn\u001b[0m \u001b[0;34m=\u001b[0m \u001b[0mself\u001b[0m\u001b[0;34m.\u001b[0m\u001b[0m_get_db\u001b[0m\u001b[0;34m(\u001b[0m\u001b[0;34m)\u001b[0m\u001b[0;34m\u001b[0m\u001b[0m\n\u001b[0m\u001b[1;32m     90\u001b[0m         \u001b[0mcurrent_result\u001b[0m \u001b[0;34m=\u001b[0m \u001b[0mself\u001b[0m\u001b[0;34m.\u001b[0m\u001b[0m_result\u001b[0m\u001b[0;34m\u001b[0m\u001b[0m\n\u001b[1;32m     91\u001b[0m         \u001b[0;31m# for unbuffered queries warnings are only available once whole result has been read\u001b[0m\u001b[0;34m\u001b[0m\u001b[0;34m\u001b[0m\u001b[0m\n",
      "\u001b[0;32m~/.pyenv/versions/3.6.1/envs/miracle_3.6/lib/python3.6/site-packages/pymysql/cursors.py\u001b[0m in \u001b[0;36m_get_db\u001b[0;34m(self)\u001b[0m\n\u001b[1;32m     69\u001b[0m     \u001b[0;32mdef\u001b[0m \u001b[0m_get_db\u001b[0m\u001b[0;34m(\u001b[0m\u001b[0mself\u001b[0m\u001b[0;34m)\u001b[0m\u001b[0;34m:\u001b[0m\u001b[0;34m\u001b[0m\u001b[0m\n\u001b[1;32m     70\u001b[0m         \u001b[0;32mif\u001b[0m \u001b[0;32mnot\u001b[0m \u001b[0mself\u001b[0m\u001b[0;34m.\u001b[0m\u001b[0mconnection\u001b[0m\u001b[0;34m:\u001b[0m\u001b[0;34m\u001b[0m\u001b[0m\n\u001b[0;32m---> 71\u001b[0;31m             \u001b[0;32mraise\u001b[0m \u001b[0merr\u001b[0m\u001b[0;34m.\u001b[0m\u001b[0mProgrammingError\u001b[0m\u001b[0;34m(\u001b[0m\u001b[0;34m\"Cursor closed\"\u001b[0m\u001b[0;34m)\u001b[0m\u001b[0;34m\u001b[0m\u001b[0m\n\u001b[0m\u001b[1;32m     72\u001b[0m         \u001b[0;32mreturn\u001b[0m \u001b[0mself\u001b[0m\u001b[0;34m.\u001b[0m\u001b[0mconnection\u001b[0m\u001b[0;34m\u001b[0m\u001b[0m\n\u001b[1;32m     73\u001b[0m \u001b[0;34m\u001b[0m\u001b[0m\n",
      "\u001b[0;31mProgrammingError\u001b[0m: Cursor closed"
     ]
    }
   ],
   "source": [
    "cur.execute('select 1')"
   ]
  },
  {
   "cell_type": "code",
   "execution_count": 119,
   "metadata": {
    "collapsed": true
   },
   "outputs": [],
   "source": [
    "from queue import Queue\n",
    "\n",
    "class ConnectionPool:\n",
    "    def __init__(self, size, *args, **kwargs):\n",
    "        self._pool = Queue(size)\n",
    "        \n",
    "        self._conns = []\n",
    "        \n",
    "        self.args = args\n",
    "        self.kwargs = kwargs\n",
    "        for x in range(size):\n",
    "            self._conns.append(self._connect())\n",
    "            self._pool.put(x)\n",
    "            \n",
    "        self.local = threading.local()\n",
    "            \n",
    "    def __enter__(self):\n",
    "        try:\n",
    "            return self.local.cursor\n",
    "        except AttributeError:\n",
    "            self.local.idx, self.local.cursor = self._get()\n",
    "            return self.local.cursor\n",
    "        \n",
    "    \n",
    "    def __exit__(self, *args):\n",
    "        self.local.cursor.connection.commit()\n",
    "        self.return_resource(self.local.idx)\n",
    "        self.local.cursor.close()\n",
    "        del self.local.cursor\n",
    "        del self.local.idx\n",
    "    \n",
    "    def _connect(self):\n",
    "        # TODO \n",
    "        # 创建连接\n",
    "        return pymysql.connect(*self.args, **self.kwargs)\n",
    "    \n",
    "    def close(self):\n",
    "        for conn in self._conns:\n",
    "            conn.close()\n",
    "    \n",
    "    def _get(self):\n",
    "        idx = sef._pool.get()\n",
    "        return idx, self._conns[self._pool.get()]\n",
    "    \n",
    "    def return_resource(self, idx):\n",
    "        self._pool.put(idx)"
   ]
  },
  {
   "cell_type": "code",
   "execution_count": 120,
   "metadata": {
    "collapsed": true
   },
   "outputs": [],
   "source": [
    "cp = ConnectionPool(10, host='127.0.0.1', port=3306, user='root', password='', database='demo')"
   ]
  },
  {
   "cell_type": "code",
   "execution_count": 121,
   "metadata": {
    "collapsed": true
   },
   "outputs": [],
   "source": [
    "cp.close()"
   ]
  },
  {
   "cell_type": "code",
   "execution_count": null,
   "metadata": {
    "collapsed": true
   },
   "outputs": [],
   "source": []
  },
  {
   "cell_type": "code",
   "execution_count": null,
   "metadata": {
    "collapsed": true
   },
   "outputs": [],
   "source": []
  }
 ],
 "metadata": {
  "kernelspec": {
   "display_name": "Python 3",
   "language": "python",
   "name": "python3"
  },
  "language_info": {
   "codemirror_mode": {
    "name": "ipython",
    "version": 3
   },
   "file_extension": ".py",
   "mimetype": "text/x-python",
   "name": "python",
   "nbconvert_exporter": "python",
   "pygments_lexer": "ipython3",
   "version": "3.6.1"
  }
 },
 "nbformat": 4,
 "nbformat_minor": 2
}
