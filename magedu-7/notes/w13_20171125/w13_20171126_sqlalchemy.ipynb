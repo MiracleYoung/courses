{
 "cells": [
  {
   "cell_type": "code",
   "execution_count": 1,
   "metadata": {
    "collapsed": true
   },
   "outputs": [],
   "source": [
    "import sqlalchemy"
   ]
  },
  {
   "cell_type": "code",
   "execution_count": 2,
   "metadata": {},
   "outputs": [
    {
     "data": {
      "text/plain": [
       "'1.1.13'"
      ]
     },
     "execution_count": 2,
     "metadata": {},
     "output_type": "execute_result"
    }
   ],
   "source": [
    "sqlalchemy.__version__"
   ]
  },
  {
   "cell_type": "code",
   "execution_count": 3,
   "metadata": {
    "collapsed": true
   },
   "outputs": [],
   "source": [
    "from sqlalchemy import create_engine"
   ]
  },
  {
   "cell_type": "code",
   "execution_count": 4,
   "metadata": {
    "collapsed": true
   },
   "outputs": [],
   "source": [
    "engine = create_engine('mysql+pymysql://root@127.0.0.1:3306/demo', echo=True)"
   ]
  },
  {
   "cell_type": "code",
   "execution_count": 5,
   "metadata": {},
   "outputs": [
    {
     "data": {
      "text/plain": [
       "'mysql'"
      ]
     },
     "execution_count": 5,
     "metadata": {},
     "output_type": "execute_result"
    }
   ],
   "source": [
    "engine.name"
   ]
  },
  {
   "cell_type": "code",
   "execution_count": 6,
   "metadata": {
    "collapsed": true
   },
   "outputs": [],
   "source": [
    "from sqlalchemy.ext.declarative import declarative_base"
   ]
  },
  {
   "cell_type": "code",
   "execution_count": 7,
   "metadata": {
    "collapsed": true
   },
   "outputs": [],
   "source": [
    "Base = declarative_base()"
   ]
  },
  {
   "cell_type": "code",
   "execution_count": 9,
   "metadata": {
    "collapsed": true
   },
   "outputs": [],
   "source": [
    "from sqlalchemy import Column, Integer, String"
   ]
  },
  {
   "cell_type": "code",
   "execution_count": 22,
   "metadata": {},
   "outputs": [
    {
     "name": "stderr",
     "output_type": "stream",
     "text": [
      "/Users/miracleYoung/.pyenv/versions/3.6.1/envs/miracle_3.6/lib/python3.6/site-packages/sqlalchemy/ext/declarative/clsregistry.py:120: SAWarning: This declarative base already contains a class with the same class name and module name as __main__.User, and will be replaced in the string-lookup table.\n",
      "  item.__name__\n"
     ]
    },
    {
     "ename": "InvalidRequestError",
     "evalue": "Table 'user' is already defined for this MetaData instance.  Specify 'extend_existing=True' to redefine options and columns on an existing Table object.",
     "output_type": "error",
     "traceback": [
      "\u001b[0;31m-----------------------------------------\u001b[0m",
      "\u001b[0;31mInvalidRequestError\u001b[0mTraceback (most recent call last)",
      "\u001b[0;32m<ipython-input-22-344033818170>\u001b[0m in \u001b[0;36m<module>\u001b[0;34m()\u001b[0m\n\u001b[0;32m----> 1\u001b[0;31m \u001b[0;32mclass\u001b[0m \u001b[0mUser\u001b[0m\u001b[0;34m(\u001b[0m\u001b[0mBase\u001b[0m\u001b[0;34m)\u001b[0m\u001b[0;34m:\u001b[0m\u001b[0;34m\u001b[0m\u001b[0m\n\u001b[0m\u001b[1;32m      2\u001b[0m     \u001b[0m__tablename__\u001b[0m \u001b[0;34m=\u001b[0m \u001b[0;34m'user'\u001b[0m\u001b[0;34m\u001b[0m\u001b[0m\n\u001b[1;32m      3\u001b[0m \u001b[0;34m\u001b[0m\u001b[0m\n\u001b[1;32m      4\u001b[0m     \u001b[0mid\u001b[0m \u001b[0;34m=\u001b[0m \u001b[0mColumn\u001b[0m\u001b[0;34m(\u001b[0m\u001b[0mInteger\u001b[0m\u001b[0;34m,\u001b[0m \u001b[0mautoincrement\u001b[0m\u001b[0;34m=\u001b[0m\u001b[0;32mTrue\u001b[0m\u001b[0;34m,\u001b[0m \u001b[0mprimary_key\u001b[0m\u001b[0;34m=\u001b[0m\u001b[0;32mTrue\u001b[0m\u001b[0;34m)\u001b[0m\u001b[0;34m\u001b[0m\u001b[0m\n\u001b[1;32m      5\u001b[0m     \u001b[0mname\u001b[0m \u001b[0;34m=\u001b[0m \u001b[0mColumn\u001b[0m\u001b[0;34m(\u001b[0m\u001b[0mString\u001b[0m\u001b[0;34m(\u001b[0m\u001b[0;36m64\u001b[0m\u001b[0;34m)\u001b[0m\u001b[0;34m,\u001b[0m \u001b[0munique\u001b[0m\u001b[0;34m=\u001b[0m\u001b[0;32mTrue\u001b[0m\u001b[0;34m,\u001b[0m \u001b[0mnullable\u001b[0m\u001b[0;34m=\u001b[0m\u001b[0;32mFalse\u001b[0m\u001b[0;34m)\u001b[0m\u001b[0;34m\u001b[0m\u001b[0m\n",
      "\u001b[0;32m~/.pyenv/versions/3.6.1/envs/miracle_3.6/lib/python3.6/site-packages/sqlalchemy/ext/declarative/api.py\u001b[0m in \u001b[0;36m__init__\u001b[0;34m(cls, classname, bases, dict_)\u001b[0m\n\u001b[1;32m     62\u001b[0m     \u001b[0;32mdef\u001b[0m \u001b[0m__init__\u001b[0m\u001b[0;34m(\u001b[0m\u001b[0mcls\u001b[0m\u001b[0;34m,\u001b[0m \u001b[0mclassname\u001b[0m\u001b[0;34m,\u001b[0m \u001b[0mbases\u001b[0m\u001b[0;34m,\u001b[0m \u001b[0mdict_\u001b[0m\u001b[0;34m)\u001b[0m\u001b[0;34m:\u001b[0m\u001b[0;34m\u001b[0m\u001b[0m\n\u001b[1;32m     63\u001b[0m         \u001b[0;32mif\u001b[0m \u001b[0;34m'_decl_class_registry'\u001b[0m \u001b[0;32mnot\u001b[0m \u001b[0;32min\u001b[0m \u001b[0mcls\u001b[0m\u001b[0;34m.\u001b[0m\u001b[0m__dict__\u001b[0m\u001b[0;34m:\u001b[0m\u001b[0;34m\u001b[0m\u001b[0m\n\u001b[0;32m---> 64\u001b[0;31m             \u001b[0m_as_declarative\u001b[0m\u001b[0;34m(\u001b[0m\u001b[0mcls\u001b[0m\u001b[0;34m,\u001b[0m \u001b[0mclassname\u001b[0m\u001b[0;34m,\u001b[0m \u001b[0mcls\u001b[0m\u001b[0;34m.\u001b[0m\u001b[0m__dict__\u001b[0m\u001b[0;34m)\u001b[0m\u001b[0;34m\u001b[0m\u001b[0m\n\u001b[0m\u001b[1;32m     65\u001b[0m         \u001b[0mtype\u001b[0m\u001b[0;34m.\u001b[0m\u001b[0m__init__\u001b[0m\u001b[0;34m(\u001b[0m\u001b[0mcls\u001b[0m\u001b[0;34m,\u001b[0m \u001b[0mclassname\u001b[0m\u001b[0;34m,\u001b[0m \u001b[0mbases\u001b[0m\u001b[0;34m,\u001b[0m \u001b[0mdict_\u001b[0m\u001b[0;34m)\u001b[0m\u001b[0;34m\u001b[0m\u001b[0m\n\u001b[1;32m     66\u001b[0m \u001b[0;34m\u001b[0m\u001b[0m\n",
      "\u001b[0;32m~/.pyenv/versions/3.6.1/envs/miracle_3.6/lib/python3.6/site-packages/sqlalchemy/ext/declarative/base.py\u001b[0m in \u001b[0;36m_as_declarative\u001b[0;34m(cls, classname, dict_)\u001b[0m\n\u001b[1;32m     86\u001b[0m         \u001b[0;32mreturn\u001b[0m\u001b[0;34m\u001b[0m\u001b[0m\n\u001b[1;32m     87\u001b[0m \u001b[0;34m\u001b[0m\u001b[0m\n\u001b[0;32m---> 88\u001b[0;31m     \u001b[0m_MapperConfig\u001b[0m\u001b[0;34m.\u001b[0m\u001b[0msetup_mapping\u001b[0m\u001b[0;34m(\u001b[0m\u001b[0mcls\u001b[0m\u001b[0;34m,\u001b[0m \u001b[0mclassname\u001b[0m\u001b[0;34m,\u001b[0m \u001b[0mdict_\u001b[0m\u001b[0;34m)\u001b[0m\u001b[0;34m\u001b[0m\u001b[0m\n\u001b[0m\u001b[1;32m     89\u001b[0m \u001b[0;34m\u001b[0m\u001b[0m\n\u001b[1;32m     90\u001b[0m \u001b[0;34m\u001b[0m\u001b[0m\n",
      "\u001b[0;32m~/.pyenv/versions/3.6.1/envs/miracle_3.6/lib/python3.6/site-packages/sqlalchemy/ext/declarative/base.py\u001b[0m in \u001b[0;36msetup_mapping\u001b[0;34m(cls, cls_, classname, dict_)\u001b[0m\n\u001b[1;32m    101\u001b[0m         \u001b[0;32melse\u001b[0m\u001b[0;34m:\u001b[0m\u001b[0;34m\u001b[0m\u001b[0m\n\u001b[1;32m    102\u001b[0m             \u001b[0mcfg_cls\u001b[0m \u001b[0;34m=\u001b[0m \u001b[0m_MapperConfig\u001b[0m\u001b[0;34m\u001b[0m\u001b[0m\n\u001b[0;32m--> 103\u001b[0;31m         \u001b[0mcfg_cls\u001b[0m\u001b[0;34m(\u001b[0m\u001b[0mcls_\u001b[0m\u001b[0;34m,\u001b[0m \u001b[0mclassname\u001b[0m\u001b[0;34m,\u001b[0m \u001b[0mdict_\u001b[0m\u001b[0;34m)\u001b[0m\u001b[0;34m\u001b[0m\u001b[0m\n\u001b[0m\u001b[1;32m    104\u001b[0m \u001b[0;34m\u001b[0m\u001b[0m\n\u001b[1;32m    105\u001b[0m     \u001b[0;32mdef\u001b[0m \u001b[0m__init__\u001b[0m\u001b[0;34m(\u001b[0m\u001b[0mself\u001b[0m\u001b[0;34m,\u001b[0m \u001b[0mcls_\u001b[0m\u001b[0;34m,\u001b[0m \u001b[0mclassname\u001b[0m\u001b[0;34m,\u001b[0m \u001b[0mdict_\u001b[0m\u001b[0;34m)\u001b[0m\u001b[0;34m:\u001b[0m\u001b[0;34m\u001b[0m\u001b[0m\n",
      "\u001b[0;32m~/.pyenv/versions/3.6.1/envs/miracle_3.6/lib/python3.6/site-packages/sqlalchemy/ext/declarative/base.py\u001b[0m in \u001b[0;36m__init__\u001b[0;34m(self, cls_, classname, dict_)\u001b[0m\n\u001b[1;32m    129\u001b[0m         \u001b[0mself\u001b[0m\u001b[0;34m.\u001b[0m\u001b[0m_extract_declared_columns\u001b[0m\u001b[0;34m(\u001b[0m\u001b[0;34m)\u001b[0m\u001b[0;34m\u001b[0m\u001b[0m\n\u001b[1;32m    130\u001b[0m \u001b[0;34m\u001b[0m\u001b[0m\n\u001b[0;32m--> 131\u001b[0;31m         \u001b[0mself\u001b[0m\u001b[0;34m.\u001b[0m\u001b[0m_setup_table\u001b[0m\u001b[0;34m(\u001b[0m\u001b[0;34m)\u001b[0m\u001b[0;34m\u001b[0m\u001b[0m\n\u001b[0m\u001b[1;32m    132\u001b[0m \u001b[0;34m\u001b[0m\u001b[0m\n\u001b[1;32m    133\u001b[0m         \u001b[0mself\u001b[0m\u001b[0;34m.\u001b[0m\u001b[0m_setup_inheritance\u001b[0m\u001b[0;34m(\u001b[0m\u001b[0;34m)\u001b[0m\u001b[0;34m\u001b[0m\u001b[0m\n",
      "\u001b[0;32m~/.pyenv/versions/3.6.1/envs/miracle_3.6/lib/python3.6/site-packages/sqlalchemy/ext/declarative/base.py\u001b[0m in \u001b[0;36m_setup_table\u001b[0;34m(self)\u001b[0m\n\u001b[1;32m    393\u001b[0m                     \u001b[0mtablename\u001b[0m\u001b[0;34m,\u001b[0m \u001b[0mcls\u001b[0m\u001b[0;34m.\u001b[0m\u001b[0mmetadata\u001b[0m\u001b[0;34m,\u001b[0m\u001b[0;34m\u001b[0m\u001b[0m\n\u001b[1;32m    394\u001b[0m                     \u001b[0;34m*\u001b[0m\u001b[0;34m(\u001b[0m\u001b[0mtuple\u001b[0m\u001b[0;34m(\u001b[0m\u001b[0mdeclared_columns\u001b[0m\u001b[0;34m)\u001b[0m \u001b[0;34m+\u001b[0m \u001b[0mtuple\u001b[0m\u001b[0;34m(\u001b[0m\u001b[0margs\u001b[0m\u001b[0;34m)\u001b[0m\u001b[0;34m)\u001b[0m\u001b[0;34m,\u001b[0m\u001b[0;34m\u001b[0m\u001b[0m\n\u001b[0;32m--> 395\u001b[0;31m                     **table_kw)\n\u001b[0m\u001b[1;32m    396\u001b[0m         \u001b[0;32melse\u001b[0m\u001b[0;34m:\u001b[0m\u001b[0;34m\u001b[0m\u001b[0m\n\u001b[1;32m    397\u001b[0m             \u001b[0mtable\u001b[0m \u001b[0;34m=\u001b[0m \u001b[0mcls\u001b[0m\u001b[0;34m.\u001b[0m\u001b[0m__table__\u001b[0m\u001b[0;34m\u001b[0m\u001b[0m\n",
      "\u001b[0;32m~/.pyenv/versions/3.6.1/envs/miracle_3.6/lib/python3.6/site-packages/sqlalchemy/sql/schema.py\u001b[0m in \u001b[0;36m__new__\u001b[0;34m(cls, *args, **kw)\u001b[0m\n\u001b[1;32m    419\u001b[0m                     \u001b[0;34m\"to redefine \"\u001b[0m\u001b[0;34m\u001b[0m\u001b[0m\n\u001b[1;32m    420\u001b[0m                     \u001b[0;34m\"options and columns on an \"\u001b[0m\u001b[0;34m\u001b[0m\u001b[0m\n\u001b[0;32m--> 421\u001b[0;31m                     \"existing Table object.\" % key)\n\u001b[0m\u001b[1;32m    422\u001b[0m             \u001b[0mtable\u001b[0m \u001b[0;34m=\u001b[0m \u001b[0mmetadata\u001b[0m\u001b[0;34m.\u001b[0m\u001b[0mtables\u001b[0m\u001b[0;34m[\u001b[0m\u001b[0mkey\u001b[0m\u001b[0;34m]\u001b[0m\u001b[0;34m\u001b[0m\u001b[0m\n\u001b[1;32m    423\u001b[0m             \u001b[0;32mif\u001b[0m \u001b[0mextend_existing\u001b[0m\u001b[0;34m:\u001b[0m\u001b[0;34m\u001b[0m\u001b[0m\n",
      "\u001b[0;31mInvalidRequestError\u001b[0m: Table 'user' is already defined for this MetaData instance.  Specify 'extend_existing=True' to redefine options and columns on an existing Table object."
     ]
    }
   ],
   "source": [
    "class User(Base):\n",
    "    __tablename__ = 'user'\n",
    "    \n",
    "    id = Column(Integer, autoincrement=True, primary_key=True)\n",
    "    name = Column(String(64), unique=True, nullable=False)\n",
    "    age = Column(Integer)\n",
    "    \n",
    "    def __str__(self):\n",
    "        return 'User(id={}, name={}, age={})'.format(self.id, self.name, self.age)\n",
    "    "
   ]
  },
  {
   "cell_type": "code",
   "execution_count": 15,
   "metadata": {},
   "outputs": [
    {
     "name": "stdout",
     "output_type": "stream",
     "text": [
      "2017-11-26 09:30:45,968 INFO sqlalchemy.engine.base.Engine DESCRIBE `user`\n",
      "2017-11-26 09:30:45,970 INFO sqlalchemy.engine.base.Engine {}\n"
     ]
    }
   ],
   "source": [
    "Base.metadata.create_all(engine)"
   ]
  },
  {
   "cell_type": "code",
   "execution_count": 13,
   "metadata": {},
   "outputs": [
    {
     "name": "stdout",
     "output_type": "stream",
     "text": [
      "2017-11-26 09:29:22,928 INFO sqlalchemy.engine.base.Engine DESCRIBE `user`\n",
      "2017-11-26 09:29:22,929 INFO sqlalchemy.engine.base.Engine {}\n",
      "2017-11-26 09:29:22,933 INFO sqlalchemy.engine.base.Engine \n",
      "DROP TABLE user\n",
      "2017-11-26 09:29:22,934 INFO sqlalchemy.engine.base.Engine {}\n",
      "2017-11-26 09:29:22,936 INFO sqlalchemy.engine.base.Engine COMMIT\n"
     ]
    }
   ],
   "source": [
    "Base.metadata.drop_all(engine)"
   ]
  },
  {
   "cell_type": "code",
   "execution_count": 16,
   "metadata": {
    "collapsed": true
   },
   "outputs": [],
   "source": [
    "from sqlalchemy.orm import sessionmaker # 一个session 就是一个连接"
   ]
  },
  {
   "cell_type": "code",
   "execution_count": 17,
   "metadata": {
    "collapsed": true
   },
   "outputs": [],
   "source": [
    "Session = sessionmaker(bind=engine)"
   ]
  },
  {
   "cell_type": "code",
   "execution_count": 18,
   "metadata": {
    "collapsed": true
   },
   "outputs": [],
   "source": [
    "session = Session()"
   ]
  },
  {
   "cell_type": "code",
   "execution_count": 19,
   "metadata": {
    "collapsed": true
   },
   "outputs": [],
   "source": [
    "user = User()"
   ]
  },
  {
   "cell_type": "code",
   "execution_count": 20,
   "metadata": {},
   "outputs": [
    {
     "name": "stdout",
     "output_type": "stream",
     "text": [
      "User(id=None, name=None, age=None)\n"
     ]
    }
   ],
   "source": [
    "print(user)"
   ]
  },
  {
   "cell_type": "code",
   "execution_count": 23,
   "metadata": {},
   "outputs": [],
   "source": [
    "user.name = 'miracle'"
   ]
  },
  {
   "cell_type": "code",
   "execution_count": 25,
   "metadata": {
    "collapsed": true
   },
   "outputs": [],
   "source": [
    "user.age = 18"
   ]
  },
  {
   "cell_type": "code",
   "execution_count": 26,
   "metadata": {},
   "outputs": [
    {
     "name": "stdout",
     "output_type": "stream",
     "text": [
      "User(id=None, name=miracle, age=18)\n"
     ]
    }
   ],
   "source": [
    "print(user)"
   ]
  },
  {
   "cell_type": "code",
   "execution_count": 27,
   "metadata": {
    "collapsed": true
   },
   "outputs": [],
   "source": [
    "session.add(user)"
   ]
  },
  {
   "cell_type": "code",
   "execution_count": 28,
   "metadata": {},
   "outputs": [
    {
     "name": "stdout",
     "output_type": "stream",
     "text": [
      "2017-11-26 09:50:51,743 INFO sqlalchemy.engine.base.Engine BEGIN (implicit)\n",
      "2017-11-26 09:50:51,745 INFO sqlalchemy.engine.base.Engine INSERT INTO user (name, age) VALUES (%(name)s, %(age)s)\n",
      "2017-11-26 09:50:51,746 INFO sqlalchemy.engine.base.Engine {'name': 'miracle', 'age': 18}\n",
      "2017-11-26 09:50:51,748 INFO sqlalchemy.engine.base.Engine COMMIT\n"
     ]
    }
   ],
   "source": [
    "session.commit()"
   ]
  },
  {
   "cell_type": "code",
   "execution_count": 29,
   "metadata": {},
   "outputs": [
    {
     "name": "stdout",
     "output_type": "stream",
     "text": [
      "2017-11-26 09:51:32,381 INFO sqlalchemy.engine.base.Engine BEGIN (implicit)\n",
      "2017-11-26 09:51:32,382 INFO sqlalchemy.engine.base.Engine SELECT user.id AS user_id, user.name AS user_name, user.age AS user_age \n",
      "FROM user \n",
      "WHERE user.id = %(param_1)s\n",
      "2017-11-26 09:51:32,383 INFO sqlalchemy.engine.base.Engine {'param_1': 1}\n",
      "User(id=1, name=miracle, age=18)\n"
     ]
    }
   ],
   "source": [
    "print(user)"
   ]
  },
  {
   "cell_type": "code",
   "execution_count": 30,
   "metadata": {},
   "outputs": [
    {
     "name": "stdout",
     "output_type": "stream",
     "text": [
      "User(id=1, name=miracle, age=18)\n"
     ]
    }
   ],
   "source": [
    "print(user)"
   ]
  },
  {
   "cell_type": "markdown",
   "metadata": {},
   "source": [
    "- 创建Session类\n",
    "- 初始化session 实例\n",
    "- 实例化Model\n",
    "- 修改我们的实例属性\n",
    "- 把实例加入到session中\n",
    "- session commit"
   ]
  },
  {
   "cell_type": "code",
   "execution_count": 32,
   "metadata": {},
   "outputs": [
    {
     "data": {
      "text/plain": [
       "{'_sa_instance_state': <sqlalchemy.orm.state.InstanceState at 0x10c7faba8>,\n",
       " 'age': 18,\n",
       " 'id': 1,\n",
       " 'name': 'miracle'}"
      ]
     },
     "execution_count": 32,
     "metadata": {},
     "output_type": "execute_result"
    }
   ],
   "source": [
    "user._sa_instance_state.dict"
   ]
  },
  {
   "cell_type": "code",
   "execution_count": 33,
   "metadata": {
    "collapsed": true
   },
   "outputs": [],
   "source": [
    "user2 = User()"
   ]
  },
  {
   "cell_type": "code",
   "execution_count": 34,
   "metadata": {
    "collapsed": true
   },
   "outputs": [],
   "source": [
    "user2.name = 'miracle'"
   ]
  },
  {
   "cell_type": "code",
   "execution_count": 35,
   "metadata": {
    "collapsed": true
   },
   "outputs": [],
   "source": [
    "user2.age = 30"
   ]
  },
  {
   "cell_type": "code",
   "execution_count": 36,
   "metadata": {
    "collapsed": true
   },
   "outputs": [],
   "source": [
    "session.add(user2)"
   ]
  },
  {
   "cell_type": "code",
   "execution_count": 37,
   "metadata": {},
   "outputs": [
    {
     "name": "stdout",
     "output_type": "stream",
     "text": [
      "2017-11-26 10:02:47,625 INFO sqlalchemy.engine.base.Engine INSERT INTO user (name, age) VALUES (%(name)s, %(age)s)\n",
      "2017-11-26 10:02:47,627 INFO sqlalchemy.engine.base.Engine {'name': 'miracle', 'age': 30}\n",
      "2017-11-26 10:02:47,628 INFO sqlalchemy.engine.base.Engine ROLLBACK\n"
     ]
    },
    {
     "ename": "IntegrityError",
     "evalue": "(pymysql.err.IntegrityError) (1062, \"Duplicate entry 'miracle' for key 'name'\") [SQL: 'INSERT INTO user (name, age) VALUES (%(name)s, %(age)s)'] [parameters: {'name': 'miracle', 'age': 30}]",
     "output_type": "error",
     "traceback": [
      "\u001b[0;31m-----------------------------------------\u001b[0m",
      "\u001b[0;31mIntegrityError\u001b[0mTraceback (most recent call last)",
      "\u001b[0;32m~/.pyenv/versions/3.6.1/envs/miracle_3.6/lib/python3.6/site-packages/sqlalchemy/engine/base.py\u001b[0m in \u001b[0;36m_execute_context\u001b[0;34m(self, dialect, constructor, statement, parameters, *args)\u001b[0m\n\u001b[1;32m   1181\u001b[0m                         \u001b[0mparameters\u001b[0m\u001b[0;34m,\u001b[0m\u001b[0;34m\u001b[0m\u001b[0m\n\u001b[0;32m-> 1182\u001b[0;31m                         context)\n\u001b[0m\u001b[1;32m   1183\u001b[0m         \u001b[0;32mexcept\u001b[0m \u001b[0mBaseException\u001b[0m \u001b[0;32mas\u001b[0m \u001b[0me\u001b[0m\u001b[0;34m:\u001b[0m\u001b[0;34m\u001b[0m\u001b[0m\n",
      "\u001b[0;32m~/.pyenv/versions/3.6.1/envs/miracle_3.6/lib/python3.6/site-packages/sqlalchemy/engine/default.py\u001b[0m in \u001b[0;36mdo_execute\u001b[0;34m(self, cursor, statement, parameters, context)\u001b[0m\n\u001b[1;32m    469\u001b[0m     \u001b[0;32mdef\u001b[0m \u001b[0mdo_execute\u001b[0m\u001b[0;34m(\u001b[0m\u001b[0mself\u001b[0m\u001b[0;34m,\u001b[0m \u001b[0mcursor\u001b[0m\u001b[0;34m,\u001b[0m \u001b[0mstatement\u001b[0m\u001b[0;34m,\u001b[0m \u001b[0mparameters\u001b[0m\u001b[0;34m,\u001b[0m \u001b[0mcontext\u001b[0m\u001b[0;34m=\u001b[0m\u001b[0;32mNone\u001b[0m\u001b[0;34m)\u001b[0m\u001b[0;34m:\u001b[0m\u001b[0;34m\u001b[0m\u001b[0m\n\u001b[0;32m--> 470\u001b[0;31m         \u001b[0mcursor\u001b[0m\u001b[0;34m.\u001b[0m\u001b[0mexecute\u001b[0m\u001b[0;34m(\u001b[0m\u001b[0mstatement\u001b[0m\u001b[0;34m,\u001b[0m \u001b[0mparameters\u001b[0m\u001b[0;34m)\u001b[0m\u001b[0;34m\u001b[0m\u001b[0m\n\u001b[0m\u001b[1;32m    471\u001b[0m \u001b[0;34m\u001b[0m\u001b[0m\n",
      "\u001b[0;32m~/.pyenv/versions/3.6.1/envs/miracle_3.6/lib/python3.6/site-packages/pymysql/cursors.py\u001b[0m in \u001b[0;36mexecute\u001b[0;34m(self, query, args)\u001b[0m\n\u001b[1;32m    165\u001b[0m \u001b[0;34m\u001b[0m\u001b[0m\n\u001b[0;32m--> 166\u001b[0;31m         \u001b[0mresult\u001b[0m \u001b[0;34m=\u001b[0m \u001b[0mself\u001b[0m\u001b[0;34m.\u001b[0m\u001b[0m_query\u001b[0m\u001b[0;34m(\u001b[0m\u001b[0mquery\u001b[0m\u001b[0;34m)\u001b[0m\u001b[0;34m\u001b[0m\u001b[0m\n\u001b[0m\u001b[1;32m    167\u001b[0m         \u001b[0mself\u001b[0m\u001b[0;34m.\u001b[0m\u001b[0m_executed\u001b[0m \u001b[0;34m=\u001b[0m \u001b[0mquery\u001b[0m\u001b[0;34m\u001b[0m\u001b[0m\n",
      "\u001b[0;32m~/.pyenv/versions/3.6.1/envs/miracle_3.6/lib/python3.6/site-packages/pymysql/cursors.py\u001b[0m in \u001b[0;36m_query\u001b[0;34m(self, q)\u001b[0m\n\u001b[1;32m    321\u001b[0m         \u001b[0mself\u001b[0m\u001b[0;34m.\u001b[0m\u001b[0m_last_executed\u001b[0m \u001b[0;34m=\u001b[0m \u001b[0mq\u001b[0m\u001b[0;34m\u001b[0m\u001b[0m\n\u001b[0;32m--> 322\u001b[0;31m         \u001b[0mconn\u001b[0m\u001b[0;34m.\u001b[0m\u001b[0mquery\u001b[0m\u001b[0;34m(\u001b[0m\u001b[0mq\u001b[0m\u001b[0;34m)\u001b[0m\u001b[0;34m\u001b[0m\u001b[0m\n\u001b[0m\u001b[1;32m    323\u001b[0m         \u001b[0mself\u001b[0m\u001b[0;34m.\u001b[0m\u001b[0m_do_get_result\u001b[0m\u001b[0;34m(\u001b[0m\u001b[0;34m)\u001b[0m\u001b[0;34m\u001b[0m\u001b[0m\n",
      "\u001b[0;32m~/.pyenv/versions/3.6.1/envs/miracle_3.6/lib/python3.6/site-packages/pymysql/connections.py\u001b[0m in \u001b[0;36mquery\u001b[0;34m(self, sql, unbuffered)\u001b[0m\n\u001b[1;32m    855\u001b[0m         \u001b[0mself\u001b[0m\u001b[0;34m.\u001b[0m\u001b[0m_execute_command\u001b[0m\u001b[0;34m(\u001b[0m\u001b[0mCOMMAND\u001b[0m\u001b[0;34m.\u001b[0m\u001b[0mCOM_QUERY\u001b[0m\u001b[0;34m,\u001b[0m \u001b[0msql\u001b[0m\u001b[0;34m)\u001b[0m\u001b[0;34m\u001b[0m\u001b[0m\n\u001b[0;32m--> 856\u001b[0;31m         \u001b[0mself\u001b[0m\u001b[0;34m.\u001b[0m\u001b[0m_affected_rows\u001b[0m \u001b[0;34m=\u001b[0m \u001b[0mself\u001b[0m\u001b[0;34m.\u001b[0m\u001b[0m_read_query_result\u001b[0m\u001b[0;34m(\u001b[0m\u001b[0munbuffered\u001b[0m\u001b[0;34m=\u001b[0m\u001b[0munbuffered\u001b[0m\u001b[0;34m)\u001b[0m\u001b[0;34m\u001b[0m\u001b[0m\n\u001b[0m\u001b[1;32m    857\u001b[0m         \u001b[0;32mreturn\u001b[0m \u001b[0mself\u001b[0m\u001b[0;34m.\u001b[0m\u001b[0m_affected_rows\u001b[0m\u001b[0;34m\u001b[0m\u001b[0m\n",
      "\u001b[0;32m~/.pyenv/versions/3.6.1/envs/miracle_3.6/lib/python3.6/site-packages/pymysql/connections.py\u001b[0m in \u001b[0;36m_read_query_result\u001b[0;34m(self, unbuffered)\u001b[0m\n\u001b[1;32m   1056\u001b[0m             \u001b[0mresult\u001b[0m \u001b[0;34m=\u001b[0m \u001b[0mMySQLResult\u001b[0m\u001b[0;34m(\u001b[0m\u001b[0mself\u001b[0m\u001b[0;34m)\u001b[0m\u001b[0;34m\u001b[0m\u001b[0m\n\u001b[0;32m-> 1057\u001b[0;31m             \u001b[0mresult\u001b[0m\u001b[0;34m.\u001b[0m\u001b[0mread\u001b[0m\u001b[0;34m(\u001b[0m\u001b[0;34m)\u001b[0m\u001b[0;34m\u001b[0m\u001b[0m\n\u001b[0m\u001b[1;32m   1058\u001b[0m         \u001b[0mself\u001b[0m\u001b[0;34m.\u001b[0m\u001b[0m_result\u001b[0m \u001b[0;34m=\u001b[0m \u001b[0mresult\u001b[0m\u001b[0;34m\u001b[0m\u001b[0m\n",
      "\u001b[0;32m~/.pyenv/versions/3.6.1/envs/miracle_3.6/lib/python3.6/site-packages/pymysql/connections.py\u001b[0m in \u001b[0;36mread\u001b[0;34m(self)\u001b[0m\n\u001b[1;32m   1339\u001b[0m         \u001b[0;32mtry\u001b[0m\u001b[0;34m:\u001b[0m\u001b[0;34m\u001b[0m\u001b[0m\n\u001b[0;32m-> 1340\u001b[0;31m             \u001b[0mfirst_packet\u001b[0m \u001b[0;34m=\u001b[0m \u001b[0mself\u001b[0m\u001b[0;34m.\u001b[0m\u001b[0mconnection\u001b[0m\u001b[0;34m.\u001b[0m\u001b[0m_read_packet\u001b[0m\u001b[0;34m(\u001b[0m\u001b[0;34m)\u001b[0m\u001b[0;34m\u001b[0m\u001b[0m\n\u001b[0m\u001b[1;32m   1341\u001b[0m \u001b[0;34m\u001b[0m\u001b[0m\n",
      "\u001b[0;32m~/.pyenv/versions/3.6.1/envs/miracle_3.6/lib/python3.6/site-packages/pymysql/connections.py\u001b[0m in \u001b[0;36m_read_packet\u001b[0;34m(self, packet_type)\u001b[0m\n\u001b[1;32m   1013\u001b[0m         \u001b[0mpacket\u001b[0m \u001b[0;34m=\u001b[0m \u001b[0mpacket_type\u001b[0m\u001b[0;34m(\u001b[0m\u001b[0mbuff\u001b[0m\u001b[0;34m,\u001b[0m \u001b[0mself\u001b[0m\u001b[0;34m.\u001b[0m\u001b[0mencoding\u001b[0m\u001b[0;34m)\u001b[0m\u001b[0;34m\u001b[0m\u001b[0m\n\u001b[0;32m-> 1014\u001b[0;31m         \u001b[0mpacket\u001b[0m\u001b[0;34m.\u001b[0m\u001b[0mcheck_error\u001b[0m\u001b[0;34m(\u001b[0m\u001b[0;34m)\u001b[0m\u001b[0;34m\u001b[0m\u001b[0m\n\u001b[0m\u001b[1;32m   1015\u001b[0m         \u001b[0;32mreturn\u001b[0m \u001b[0mpacket\u001b[0m\u001b[0;34m\u001b[0m\u001b[0m\n",
      "\u001b[0;32m~/.pyenv/versions/3.6.1/envs/miracle_3.6/lib/python3.6/site-packages/pymysql/connections.py\u001b[0m in \u001b[0;36mcheck_error\u001b[0;34m(self)\u001b[0m\n\u001b[1;32m    392\u001b[0m             \u001b[0;32mif\u001b[0m \u001b[0mDEBUG\u001b[0m\u001b[0;34m:\u001b[0m \u001b[0mprint\u001b[0m\u001b[0;34m(\u001b[0m\u001b[0;34m\"errno =\"\u001b[0m\u001b[0;34m,\u001b[0m \u001b[0merrno\u001b[0m\u001b[0;34m)\u001b[0m\u001b[0;34m\u001b[0m\u001b[0m\n\u001b[0;32m--> 393\u001b[0;31m             \u001b[0merr\u001b[0m\u001b[0;34m.\u001b[0m\u001b[0mraise_mysql_exception\u001b[0m\u001b[0;34m(\u001b[0m\u001b[0mself\u001b[0m\u001b[0;34m.\u001b[0m\u001b[0m_data\u001b[0m\u001b[0;34m)\u001b[0m\u001b[0;34m\u001b[0m\u001b[0m\n\u001b[0m\u001b[1;32m    394\u001b[0m \u001b[0;34m\u001b[0m\u001b[0m\n",
      "\u001b[0;32m~/.pyenv/versions/3.6.1/envs/miracle_3.6/lib/python3.6/site-packages/pymysql/err.py\u001b[0m in \u001b[0;36mraise_mysql_exception\u001b[0;34m(data)\u001b[0m\n\u001b[1;32m    106\u001b[0m     \u001b[0merrorclass\u001b[0m \u001b[0;34m=\u001b[0m \u001b[0merror_map\u001b[0m\u001b[0;34m.\u001b[0m\u001b[0mget\u001b[0m\u001b[0;34m(\u001b[0m\u001b[0merrno\u001b[0m\u001b[0;34m,\u001b[0m \u001b[0mInternalError\u001b[0m\u001b[0;34m)\u001b[0m\u001b[0;34m\u001b[0m\u001b[0m\n\u001b[0;32m--> 107\u001b[0;31m     \u001b[0;32mraise\u001b[0m \u001b[0merrorclass\u001b[0m\u001b[0;34m(\u001b[0m\u001b[0merrno\u001b[0m\u001b[0;34m,\u001b[0m \u001b[0merrval\u001b[0m\u001b[0;34m)\u001b[0m\u001b[0;34m\u001b[0m\u001b[0m\n\u001b[0m",
      "\u001b[0;31mIntegrityError\u001b[0m: (1062, \"Duplicate entry 'miracle' for key 'name'\")",
      "\nThe above exception was the direct cause of the following exception:\n",
      "\u001b[0;31mIntegrityError\u001b[0mTraceback (most recent call last)",
      "\u001b[0;32m<ipython-input-37-980f55471f82>\u001b[0m in \u001b[0;36m<module>\u001b[0;34m()\u001b[0m\n\u001b[0;32m----> 1\u001b[0;31m \u001b[0msession\u001b[0m\u001b[0;34m.\u001b[0m\u001b[0mcommit\u001b[0m\u001b[0;34m(\u001b[0m\u001b[0;34m)\u001b[0m\u001b[0;34m\u001b[0m\u001b[0m\n\u001b[0m",
      "\u001b[0;32m~/.pyenv/versions/3.6.1/envs/miracle_3.6/lib/python3.6/site-packages/sqlalchemy/orm/session.py\u001b[0m in \u001b[0;36mcommit\u001b[0;34m(self)\u001b[0m\n\u001b[1;32m    904\u001b[0m                 \u001b[0;32mraise\u001b[0m \u001b[0msa_exc\u001b[0m\u001b[0;34m.\u001b[0m\u001b[0mInvalidRequestError\u001b[0m\u001b[0;34m(\u001b[0m\u001b[0;34m\"No transaction is begun.\"\u001b[0m\u001b[0;34m)\u001b[0m\u001b[0;34m\u001b[0m\u001b[0m\n\u001b[1;32m    905\u001b[0m \u001b[0;34m\u001b[0m\u001b[0m\n\u001b[0;32m--> 906\u001b[0;31m         \u001b[0mself\u001b[0m\u001b[0;34m.\u001b[0m\u001b[0mtransaction\u001b[0m\u001b[0;34m.\u001b[0m\u001b[0mcommit\u001b[0m\u001b[0;34m(\u001b[0m\u001b[0;34m)\u001b[0m\u001b[0;34m\u001b[0m\u001b[0m\n\u001b[0m\u001b[1;32m    907\u001b[0m \u001b[0;34m\u001b[0m\u001b[0m\n\u001b[1;32m    908\u001b[0m     \u001b[0;32mdef\u001b[0m \u001b[0mprepare\u001b[0m\u001b[0;34m(\u001b[0m\u001b[0mself\u001b[0m\u001b[0;34m)\u001b[0m\u001b[0;34m:\u001b[0m\u001b[0;34m\u001b[0m\u001b[0m\n",
      "\u001b[0;32m~/.pyenv/versions/3.6.1/envs/miracle_3.6/lib/python3.6/site-packages/sqlalchemy/orm/session.py\u001b[0m in \u001b[0;36mcommit\u001b[0;34m(self)\u001b[0m\n\u001b[1;32m    459\u001b[0m         \u001b[0mself\u001b[0m\u001b[0;34m.\u001b[0m\u001b[0m_assert_active\u001b[0m\u001b[0;34m(\u001b[0m\u001b[0mprepared_ok\u001b[0m\u001b[0;34m=\u001b[0m\u001b[0;32mTrue\u001b[0m\u001b[0;34m)\u001b[0m\u001b[0;34m\u001b[0m\u001b[0m\n\u001b[1;32m    460\u001b[0m         \u001b[0;32mif\u001b[0m \u001b[0mself\u001b[0m\u001b[0;34m.\u001b[0m\u001b[0m_state\u001b[0m \u001b[0;32mis\u001b[0m \u001b[0;32mnot\u001b[0m \u001b[0mPREPARED\u001b[0m\u001b[0;34m:\u001b[0m\u001b[0;34m\u001b[0m\u001b[0m\n\u001b[0;32m--> 461\u001b[0;31m             \u001b[0mself\u001b[0m\u001b[0;34m.\u001b[0m\u001b[0m_prepare_impl\u001b[0m\u001b[0;34m(\u001b[0m\u001b[0;34m)\u001b[0m\u001b[0;34m\u001b[0m\u001b[0m\n\u001b[0m\u001b[1;32m    462\u001b[0m \u001b[0;34m\u001b[0m\u001b[0m\n\u001b[1;32m    463\u001b[0m         \u001b[0;32mif\u001b[0m \u001b[0mself\u001b[0m\u001b[0;34m.\u001b[0m\u001b[0m_parent\u001b[0m \u001b[0;32mis\u001b[0m \u001b[0;32mNone\u001b[0m \u001b[0;32mor\u001b[0m \u001b[0mself\u001b[0m\u001b[0;34m.\u001b[0m\u001b[0mnested\u001b[0m\u001b[0;34m:\u001b[0m\u001b[0;34m\u001b[0m\u001b[0m\n",
      "\u001b[0;32m~/.pyenv/versions/3.6.1/envs/miracle_3.6/lib/python3.6/site-packages/sqlalchemy/orm/session.py\u001b[0m in \u001b[0;36m_prepare_impl\u001b[0;34m(self)\u001b[0m\n\u001b[1;32m    439\u001b[0m                 \u001b[0;32mif\u001b[0m \u001b[0mself\u001b[0m\u001b[0;34m.\u001b[0m\u001b[0msession\u001b[0m\u001b[0;34m.\u001b[0m\u001b[0m_is_clean\u001b[0m\u001b[0;34m(\u001b[0m\u001b[0;34m)\u001b[0m\u001b[0;34m:\u001b[0m\u001b[0;34m\u001b[0m\u001b[0m\n\u001b[1;32m    440\u001b[0m                     \u001b[0;32mbreak\u001b[0m\u001b[0;34m\u001b[0m\u001b[0m\n\u001b[0;32m--> 441\u001b[0;31m                 \u001b[0mself\u001b[0m\u001b[0;34m.\u001b[0m\u001b[0msession\u001b[0m\u001b[0;34m.\u001b[0m\u001b[0mflush\u001b[0m\u001b[0;34m(\u001b[0m\u001b[0;34m)\u001b[0m\u001b[0;34m\u001b[0m\u001b[0m\n\u001b[0m\u001b[1;32m    442\u001b[0m             \u001b[0;32melse\u001b[0m\u001b[0;34m:\u001b[0m\u001b[0;34m\u001b[0m\u001b[0m\n\u001b[1;32m    443\u001b[0m                 raise exc.FlushError(\n",
      "\u001b[0;32m~/.pyenv/versions/3.6.1/envs/miracle_3.6/lib/python3.6/site-packages/sqlalchemy/orm/session.py\u001b[0m in \u001b[0;36mflush\u001b[0;34m(self, objects)\u001b[0m\n\u001b[1;32m   2169\u001b[0m         \u001b[0;32mtry\u001b[0m\u001b[0;34m:\u001b[0m\u001b[0;34m\u001b[0m\u001b[0m\n\u001b[1;32m   2170\u001b[0m             \u001b[0mself\u001b[0m\u001b[0;34m.\u001b[0m\u001b[0m_flushing\u001b[0m \u001b[0;34m=\u001b[0m \u001b[0;32mTrue\u001b[0m\u001b[0;34m\u001b[0m\u001b[0m\n\u001b[0;32m-> 2171\u001b[0;31m             \u001b[0mself\u001b[0m\u001b[0;34m.\u001b[0m\u001b[0m_flush\u001b[0m\u001b[0;34m(\u001b[0m\u001b[0mobjects\u001b[0m\u001b[0;34m)\u001b[0m\u001b[0;34m\u001b[0m\u001b[0m\n\u001b[0m\u001b[1;32m   2172\u001b[0m         \u001b[0;32mfinally\u001b[0m\u001b[0;34m:\u001b[0m\u001b[0;34m\u001b[0m\u001b[0m\n\u001b[1;32m   2173\u001b[0m             \u001b[0mself\u001b[0m\u001b[0;34m.\u001b[0m\u001b[0m_flushing\u001b[0m \u001b[0;34m=\u001b[0m \u001b[0;32mFalse\u001b[0m\u001b[0;34m\u001b[0m\u001b[0m\n",
      "\u001b[0;32m~/.pyenv/versions/3.6.1/envs/miracle_3.6/lib/python3.6/site-packages/sqlalchemy/orm/session.py\u001b[0m in \u001b[0;36m_flush\u001b[0;34m(self, objects)\u001b[0m\n\u001b[1;32m   2289\u001b[0m         \u001b[0;32mexcept\u001b[0m\u001b[0;34m:\u001b[0m\u001b[0;34m\u001b[0m\u001b[0m\n\u001b[1;32m   2290\u001b[0m             \u001b[0;32mwith\u001b[0m \u001b[0mutil\u001b[0m\u001b[0;34m.\u001b[0m\u001b[0msafe_reraise\u001b[0m\u001b[0;34m(\u001b[0m\u001b[0;34m)\u001b[0m\u001b[0;34m:\u001b[0m\u001b[0;34m\u001b[0m\u001b[0m\n\u001b[0;32m-> 2291\u001b[0;31m                 \u001b[0mtransaction\u001b[0m\u001b[0;34m.\u001b[0m\u001b[0mrollback\u001b[0m\u001b[0;34m(\u001b[0m\u001b[0m_capture_exception\u001b[0m\u001b[0;34m=\u001b[0m\u001b[0;32mTrue\u001b[0m\u001b[0;34m)\u001b[0m\u001b[0;34m\u001b[0m\u001b[0m\n\u001b[0m\u001b[1;32m   2292\u001b[0m \u001b[0;34m\u001b[0m\u001b[0m\n\u001b[1;32m   2293\u001b[0m     def bulk_save_objects(\n",
      "\u001b[0;32m~/.pyenv/versions/3.6.1/envs/miracle_3.6/lib/python3.6/site-packages/sqlalchemy/util/langhelpers.py\u001b[0m in \u001b[0;36m__exit__\u001b[0;34m(self, type_, value, traceback)\u001b[0m\n\u001b[1;32m     64\u001b[0m             \u001b[0mself\u001b[0m\u001b[0;34m.\u001b[0m\u001b[0m_exc_info\u001b[0m \u001b[0;34m=\u001b[0m \u001b[0;32mNone\u001b[0m   \u001b[0;31m# remove potential circular references\u001b[0m\u001b[0;34m\u001b[0m\u001b[0m\n\u001b[1;32m     65\u001b[0m             \u001b[0;32mif\u001b[0m \u001b[0;32mnot\u001b[0m \u001b[0mself\u001b[0m\u001b[0;34m.\u001b[0m\u001b[0mwarn_only\u001b[0m\u001b[0;34m:\u001b[0m\u001b[0;34m\u001b[0m\u001b[0m\n\u001b[0;32m---> 66\u001b[0;31m                 \u001b[0mcompat\u001b[0m\u001b[0;34m.\u001b[0m\u001b[0mreraise\u001b[0m\u001b[0;34m(\u001b[0m\u001b[0mexc_type\u001b[0m\u001b[0;34m,\u001b[0m \u001b[0mexc_value\u001b[0m\u001b[0;34m,\u001b[0m \u001b[0mexc_tb\u001b[0m\u001b[0;34m)\u001b[0m\u001b[0;34m\u001b[0m\u001b[0m\n\u001b[0m\u001b[1;32m     67\u001b[0m         \u001b[0;32melse\u001b[0m\u001b[0;34m:\u001b[0m\u001b[0;34m\u001b[0m\u001b[0m\n\u001b[1;32m     68\u001b[0m             \u001b[0;32mif\u001b[0m \u001b[0;32mnot\u001b[0m \u001b[0mcompat\u001b[0m\u001b[0;34m.\u001b[0m\u001b[0mpy3k\u001b[0m \u001b[0;32mand\u001b[0m \u001b[0mself\u001b[0m\u001b[0;34m.\u001b[0m\u001b[0m_exc_info\u001b[0m \u001b[0;32mand\u001b[0m \u001b[0mself\u001b[0m\u001b[0;34m.\u001b[0m\u001b[0m_exc_info\u001b[0m\u001b[0;34m[\u001b[0m\u001b[0;36m1\u001b[0m\u001b[0;34m]\u001b[0m\u001b[0;34m:\u001b[0m\u001b[0;34m\u001b[0m\u001b[0m\n",
      "\u001b[0;32m~/.pyenv/versions/3.6.1/envs/miracle_3.6/lib/python3.6/site-packages/sqlalchemy/util/compat.py\u001b[0m in \u001b[0;36mreraise\u001b[0;34m(tp, value, tb, cause)\u001b[0m\n\u001b[1;32m    185\u001b[0m         \u001b[0;32mif\u001b[0m \u001b[0mvalue\u001b[0m\u001b[0;34m.\u001b[0m\u001b[0m__traceback__\u001b[0m \u001b[0;32mis\u001b[0m \u001b[0;32mnot\u001b[0m \u001b[0mtb\u001b[0m\u001b[0;34m:\u001b[0m\u001b[0;34m\u001b[0m\u001b[0m\n\u001b[1;32m    186\u001b[0m             \u001b[0;32mraise\u001b[0m \u001b[0mvalue\u001b[0m\u001b[0;34m.\u001b[0m\u001b[0mwith_traceback\u001b[0m\u001b[0;34m(\u001b[0m\u001b[0mtb\u001b[0m\u001b[0;34m)\u001b[0m\u001b[0;34m\u001b[0m\u001b[0m\n\u001b[0;32m--> 187\u001b[0;31m         \u001b[0;32mraise\u001b[0m \u001b[0mvalue\u001b[0m\u001b[0;34m\u001b[0m\u001b[0m\n\u001b[0m\u001b[1;32m    188\u001b[0m \u001b[0;34m\u001b[0m\u001b[0m\n\u001b[1;32m    189\u001b[0m \u001b[0;32melse\u001b[0m\u001b[0;34m:\u001b[0m\u001b[0;34m\u001b[0m\u001b[0m\n",
      "\u001b[0;32m~/.pyenv/versions/3.6.1/envs/miracle_3.6/lib/python3.6/site-packages/sqlalchemy/orm/session.py\u001b[0m in \u001b[0;36m_flush\u001b[0;34m(self, objects)\u001b[0m\n\u001b[1;32m   2253\u001b[0m             \u001b[0mself\u001b[0m\u001b[0;34m.\u001b[0m\u001b[0m_warn_on_events\u001b[0m \u001b[0;34m=\u001b[0m \u001b[0;32mTrue\u001b[0m\u001b[0;34m\u001b[0m\u001b[0m\n\u001b[1;32m   2254\u001b[0m             \u001b[0;32mtry\u001b[0m\u001b[0;34m:\u001b[0m\u001b[0;34m\u001b[0m\u001b[0m\n\u001b[0;32m-> 2255\u001b[0;31m                 \u001b[0mflush_context\u001b[0m\u001b[0;34m.\u001b[0m\u001b[0mexecute\u001b[0m\u001b[0;34m(\u001b[0m\u001b[0;34m)\u001b[0m\u001b[0;34m\u001b[0m\u001b[0m\n\u001b[0m\u001b[1;32m   2256\u001b[0m             \u001b[0;32mfinally\u001b[0m\u001b[0;34m:\u001b[0m\u001b[0;34m\u001b[0m\u001b[0m\n\u001b[1;32m   2257\u001b[0m                 \u001b[0mself\u001b[0m\u001b[0;34m.\u001b[0m\u001b[0m_warn_on_events\u001b[0m \u001b[0;34m=\u001b[0m \u001b[0;32mFalse\u001b[0m\u001b[0;34m\u001b[0m\u001b[0m\n",
      "\u001b[0;32m~/.pyenv/versions/3.6.1/envs/miracle_3.6/lib/python3.6/site-packages/sqlalchemy/orm/unitofwork.py\u001b[0m in \u001b[0;36mexecute\u001b[0;34m(self)\u001b[0m\n\u001b[1;32m    387\u001b[0m                     \u001b[0mself\u001b[0m\u001b[0;34m.\u001b[0m\u001b[0mdependencies\u001b[0m\u001b[0;34m,\u001b[0m\u001b[0;34m\u001b[0m\u001b[0m\n\u001b[1;32m    388\u001b[0m                     postsort_actions):\n\u001b[0;32m--> 389\u001b[0;31m                 \u001b[0mrec\u001b[0m\u001b[0;34m.\u001b[0m\u001b[0mexecute\u001b[0m\u001b[0;34m(\u001b[0m\u001b[0mself\u001b[0m\u001b[0;34m)\u001b[0m\u001b[0;34m\u001b[0m\u001b[0m\n\u001b[0m\u001b[1;32m    390\u001b[0m \u001b[0;34m\u001b[0m\u001b[0m\n\u001b[1;32m    391\u001b[0m     \u001b[0;32mdef\u001b[0m \u001b[0mfinalize_flush_changes\u001b[0m\u001b[0;34m(\u001b[0m\u001b[0mself\u001b[0m\u001b[0;34m)\u001b[0m\u001b[0;34m:\u001b[0m\u001b[0;34m\u001b[0m\u001b[0m\n",
      "\u001b[0;32m~/.pyenv/versions/3.6.1/envs/miracle_3.6/lib/python3.6/site-packages/sqlalchemy/orm/unitofwork.py\u001b[0m in \u001b[0;36mexecute\u001b[0;34m(self, uow)\u001b[0m\n\u001b[1;32m    546\u001b[0m                              uow.states_for_mapper_hierarchy(\n\u001b[1;32m    547\u001b[0m                                  self.mapper, False, False),\n\u001b[0;32m--> 548\u001b[0;31m                              \u001b[0muow\u001b[0m\u001b[0;34m\u001b[0m\u001b[0m\n\u001b[0m\u001b[1;32m    549\u001b[0m                              )\n\u001b[1;32m    550\u001b[0m \u001b[0;34m\u001b[0m\u001b[0m\n",
      "\u001b[0;32m~/.pyenv/versions/3.6.1/envs/miracle_3.6/lib/python3.6/site-packages/sqlalchemy/orm/persistence.py\u001b[0m in \u001b[0;36msave_obj\u001b[0;34m(base_mapper, states, uowtransaction, single)\u001b[0m\n\u001b[1;32m    179\u001b[0m         _emit_insert_statements(base_mapper, uowtransaction,\n\u001b[1;32m    180\u001b[0m                                 \u001b[0mcached_connections\u001b[0m\u001b[0;34m,\u001b[0m\u001b[0;34m\u001b[0m\u001b[0m\n\u001b[0;32m--> 181\u001b[0;31m                                 mapper, table, insert)\n\u001b[0m\u001b[1;32m    182\u001b[0m \u001b[0;34m\u001b[0m\u001b[0m\n\u001b[1;32m    183\u001b[0m     _finalize_insert_update_commands(\n",
      "\u001b[0;32m~/.pyenv/versions/3.6.1/envs/miracle_3.6/lib/python3.6/site-packages/sqlalchemy/orm/persistence.py\u001b[0m in \u001b[0;36m_emit_insert_statements\u001b[0;34m(base_mapper, uowtransaction, cached_connections, mapper, table, insert, bookkeeping)\u001b[0m\n\u001b[1;32m    833\u001b[0m                 \u001b[0;32melse\u001b[0m\u001b[0;34m:\u001b[0m\u001b[0;34m\u001b[0m\u001b[0m\n\u001b[1;32m    834\u001b[0m                     \u001b[0mresult\u001b[0m \u001b[0;34m=\u001b[0m \u001b[0mcached_connections\u001b[0m\u001b[0;34m[\u001b[0m\u001b[0mconnection\u001b[0m\u001b[0;34m]\u001b[0m\u001b[0;34m.\u001b[0m\u001b[0;31m\\\u001b[0m\u001b[0;34m\u001b[0m\u001b[0m\n\u001b[0;32m--> 835\u001b[0;31m                         \u001b[0mexecute\u001b[0m\u001b[0;34m(\u001b[0m\u001b[0mstatement\u001b[0m\u001b[0;34m,\u001b[0m \u001b[0mparams\u001b[0m\u001b[0;34m)\u001b[0m\u001b[0;34m\u001b[0m\u001b[0m\n\u001b[0m\u001b[1;32m    836\u001b[0m \u001b[0;34m\u001b[0m\u001b[0m\n\u001b[1;32m    837\u001b[0m                 \u001b[0mprimary_key\u001b[0m \u001b[0;34m=\u001b[0m \u001b[0mresult\u001b[0m\u001b[0;34m.\u001b[0m\u001b[0mcontext\u001b[0m\u001b[0;34m.\u001b[0m\u001b[0minserted_primary_key\u001b[0m\u001b[0;34m\u001b[0m\u001b[0m\n",
      "\u001b[0;32m~/.pyenv/versions/3.6.1/envs/miracle_3.6/lib/python3.6/site-packages/sqlalchemy/engine/base.py\u001b[0m in \u001b[0;36mexecute\u001b[0;34m(self, object, *multiparams, **params)\u001b[0m\n\u001b[1;32m    943\u001b[0m             \u001b[0;32mraise\u001b[0m \u001b[0mexc\u001b[0m\u001b[0;34m.\u001b[0m\u001b[0mObjectNotExecutableError\u001b[0m\u001b[0;34m(\u001b[0m\u001b[0mobject\u001b[0m\u001b[0;34m)\u001b[0m\u001b[0;34m\u001b[0m\u001b[0m\n\u001b[1;32m    944\u001b[0m         \u001b[0;32melse\u001b[0m\u001b[0;34m:\u001b[0m\u001b[0;34m\u001b[0m\u001b[0m\n\u001b[0;32m--> 945\u001b[0;31m             \u001b[0;32mreturn\u001b[0m \u001b[0mmeth\u001b[0m\u001b[0;34m(\u001b[0m\u001b[0mself\u001b[0m\u001b[0;34m,\u001b[0m \u001b[0mmultiparams\u001b[0m\u001b[0;34m,\u001b[0m \u001b[0mparams\u001b[0m\u001b[0;34m)\u001b[0m\u001b[0;34m\u001b[0m\u001b[0m\n\u001b[0m\u001b[1;32m    946\u001b[0m \u001b[0;34m\u001b[0m\u001b[0m\n\u001b[1;32m    947\u001b[0m     \u001b[0;32mdef\u001b[0m \u001b[0m_execute_function\u001b[0m\u001b[0;34m(\u001b[0m\u001b[0mself\u001b[0m\u001b[0;34m,\u001b[0m \u001b[0mfunc\u001b[0m\u001b[0;34m,\u001b[0m \u001b[0mmultiparams\u001b[0m\u001b[0;34m,\u001b[0m \u001b[0mparams\u001b[0m\u001b[0;34m)\u001b[0m\u001b[0;34m:\u001b[0m\u001b[0;34m\u001b[0m\u001b[0m\n",
      "\u001b[0;32m~/.pyenv/versions/3.6.1/envs/miracle_3.6/lib/python3.6/site-packages/sqlalchemy/sql/elements.py\u001b[0m in \u001b[0;36m_execute_on_connection\u001b[0;34m(self, connection, multiparams, params)\u001b[0m\n\u001b[1;32m    261\u001b[0m     \u001b[0;32mdef\u001b[0m \u001b[0m_execute_on_connection\u001b[0m\u001b[0;34m(\u001b[0m\u001b[0mself\u001b[0m\u001b[0;34m,\u001b[0m \u001b[0mconnection\u001b[0m\u001b[0;34m,\u001b[0m \u001b[0mmultiparams\u001b[0m\u001b[0;34m,\u001b[0m \u001b[0mparams\u001b[0m\u001b[0;34m)\u001b[0m\u001b[0;34m:\u001b[0m\u001b[0;34m\u001b[0m\u001b[0m\n\u001b[1;32m    262\u001b[0m         \u001b[0;32mif\u001b[0m \u001b[0mself\u001b[0m\u001b[0;34m.\u001b[0m\u001b[0msupports_execution\u001b[0m\u001b[0;34m:\u001b[0m\u001b[0;34m\u001b[0m\u001b[0m\n\u001b[0;32m--> 263\u001b[0;31m             \u001b[0;32mreturn\u001b[0m \u001b[0mconnection\u001b[0m\u001b[0;34m.\u001b[0m\u001b[0m_execute_clauseelement\u001b[0m\u001b[0;34m(\u001b[0m\u001b[0mself\u001b[0m\u001b[0;34m,\u001b[0m \u001b[0mmultiparams\u001b[0m\u001b[0;34m,\u001b[0m \u001b[0mparams\u001b[0m\u001b[0;34m)\u001b[0m\u001b[0;34m\u001b[0m\u001b[0m\n\u001b[0m\u001b[1;32m    264\u001b[0m         \u001b[0;32melse\u001b[0m\u001b[0;34m:\u001b[0m\u001b[0;34m\u001b[0m\u001b[0m\n\u001b[1;32m    265\u001b[0m             \u001b[0;32mraise\u001b[0m \u001b[0mexc\u001b[0m\u001b[0;34m.\u001b[0m\u001b[0mObjectNotExecutableError\u001b[0m\u001b[0;34m(\u001b[0m\u001b[0mself\u001b[0m\u001b[0;34m)\u001b[0m\u001b[0;34m\u001b[0m\u001b[0m\n",
      "\u001b[0;32m~/.pyenv/versions/3.6.1/envs/miracle_3.6/lib/python3.6/site-packages/sqlalchemy/engine/base.py\u001b[0m in \u001b[0;36m_execute_clauseelement\u001b[0;34m(self, elem, multiparams, params)\u001b[0m\n\u001b[1;32m   1051\u001b[0m             \u001b[0mcompiled_sql\u001b[0m\u001b[0;34m,\u001b[0m\u001b[0;34m\u001b[0m\u001b[0m\n\u001b[1;32m   1052\u001b[0m             \u001b[0mdistilled_params\u001b[0m\u001b[0;34m,\u001b[0m\u001b[0;34m\u001b[0m\u001b[0m\n\u001b[0;32m-> 1053\u001b[0;31m             \u001b[0mcompiled_sql\u001b[0m\u001b[0;34m,\u001b[0m \u001b[0mdistilled_params\u001b[0m\u001b[0;34m\u001b[0m\u001b[0m\n\u001b[0m\u001b[1;32m   1054\u001b[0m         )\n\u001b[1;32m   1055\u001b[0m         \u001b[0;32mif\u001b[0m \u001b[0mself\u001b[0m\u001b[0;34m.\u001b[0m\u001b[0m_has_events\u001b[0m \u001b[0;32mor\u001b[0m \u001b[0mself\u001b[0m\u001b[0;34m.\u001b[0m\u001b[0mengine\u001b[0m\u001b[0;34m.\u001b[0m\u001b[0m_has_events\u001b[0m\u001b[0;34m:\u001b[0m\u001b[0;34m\u001b[0m\u001b[0m\n",
      "\u001b[0;32m~/.pyenv/versions/3.6.1/envs/miracle_3.6/lib/python3.6/site-packages/sqlalchemy/engine/base.py\u001b[0m in \u001b[0;36m_execute_context\u001b[0;34m(self, dialect, constructor, statement, parameters, *args)\u001b[0m\n\u001b[1;32m   1187\u001b[0m                 \u001b[0mparameters\u001b[0m\u001b[0;34m,\u001b[0m\u001b[0;34m\u001b[0m\u001b[0m\n\u001b[1;32m   1188\u001b[0m                 \u001b[0mcursor\u001b[0m\u001b[0;34m,\u001b[0m\u001b[0;34m\u001b[0m\u001b[0m\n\u001b[0;32m-> 1189\u001b[0;31m                 context)\n\u001b[0m\u001b[1;32m   1190\u001b[0m \u001b[0;34m\u001b[0m\u001b[0m\n\u001b[1;32m   1191\u001b[0m         \u001b[0;32mif\u001b[0m \u001b[0mself\u001b[0m\u001b[0;34m.\u001b[0m\u001b[0m_has_events\u001b[0m \u001b[0;32mor\u001b[0m \u001b[0mself\u001b[0m\u001b[0;34m.\u001b[0m\u001b[0mengine\u001b[0m\u001b[0;34m.\u001b[0m\u001b[0m_has_events\u001b[0m\u001b[0;34m:\u001b[0m\u001b[0;34m\u001b[0m\u001b[0m\n",
      "\u001b[0;32m~/.pyenv/versions/3.6.1/envs/miracle_3.6/lib/python3.6/site-packages/sqlalchemy/engine/base.py\u001b[0m in \u001b[0;36m_handle_dbapi_exception\u001b[0;34m(self, e, statement, parameters, cursor, context)\u001b[0m\n\u001b[1;32m   1400\u001b[0m                 util.raise_from_cause(\n\u001b[1;32m   1401\u001b[0m                     \u001b[0msqlalchemy_exception\u001b[0m\u001b[0;34m,\u001b[0m\u001b[0;34m\u001b[0m\u001b[0m\n\u001b[0;32m-> 1402\u001b[0;31m                     \u001b[0mexc_info\u001b[0m\u001b[0;34m\u001b[0m\u001b[0m\n\u001b[0m\u001b[1;32m   1403\u001b[0m                 )\n\u001b[1;32m   1404\u001b[0m             \u001b[0;32melse\u001b[0m\u001b[0;34m:\u001b[0m\u001b[0;34m\u001b[0m\u001b[0m\n",
      "\u001b[0;32m~/.pyenv/versions/3.6.1/envs/miracle_3.6/lib/python3.6/site-packages/sqlalchemy/util/compat.py\u001b[0m in \u001b[0;36mraise_from_cause\u001b[0;34m(exception, exc_info)\u001b[0m\n\u001b[1;32m    201\u001b[0m     \u001b[0mexc_type\u001b[0m\u001b[0;34m,\u001b[0m \u001b[0mexc_value\u001b[0m\u001b[0;34m,\u001b[0m \u001b[0mexc_tb\u001b[0m \u001b[0;34m=\u001b[0m \u001b[0mexc_info\u001b[0m\u001b[0;34m\u001b[0m\u001b[0m\n\u001b[1;32m    202\u001b[0m     \u001b[0mcause\u001b[0m \u001b[0;34m=\u001b[0m \u001b[0mexc_value\u001b[0m \u001b[0;32mif\u001b[0m \u001b[0mexc_value\u001b[0m \u001b[0;32mis\u001b[0m \u001b[0;32mnot\u001b[0m \u001b[0mexception\u001b[0m \u001b[0;32melse\u001b[0m \u001b[0;32mNone\u001b[0m\u001b[0;34m\u001b[0m\u001b[0m\n\u001b[0;32m--> 203\u001b[0;31m     \u001b[0mreraise\u001b[0m\u001b[0;34m(\u001b[0m\u001b[0mtype\u001b[0m\u001b[0;34m(\u001b[0m\u001b[0mexception\u001b[0m\u001b[0;34m)\u001b[0m\u001b[0;34m,\u001b[0m \u001b[0mexception\u001b[0m\u001b[0;34m,\u001b[0m \u001b[0mtb\u001b[0m\u001b[0;34m=\u001b[0m\u001b[0mexc_tb\u001b[0m\u001b[0;34m,\u001b[0m \u001b[0mcause\u001b[0m\u001b[0;34m=\u001b[0m\u001b[0mcause\u001b[0m\u001b[0;34m)\u001b[0m\u001b[0;34m\u001b[0m\u001b[0m\n\u001b[0m\u001b[1;32m    204\u001b[0m \u001b[0;34m\u001b[0m\u001b[0m\n\u001b[1;32m    205\u001b[0m \u001b[0;32mif\u001b[0m \u001b[0mpy3k\u001b[0m\u001b[0;34m:\u001b[0m\u001b[0;34m\u001b[0m\u001b[0m\n",
      "\u001b[0;32m~/.pyenv/versions/3.6.1/envs/miracle_3.6/lib/python3.6/site-packages/sqlalchemy/util/compat.py\u001b[0m in \u001b[0;36mreraise\u001b[0;34m(tp, value, tb, cause)\u001b[0m\n\u001b[1;32m    184\u001b[0m             \u001b[0mvalue\u001b[0m\u001b[0;34m.\u001b[0m\u001b[0m__cause__\u001b[0m \u001b[0;34m=\u001b[0m \u001b[0mcause\u001b[0m\u001b[0;34m\u001b[0m\u001b[0m\n\u001b[1;32m    185\u001b[0m         \u001b[0;32mif\u001b[0m \u001b[0mvalue\u001b[0m\u001b[0;34m.\u001b[0m\u001b[0m__traceback__\u001b[0m \u001b[0;32mis\u001b[0m \u001b[0;32mnot\u001b[0m \u001b[0mtb\u001b[0m\u001b[0;34m:\u001b[0m\u001b[0;34m\u001b[0m\u001b[0m\n\u001b[0;32m--> 186\u001b[0;31m             \u001b[0;32mraise\u001b[0m \u001b[0mvalue\u001b[0m\u001b[0;34m.\u001b[0m\u001b[0mwith_traceback\u001b[0m\u001b[0;34m(\u001b[0m\u001b[0mtb\u001b[0m\u001b[0;34m)\u001b[0m\u001b[0;34m\u001b[0m\u001b[0m\n\u001b[0m\u001b[1;32m    187\u001b[0m         \u001b[0;32mraise\u001b[0m \u001b[0mvalue\u001b[0m\u001b[0;34m\u001b[0m\u001b[0m\n\u001b[1;32m    188\u001b[0m \u001b[0;34m\u001b[0m\u001b[0m\n",
      "\u001b[0;32m~/.pyenv/versions/3.6.1/envs/miracle_3.6/lib/python3.6/site-packages/sqlalchemy/engine/base.py\u001b[0m in \u001b[0;36m_execute_context\u001b[0;34m(self, dialect, constructor, statement, parameters, *args)\u001b[0m\n\u001b[1;32m   1180\u001b[0m                         \u001b[0mstatement\u001b[0m\u001b[0;34m,\u001b[0m\u001b[0;34m\u001b[0m\u001b[0m\n\u001b[1;32m   1181\u001b[0m                         \u001b[0mparameters\u001b[0m\u001b[0;34m,\u001b[0m\u001b[0;34m\u001b[0m\u001b[0m\n\u001b[0;32m-> 1182\u001b[0;31m                         context)\n\u001b[0m\u001b[1;32m   1183\u001b[0m         \u001b[0;32mexcept\u001b[0m \u001b[0mBaseException\u001b[0m \u001b[0;32mas\u001b[0m \u001b[0me\u001b[0m\u001b[0;34m:\u001b[0m\u001b[0;34m\u001b[0m\u001b[0m\n\u001b[1;32m   1184\u001b[0m             self._handle_dbapi_exception(\n",
      "\u001b[0;32m~/.pyenv/versions/3.6.1/envs/miracle_3.6/lib/python3.6/site-packages/sqlalchemy/engine/default.py\u001b[0m in \u001b[0;36mdo_execute\u001b[0;34m(self, cursor, statement, parameters, context)\u001b[0m\n\u001b[1;32m    468\u001b[0m \u001b[0;34m\u001b[0m\u001b[0m\n\u001b[1;32m    469\u001b[0m     \u001b[0;32mdef\u001b[0m \u001b[0mdo_execute\u001b[0m\u001b[0;34m(\u001b[0m\u001b[0mself\u001b[0m\u001b[0;34m,\u001b[0m \u001b[0mcursor\u001b[0m\u001b[0;34m,\u001b[0m \u001b[0mstatement\u001b[0m\u001b[0;34m,\u001b[0m \u001b[0mparameters\u001b[0m\u001b[0;34m,\u001b[0m \u001b[0mcontext\u001b[0m\u001b[0;34m=\u001b[0m\u001b[0;32mNone\u001b[0m\u001b[0;34m)\u001b[0m\u001b[0;34m:\u001b[0m\u001b[0;34m\u001b[0m\u001b[0m\n\u001b[0;32m--> 470\u001b[0;31m         \u001b[0mcursor\u001b[0m\u001b[0;34m.\u001b[0m\u001b[0mexecute\u001b[0m\u001b[0;34m(\u001b[0m\u001b[0mstatement\u001b[0m\u001b[0;34m,\u001b[0m \u001b[0mparameters\u001b[0m\u001b[0;34m)\u001b[0m\u001b[0;34m\u001b[0m\u001b[0m\n\u001b[0m\u001b[1;32m    471\u001b[0m \u001b[0;34m\u001b[0m\u001b[0m\n\u001b[1;32m    472\u001b[0m     \u001b[0;32mdef\u001b[0m \u001b[0mdo_execute_no_params\u001b[0m\u001b[0;34m(\u001b[0m\u001b[0mself\u001b[0m\u001b[0;34m,\u001b[0m \u001b[0mcursor\u001b[0m\u001b[0;34m,\u001b[0m \u001b[0mstatement\u001b[0m\u001b[0;34m,\u001b[0m \u001b[0mcontext\u001b[0m\u001b[0;34m=\u001b[0m\u001b[0;32mNone\u001b[0m\u001b[0;34m)\u001b[0m\u001b[0;34m:\u001b[0m\u001b[0;34m\u001b[0m\u001b[0m\n",
      "\u001b[0;32m~/.pyenv/versions/3.6.1/envs/miracle_3.6/lib/python3.6/site-packages/pymysql/cursors.py\u001b[0m in \u001b[0;36mexecute\u001b[0;34m(self, query, args)\u001b[0m\n\u001b[1;32m    164\u001b[0m         \u001b[0mquery\u001b[0m \u001b[0;34m=\u001b[0m \u001b[0mself\u001b[0m\u001b[0;34m.\u001b[0m\u001b[0mmogrify\u001b[0m\u001b[0;34m(\u001b[0m\u001b[0mquery\u001b[0m\u001b[0;34m,\u001b[0m \u001b[0margs\u001b[0m\u001b[0;34m)\u001b[0m\u001b[0;34m\u001b[0m\u001b[0m\n\u001b[1;32m    165\u001b[0m \u001b[0;34m\u001b[0m\u001b[0m\n\u001b[0;32m--> 166\u001b[0;31m         \u001b[0mresult\u001b[0m \u001b[0;34m=\u001b[0m \u001b[0mself\u001b[0m\u001b[0;34m.\u001b[0m\u001b[0m_query\u001b[0m\u001b[0;34m(\u001b[0m\u001b[0mquery\u001b[0m\u001b[0;34m)\u001b[0m\u001b[0;34m\u001b[0m\u001b[0m\n\u001b[0m\u001b[1;32m    167\u001b[0m         \u001b[0mself\u001b[0m\u001b[0;34m.\u001b[0m\u001b[0m_executed\u001b[0m \u001b[0;34m=\u001b[0m \u001b[0mquery\u001b[0m\u001b[0;34m\u001b[0m\u001b[0m\n\u001b[1;32m    168\u001b[0m         \u001b[0;32mreturn\u001b[0m \u001b[0mresult\u001b[0m\u001b[0;34m\u001b[0m\u001b[0m\n",
      "\u001b[0;32m~/.pyenv/versions/3.6.1/envs/miracle_3.6/lib/python3.6/site-packages/pymysql/cursors.py\u001b[0m in \u001b[0;36m_query\u001b[0;34m(self, q)\u001b[0m\n\u001b[1;32m    320\u001b[0m         \u001b[0mconn\u001b[0m \u001b[0;34m=\u001b[0m \u001b[0mself\u001b[0m\u001b[0;34m.\u001b[0m\u001b[0m_get_db\u001b[0m\u001b[0;34m(\u001b[0m\u001b[0;34m)\u001b[0m\u001b[0;34m\u001b[0m\u001b[0m\n\u001b[1;32m    321\u001b[0m         \u001b[0mself\u001b[0m\u001b[0;34m.\u001b[0m\u001b[0m_last_executed\u001b[0m \u001b[0;34m=\u001b[0m \u001b[0mq\u001b[0m\u001b[0;34m\u001b[0m\u001b[0m\n\u001b[0;32m--> 322\u001b[0;31m         \u001b[0mconn\u001b[0m\u001b[0;34m.\u001b[0m\u001b[0mquery\u001b[0m\u001b[0;34m(\u001b[0m\u001b[0mq\u001b[0m\u001b[0;34m)\u001b[0m\u001b[0;34m\u001b[0m\u001b[0m\n\u001b[0m\u001b[1;32m    323\u001b[0m         \u001b[0mself\u001b[0m\u001b[0;34m.\u001b[0m\u001b[0m_do_get_result\u001b[0m\u001b[0;34m(\u001b[0m\u001b[0;34m)\u001b[0m\u001b[0;34m\u001b[0m\u001b[0m\n\u001b[1;32m    324\u001b[0m         \u001b[0;32mreturn\u001b[0m \u001b[0mself\u001b[0m\u001b[0;34m.\u001b[0m\u001b[0mrowcount\u001b[0m\u001b[0;34m\u001b[0m\u001b[0m\n",
      "\u001b[0;32m~/.pyenv/versions/3.6.1/envs/miracle_3.6/lib/python3.6/site-packages/pymysql/connections.py\u001b[0m in \u001b[0;36mquery\u001b[0;34m(self, sql, unbuffered)\u001b[0m\n\u001b[1;32m    854\u001b[0m                 \u001b[0msql\u001b[0m \u001b[0;34m=\u001b[0m \u001b[0msql\u001b[0m\u001b[0;34m.\u001b[0m\u001b[0mencode\u001b[0m\u001b[0;34m(\u001b[0m\u001b[0mself\u001b[0m\u001b[0;34m.\u001b[0m\u001b[0mencoding\u001b[0m\u001b[0;34m,\u001b[0m \u001b[0;34m'surrogateescape'\u001b[0m\u001b[0;34m)\u001b[0m\u001b[0;34m\u001b[0m\u001b[0m\n\u001b[1;32m    855\u001b[0m         \u001b[0mself\u001b[0m\u001b[0;34m.\u001b[0m\u001b[0m_execute_command\u001b[0m\u001b[0;34m(\u001b[0m\u001b[0mCOMMAND\u001b[0m\u001b[0;34m.\u001b[0m\u001b[0mCOM_QUERY\u001b[0m\u001b[0;34m,\u001b[0m \u001b[0msql\u001b[0m\u001b[0;34m)\u001b[0m\u001b[0;34m\u001b[0m\u001b[0m\n\u001b[0;32m--> 856\u001b[0;31m         \u001b[0mself\u001b[0m\u001b[0;34m.\u001b[0m\u001b[0m_affected_rows\u001b[0m \u001b[0;34m=\u001b[0m \u001b[0mself\u001b[0m\u001b[0;34m.\u001b[0m\u001b[0m_read_query_result\u001b[0m\u001b[0;34m(\u001b[0m\u001b[0munbuffered\u001b[0m\u001b[0;34m=\u001b[0m\u001b[0munbuffered\u001b[0m\u001b[0;34m)\u001b[0m\u001b[0;34m\u001b[0m\u001b[0m\n\u001b[0m\u001b[1;32m    857\u001b[0m         \u001b[0;32mreturn\u001b[0m \u001b[0mself\u001b[0m\u001b[0;34m.\u001b[0m\u001b[0m_affected_rows\u001b[0m\u001b[0;34m\u001b[0m\u001b[0m\n\u001b[1;32m    858\u001b[0m \u001b[0;34m\u001b[0m\u001b[0m\n",
      "\u001b[0;32m~/.pyenv/versions/3.6.1/envs/miracle_3.6/lib/python3.6/site-packages/pymysql/connections.py\u001b[0m in \u001b[0;36m_read_query_result\u001b[0;34m(self, unbuffered)\u001b[0m\n\u001b[1;32m   1055\u001b[0m         \u001b[0;32melse\u001b[0m\u001b[0;34m:\u001b[0m\u001b[0;34m\u001b[0m\u001b[0m\n\u001b[1;32m   1056\u001b[0m             \u001b[0mresult\u001b[0m \u001b[0;34m=\u001b[0m \u001b[0mMySQLResult\u001b[0m\u001b[0;34m(\u001b[0m\u001b[0mself\u001b[0m\u001b[0;34m)\u001b[0m\u001b[0;34m\u001b[0m\u001b[0m\n\u001b[0;32m-> 1057\u001b[0;31m             \u001b[0mresult\u001b[0m\u001b[0;34m.\u001b[0m\u001b[0mread\u001b[0m\u001b[0;34m(\u001b[0m\u001b[0;34m)\u001b[0m\u001b[0;34m\u001b[0m\u001b[0m\n\u001b[0m\u001b[1;32m   1058\u001b[0m         \u001b[0mself\u001b[0m\u001b[0;34m.\u001b[0m\u001b[0m_result\u001b[0m \u001b[0;34m=\u001b[0m \u001b[0mresult\u001b[0m\u001b[0;34m\u001b[0m\u001b[0m\n\u001b[1;32m   1059\u001b[0m         \u001b[0;32mif\u001b[0m \u001b[0mresult\u001b[0m\u001b[0;34m.\u001b[0m\u001b[0mserver_status\u001b[0m \u001b[0;32mis\u001b[0m \u001b[0;32mnot\u001b[0m \u001b[0;32mNone\u001b[0m\u001b[0;34m:\u001b[0m\u001b[0;34m\u001b[0m\u001b[0m\n",
      "\u001b[0;32m~/.pyenv/versions/3.6.1/envs/miracle_3.6/lib/python3.6/site-packages/pymysql/connections.py\u001b[0m in \u001b[0;36mread\u001b[0;34m(self)\u001b[0m\n\u001b[1;32m   1338\u001b[0m     \u001b[0;32mdef\u001b[0m \u001b[0mread\u001b[0m\u001b[0;34m(\u001b[0m\u001b[0mself\u001b[0m\u001b[0;34m)\u001b[0m\u001b[0;34m:\u001b[0m\u001b[0;34m\u001b[0m\u001b[0m\n\u001b[1;32m   1339\u001b[0m         \u001b[0;32mtry\u001b[0m\u001b[0;34m:\u001b[0m\u001b[0;34m\u001b[0m\u001b[0m\n\u001b[0;32m-> 1340\u001b[0;31m             \u001b[0mfirst_packet\u001b[0m \u001b[0;34m=\u001b[0m \u001b[0mself\u001b[0m\u001b[0;34m.\u001b[0m\u001b[0mconnection\u001b[0m\u001b[0;34m.\u001b[0m\u001b[0m_read_packet\u001b[0m\u001b[0;34m(\u001b[0m\u001b[0;34m)\u001b[0m\u001b[0;34m\u001b[0m\u001b[0m\n\u001b[0m\u001b[1;32m   1341\u001b[0m \u001b[0;34m\u001b[0m\u001b[0m\n\u001b[1;32m   1342\u001b[0m             \u001b[0;32mif\u001b[0m \u001b[0mfirst_packet\u001b[0m\u001b[0;34m.\u001b[0m\u001b[0mis_ok_packet\u001b[0m\u001b[0;34m(\u001b[0m\u001b[0;34m)\u001b[0m\u001b[0;34m:\u001b[0m\u001b[0;34m\u001b[0m\u001b[0m\n",
      "\u001b[0;32m~/.pyenv/versions/3.6.1/envs/miracle_3.6/lib/python3.6/site-packages/pymysql/connections.py\u001b[0m in \u001b[0;36m_read_packet\u001b[0;34m(self, packet_type)\u001b[0m\n\u001b[1;32m   1012\u001b[0m \u001b[0;34m\u001b[0m\u001b[0m\n\u001b[1;32m   1013\u001b[0m         \u001b[0mpacket\u001b[0m \u001b[0;34m=\u001b[0m \u001b[0mpacket_type\u001b[0m\u001b[0;34m(\u001b[0m\u001b[0mbuff\u001b[0m\u001b[0;34m,\u001b[0m \u001b[0mself\u001b[0m\u001b[0;34m.\u001b[0m\u001b[0mencoding\u001b[0m\u001b[0;34m)\u001b[0m\u001b[0;34m\u001b[0m\u001b[0m\n\u001b[0;32m-> 1014\u001b[0;31m         \u001b[0mpacket\u001b[0m\u001b[0;34m.\u001b[0m\u001b[0mcheck_error\u001b[0m\u001b[0;34m(\u001b[0m\u001b[0;34m)\u001b[0m\u001b[0;34m\u001b[0m\u001b[0m\n\u001b[0m\u001b[1;32m   1015\u001b[0m         \u001b[0;32mreturn\u001b[0m \u001b[0mpacket\u001b[0m\u001b[0;34m\u001b[0m\u001b[0m\n\u001b[1;32m   1016\u001b[0m \u001b[0;34m\u001b[0m\u001b[0m\n",
      "\u001b[0;32m~/.pyenv/versions/3.6.1/envs/miracle_3.6/lib/python3.6/site-packages/pymysql/connections.py\u001b[0m in \u001b[0;36mcheck_error\u001b[0;34m(self)\u001b[0m\n\u001b[1;32m    391\u001b[0m             \u001b[0merrno\u001b[0m \u001b[0;34m=\u001b[0m \u001b[0mself\u001b[0m\u001b[0;34m.\u001b[0m\u001b[0mread_uint16\u001b[0m\u001b[0;34m(\u001b[0m\u001b[0;34m)\u001b[0m\u001b[0;34m\u001b[0m\u001b[0m\n\u001b[1;32m    392\u001b[0m             \u001b[0;32mif\u001b[0m \u001b[0mDEBUG\u001b[0m\u001b[0;34m:\u001b[0m \u001b[0mprint\u001b[0m\u001b[0;34m(\u001b[0m\u001b[0;34m\"errno =\"\u001b[0m\u001b[0;34m,\u001b[0m \u001b[0merrno\u001b[0m\u001b[0;34m)\u001b[0m\u001b[0;34m\u001b[0m\u001b[0m\n\u001b[0;32m--> 393\u001b[0;31m             \u001b[0merr\u001b[0m\u001b[0;34m.\u001b[0m\u001b[0mraise_mysql_exception\u001b[0m\u001b[0;34m(\u001b[0m\u001b[0mself\u001b[0m\u001b[0;34m.\u001b[0m\u001b[0m_data\u001b[0m\u001b[0;34m)\u001b[0m\u001b[0;34m\u001b[0m\u001b[0m\n\u001b[0m\u001b[1;32m    394\u001b[0m \u001b[0;34m\u001b[0m\u001b[0m\n\u001b[1;32m    395\u001b[0m     \u001b[0;32mdef\u001b[0m \u001b[0mdump\u001b[0m\u001b[0;34m(\u001b[0m\u001b[0mself\u001b[0m\u001b[0;34m)\u001b[0m\u001b[0;34m:\u001b[0m\u001b[0;34m\u001b[0m\u001b[0m\n",
      "\u001b[0;32m~/.pyenv/versions/3.6.1/envs/miracle_3.6/lib/python3.6/site-packages/pymysql/err.py\u001b[0m in \u001b[0;36mraise_mysql_exception\u001b[0;34m(data)\u001b[0m\n\u001b[1;32m    105\u001b[0m         \u001b[0merrval\u001b[0m \u001b[0;34m=\u001b[0m \u001b[0mdata\u001b[0m\u001b[0;34m[\u001b[0m\u001b[0;36m3\u001b[0m\u001b[0;34m:\u001b[0m\u001b[0;34m]\u001b[0m\u001b[0;34m.\u001b[0m\u001b[0mdecode\u001b[0m\u001b[0;34m(\u001b[0m\u001b[0;34m'utf-8'\u001b[0m\u001b[0;34m,\u001b[0m \u001b[0;34m'replace'\u001b[0m\u001b[0;34m)\u001b[0m\u001b[0;34m\u001b[0m\u001b[0m\n\u001b[1;32m    106\u001b[0m     \u001b[0merrorclass\u001b[0m \u001b[0;34m=\u001b[0m \u001b[0merror_map\u001b[0m\u001b[0;34m.\u001b[0m\u001b[0mget\u001b[0m\u001b[0;34m(\u001b[0m\u001b[0merrno\u001b[0m\u001b[0;34m,\u001b[0m \u001b[0mInternalError\u001b[0m\u001b[0;34m)\u001b[0m\u001b[0;34m\u001b[0m\u001b[0m\n\u001b[0;32m--> 107\u001b[0;31m     \u001b[0;32mraise\u001b[0m \u001b[0merrorclass\u001b[0m\u001b[0;34m(\u001b[0m\u001b[0merrno\u001b[0m\u001b[0;34m,\u001b[0m \u001b[0merrval\u001b[0m\u001b[0;34m)\u001b[0m\u001b[0;34m\u001b[0m\u001b[0m\n\u001b[0m",
      "\u001b[0;31mIntegrityError\u001b[0m: (pymysql.err.IntegrityError) (1062, \"Duplicate entry 'miracle' for key 'name'\") [SQL: 'INSERT INTO user (name, age) VALUES (%(name)s, %(age)s)'] [parameters: {'name': 'miracle', 'age': 30}]"
     ]
    }
   ],
   "source": [
    "session.commit()"
   ]
  },
  {
   "cell_type": "code",
   "execution_count": 38,
   "metadata": {
    "collapsed": true
   },
   "outputs": [],
   "source": [
    "user3 = User()"
   ]
  },
  {
   "cell_type": "code",
   "execution_count": 39,
   "metadata": {
    "collapsed": true
   },
   "outputs": [],
   "source": [
    "user3.name = 'young'"
   ]
  },
  {
   "cell_type": "code",
   "execution_count": 40,
   "metadata": {
    "collapsed": true
   },
   "outputs": [],
   "source": [
    "user3.age = 50"
   ]
  },
  {
   "cell_type": "code",
   "execution_count": 41,
   "metadata": {
    "collapsed": true
   },
   "outputs": [],
   "source": [
    "session.add(user3)"
   ]
  },
  {
   "cell_type": "code",
   "execution_count": 42,
   "metadata": {},
   "outputs": [
    {
     "ename": "InvalidRequestError",
     "evalue": "This Session's transaction has been rolled back due to a previous exception during flush. To begin a new transaction with this Session, first issue Session.rollback(). Original exception was: (pymysql.err.IntegrityError) (1062, \"Duplicate entry 'miracle' for key 'name'\") [SQL: 'INSERT INTO user (name, age) VALUES (%(name)s, %(age)s)'] [parameters: {'name': 'miracle', 'age': 30}]",
     "output_type": "error",
     "traceback": [
      "\u001b[0;31m-----------------------------------------\u001b[0m",
      "\u001b[0;31mInvalidRequestError\u001b[0mTraceback (most recent call last)",
      "\u001b[0;32m<ipython-input-42-980f55471f82>\u001b[0m in \u001b[0;36m<module>\u001b[0;34m()\u001b[0m\n\u001b[0;32m----> 1\u001b[0;31m \u001b[0msession\u001b[0m\u001b[0;34m.\u001b[0m\u001b[0mcommit\u001b[0m\u001b[0;34m(\u001b[0m\u001b[0;34m)\u001b[0m\u001b[0;34m\u001b[0m\u001b[0m\n\u001b[0m",
      "\u001b[0;32m~/.pyenv/versions/3.6.1/envs/miracle_3.6/lib/python3.6/site-packages/sqlalchemy/orm/session.py\u001b[0m in \u001b[0;36mcommit\u001b[0;34m(self)\u001b[0m\n\u001b[1;32m    904\u001b[0m                 \u001b[0;32mraise\u001b[0m \u001b[0msa_exc\u001b[0m\u001b[0;34m.\u001b[0m\u001b[0mInvalidRequestError\u001b[0m\u001b[0;34m(\u001b[0m\u001b[0;34m\"No transaction is begun.\"\u001b[0m\u001b[0;34m)\u001b[0m\u001b[0;34m\u001b[0m\u001b[0m\n\u001b[1;32m    905\u001b[0m \u001b[0;34m\u001b[0m\u001b[0m\n\u001b[0;32m--> 906\u001b[0;31m         \u001b[0mself\u001b[0m\u001b[0;34m.\u001b[0m\u001b[0mtransaction\u001b[0m\u001b[0;34m.\u001b[0m\u001b[0mcommit\u001b[0m\u001b[0;34m(\u001b[0m\u001b[0;34m)\u001b[0m\u001b[0;34m\u001b[0m\u001b[0m\n\u001b[0m\u001b[1;32m    907\u001b[0m \u001b[0;34m\u001b[0m\u001b[0m\n\u001b[1;32m    908\u001b[0m     \u001b[0;32mdef\u001b[0m \u001b[0mprepare\u001b[0m\u001b[0;34m(\u001b[0m\u001b[0mself\u001b[0m\u001b[0;34m)\u001b[0m\u001b[0;34m:\u001b[0m\u001b[0;34m\u001b[0m\u001b[0m\n",
      "\u001b[0;32m~/.pyenv/versions/3.6.1/envs/miracle_3.6/lib/python3.6/site-packages/sqlalchemy/orm/session.py\u001b[0m in \u001b[0;36mcommit\u001b[0;34m(self)\u001b[0m\n\u001b[1;32m    457\u001b[0m \u001b[0;34m\u001b[0m\u001b[0m\n\u001b[1;32m    458\u001b[0m     \u001b[0;32mdef\u001b[0m \u001b[0mcommit\u001b[0m\u001b[0;34m(\u001b[0m\u001b[0mself\u001b[0m\u001b[0;34m)\u001b[0m\u001b[0;34m:\u001b[0m\u001b[0;34m\u001b[0m\u001b[0m\n\u001b[0;32m--> 459\u001b[0;31m         \u001b[0mself\u001b[0m\u001b[0;34m.\u001b[0m\u001b[0m_assert_active\u001b[0m\u001b[0;34m(\u001b[0m\u001b[0mprepared_ok\u001b[0m\u001b[0;34m=\u001b[0m\u001b[0;32mTrue\u001b[0m\u001b[0;34m)\u001b[0m\u001b[0;34m\u001b[0m\u001b[0m\n\u001b[0m\u001b[1;32m    460\u001b[0m         \u001b[0;32mif\u001b[0m \u001b[0mself\u001b[0m\u001b[0;34m.\u001b[0m\u001b[0m_state\u001b[0m \u001b[0;32mis\u001b[0m \u001b[0;32mnot\u001b[0m \u001b[0mPREPARED\u001b[0m\u001b[0;34m:\u001b[0m\u001b[0;34m\u001b[0m\u001b[0m\n\u001b[1;32m    461\u001b[0m             \u001b[0mself\u001b[0m\u001b[0;34m.\u001b[0m\u001b[0m_prepare_impl\u001b[0m\u001b[0;34m(\u001b[0m\u001b[0;34m)\u001b[0m\u001b[0;34m\u001b[0m\u001b[0m\n",
      "\u001b[0;32m~/.pyenv/versions/3.6.1/envs/miracle_3.6/lib/python3.6/site-packages/sqlalchemy/orm/session.py\u001b[0m in \u001b[0;36m_assert_active\u001b[0;34m(self, prepared_ok, rollback_ok, deactive_ok, closed_msg)\u001b[0m\n\u001b[1;32m    274\u001b[0m                         \u001b[0;34m\"first issue Session.rollback().\"\u001b[0m\u001b[0;34m\u001b[0m\u001b[0m\n\u001b[1;32m    275\u001b[0m                         \u001b[0;34m\" Original exception was: %s\"\u001b[0m\u001b[0;34m\u001b[0m\u001b[0m\n\u001b[0;32m--> 276\u001b[0;31m                         \u001b[0;34m%\u001b[0m \u001b[0mself\u001b[0m\u001b[0;34m.\u001b[0m\u001b[0m_rollback_exception\u001b[0m\u001b[0;34m\u001b[0m\u001b[0m\n\u001b[0m\u001b[1;32m    277\u001b[0m                     )\n\u001b[1;32m    278\u001b[0m                 \u001b[0;32melif\u001b[0m \u001b[0;32mnot\u001b[0m \u001b[0mdeactive_ok\u001b[0m\u001b[0;34m:\u001b[0m\u001b[0;34m\u001b[0m\u001b[0m\n",
      "\u001b[0;31mInvalidRequestError\u001b[0m: This Session's transaction has been rolled back due to a previous exception during flush. To begin a new transaction with this Session, first issue Session.rollback(). Original exception was: (pymysql.err.IntegrityError) (1062, \"Duplicate entry 'miracle' for key 'name'\") [SQL: 'INSERT INTO user (name, age) VALUES (%(name)s, %(age)s)'] [parameters: {'name': 'miracle', 'age': 30}]"
     ]
    }
   ],
   "source": [
    "session.commit()"
   ]
  },
  {
   "cell_type": "markdown",
   "metadata": {},
   "source": [
    "**一旦发生commit 异常后，后续的任何操作都无法执行，必须先执行rollback**"
   ]
  },
  {
   "cell_type": "code",
   "execution_count": 43,
   "metadata": {},
   "outputs": [
    {
     "name": "stderr",
     "output_type": "stream",
     "text": [
      "/Users/miracleYoung/.pyenv/versions/3.6.1/envs/miracle_3.6/lib/python3.6/site-packages/sqlalchemy/orm/session.py:507: SAWarning: Session's state has been changed on a non-active transaction - this state will be discarded.\n",
      "  \"Session's state has been changed on \"\n"
     ]
    }
   ],
   "source": [
    "session.rollback()"
   ]
  },
  {
   "cell_type": "code",
   "execution_count": 44,
   "metadata": {
    "collapsed": true
   },
   "outputs": [],
   "source": [
    "session.add(user3)"
   ]
  },
  {
   "cell_type": "code",
   "execution_count": 45,
   "metadata": {},
   "outputs": [
    {
     "name": "stdout",
     "output_type": "stream",
     "text": [
      "2017-11-26 10:05:07,073 INFO sqlalchemy.engine.base.Engine BEGIN (implicit)\n",
      "2017-11-26 10:05:07,075 INFO sqlalchemy.engine.base.Engine INSERT INTO user (name, age) VALUES (%(name)s, %(age)s)\n",
      "2017-11-26 10:05:07,076 INFO sqlalchemy.engine.base.Engine {'name': 'young', 'age': 50}\n",
      "2017-11-26 10:05:07,077 INFO sqlalchemy.engine.base.Engine COMMIT\n"
     ]
    }
   ],
   "source": [
    "session.commit()"
   ]
  },
  {
   "cell_type": "code",
   "execution_count": null,
   "metadata": {
    "collapsed": true
   },
   "outputs": [],
   "source": [
    "try:\n",
    "    session.commit()\n",
    "except Exception as e:\n",
    "    session.rollback()\n",
    "    raise e"
   ]
  },
  {
   "cell_type": "code",
   "execution_count": 46,
   "metadata": {},
   "outputs": [
    {
     "name": "stdout",
     "output_type": "stream",
     "text": [
      "2017-11-26 10:33:12,783 INFO sqlalchemy.engine.base.Engine BEGIN (implicit)\n",
      "2017-11-26 10:33:12,784 INFO sqlalchemy.engine.base.Engine SELECT user.id AS user_id, user.name AS user_name, user.age AS user_age \n",
      "FROM user \n",
      "WHERE user.id = %(param_1)s\n",
      "2017-11-26 10:33:12,786 INFO sqlalchemy.engine.base.Engine {'param_1': 1}\n",
      "User(id=1, name=miracle, age=18)\n"
     ]
    }
   ],
   "source": [
    "print(user)"
   ]
  },
  {
   "cell_type": "code",
   "execution_count": 47,
   "metadata": {
    "collapsed": true
   },
   "outputs": [],
   "source": [
    "user.age = 20"
   ]
  },
  {
   "cell_type": "code",
   "execution_count": 48,
   "metadata": {
    "collapsed": true
   },
   "outputs": [],
   "source": [
    "session.add(user)"
   ]
  },
  {
   "cell_type": "code",
   "execution_count": 49,
   "metadata": {},
   "outputs": [
    {
     "name": "stdout",
     "output_type": "stream",
     "text": [
      "2017-11-26 10:33:33,156 INFO sqlalchemy.engine.base.Engine UPDATE user SET age=%(age)s WHERE user.id = %(user_id)s\n",
      "2017-11-26 10:33:33,157 INFO sqlalchemy.engine.base.Engine {'age': 20, 'user_id': 1}\n",
      "2017-11-26 10:33:33,158 INFO sqlalchemy.engine.base.Engine COMMIT\n"
     ]
    }
   ],
   "source": [
    "session.commit()"
   ]
  },
  {
   "cell_type": "code",
   "execution_count": 52,
   "metadata": {},
   "outputs": [
    {
     "data": {
      "text/plain": [
       "{'_sa_instance_state': <sqlalchemy.orm.state.InstanceState at 0x10c7faba8>,\n",
       " 'age': 20,\n",
       " 'id': 1,\n",
       " 'name': 'miracle'}"
      ]
     },
     "execution_count": 52,
     "metadata": {},
     "output_type": "execute_result"
    }
   ],
   "source": [
    "user._sa_instance_state.dict"
   ]
  },
  {
   "cell_type": "code",
   "execution_count": 53,
   "metadata": {
    "collapsed": true
   },
   "outputs": [],
   "source": [
    "u = User()"
   ]
  },
  {
   "cell_type": "code",
   "execution_count": 54,
   "metadata": {},
   "outputs": [
    {
     "data": {
      "text/plain": [
       "{'_sa_instance_state': <sqlalchemy.orm.state.InstanceState at 0x10c5fabe0>}"
      ]
     },
     "execution_count": 54,
     "metadata": {},
     "output_type": "execute_result"
    }
   ],
   "source": [
    "u._sa_instance_state.dict"
   ]
  },
  {
   "cell_type": "code",
   "execution_count": 55,
   "metadata": {
    "collapsed": true
   },
   "outputs": [],
   "source": [
    "u.id = 1"
   ]
  },
  {
   "cell_type": "code",
   "execution_count": 56,
   "metadata": {
    "collapsed": true
   },
   "outputs": [],
   "source": [
    "u.name = 'miracle'"
   ]
  },
  {
   "cell_type": "code",
   "execution_count": 57,
   "metadata": {
    "collapsed": true
   },
   "outputs": [],
   "source": [
    "u.age = 17"
   ]
  },
  {
   "cell_type": "code",
   "execution_count": 58,
   "metadata": {
    "collapsed": true
   },
   "outputs": [],
   "source": [
    "session.add(u)"
   ]
  },
  {
   "cell_type": "code",
   "execution_count": 60,
   "metadata": {},
   "outputs": [],
   "source": [
    "session.rollback()"
   ]
  },
  {
   "cell_type": "code",
   "execution_count": 61,
   "metadata": {
    "collapsed": true
   },
   "outputs": [],
   "source": [
    "u = User()"
   ]
  },
  {
   "cell_type": "code",
   "execution_count": 62,
   "metadata": {
    "collapsed": true
   },
   "outputs": [],
   "source": [
    "session.delete(user3)"
   ]
  },
  {
   "cell_type": "code",
   "execution_count": 63,
   "metadata": {},
   "outputs": [
    {
     "name": "stdout",
     "output_type": "stream",
     "text": [
      "2017-11-26 10:37:01,850 INFO sqlalchemy.engine.base.Engine BEGIN (implicit)\n",
      "2017-11-26 10:37:01,852 INFO sqlalchemy.engine.base.Engine SELECT user.id AS user_id, user.name AS user_name, user.age AS user_age \n",
      "FROM user \n",
      "WHERE user.id = %(param_1)s\n",
      "2017-11-26 10:37:01,853 INFO sqlalchemy.engine.base.Engine {'param_1': 3}\n",
      "2017-11-26 10:37:01,854 INFO sqlalchemy.engine.base.Engine DELETE FROM user WHERE user.id = %(id)s\n",
      "2017-11-26 10:37:01,855 INFO sqlalchemy.engine.base.Engine {'id': 3}\n",
      "2017-11-26 10:37:01,856 INFO sqlalchemy.engine.base.Engine COMMIT\n"
     ]
    }
   ],
   "source": [
    "session.commit()"
   ]
  },
  {
   "cell_type": "code",
   "execution_count": 64,
   "metadata": {},
   "outputs": [
    {
     "name": "stdout",
     "output_type": "stream",
     "text": [
      "User(id=None, name=None, age=None)\n"
     ]
    }
   ],
   "source": [
    "print(u)"
   ]
  },
  {
   "cell_type": "code",
   "execution_count": 65,
   "metadata": {},
   "outputs": [
    {
     "ename": "InvalidRequestError",
     "evalue": "Instance '<User at 0x10c6d3c18>' is not persisted",
     "output_type": "error",
     "traceback": [
      "\u001b[0;31m-----------------------------------------\u001b[0m",
      "\u001b[0;31mInvalidRequestError\u001b[0mTraceback (most recent call last)",
      "\u001b[0;32m<ipython-input-65-72e07a5205fa>\u001b[0m in \u001b[0;36m<module>\u001b[0;34m()\u001b[0m\n\u001b[0;32m----> 1\u001b[0;31m \u001b[0msession\u001b[0m\u001b[0;34m.\u001b[0m\u001b[0mdelete\u001b[0m\u001b[0;34m(\u001b[0m\u001b[0mu\u001b[0m\u001b[0;34m)\u001b[0m\u001b[0;34m\u001b[0m\u001b[0m\n\u001b[0m",
      "\u001b[0;32m~/.pyenv/versions/3.6.1/envs/miracle_3.6/lib/python3.6/site-packages/sqlalchemy/orm/session.py\u001b[0m in \u001b[0;36mdelete\u001b[0;34m(self, instance)\u001b[0m\n\u001b[1;32m   1744\u001b[0m             \u001b[0;32mraise\u001b[0m \u001b[0mexc\u001b[0m\u001b[0;34m.\u001b[0m\u001b[0mUnmappedInstanceError\u001b[0m\u001b[0;34m(\u001b[0m\u001b[0minstance\u001b[0m\u001b[0;34m)\u001b[0m\u001b[0;34m\u001b[0m\u001b[0m\n\u001b[1;32m   1745\u001b[0m \u001b[0;34m\u001b[0m\u001b[0m\n\u001b[0;32m-> 1746\u001b[0;31m         \u001b[0mself\u001b[0m\u001b[0;34m.\u001b[0m\u001b[0m_delete_impl\u001b[0m\u001b[0;34m(\u001b[0m\u001b[0mstate\u001b[0m\u001b[0;34m,\u001b[0m \u001b[0minstance\u001b[0m\u001b[0;34m,\u001b[0m \u001b[0mhead\u001b[0m\u001b[0;34m=\u001b[0m\u001b[0;32mTrue\u001b[0m\u001b[0;34m)\u001b[0m\u001b[0;34m\u001b[0m\u001b[0m\n\u001b[0m\u001b[1;32m   1747\u001b[0m \u001b[0;34m\u001b[0m\u001b[0m\n\u001b[1;32m   1748\u001b[0m     \u001b[0;32mdef\u001b[0m \u001b[0m_delete_impl\u001b[0m\u001b[0;34m(\u001b[0m\u001b[0mself\u001b[0m\u001b[0;34m,\u001b[0m \u001b[0mstate\u001b[0m\u001b[0;34m,\u001b[0m \u001b[0mobj\u001b[0m\u001b[0;34m,\u001b[0m \u001b[0mhead\u001b[0m\u001b[0;34m)\u001b[0m\u001b[0;34m:\u001b[0m\u001b[0;34m\u001b[0m\u001b[0m\n",
      "\u001b[0;32m~/.pyenv/versions/3.6.1/envs/miracle_3.6/lib/python3.6/site-packages/sqlalchemy/orm/session.py\u001b[0m in \u001b[0;36m_delete_impl\u001b[0;34m(self, state, obj, head)\u001b[0m\n\u001b[1;32m   1752\u001b[0m                 raise sa_exc.InvalidRequestError(\n\u001b[1;32m   1753\u001b[0m                     \u001b[0;34m\"Instance '%s' is not persisted\"\u001b[0m \u001b[0;34m%\u001b[0m\u001b[0;34m\u001b[0m\u001b[0m\n\u001b[0;32m-> 1754\u001b[0;31m                     state_str(state))\n\u001b[0m\u001b[1;32m   1755\u001b[0m             \u001b[0;32melse\u001b[0m\u001b[0;34m:\u001b[0m\u001b[0;34m\u001b[0m\u001b[0m\n\u001b[1;32m   1756\u001b[0m                 \u001b[0;32mreturn\u001b[0m\u001b[0;34m\u001b[0m\u001b[0m\n",
      "\u001b[0;31mInvalidRequestError\u001b[0m: Instance '<User at 0x10c6d3c18>' is not persisted"
     ]
    }
   ],
   "source": [
    "session.delete(u)"
   ]
  },
  {
   "cell_type": "code",
   "execution_count": 66,
   "metadata": {},
   "outputs": [
    {
     "data": {
      "text/plain": [
       "{'_sa_instance_state': <sqlalchemy.orm.state.InstanceState at 0x10c6d3e48>}"
      ]
     },
     "execution_count": 66,
     "metadata": {},
     "output_type": "execute_result"
    }
   ],
   "source": [
    "u._sa_instance_state.dict"
   ]
  },
  {
   "cell_type": "code",
   "execution_count": 67,
   "metadata": {
    "collapsed": true
   },
   "outputs": [],
   "source": [
    "session.rollback()"
   ]
  },
  {
   "cell_type": "code",
   "execution_count": 68,
   "metadata": {
    "collapsed": true
   },
   "outputs": [],
   "source": [
    "q = session.query(User)"
   ]
  },
  {
   "cell_type": "code",
   "execution_count": 69,
   "metadata": {},
   "outputs": [
    {
     "data": {
      "text/plain": [
       "<sqlalchemy.orm.query.Query at 0x10c4d9d30>"
      ]
     },
     "execution_count": 69,
     "metadata": {},
     "output_type": "execute_result"
    }
   ],
   "source": [
    "q"
   ]
  },
  {
   "cell_type": "code",
   "execution_count": 71,
   "metadata": {},
   "outputs": [
    {
     "name": "stdout",
     "output_type": "stream",
     "text": [
      "2017-11-26 10:43:03,526 INFO sqlalchemy.engine.base.Engine SELECT user.id AS user_id, user.name AS user_name, user.age AS user_age \n",
      "FROM user\n",
      "2017-11-26 10:43:03,527 INFO sqlalchemy.engine.base.Engine {}\n",
      "User(id=1, name=miracle, age=20)\n",
      "User(id=5, name=test, age=19)\n"
     ]
    }
   ],
   "source": [
    "for u in q:\n",
    "    print(u)"
   ]
  },
  {
   "cell_type": "code",
   "execution_count": 72,
   "metadata": {
    "collapsed": true
   },
   "outputs": [],
   "source": [
    "import random"
   ]
  },
  {
   "cell_type": "code",
   "execution_count": 73,
   "metadata": {},
   "outputs": [
    {
     "name": "stdout",
     "output_type": "stream",
     "text": [
      "2017-11-26 10:43:24,531 INFO sqlalchemy.engine.base.Engine INSERT INTO user (name, age) VALUES (%(name)s, %(age)s)\n",
      "2017-11-26 10:43:24,532 INFO sqlalchemy.engine.base.Engine {'name': 'user_0', 'age': 50}\n",
      "2017-11-26 10:43:24,533 INFO sqlalchemy.engine.base.Engine INSERT INTO user (name, age) VALUES (%(name)s, %(age)s)\n",
      "2017-11-26 10:43:24,534 INFO sqlalchemy.engine.base.Engine {'name': 'user_1', 'age': 4}\n",
      "2017-11-26 10:43:24,535 INFO sqlalchemy.engine.base.Engine INSERT INTO user (name, age) VALUES (%(name)s, %(age)s)\n",
      "2017-11-26 10:43:24,535 INFO sqlalchemy.engine.base.Engine {'name': 'user_2', 'age': 24}\n",
      "2017-11-26 10:43:24,537 INFO sqlalchemy.engine.base.Engine INSERT INTO user (name, age) VALUES (%(name)s, %(age)s)\n",
      "2017-11-26 10:43:24,537 INFO sqlalchemy.engine.base.Engine {'name': 'user_3', 'age': 46}\n",
      "2017-11-26 10:43:24,538 INFO sqlalchemy.engine.base.Engine INSERT INTO user (name, age) VALUES (%(name)s, %(age)s)\n",
      "2017-11-26 10:43:24,539 INFO sqlalchemy.engine.base.Engine {'name': 'user_4', 'age': 73}\n",
      "2017-11-26 10:43:24,540 INFO sqlalchemy.engine.base.Engine INSERT INTO user (name, age) VALUES (%(name)s, %(age)s)\n",
      "2017-11-26 10:43:24,541 INFO sqlalchemy.engine.base.Engine {'name': 'user_5', 'age': 26}\n",
      "2017-11-26 10:43:24,542 INFO sqlalchemy.engine.base.Engine INSERT INTO user (name, age) VALUES (%(name)s, %(age)s)\n",
      "2017-11-26 10:43:24,543 INFO sqlalchemy.engine.base.Engine {'name': 'user_6', 'age': 29}\n",
      "2017-11-26 10:43:24,544 INFO sqlalchemy.engine.base.Engine INSERT INTO user (name, age) VALUES (%(name)s, %(age)s)\n",
      "2017-11-26 10:43:24,544 INFO sqlalchemy.engine.base.Engine {'name': 'user_7', 'age': 67}\n",
      "2017-11-26 10:43:24,545 INFO sqlalchemy.engine.base.Engine INSERT INTO user (name, age) VALUES (%(name)s, %(age)s)\n",
      "2017-11-26 10:43:24,546 INFO sqlalchemy.engine.base.Engine {'name': 'user_8', 'age': 32}\n",
      "2017-11-26 10:43:24,547 INFO sqlalchemy.engine.base.Engine INSERT INTO user (name, age) VALUES (%(name)s, %(age)s)\n",
      "2017-11-26 10:43:24,547 INFO sqlalchemy.engine.base.Engine {'name': 'user_9', 'age': 14}\n",
      "2017-11-26 10:43:24,548 INFO sqlalchemy.engine.base.Engine INSERT INTO user (name, age) VALUES (%(name)s, %(age)s)\n",
      "2017-11-26 10:43:24,549 INFO sqlalchemy.engine.base.Engine {'name': 'user_10', 'age': 5}\n",
      "2017-11-26 10:43:24,549 INFO sqlalchemy.engine.base.Engine INSERT INTO user (name, age) VALUES (%(name)s, %(age)s)\n",
      "2017-11-26 10:43:24,550 INFO sqlalchemy.engine.base.Engine {'name': 'user_11', 'age': 82}\n",
      "2017-11-26 10:43:24,551 INFO sqlalchemy.engine.base.Engine INSERT INTO user (name, age) VALUES (%(name)s, %(age)s)\n",
      "2017-11-26 10:43:24,551 INFO sqlalchemy.engine.base.Engine {'name': 'user_12', 'age': 24}\n",
      "2017-11-26 10:43:24,552 INFO sqlalchemy.engine.base.Engine INSERT INTO user (name, age) VALUES (%(name)s, %(age)s)\n",
      "2017-11-26 10:43:24,553 INFO sqlalchemy.engine.base.Engine {'name': 'user_13', 'age': 12}\n",
      "2017-11-26 10:43:24,553 INFO sqlalchemy.engine.base.Engine INSERT INTO user (name, age) VALUES (%(name)s, %(age)s)\n",
      "2017-11-26 10:43:24,554 INFO sqlalchemy.engine.base.Engine {'name': 'user_14', 'age': 12}\n",
      "2017-11-26 10:43:24,555 INFO sqlalchemy.engine.base.Engine INSERT INTO user (name, age) VALUES (%(name)s, %(age)s)\n",
      "2017-11-26 10:43:24,555 INFO sqlalchemy.engine.base.Engine {'name': 'user_15', 'age': 67}\n",
      "2017-11-26 10:43:24,556 INFO sqlalchemy.engine.base.Engine INSERT INTO user (name, age) VALUES (%(name)s, %(age)s)\n",
      "2017-11-26 10:43:24,557 INFO sqlalchemy.engine.base.Engine {'name': 'user_16', 'age': 5}\n",
      "2017-11-26 10:43:24,558 INFO sqlalchemy.engine.base.Engine INSERT INTO user (name, age) VALUES (%(name)s, %(age)s)\n",
      "2017-11-26 10:43:24,558 INFO sqlalchemy.engine.base.Engine {'name': 'user_17', 'age': 18}\n",
      "2017-11-26 10:43:24,559 INFO sqlalchemy.engine.base.Engine INSERT INTO user (name, age) VALUES (%(name)s, %(age)s)\n",
      "2017-11-26 10:43:24,559 INFO sqlalchemy.engine.base.Engine {'name': 'user_18', 'age': 80}\n",
      "2017-11-26 10:43:24,560 INFO sqlalchemy.engine.base.Engine INSERT INTO user (name, age) VALUES (%(name)s, %(age)s)\n",
      "2017-11-26 10:43:24,561 INFO sqlalchemy.engine.base.Engine {'name': 'user_19', 'age': 55}\n",
      "2017-11-26 10:43:24,562 INFO sqlalchemy.engine.base.Engine INSERT INTO user (name, age) VALUES (%(name)s, %(age)s)\n",
      "2017-11-26 10:43:24,562 INFO sqlalchemy.engine.base.Engine {'name': 'user_20', 'age': 72}\n",
      "2017-11-26 10:43:24,563 INFO sqlalchemy.engine.base.Engine INSERT INTO user (name, age) VALUES (%(name)s, %(age)s)\n",
      "2017-11-26 10:43:24,563 INFO sqlalchemy.engine.base.Engine {'name': 'user_21', 'age': 53}\n",
      "2017-11-26 10:43:24,564 INFO sqlalchemy.engine.base.Engine INSERT INTO user (name, age) VALUES (%(name)s, %(age)s)\n",
      "2017-11-26 10:43:24,565 INFO sqlalchemy.engine.base.Engine {'name': 'user_22', 'age': 57}\n",
      "2017-11-26 10:43:24,566 INFO sqlalchemy.engine.base.Engine INSERT INTO user (name, age) VALUES (%(name)s, %(age)s)\n",
      "2017-11-26 10:43:24,566 INFO sqlalchemy.engine.base.Engine {'name': 'user_23', 'age': 84}\n",
      "2017-11-26 10:43:24,567 INFO sqlalchemy.engine.base.Engine INSERT INTO user (name, age) VALUES (%(name)s, %(age)s)\n",
      "2017-11-26 10:43:24,568 INFO sqlalchemy.engine.base.Engine {'name': 'user_24', 'age': 79}\n",
      "2017-11-26 10:43:24,568 INFO sqlalchemy.engine.base.Engine INSERT INTO user (name, age) VALUES (%(name)s, %(age)s)\n",
      "2017-11-26 10:43:24,569 INFO sqlalchemy.engine.base.Engine {'name': 'user_25', 'age': 19}\n",
      "2017-11-26 10:43:24,570 INFO sqlalchemy.engine.base.Engine INSERT INTO user (name, age) VALUES (%(name)s, %(age)s)\n",
      "2017-11-26 10:43:24,570 INFO sqlalchemy.engine.base.Engine {'name': 'user_26', 'age': 92}\n",
      "2017-11-26 10:43:24,571 INFO sqlalchemy.engine.base.Engine INSERT INTO user (name, age) VALUES (%(name)s, %(age)s)\n",
      "2017-11-26 10:43:24,572 INFO sqlalchemy.engine.base.Engine {'name': 'user_27', 'age': 83}\n",
      "2017-11-26 10:43:24,572 INFO sqlalchemy.engine.base.Engine INSERT INTO user (name, age) VALUES (%(name)s, %(age)s)\n",
      "2017-11-26 10:43:24,573 INFO sqlalchemy.engine.base.Engine {'name': 'user_28', 'age': 40}\n",
      "2017-11-26 10:43:24,574 INFO sqlalchemy.engine.base.Engine INSERT INTO user (name, age) VALUES (%(name)s, %(age)s)\n",
      "2017-11-26 10:43:24,574 INFO sqlalchemy.engine.base.Engine {'name': 'user_29', 'age': 13}\n",
      "2017-11-26 10:43:24,575 INFO sqlalchemy.engine.base.Engine INSERT INTO user (name, age) VALUES (%(name)s, %(age)s)\n",
      "2017-11-26 10:43:24,575 INFO sqlalchemy.engine.base.Engine {'name': 'user_30', 'age': 0}\n",
      "2017-11-26 10:43:24,576 INFO sqlalchemy.engine.base.Engine INSERT INTO user (name, age) VALUES (%(name)s, %(age)s)\n",
      "2017-11-26 10:43:24,577 INFO sqlalchemy.engine.base.Engine {'name': 'user_31', 'age': 87}\n",
      "2017-11-26 10:43:24,577 INFO sqlalchemy.engine.base.Engine INSERT INTO user (name, age) VALUES (%(name)s, %(age)s)\n",
      "2017-11-26 10:43:24,578 INFO sqlalchemy.engine.base.Engine {'name': 'user_32', 'age': 36}\n",
      "2017-11-26 10:43:24,579 INFO sqlalchemy.engine.base.Engine INSERT INTO user (name, age) VALUES (%(name)s, %(age)s)\n",
      "2017-11-26 10:43:24,579 INFO sqlalchemy.engine.base.Engine {'name': 'user_33', 'age': 56}\n",
      "2017-11-26 10:43:24,580 INFO sqlalchemy.engine.base.Engine INSERT INTO user (name, age) VALUES (%(name)s, %(age)s)\n",
      "2017-11-26 10:43:24,580 INFO sqlalchemy.engine.base.Engine {'name': 'user_34', 'age': 9}\n",
      "2017-11-26 10:43:24,581 INFO sqlalchemy.engine.base.Engine INSERT INTO user (name, age) VALUES (%(name)s, %(age)s)\n",
      "2017-11-26 10:43:24,582 INFO sqlalchemy.engine.base.Engine {'name': 'user_35', 'age': 81}\n",
      "2017-11-26 10:43:24,582 INFO sqlalchemy.engine.base.Engine INSERT INTO user (name, age) VALUES (%(name)s, %(age)s)\n",
      "2017-11-26 10:43:24,583 INFO sqlalchemy.engine.base.Engine {'name': 'user_36', 'age': 35}\n",
      "2017-11-26 10:43:24,584 INFO sqlalchemy.engine.base.Engine INSERT INTO user (name, age) VALUES (%(name)s, %(age)s)\n",
      "2017-11-26 10:43:24,584 INFO sqlalchemy.engine.base.Engine {'name': 'user_37', 'age': 45}\n",
      "2017-11-26 10:43:24,585 INFO sqlalchemy.engine.base.Engine INSERT INTO user (name, age) VALUES (%(name)s, %(age)s)\n",
      "2017-11-26 10:43:24,586 INFO sqlalchemy.engine.base.Engine {'name': 'user_38', 'age': 94}\n",
      "2017-11-26 10:43:24,586 INFO sqlalchemy.engine.base.Engine INSERT INTO user (name, age) VALUES (%(name)s, %(age)s)\n",
      "2017-11-26 10:43:24,587 INFO sqlalchemy.engine.base.Engine {'name': 'user_39', 'age': 44}\n",
      "2017-11-26 10:43:24,588 INFO sqlalchemy.engine.base.Engine INSERT INTO user (name, age) VALUES (%(name)s, %(age)s)\n"
     ]
    },
    {
     "name": "stdout",
     "output_type": "stream",
     "text": [
      "2017-11-26 10:43:24,588 INFO sqlalchemy.engine.base.Engine {'name': 'user_40', 'age': 50}\n",
      "2017-11-26 10:43:24,589 INFO sqlalchemy.engine.base.Engine INSERT INTO user (name, age) VALUES (%(name)s, %(age)s)\n",
      "2017-11-26 10:43:24,590 INFO sqlalchemy.engine.base.Engine {'name': 'user_41', 'age': 47}\n",
      "2017-11-26 10:43:24,590 INFO sqlalchemy.engine.base.Engine INSERT INTO user (name, age) VALUES (%(name)s, %(age)s)\n",
      "2017-11-26 10:43:24,591 INFO sqlalchemy.engine.base.Engine {'name': 'user_42', 'age': 29}\n",
      "2017-11-26 10:43:24,592 INFO sqlalchemy.engine.base.Engine INSERT INTO user (name, age) VALUES (%(name)s, %(age)s)\n",
      "2017-11-26 10:43:24,592 INFO sqlalchemy.engine.base.Engine {'name': 'user_43', 'age': 49}\n",
      "2017-11-26 10:43:24,593 INFO sqlalchemy.engine.base.Engine INSERT INTO user (name, age) VALUES (%(name)s, %(age)s)\n",
      "2017-11-26 10:43:24,594 INFO sqlalchemy.engine.base.Engine {'name': 'user_44', 'age': 0}\n",
      "2017-11-26 10:43:24,594 INFO sqlalchemy.engine.base.Engine INSERT INTO user (name, age) VALUES (%(name)s, %(age)s)\n",
      "2017-11-26 10:43:24,595 INFO sqlalchemy.engine.base.Engine {'name': 'user_45', 'age': 63}\n",
      "2017-11-26 10:43:24,596 INFO sqlalchemy.engine.base.Engine INSERT INTO user (name, age) VALUES (%(name)s, %(age)s)\n",
      "2017-11-26 10:43:24,596 INFO sqlalchemy.engine.base.Engine {'name': 'user_46', 'age': 76}\n",
      "2017-11-26 10:43:24,597 INFO sqlalchemy.engine.base.Engine INSERT INTO user (name, age) VALUES (%(name)s, %(age)s)\n",
      "2017-11-26 10:43:24,598 INFO sqlalchemy.engine.base.Engine {'name': 'user_47', 'age': 35}\n",
      "2017-11-26 10:43:24,598 INFO sqlalchemy.engine.base.Engine INSERT INTO user (name, age) VALUES (%(name)s, %(age)s)\n",
      "2017-11-26 10:43:24,599 INFO sqlalchemy.engine.base.Engine {'name': 'user_48', 'age': 85}\n",
      "2017-11-26 10:43:24,600 INFO sqlalchemy.engine.base.Engine INSERT INTO user (name, age) VALUES (%(name)s, %(age)s)\n",
      "2017-11-26 10:43:24,600 INFO sqlalchemy.engine.base.Engine {'name': 'user_49', 'age': 92}\n",
      "2017-11-26 10:43:24,601 INFO sqlalchemy.engine.base.Engine INSERT INTO user (name, age) VALUES (%(name)s, %(age)s)\n",
      "2017-11-26 10:43:24,602 INFO sqlalchemy.engine.base.Engine {'name': 'user_50', 'age': 29}\n",
      "2017-11-26 10:43:24,602 INFO sqlalchemy.engine.base.Engine INSERT INTO user (name, age) VALUES (%(name)s, %(age)s)\n",
      "2017-11-26 10:43:24,603 INFO sqlalchemy.engine.base.Engine {'name': 'user_51', 'age': 61}\n",
      "2017-11-26 10:43:24,604 INFO sqlalchemy.engine.base.Engine INSERT INTO user (name, age) VALUES (%(name)s, %(age)s)\n",
      "2017-11-26 10:43:24,604 INFO sqlalchemy.engine.base.Engine {'name': 'user_52', 'age': 68}\n",
      "2017-11-26 10:43:24,605 INFO sqlalchemy.engine.base.Engine INSERT INTO user (name, age) VALUES (%(name)s, %(age)s)\n",
      "2017-11-26 10:43:24,605 INFO sqlalchemy.engine.base.Engine {'name': 'user_53', 'age': 26}\n",
      "2017-11-26 10:43:24,606 INFO sqlalchemy.engine.base.Engine INSERT INTO user (name, age) VALUES (%(name)s, %(age)s)\n",
      "2017-11-26 10:43:24,607 INFO sqlalchemy.engine.base.Engine {'name': 'user_54', 'age': 46}\n",
      "2017-11-26 10:43:24,608 INFO sqlalchemy.engine.base.Engine INSERT INTO user (name, age) VALUES (%(name)s, %(age)s)\n",
      "2017-11-26 10:43:24,608 INFO sqlalchemy.engine.base.Engine {'name': 'user_55', 'age': 28}\n",
      "2017-11-26 10:43:24,609 INFO sqlalchemy.engine.base.Engine INSERT INTO user (name, age) VALUES (%(name)s, %(age)s)\n",
      "2017-11-26 10:43:24,610 INFO sqlalchemy.engine.base.Engine {'name': 'user_56', 'age': 63}\n",
      "2017-11-26 10:43:24,610 INFO sqlalchemy.engine.base.Engine INSERT INTO user (name, age) VALUES (%(name)s, %(age)s)\n",
      "2017-11-26 10:43:24,611 INFO sqlalchemy.engine.base.Engine {'name': 'user_57', 'age': 23}\n",
      "2017-11-26 10:43:24,612 INFO sqlalchemy.engine.base.Engine INSERT INTO user (name, age) VALUES (%(name)s, %(age)s)\n",
      "2017-11-26 10:43:24,612 INFO sqlalchemy.engine.base.Engine {'name': 'user_58', 'age': 42}\n",
      "2017-11-26 10:43:24,613 INFO sqlalchemy.engine.base.Engine INSERT INTO user (name, age) VALUES (%(name)s, %(age)s)\n",
      "2017-11-26 10:43:24,613 INFO sqlalchemy.engine.base.Engine {'name': 'user_59', 'age': 18}\n",
      "2017-11-26 10:43:24,614 INFO sqlalchemy.engine.base.Engine INSERT INTO user (name, age) VALUES (%(name)s, %(age)s)\n",
      "2017-11-26 10:43:24,615 INFO sqlalchemy.engine.base.Engine {'name': 'user_60', 'age': 63}\n",
      "2017-11-26 10:43:24,616 INFO sqlalchemy.engine.base.Engine INSERT INTO user (name, age) VALUES (%(name)s, %(age)s)\n",
      "2017-11-26 10:43:24,616 INFO sqlalchemy.engine.base.Engine {'name': 'user_61', 'age': 71}\n",
      "2017-11-26 10:43:24,617 INFO sqlalchemy.engine.base.Engine INSERT INTO user (name, age) VALUES (%(name)s, %(age)s)\n",
      "2017-11-26 10:43:24,618 INFO sqlalchemy.engine.base.Engine {'name': 'user_62', 'age': 40}\n",
      "2017-11-26 10:43:24,618 INFO sqlalchemy.engine.base.Engine INSERT INTO user (name, age) VALUES (%(name)s, %(age)s)\n",
      "2017-11-26 10:43:24,619 INFO sqlalchemy.engine.base.Engine {'name': 'user_63', 'age': 70}\n",
      "2017-11-26 10:43:24,620 INFO sqlalchemy.engine.base.Engine INSERT INTO user (name, age) VALUES (%(name)s, %(age)s)\n",
      "2017-11-26 10:43:24,620 INFO sqlalchemy.engine.base.Engine {'name': 'user_64', 'age': 34}\n",
      "2017-11-26 10:43:24,621 INFO sqlalchemy.engine.base.Engine INSERT INTO user (name, age) VALUES (%(name)s, %(age)s)\n",
      "2017-11-26 10:43:24,622 INFO sqlalchemy.engine.base.Engine {'name': 'user_65', 'age': 36}\n",
      "2017-11-26 10:43:24,622 INFO sqlalchemy.engine.base.Engine INSERT INTO user (name, age) VALUES (%(name)s, %(age)s)\n",
      "2017-11-26 10:43:24,623 INFO sqlalchemy.engine.base.Engine {'name': 'user_66', 'age': 58}\n",
      "2017-11-26 10:43:24,624 INFO sqlalchemy.engine.base.Engine INSERT INTO user (name, age) VALUES (%(name)s, %(age)s)\n",
      "2017-11-26 10:43:24,624 INFO sqlalchemy.engine.base.Engine {'name': 'user_67', 'age': 4}\n",
      "2017-11-26 10:43:24,625 INFO sqlalchemy.engine.base.Engine INSERT INTO user (name, age) VALUES (%(name)s, %(age)s)\n",
      "2017-11-26 10:43:24,626 INFO sqlalchemy.engine.base.Engine {'name': 'user_68', 'age': 85}\n",
      "2017-11-26 10:43:24,626 INFO sqlalchemy.engine.base.Engine INSERT INTO user (name, age) VALUES (%(name)s, %(age)s)\n",
      "2017-11-26 10:43:24,627 INFO sqlalchemy.engine.base.Engine {'name': 'user_69', 'age': 61}\n",
      "2017-11-26 10:43:24,628 INFO sqlalchemy.engine.base.Engine INSERT INTO user (name, age) VALUES (%(name)s, %(age)s)\n",
      "2017-11-26 10:43:24,628 INFO sqlalchemy.engine.base.Engine {'name': 'user_70', 'age': 53}\n",
      "2017-11-26 10:43:24,629 INFO sqlalchemy.engine.base.Engine INSERT INTO user (name, age) VALUES (%(name)s, %(age)s)\n",
      "2017-11-26 10:43:24,629 INFO sqlalchemy.engine.base.Engine {'name': 'user_71', 'age': 44}\n",
      "2017-11-26 10:43:24,630 INFO sqlalchemy.engine.base.Engine INSERT INTO user (name, age) VALUES (%(name)s, %(age)s)\n",
      "2017-11-26 10:43:24,631 INFO sqlalchemy.engine.base.Engine {'name': 'user_72', 'age': 18}\n",
      "2017-11-26 10:43:24,632 INFO sqlalchemy.engine.base.Engine INSERT INTO user (name, age) VALUES (%(name)s, %(age)s)\n",
      "2017-11-26 10:43:24,632 INFO sqlalchemy.engine.base.Engine {'name': 'user_73', 'age': 12}\n",
      "2017-11-26 10:43:24,633 INFO sqlalchemy.engine.base.Engine INSERT INTO user (name, age) VALUES (%(name)s, %(age)s)\n",
      "2017-11-26 10:43:24,634 INFO sqlalchemy.engine.base.Engine {'name': 'user_74', 'age': 16}\n",
      "2017-11-26 10:43:24,635 INFO sqlalchemy.engine.base.Engine INSERT INTO user (name, age) VALUES (%(name)s, %(age)s)\n",
      "2017-11-26 10:43:24,635 INFO sqlalchemy.engine.base.Engine {'name': 'user_75', 'age': 60}\n",
      "2017-11-26 10:43:24,636 INFO sqlalchemy.engine.base.Engine INSERT INTO user (name, age) VALUES (%(name)s, %(age)s)\n",
      "2017-11-26 10:43:24,636 INFO sqlalchemy.engine.base.Engine {'name': 'user_76', 'age': 49}\n",
      "2017-11-26 10:43:24,637 INFO sqlalchemy.engine.base.Engine INSERT INTO user (name, age) VALUES (%(name)s, %(age)s)\n",
      "2017-11-26 10:43:24,638 INFO sqlalchemy.engine.base.Engine {'name': 'user_77', 'age': 9}\n",
      "2017-11-26 10:43:24,639 INFO sqlalchemy.engine.base.Engine INSERT INTO user (name, age) VALUES (%(name)s, %(age)s)\n",
      "2017-11-26 10:43:24,639 INFO sqlalchemy.engine.base.Engine {'name': 'user_78', 'age': 79}\n",
      "2017-11-26 10:43:24,640 INFO sqlalchemy.engine.base.Engine INSERT INTO user (name, age) VALUES (%(name)s, %(age)s)\n",
      "2017-11-26 10:43:24,641 INFO sqlalchemy.engine.base.Engine {'name': 'user_79', 'age': 35}\n",
      "2017-11-26 10:43:24,642 INFO sqlalchemy.engine.base.Engine INSERT INTO user (name, age) VALUES (%(name)s, %(age)s)\n"
     ]
    },
    {
     "name": "stdout",
     "output_type": "stream",
     "text": [
      "2017-11-26 10:43:24,642 INFO sqlalchemy.engine.base.Engine {'name': 'user_80', 'age': 59}\n",
      "2017-11-26 10:43:24,643 INFO sqlalchemy.engine.base.Engine INSERT INTO user (name, age) VALUES (%(name)s, %(age)s)\n",
      "2017-11-26 10:43:24,644 INFO sqlalchemy.engine.base.Engine {'name': 'user_81', 'age': 36}\n",
      "2017-11-26 10:43:24,645 INFO sqlalchemy.engine.base.Engine INSERT INTO user (name, age) VALUES (%(name)s, %(age)s)\n",
      "2017-11-26 10:43:24,645 INFO sqlalchemy.engine.base.Engine {'name': 'user_82', 'age': 58}\n",
      "2017-11-26 10:43:24,646 INFO sqlalchemy.engine.base.Engine INSERT INTO user (name, age) VALUES (%(name)s, %(age)s)\n",
      "2017-11-26 10:43:24,647 INFO sqlalchemy.engine.base.Engine {'name': 'user_83', 'age': 40}\n",
      "2017-11-26 10:43:24,648 INFO sqlalchemy.engine.base.Engine INSERT INTO user (name, age) VALUES (%(name)s, %(age)s)\n",
      "2017-11-26 10:43:24,648 INFO sqlalchemy.engine.base.Engine {'name': 'user_84', 'age': 67}\n",
      "2017-11-26 10:43:24,649 INFO sqlalchemy.engine.base.Engine INSERT INTO user (name, age) VALUES (%(name)s, %(age)s)\n",
      "2017-11-26 10:43:24,650 INFO sqlalchemy.engine.base.Engine {'name': 'user_85', 'age': 10}\n",
      "2017-11-26 10:43:24,651 INFO sqlalchemy.engine.base.Engine INSERT INTO user (name, age) VALUES (%(name)s, %(age)s)\n",
      "2017-11-26 10:43:24,651 INFO sqlalchemy.engine.base.Engine {'name': 'user_86', 'age': 12}\n",
      "2017-11-26 10:43:24,652 INFO sqlalchemy.engine.base.Engine INSERT INTO user (name, age) VALUES (%(name)s, %(age)s)\n",
      "2017-11-26 10:43:24,652 INFO sqlalchemy.engine.base.Engine {'name': 'user_87', 'age': 78}\n",
      "2017-11-26 10:43:24,653 INFO sqlalchemy.engine.base.Engine INSERT INTO user (name, age) VALUES (%(name)s, %(age)s)\n",
      "2017-11-26 10:43:24,654 INFO sqlalchemy.engine.base.Engine {'name': 'user_88', 'age': 61}\n",
      "2017-11-26 10:43:24,655 INFO sqlalchemy.engine.base.Engine INSERT INTO user (name, age) VALUES (%(name)s, %(age)s)\n",
      "2017-11-26 10:43:24,655 INFO sqlalchemy.engine.base.Engine {'name': 'user_89', 'age': 28}\n",
      "2017-11-26 10:43:24,656 INFO sqlalchemy.engine.base.Engine INSERT INTO user (name, age) VALUES (%(name)s, %(age)s)\n",
      "2017-11-26 10:43:24,657 INFO sqlalchemy.engine.base.Engine {'name': 'user_90', 'age': 81}\n",
      "2017-11-26 10:43:24,657 INFO sqlalchemy.engine.base.Engine INSERT INTO user (name, age) VALUES (%(name)s, %(age)s)\n",
      "2017-11-26 10:43:24,658 INFO sqlalchemy.engine.base.Engine {'name': 'user_91', 'age': 95}\n",
      "2017-11-26 10:43:24,659 INFO sqlalchemy.engine.base.Engine INSERT INTO user (name, age) VALUES (%(name)s, %(age)s)\n",
      "2017-11-26 10:43:24,659 INFO sqlalchemy.engine.base.Engine {'name': 'user_92', 'age': 72}\n",
      "2017-11-26 10:43:24,660 INFO sqlalchemy.engine.base.Engine INSERT INTO user (name, age) VALUES (%(name)s, %(age)s)\n",
      "2017-11-26 10:43:24,661 INFO sqlalchemy.engine.base.Engine {'name': 'user_93', 'age': 11}\n",
      "2017-11-26 10:43:24,661 INFO sqlalchemy.engine.base.Engine INSERT INTO user (name, age) VALUES (%(name)s, %(age)s)\n",
      "2017-11-26 10:43:24,662 INFO sqlalchemy.engine.base.Engine {'name': 'user_94', 'age': 36}\n",
      "2017-11-26 10:43:24,663 INFO sqlalchemy.engine.base.Engine INSERT INTO user (name, age) VALUES (%(name)s, %(age)s)\n",
      "2017-11-26 10:43:24,663 INFO sqlalchemy.engine.base.Engine {'name': 'user_95', 'age': 68}\n",
      "2017-11-26 10:43:24,664 INFO sqlalchemy.engine.base.Engine INSERT INTO user (name, age) VALUES (%(name)s, %(age)s)\n",
      "2017-11-26 10:43:24,665 INFO sqlalchemy.engine.base.Engine {'name': 'user_96', 'age': 91}\n",
      "2017-11-26 10:43:24,665 INFO sqlalchemy.engine.base.Engine INSERT INTO user (name, age) VALUES (%(name)s, %(age)s)\n",
      "2017-11-26 10:43:24,666 INFO sqlalchemy.engine.base.Engine {'name': 'user_97', 'age': 98}\n",
      "2017-11-26 10:43:24,667 INFO sqlalchemy.engine.base.Engine INSERT INTO user (name, age) VALUES (%(name)s, %(age)s)\n",
      "2017-11-26 10:43:24,667 INFO sqlalchemy.engine.base.Engine {'name': 'user_98', 'age': 63}\n",
      "2017-11-26 10:43:24,668 INFO sqlalchemy.engine.base.Engine INSERT INTO user (name, age) VALUES (%(name)s, %(age)s)\n",
      "2017-11-26 10:43:24,669 INFO sqlalchemy.engine.base.Engine {'name': 'user_99', 'age': 8}\n",
      "2017-11-26 10:43:24,671 INFO sqlalchemy.engine.base.Engine COMMIT\n"
     ]
    }
   ],
   "source": [
    "for x in range(100):\n",
    "    user = User()\n",
    "    user.name = 'user_{}'.format(x)\n",
    "    user.age = random.randint(0, 100)\n",
    "    session.add(user)\n",
    "session.commit()"
   ]
  },
  {
   "cell_type": "code",
   "execution_count": 74,
   "metadata": {
    "collapsed": true
   },
   "outputs": [],
   "source": [
    "q = q.filter(User.age < 18)"
   ]
  },
  {
   "cell_type": "code",
   "execution_count": 75,
   "metadata": {},
   "outputs": [
    {
     "name": "stdout",
     "output_type": "stream",
     "text": [
      "2017-11-26 10:45:43,884 INFO sqlalchemy.engine.base.Engine BEGIN (implicit)\n",
      "2017-11-26 10:45:43,886 INFO sqlalchemy.engine.base.Engine SELECT user.id AS user_id, user.name AS user_name, user.age AS user_age \n",
      "FROM user \n",
      "WHERE user.age < %(age_1)s\n",
      "2017-11-26 10:45:43,887 INFO sqlalchemy.engine.base.Engine {'age_1': 18}\n",
      "User(id=7, name=user_1, age=4)\n",
      "User(id=15, name=user_9, age=14)\n",
      "User(id=16, name=user_10, age=5)\n",
      "User(id=19, name=user_13, age=12)\n",
      "User(id=20, name=user_14, age=12)\n",
      "User(id=22, name=user_16, age=5)\n",
      "User(id=35, name=user_29, age=13)\n",
      "User(id=36, name=user_30, age=0)\n",
      "User(id=40, name=user_34, age=9)\n",
      "User(id=50, name=user_44, age=0)\n",
      "User(id=73, name=user_67, age=4)\n",
      "User(id=79, name=user_73, age=12)\n",
      "User(id=80, name=user_74, age=16)\n",
      "User(id=83, name=user_77, age=9)\n",
      "User(id=91, name=user_85, age=10)\n",
      "User(id=92, name=user_86, age=12)\n",
      "User(id=99, name=user_93, age=11)\n",
      "User(id=105, name=user_99, age=8)\n"
     ]
    }
   ],
   "source": [
    "for u in q:\n",
    "    print(u)"
   ]
  },
  {
   "cell_type": "code",
   "execution_count": 76,
   "metadata": {},
   "outputs": [
    {
     "name": "stdout",
     "output_type": "stream",
     "text": [
      "2017-11-26 10:47:02,952 INFO sqlalchemy.engine.base.Engine SELECT user.id AS user_id, user.name AS user_name, user.age AS user_age \n",
      "FROM user \n",
      "WHERE user.age < %(age_1)s AND user.age > %(age_2)s\n",
      "2017-11-26 10:47:02,954 INFO sqlalchemy.engine.base.Engine {'age_1': 18, 'age_2': 12}\n",
      "User(id=15, name=user_9, age=14)\n",
      "User(id=35, name=user_29, age=13)\n",
      "User(id=80, name=user_74, age=16)\n"
     ]
    }
   ],
   "source": [
    "for u in session.query(User).filter(User.age < 18).filter(User.age > 12):\n",
    "    print(u)"
   ]
  },
  {
   "cell_type": "code",
   "execution_count": 77,
   "metadata": {
    "collapsed": true
   },
   "outputs": [],
   "source": [
    "from sqlalchemy import or_, and_, not_, between"
   ]
  },
  {
   "cell_type": "code",
   "execution_count": 78,
   "metadata": {},
   "outputs": [
    {
     "name": "stdout",
     "output_type": "stream",
     "text": [
      "2017-11-26 10:52:25,565 INFO sqlalchemy.engine.base.Engine SELECT user.id AS user_id, user.name AS user_name, user.age AS user_age \n",
      "FROM user \n",
      "WHERE user.age > %(age_1)s AND user.age < %(age_2)s OR user.age > %(age_3)s AND user.age < %(age_4)s\n",
      "2017-11-26 10:52:25,566 INFO sqlalchemy.engine.base.Engine {'age_1': 18, 'age_2': 30, 'age_3': 50, 'age_4': 70}\n",
      "User(id=1, name=miracle, age=20)\n",
      "User(id=5, name=test, age=19)\n",
      "User(id=8, name=user_2, age=24)\n",
      "User(id=11, name=user_5, age=26)\n",
      "User(id=12, name=user_6, age=29)\n",
      "User(id=13, name=user_7, age=67)\n",
      "User(id=18, name=user_12, age=24)\n",
      "User(id=21, name=user_15, age=67)\n",
      "User(id=25, name=user_19, age=55)\n",
      "User(id=27, name=user_21, age=53)\n",
      "User(id=28, name=user_22, age=57)\n",
      "User(id=31, name=user_25, age=19)\n",
      "User(id=39, name=user_33, age=56)\n",
      "User(id=48, name=user_42, age=29)\n",
      "User(id=51, name=user_45, age=63)\n",
      "User(id=56, name=user_50, age=29)\n",
      "User(id=57, name=user_51, age=61)\n",
      "User(id=58, name=user_52, age=68)\n",
      "User(id=59, name=user_53, age=26)\n",
      "User(id=61, name=user_55, age=28)\n",
      "User(id=62, name=user_56, age=63)\n",
      "User(id=63, name=user_57, age=23)\n",
      "User(id=66, name=user_60, age=63)\n",
      "User(id=72, name=user_66, age=58)\n",
      "User(id=75, name=user_69, age=61)\n",
      "User(id=76, name=user_70, age=53)\n",
      "User(id=81, name=user_75, age=60)\n",
      "User(id=86, name=user_80, age=59)\n",
      "User(id=88, name=user_82, age=58)\n",
      "User(id=90, name=user_84, age=67)\n",
      "User(id=94, name=user_88, age=61)\n",
      "User(id=95, name=user_89, age=28)\n",
      "User(id=101, name=user_95, age=68)\n",
      "User(id=104, name=user_98, age=63)\n"
     ]
    }
   ],
   "source": [
    "for u in session.query(User).filter(or_(and_(User.age > 18, User.age < 30), and_(User.age > 50, User.age < 70))):\n",
    "    print(u)"
   ]
  },
  {
   "cell_type": "code",
   "execution_count": 83,
   "metadata": {},
   "outputs": [
    {
     "name": "stdout",
     "output_type": "stream",
     "text": [
      "2017-11-26 10:58:56,379 INFO sqlalchemy.engine.base.Engine SELECT user.id AS user_id, user.name AS user_name, user.age AS user_age \n",
      "FROM user \n",
      "WHERE user.name LIKE %(name_1)s\n",
      "2017-11-26 10:58:56,380 INFO sqlalchemy.engine.base.Engine {'name_1': '%0%'}\n",
      "user_0\n",
      "user_10\n",
      "user_20\n",
      "user_30\n",
      "user_40\n",
      "user_50\n",
      "user_60\n",
      "user_70\n",
      "user_80\n",
      "user_90\n"
     ]
    }
   ],
   "source": [
    "for u in session.query(User).filter(User.name.like('%0%')):\n",
    "    print(u.name)"
   ]
  },
  {
   "cell_type": "code",
   "execution_count": 84,
   "metadata": {},
   "outputs": [
    {
     "name": "stdout",
     "output_type": "stream",
     "text": [
      "2017-11-26 11:12:27,466 INFO sqlalchemy.engine.base.Engine SELECT user.id AS user_id, user.name AS user_name, user.age AS user_age \n",
      "FROM user \n",
      "WHERE user.age < %(age_1)s ORDER BY user.age\n",
      "2017-11-26 11:12:27,467 INFO sqlalchemy.engine.base.Engine {'age_1': 18}\n",
      "User(id=50, name=user_44, age=0)\n",
      "User(id=36, name=user_30, age=0)\n",
      "User(id=73, name=user_67, age=4)\n",
      "User(id=7, name=user_1, age=4)\n",
      "User(id=22, name=user_16, age=5)\n",
      "User(id=16, name=user_10, age=5)\n",
      "User(id=105, name=user_99, age=8)\n",
      "User(id=40, name=user_34, age=9)\n",
      "User(id=83, name=user_77, age=9)\n",
      "User(id=91, name=user_85, age=10)\n",
      "User(id=99, name=user_93, age=11)\n",
      "User(id=92, name=user_86, age=12)\n",
      "User(id=79, name=user_73, age=12)\n",
      "User(id=19, name=user_13, age=12)\n",
      "User(id=20, name=user_14, age=12)\n",
      "User(id=35, name=user_29, age=13)\n",
      "User(id=15, name=user_9, age=14)\n",
      "User(id=80, name=user_74, age=16)\n"
     ]
    }
   ],
   "source": [
    "for u in session.query(User).filter(User.age < 18).order_by(User.age):\n",
    "    print(u)"
   ]
  },
  {
   "cell_type": "code",
   "execution_count": 85,
   "metadata": {},
   "outputs": [
    {
     "name": "stdout",
     "output_type": "stream",
     "text": [
      "2017-11-26 11:13:24,682 INFO sqlalchemy.engine.base.Engine SELECT user.id AS user_id, user.name AS user_name, user.age AS user_age \n",
      "FROM user \n",
      "WHERE user.age < %(age_1)s ORDER BY user.age DESC\n",
      "2017-11-26 11:13:24,683 INFO sqlalchemy.engine.base.Engine {'age_1': 18}\n",
      "User(id=80, name=user_74, age=16)\n",
      "User(id=15, name=user_9, age=14)\n",
      "User(id=35, name=user_29, age=13)\n",
      "User(id=19, name=user_13, age=12)\n",
      "User(id=20, name=user_14, age=12)\n",
      "User(id=79, name=user_73, age=12)\n",
      "User(id=92, name=user_86, age=12)\n",
      "User(id=99, name=user_93, age=11)\n",
      "User(id=91, name=user_85, age=10)\n",
      "User(id=40, name=user_34, age=9)\n",
      "User(id=83, name=user_77, age=9)\n",
      "User(id=105, name=user_99, age=8)\n",
      "User(id=22, name=user_16, age=5)\n",
      "User(id=16, name=user_10, age=5)\n",
      "User(id=73, name=user_67, age=4)\n",
      "User(id=7, name=user_1, age=4)\n",
      "User(id=36, name=user_30, age=0)\n",
      "User(id=50, name=user_44, age=0)\n"
     ]
    }
   ],
   "source": [
    "for u in session.query(User).filter(User.age < 18).order_by(User.age.desc()):\n",
    "    print(u)"
   ]
  },
  {
   "cell_type": "code",
   "execution_count": 86,
   "metadata": {},
   "outputs": [
    {
     "name": "stdout",
     "output_type": "stream",
     "text": [
      "2017-11-26 11:13:59,134 INFO sqlalchemy.engine.base.Engine SELECT user.id AS user_id, user.name AS user_name, user.age AS user_age \n",
      "FROM user \n",
      "WHERE user.age < %(age_1)s ORDER BY user.age ASC\n",
      "2017-11-26 11:13:59,136 INFO sqlalchemy.engine.base.Engine {'age_1': 18}\n",
      "User(id=50, name=user_44, age=0)\n",
      "User(id=36, name=user_30, age=0)\n",
      "User(id=73, name=user_67, age=4)\n",
      "User(id=7, name=user_1, age=4)\n",
      "User(id=22, name=user_16, age=5)\n",
      "User(id=16, name=user_10, age=5)\n",
      "User(id=105, name=user_99, age=8)\n",
      "User(id=40, name=user_34, age=9)\n",
      "User(id=83, name=user_77, age=9)\n",
      "User(id=91, name=user_85, age=10)\n",
      "User(id=99, name=user_93, age=11)\n",
      "User(id=92, name=user_86, age=12)\n",
      "User(id=79, name=user_73, age=12)\n",
      "User(id=19, name=user_13, age=12)\n",
      "User(id=20, name=user_14, age=12)\n",
      "User(id=35, name=user_29, age=13)\n",
      "User(id=15, name=user_9, age=14)\n",
      "User(id=80, name=user_74, age=16)\n"
     ]
    }
   ],
   "source": [
    "for u in session.query(User).filter(User.age < 18).order_by(User.age.asc()):\n",
    "    print(u)"
   ]
  },
  {
   "cell_type": "code",
   "execution_count": 87,
   "metadata": {},
   "outputs": [
    {
     "name": "stdout",
     "output_type": "stream",
     "text": [
      "2017-11-26 11:14:27,173 INFO sqlalchemy.engine.base.Engine SELECT user.id AS user_id, user.name AS user_name, user.age AS user_age \n",
      "FROM user \n",
      "WHERE user.age < %(age_1)s ORDER BY user.age DESC, user.id ASC\n",
      "2017-11-26 11:14:27,174 INFO sqlalchemy.engine.base.Engine {'age_1': 18}\n",
      "User(id=80, name=user_74, age=16)\n",
      "User(id=15, name=user_9, age=14)\n",
      "User(id=35, name=user_29, age=13)\n",
      "User(id=19, name=user_13, age=12)\n",
      "User(id=20, name=user_14, age=12)\n",
      "User(id=79, name=user_73, age=12)\n",
      "User(id=92, name=user_86, age=12)\n",
      "User(id=99, name=user_93, age=11)\n",
      "User(id=91, name=user_85, age=10)\n",
      "User(id=40, name=user_34, age=9)\n",
      "User(id=83, name=user_77, age=9)\n",
      "User(id=105, name=user_99, age=8)\n",
      "User(id=16, name=user_10, age=5)\n",
      "User(id=22, name=user_16, age=5)\n",
      "User(id=7, name=user_1, age=4)\n",
      "User(id=73, name=user_67, age=4)\n",
      "User(id=36, name=user_30, age=0)\n",
      "User(id=50, name=user_44, age=0)\n"
     ]
    }
   ],
   "source": [
    "for u in session.query(User).filter(User.age < 18).order_by(User.age.desc()).order_by(User.id.asc()):\n",
    "    print(u)"
   ]
  },
  {
   "cell_type": "code",
   "execution_count": 88,
   "metadata": {},
   "outputs": [
    {
     "name": "stdout",
     "output_type": "stream",
     "text": [
      "2017-11-26 11:15:29,944 INFO sqlalchemy.engine.base.Engine SELECT user.id AS user_id, user.name AS user_name, user.age AS user_age \n",
      "FROM user \n",
      " LIMIT %(param_1)s\n",
      "2017-11-26 11:15:29,945 INFO sqlalchemy.engine.base.Engine {'param_1': 5}\n",
      "User(id=1, name=miracle, age=20)\n",
      "User(id=5, name=test, age=19)\n",
      "User(id=6, name=user_0, age=50)\n",
      "User(id=7, name=user_1, age=4)\n",
      "User(id=8, name=user_2, age=24)\n"
     ]
    }
   ],
   "source": [
    "for u in session.query(User).limit(5):\n",
    "    print(u)"
   ]
  },
  {
   "cell_type": "code",
   "execution_count": 89,
   "metadata": {},
   "outputs": [
    {
     "name": "stdout",
     "output_type": "stream",
     "text": [
      "2017-11-26 11:17:13,065 INFO sqlalchemy.engine.base.Engine SELECT user.id AS user_id, user.name AS user_name, user.age AS user_age \n",
      "FROM user \n",
      " LIMIT %(param_1)s, %(param_2)s\n",
      "2017-11-26 11:17:13,066 INFO sqlalchemy.engine.base.Engine {'param_1': 1, 'param_2': 5}\n",
      "User(id=5, name=test, age=19)\n",
      "User(id=6, name=user_0, age=50)\n",
      "User(id=7, name=user_1, age=4)\n",
      "User(id=8, name=user_2, age=24)\n",
      "User(id=9, name=user_3, age=46)\n"
     ]
    }
   ],
   "source": [
    "for u in session.query(User).offset(1).limit(5):\n",
    "    print(u)"
   ]
  },
  {
   "cell_type": "code",
   "execution_count": 91,
   "metadata": {},
   "outputs": [
    {
     "name": "stdout",
     "output_type": "stream",
     "text": [
      "2017-11-26 11:19:19,345 INFO sqlalchemy.engine.base.Engine SELECT user.id AS user_id, user.name AS user_name, user.age AS user_age \n",
      "FROM user \n",
      "WHERE user.age < %(age_1)s\n",
      "2017-11-26 11:19:19,346 INFO sqlalchemy.engine.base.Engine {'age_1': 18}\n"
     ]
    },
    {
     "data": {
      "text/plain": [
       "18"
      ]
     },
     "execution_count": 91,
     "metadata": {},
     "output_type": "execute_result"
    }
   ],
   "source": [
    "len(list(session.query(User).filter(User.age < 18)))"
   ]
  },
  {
   "cell_type": "code",
   "execution_count": 92,
   "metadata": {},
   "outputs": [
    {
     "name": "stdout",
     "output_type": "stream",
     "text": [
      "2017-11-26 11:20:14,412 INFO sqlalchemy.engine.base.Engine SELECT count(*) AS count_1 \n",
      "FROM (SELECT user.id AS user_id, user.name AS user_name, user.age AS user_age \n",
      "FROM user \n",
      "WHERE user.age < %(age_1)s) AS anon_1\n",
      "2017-11-26 11:20:14,413 INFO sqlalchemy.engine.base.Engine {'age_1': 18}\n"
     ]
    },
    {
     "data": {
      "text/plain": [
       "18"
      ]
     },
     "execution_count": 92,
     "metadata": {},
     "output_type": "execute_result"
    }
   ],
   "source": [
    "session.query(User).filter(User.age < 18).count()"
   ]
  },
  {
   "cell_type": "code",
   "execution_count": 93,
   "metadata": {},
   "outputs": [
    {
     "name": "stdout",
     "output_type": "stream",
     "text": [
      "2017-11-26 11:20:51,436 INFO sqlalchemy.engine.base.Engine SELECT user.id AS user_id, user.name AS user_name, user.age AS user_age \n",
      "FROM user \n",
      "WHERE user.age < %(age_1)s\n",
      "2017-11-26 11:20:51,437 INFO sqlalchemy.engine.base.Engine {'age_1': 18}\n"
     ]
    },
    {
     "data": {
      "text/plain": [
       "[<__main__.User at 0x10be74860>,\n",
       " <__main__.User at 0x10be74748>,\n",
       " <__main__.User at 0x10be746d8>,\n",
       " <__main__.User at 0x10be74668>,\n",
       " <__main__.User at 0x10be745f8>,\n",
       " <__main__.User at 0x10be74588>,\n",
       " <__main__.User at 0x10be74518>,\n",
       " <__main__.User at 0x10be744a8>,\n",
       " <__main__.User at 0x10be74438>,\n",
       " <__main__.User at 0x10be743c8>,\n",
       " <__main__.User at 0x10be74358>,\n",
       " <__main__.User at 0x10be742e8>,\n",
       " <__main__.User at 0x10c1910f0>,\n",
       " <__main__.User at 0x10be74278>,\n",
       " <__main__.User at 0x10be74208>,\n",
       " <__main__.User at 0x10be74198>,\n",
       " <__main__.User at 0x10be74128>,\n",
       " <__main__.User at 0x10c840e48>]"
      ]
     },
     "execution_count": 93,
     "metadata": {},
     "output_type": "execute_result"
    }
   ],
   "source": [
    "session.query(User).filter(User.age < 18).all()"
   ]
  },
  {
   "cell_type": "code",
   "execution_count": 94,
   "metadata": {},
   "outputs": [
    {
     "name": "stdout",
     "output_type": "stream",
     "text": [
      "2017-11-26 11:21:12,280 INFO sqlalchemy.engine.base.Engine SELECT user.id AS user_id, user.name AS user_name, user.age AS user_age \n",
      "FROM user \n",
      "WHERE user.age < %(age_1)s\n",
      "2017-11-26 11:21:12,282 INFO sqlalchemy.engine.base.Engine {'age_1': 18}\n"
     ]
    },
    {
     "data": {
      "text/plain": [
       "[<__main__.User at 0x10be74860>,\n",
       " <__main__.User at 0x10be74748>,\n",
       " <__main__.User at 0x10be746d8>,\n",
       " <__main__.User at 0x10be74668>,\n",
       " <__main__.User at 0x10be745f8>,\n",
       " <__main__.User at 0x10be74588>,\n",
       " <__main__.User at 0x10be74518>,\n",
       " <__main__.User at 0x10be744a8>,\n",
       " <__main__.User at 0x10be74438>,\n",
       " <__main__.User at 0x10be743c8>,\n",
       " <__main__.User at 0x10be74358>,\n",
       " <__main__.User at 0x10be742e8>,\n",
       " <__main__.User at 0x10c1910f0>,\n",
       " <__main__.User at 0x10be74278>,\n",
       " <__main__.User at 0x10be74208>,\n",
       " <__main__.User at 0x10be74198>,\n",
       " <__main__.User at 0x10be74128>,\n",
       " <__main__.User at 0x10c840e48>]"
      ]
     },
     "execution_count": 94,
     "metadata": {},
     "output_type": "execute_result"
    }
   ],
   "source": [
    "list(session.query(User).filter(User.age < 18))"
   ]
  },
  {
   "cell_type": "code",
   "execution_count": 95,
   "metadata": {},
   "outputs": [
    {
     "name": "stdout",
     "output_type": "stream",
     "text": [
      "2017-11-26 11:21:23,847 INFO sqlalchemy.engine.base.Engine SELECT user.id AS user_id, user.name AS user_name, user.age AS user_age \n",
      "FROM user \n",
      "WHERE user.age < %(age_1)s \n",
      " LIMIT %(param_1)s\n",
      "2017-11-26 11:21:23,848 INFO sqlalchemy.engine.base.Engine {'age_1': 18, 'param_1': 1}\n"
     ]
    },
    {
     "data": {
      "text/plain": [
       "<__main__.User at 0x10be74860>"
      ]
     },
     "execution_count": 95,
     "metadata": {},
     "output_type": "execute_result"
    }
   ],
   "source": [
    "session.query(User).filter(User.age < 18).first()"
   ]
  },
  {
   "cell_type": "code",
   "execution_count": 96,
   "metadata": {},
   "outputs": [
    {
     "name": "stdout",
     "output_type": "stream",
     "text": [
      "2017-11-26 11:22:03,673 INFO sqlalchemy.engine.base.Engine SELECT user.id AS user_id, user.name AS user_name, user.age AS user_age \n",
      "FROM user \n",
      "WHERE user.age < %(age_1)s \n",
      " LIMIT %(param_1)s\n",
      "2017-11-26 11:22:03,675 INFO sqlalchemy.engine.base.Engine {'age_1': 18, 'param_1': 1}\n"
     ]
    },
    {
     "data": {
      "text/plain": [
       "<__main__.User at 0x10be74860>"
      ]
     },
     "execution_count": 96,
     "metadata": {},
     "output_type": "execute_result"
    }
   ],
   "source": [
    "session.query(User).filter(User.age < 18).limit(1).one()"
   ]
  },
  {
   "cell_type": "code",
   "execution_count": 108,
   "metadata": {},
   "outputs": [
    {
     "name": "stdout",
     "output_type": "stream",
     "text": [
      "2017-11-26 11:32:22,927 INFO sqlalchemy.engine.base.Engine SELECT user.name AS user_name, user.age AS user_age \n",
      "FROM user \n",
      "WHERE user.age < %(age_1)s \n",
      " LIMIT %(param_1)s\n",
      "2017-11-26 11:32:22,928 INFO sqlalchemy.engine.base.Engine {'age_1': 30, 'param_1': 1}\n"
     ]
    },
    {
     "data": {
      "text/plain": [
       "('miracle', 20)"
      ]
     },
     "execution_count": 108,
     "metadata": {},
     "output_type": "execute_result"
    }
   ],
   "source": [
    "session.query(User.name, User.age).filter(User.age < 30).first()"
   ]
  },
  {
   "cell_type": "code",
   "execution_count": 98,
   "metadata": {},
   "outputs": [
    {
     "name": "stdout",
     "output_type": "stream",
     "text": [
      "2017-11-26 11:22:58,865 INFO sqlalchemy.engine.base.Engine DELETE FROM user WHERE user.age < %(age_1)s\n",
      "2017-11-26 11:22:58,867 INFO sqlalchemy.engine.base.Engine {'age_1': 18}\n"
     ]
    },
    {
     "data": {
      "text/plain": [
       "18"
      ]
     },
     "execution_count": 98,
     "metadata": {},
     "output_type": "execute_result"
    }
   ],
   "source": [
    "session.query(User).filter(User.age < 18).delete()"
   ]
  },
  {
   "cell_type": "code",
   "execution_count": 99,
   "metadata": {},
   "outputs": [
    {
     "name": "stdout",
     "output_type": "stream",
     "text": [
      "2017-11-26 11:24:08,704 INFO sqlalchemy.engine.base.Engine COMMIT\n"
     ]
    }
   ],
   "source": [
    "session.commit()"
   ]
  },
  {
   "cell_type": "code",
   "execution_count": 100,
   "metadata": {
    "collapsed": true
   },
   "outputs": [],
   "source": [
    "from sqlalchemy import func"
   ]
  },
  {
   "cell_type": "code",
   "execution_count": 101,
   "metadata": {},
   "outputs": [
    {
     "name": "stdout",
     "output_type": "stream",
     "text": [
      "2017-11-26 11:30:03,980 INFO sqlalchemy.engine.base.Engine BEGIN (implicit)\n",
      "2017-11-26 11:30:03,981 INFO sqlalchemy.engine.base.Engine SELECT user.id AS user_id, user.name AS user_name, user.age AS user_age, count(user.id) AS count_1 \n",
      "FROM user\n",
      "2017-11-26 11:30:03,982 INFO sqlalchemy.engine.base.Engine {}\n"
     ]
    },
    {
     "data": {
      "text/plain": [
       "[(<__main__.User at 0x10c7fab38>, 84)]"
      ]
     },
     "execution_count": 101,
     "metadata": {},
     "output_type": "execute_result"
    }
   ],
   "source": [
    "session.query(User, func.count(User.id)).all()"
   ]
  },
  {
   "cell_type": "code",
   "execution_count": 102,
   "metadata": {},
   "outputs": [
    {
     "name": "stdout",
     "output_type": "stream",
     "text": [
      "2017-11-26 11:30:29,118 INFO sqlalchemy.engine.base.Engine SELECT count(user.id) AS count_1 \n",
      "FROM user\n",
      "2017-11-26 11:30:29,120 INFO sqlalchemy.engine.base.Engine {}\n"
     ]
    },
    {
     "data": {
      "text/plain": [
       "[(84)]"
      ]
     },
     "execution_count": 102,
     "metadata": {},
     "output_type": "execute_result"
    }
   ],
   "source": [
    "session.query(func.count(User.id)).all()"
   ]
  },
  {
   "cell_type": "code",
   "execution_count": 103,
   "metadata": {},
   "outputs": [
    {
     "name": "stdout",
     "output_type": "stream",
     "text": [
      "2017-11-26 11:30:41,818 INFO sqlalchemy.engine.base.Engine SELECT count(user.id) AS count_1 \n",
      "FROM user \n",
      " LIMIT %(param_1)s\n",
      "2017-11-26 11:30:41,819 INFO sqlalchemy.engine.base.Engine {'param_1': 1}\n"
     ]
    },
    {
     "data": {
      "text/plain": [
       "(84)"
      ]
     },
     "execution_count": 103,
     "metadata": {},
     "output_type": "execute_result"
    }
   ],
   "source": [
    "session.query(func.count(User.id)).first()"
   ]
  },
  {
   "cell_type": "code",
   "execution_count": 104,
   "metadata": {},
   "outputs": [
    {
     "name": "stdout",
     "output_type": "stream",
     "text": [
      "2017-11-26 11:30:52,774 INFO sqlalchemy.engine.base.Engine SELECT max(user.age) AS max_1 \n",
      "FROM user \n",
      " LIMIT %(param_1)s\n",
      "2017-11-26 11:30:52,775 INFO sqlalchemy.engine.base.Engine {'param_1': 1}\n"
     ]
    },
    {
     "data": {
      "text/plain": [
       "(98)"
      ]
     },
     "execution_count": 104,
     "metadata": {},
     "output_type": "execute_result"
    }
   ],
   "source": [
    "session.query(func.max(User.age)).first()"
   ]
  },
  {
   "cell_type": "code",
   "execution_count": 105,
   "metadata": {},
   "outputs": [
    {
     "name": "stdout",
     "output_type": "stream",
     "text": [
      "2017-11-26 11:30:59,225 INFO sqlalchemy.engine.base.Engine SELECT avg(user.age) AS avg_1 \n",
      "FROM user \n",
      " LIMIT %(param_1)s\n",
      "2017-11-26 11:30:59,227 INFO sqlalchemy.engine.base.Engine {'param_1': 1}\n"
     ]
    },
    {
     "data": {
      "text/plain": [
       "(Decimal('54.5952'))"
      ]
     },
     "execution_count": 105,
     "metadata": {},
     "output_type": "execute_result"
    }
   ],
   "source": [
    "session.query(func.avg(User.age)).first()"
   ]
  },
  {
   "cell_type": "code",
   "execution_count": 106,
   "metadata": {},
   "outputs": [
    {
     "name": "stdout",
     "output_type": "stream",
     "text": [
      "2017-11-26 11:31:33,734 INFO sqlalchemy.engine.base.Engine SELECT user.age AS user_age, count(user.id) AS count_1 \n",
      "FROM user GROUP BY user.age\n",
      "2017-11-26 11:31:33,735 INFO sqlalchemy.engine.base.Engine {}\n"
     ]
    },
    {
     "data": {
      "text/plain": [
       "[(18, 3),\n",
       " (19, 2),\n",
       " (20, 1),\n",
       " (23, 1),\n",
       " (24, 2),\n",
       " (26, 2),\n",
       " (28, 2),\n",
       " (29, 3),\n",
       " (32, 1),\n",
       " (34, 1),\n",
       " (35, 3),\n",
       " (36, 4),\n",
       " (40, 3),\n",
       " (42, 1),\n",
       " (44, 2),\n",
       " (45, 1),\n",
       " (46, 2),\n",
       " (47, 1),\n",
       " (49, 2),\n",
       " (50, 2),\n",
       " (53, 2),\n",
       " (55, 1),\n",
       " (56, 1),\n",
       " (57, 1),\n",
       " (58, 2),\n",
       " (59, 1),\n",
       " (60, 1),\n",
       " (61, 3),\n",
       " (63, 4),\n",
       " (67, 3),\n",
       " (68, 2),\n",
       " (70, 1),\n",
       " (71, 1),\n",
       " (72, 2),\n",
       " (73, 1),\n",
       " (76, 1),\n",
       " (78, 1),\n",
       " (79, 2),\n",
       " (80, 1),\n",
       " (81, 2),\n",
       " (82, 1),\n",
       " (83, 1),\n",
       " (84, 1),\n",
       " (85, 2),\n",
       " (87, 1),\n",
       " (91, 1),\n",
       " (92, 2),\n",
       " (94, 1),\n",
       " (95, 1),\n",
       " (98, 1)]"
      ]
     },
     "execution_count": 106,
     "metadata": {},
     "output_type": "execute_result"
    }
   ],
   "source": [
    "session.query(User.age, func.count(User.id)).group_by(User.age).all()"
   ]
  },
  {
   "cell_type": "code",
   "execution_count": 3,
   "metadata": {
    "collapsed": true
   },
   "outputs": [],
   "source": [
    "from sqlalchemy import ForeignKey, ForeignKeyConstraint\n",
    "from sqlalchemy.orm import relationship\n",
    "from sqlalchemy import Column, String, Integer\n",
    "from sqlalchemy.ext.declarative import declarative_base\n",
    "from sqlalchemy.orm import sessionmaker\n",
    "from sqlalchemy import create_engine\n",
    "import random"
   ]
  },
  {
   "cell_type": "code",
   "execution_count": 4,
   "metadata": {
    "collapsed": true
   },
   "outputs": [],
   "source": [
    "Base = declarative_base()\n",
    "engine = create_engine('mysql+pymysql://root@127.0.0.1:3306/demo', echo=True)\n",
    "Session = sessionmaker(bind=engine)\n",
    "session = Session()"
   ]
  },
  {
   "cell_type": "code",
   "execution_count": 6,
   "metadata": {
    "collapsed": true
   },
   "outputs": [],
   "source": [
    "class Author(Base):\n",
    "    __tablename__ = 'author'\n",
    "    \n",
    "    id = Column(Integer, primary_key=True, autoincrement=True)\n",
    "    name = Column(String(64), unique=True, nullable=False)\n",
    "    \n",
    "    posts = relationship('Post')\n",
    "    \n",
    "    def __str__(self):\n",
    "        return 'Author<id={}, name={}'.format(self.id, self.name)\n",
    "    \n",
    "    def __repr__(self):\n",
    "        return 'Author<id={}, name={}'.format(self.id, self.name)"
   ]
  },
  {
   "cell_type": "code",
   "execution_count": 5,
   "metadata": {
    "collapsed": true
   },
   "outputs": [],
   "source": [
    "class Post(Base):\n",
    "    __tablename__ = 'post'\n",
    "    \n",
    "    id = Column(Integer, primary_key=True, autoincrement=True)\n",
    "    title = Column(String(128), nullable=False, index=True)\n",
    "    content = Column(String(8096), nullable=False)\n",
    "    \n",
    "    author_id = Column(Integer, ForeignKey('author.id'), nullable=False)\n",
    "    \n",
    "    author = relationship('Author')\n",
    "    \n",
    "    def __str__(self):\n",
    "        return 'Post<id={}, title={}'.format(self.id, self.title)\n",
    "    \n",
    "    def __repr__(self):\n",
    "        return 'Post<id={}, title={}'.format(self.id, self.title)"
   ]
  },
  {
   "cell_type": "code",
   "execution_count": 7,
   "metadata": {},
   "outputs": [
    {
     "name": "stdout",
     "output_type": "stream",
     "text": [
      "2017-11-26 11:47:06,713 INFO sqlalchemy.engine.base.Engine SHOW VARIABLES LIKE 'sql_mode'\n",
      "2017-11-26 11:47:06,714 INFO sqlalchemy.engine.base.Engine {}\n",
      "2017-11-26 11:47:06,716 INFO sqlalchemy.engine.base.Engine SELECT DATABASE()\n",
      "2017-11-26 11:47:06,717 INFO sqlalchemy.engine.base.Engine {}\n",
      "2017-11-26 11:47:06,718 INFO sqlalchemy.engine.base.Engine show collation where `Charset` = 'utf8' and `Collation` = 'utf8_bin'\n",
      "2017-11-26 11:47:06,718 INFO sqlalchemy.engine.base.Engine {}\n",
      "2017-11-26 11:47:06,720 INFO sqlalchemy.engine.base.Engine SELECT CAST('test plain returns' AS CHAR(60)) AS anon_1\n",
      "2017-11-26 11:47:06,721 INFO sqlalchemy.engine.base.Engine {}\n",
      "2017-11-26 11:47:06,722 INFO sqlalchemy.engine.base.Engine SELECT CAST('test unicode returns' AS CHAR(60)) AS anon_1\n",
      "2017-11-26 11:47:06,722 INFO sqlalchemy.engine.base.Engine {}\n",
      "2017-11-26 11:47:06,724 INFO sqlalchemy.engine.base.Engine SELECT CAST('test collated returns' AS CHAR CHARACTER SET utf8) COLLATE utf8_bin AS anon_1\n",
      "2017-11-26 11:47:06,725 INFO sqlalchemy.engine.base.Engine {}\n",
      "2017-11-26 11:47:06,726 INFO sqlalchemy.engine.base.Engine DESCRIBE `post`\n",
      "2017-11-26 11:47:06,727 INFO sqlalchemy.engine.base.Engine {}\n",
      "2017-11-26 11:47:06,730 INFO sqlalchemy.engine.base.Engine ROLLBACK\n",
      "2017-11-26 11:47:06,731 INFO sqlalchemy.engine.base.Engine DESCRIBE `author`\n",
      "2017-11-26 11:47:06,731 INFO sqlalchemy.engine.base.Engine {}\n",
      "2017-11-26 11:47:06,733 INFO sqlalchemy.engine.base.Engine ROLLBACK\n",
      "2017-11-26 11:47:06,735 INFO sqlalchemy.engine.base.Engine \n",
      "CREATE TABLE author (\n",
      "\tid INTEGER NOT NULL AUTO_INCREMENT, \n",
      "\tname VARCHAR(64) NOT NULL, \n",
      "\tPRIMARY KEY (id), \n",
      "\tUNIQUE (name)\n",
      ")\n",
      "\n",
      "\n",
      "2017-11-26 11:47:06,735 INFO sqlalchemy.engine.base.Engine {}\n",
      "2017-11-26 11:47:06,757 INFO sqlalchemy.engine.base.Engine COMMIT\n",
      "2017-11-26 11:47:06,759 INFO sqlalchemy.engine.base.Engine \n",
      "CREATE TABLE post (\n",
      "\tid INTEGER NOT NULL AUTO_INCREMENT, \n",
      "\ttitle VARCHAR(128) NOT NULL, \n",
      "\tcontent VARCHAR(8096) NOT NULL, \n",
      "\tauthor_id INTEGER NOT NULL, \n",
      "\tPRIMARY KEY (id), \n",
      "\tFOREIGN KEY(author_id) REFERENCES author (id)\n",
      ")\n",
      "\n",
      "\n",
      "2017-11-26 11:47:06,759 INFO sqlalchemy.engine.base.Engine {}\n",
      "2017-11-26 11:47:06,774 INFO sqlalchemy.engine.base.Engine COMMIT\n",
      "2017-11-26 11:47:06,776 INFO sqlalchemy.engine.base.Engine CREATE INDEX ix_post_title ON post (title)\n",
      "2017-11-26 11:47:06,776 INFO sqlalchemy.engine.base.Engine {}\n",
      "2017-11-26 11:47:06,780 INFO sqlalchemy.engine.base.Engine COMMIT\n"
     ]
    }
   ],
   "source": [
    "Base.metadata.create_all(engine)"
   ]
  },
  {
   "cell_type": "code",
   "execution_count": 8,
   "metadata": {
    "collapsed": true
   },
   "outputs": [],
   "source": [
    "author = Author()"
   ]
  },
  {
   "cell_type": "code",
   "execution_count": 10,
   "metadata": {
    "collapsed": true
   },
   "outputs": [],
   "source": [
    "author.name = 'miracle'"
   ]
  },
  {
   "cell_type": "code",
   "execution_count": 11,
   "metadata": {
    "collapsed": true
   },
   "outputs": [],
   "source": [
    "session.add(author)"
   ]
  },
  {
   "cell_type": "code",
   "execution_count": 12,
   "metadata": {},
   "outputs": [
    {
     "name": "stdout",
     "output_type": "stream",
     "text": [
      "2017-11-26 11:48:31,280 INFO sqlalchemy.engine.base.Engine BEGIN (implicit)\n",
      "2017-11-26 11:48:31,282 INFO sqlalchemy.engine.base.Engine INSERT INTO author (name) VALUES (%(name)s)\n",
      "2017-11-26 11:48:31,283 INFO sqlalchemy.engine.base.Engine {'name': 'miracle'}\n",
      "2017-11-26 11:48:31,284 INFO sqlalchemy.engine.base.Engine COMMIT\n"
     ]
    }
   ],
   "source": [
    "session.commit()"
   ]
  },
  {
   "cell_type": "code",
   "execution_count": 13,
   "metadata": {},
   "outputs": [
    {
     "name": "stdout",
     "output_type": "stream",
     "text": [
      "2017-11-26 11:48:41,731 INFO sqlalchemy.engine.base.Engine BEGIN (implicit)\n",
      "2017-11-26 11:48:41,732 INFO sqlalchemy.engine.base.Engine SELECT author.id AS author_id, author.name AS author_name \n",
      "FROM author \n",
      "WHERE author.id = %(param_1)s\n",
      "2017-11-26 11:48:41,733 INFO sqlalchemy.engine.base.Engine {'param_1': 1}\n"
     ]
    },
    {
     "data": {
      "text/plain": [
       "Author<id=1, name=miracle"
      ]
     },
     "execution_count": 13,
     "metadata": {},
     "output_type": "execute_result"
    }
   ],
   "source": [
    "author"
   ]
  },
  {
   "cell_type": "code",
   "execution_count": 14,
   "metadata": {
    "collapsed": true
   },
   "outputs": [],
   "source": [
    "post= Post()"
   ]
  },
  {
   "cell_type": "code",
   "execution_count": 15,
   "metadata": {
    "collapsed": true
   },
   "outputs": [],
   "source": [
    "post.title = 'test'"
   ]
  },
  {
   "cell_type": "code",
   "execution_count": 16,
   "metadata": {
    "collapsed": true
   },
   "outputs": [],
   "source": [
    "post.content = 'test content'"
   ]
  },
  {
   "cell_type": "code",
   "execution_count": 17,
   "metadata": {
    "collapsed": true
   },
   "outputs": [],
   "source": [
    "post.author = author"
   ]
  },
  {
   "cell_type": "code",
   "execution_count": 18,
   "metadata": {
    "collapsed": true
   },
   "outputs": [],
   "source": [
    "session.add(post)"
   ]
  },
  {
   "cell_type": "code",
   "execution_count": 19,
   "metadata": {},
   "outputs": [
    {
     "name": "stdout",
     "output_type": "stream",
     "text": [
      "2017-11-26 11:49:38,572 INFO sqlalchemy.engine.base.Engine INSERT INTO post (title, content, author_id) VALUES (%(title)s, %(content)s, %(author_id)s)\n",
      "2017-11-26 11:49:38,574 INFO sqlalchemy.engine.base.Engine {'title': 'test', 'content': 'test content', 'author_id': 1}\n",
      "2017-11-26 11:49:38,575 INFO sqlalchemy.engine.base.Engine COMMIT\n"
     ]
    }
   ],
   "source": [
    "session.commit()"
   ]
  },
  {
   "cell_type": "code",
   "execution_count": 20,
   "metadata": {},
   "outputs": [
    {
     "name": "stdout",
     "output_type": "stream",
     "text": [
      "2017-11-26 11:50:07,025 INFO sqlalchemy.engine.base.Engine BEGIN (implicit)\n",
      "2017-11-26 11:50:07,027 INFO sqlalchemy.engine.base.Engine SELECT author.id AS author_id, author.name AS author_name \n",
      "FROM author \n",
      "WHERE author.id = %(param_1)s\n",
      "2017-11-26 11:50:07,028 INFO sqlalchemy.engine.base.Engine {'param_1': 1}\n",
      "2017-11-26 11:50:07,030 INFO sqlalchemy.engine.base.Engine SELECT post.id AS post_id, post.title AS post_title, post.content AS post_content, post.author_id AS post_author_id \n",
      "FROM post \n",
      "WHERE %(param_1)s = post.author_id\n",
      "2017-11-26 11:50:07,031 INFO sqlalchemy.engine.base.Engine {'param_1': 1}\n"
     ]
    },
    {
     "data": {
      "text/plain": [
       "[Post<id=1, title=test]"
      ]
     },
     "execution_count": 20,
     "metadata": {},
     "output_type": "execute_result"
    }
   ],
   "source": [
    "author.posts"
   ]
  },
  {
   "cell_type": "code",
   "execution_count": 21,
   "metadata": {
    "collapsed": true
   },
   "outputs": [],
   "source": [
    "p = Post()"
   ]
  },
  {
   "cell_type": "code",
   "execution_count": 22,
   "metadata": {
    "collapsed": true
   },
   "outputs": [],
   "source": [
    "p.title = 'abc'"
   ]
  },
  {
   "cell_type": "code",
   "execution_count": 23,
   "metadata": {
    "collapsed": true
   },
   "outputs": [],
   "source": [
    "p.content = 'abc content'"
   ]
  },
  {
   "cell_type": "code",
   "execution_count": 24,
   "metadata": {
    "collapsed": true
   },
   "outputs": [],
   "source": [
    "a = Author()"
   ]
  },
  {
   "cell_type": "code",
   "execution_count": 25,
   "metadata": {
    "collapsed": true
   },
   "outputs": [],
   "source": [
    "a.name = 'young'"
   ]
  },
  {
   "cell_type": "code",
   "execution_count": 26,
   "metadata": {
    "collapsed": true
   },
   "outputs": [],
   "source": [
    "p.author = a"
   ]
  },
  {
   "cell_type": "code",
   "execution_count": 27,
   "metadata": {},
   "outputs": [
    {
     "name": "stdout",
     "output_type": "stream",
     "text": [
      "2017-11-26 11:51:31,811 INFO sqlalchemy.engine.base.Engine INSERT INTO author (name) VALUES (%(name)s)\n",
      "2017-11-26 11:51:31,813 INFO sqlalchemy.engine.base.Engine {'name': 'young'}\n",
      "2017-11-26 11:51:31,815 INFO sqlalchemy.engine.base.Engine INSERT INTO post (title, content, author_id) VALUES (%(title)s, %(content)s, %(author_id)s)\n",
      "2017-11-26 11:51:31,816 INFO sqlalchemy.engine.base.Engine {'title': 'abc', 'content': 'abc content', 'author_id': 2}\n",
      "2017-11-26 11:51:31,817 INFO sqlalchemy.engine.base.Engine COMMIT\n"
     ]
    }
   ],
   "source": [
    "session.add(p)\n",
    "session.commit()"
   ]
  },
  {
   "cell_type": "code",
   "execution_count": 29,
   "metadata": {},
   "outputs": [
    {
     "name": "stdout",
     "output_type": "stream",
     "text": [
      "2017-11-26 11:53:00,184 INFO sqlalchemy.engine.base.Engine BEGIN (implicit)\n",
      "2017-11-26 11:53:00,186 INFO sqlalchemy.engine.base.Engine SELECT post.id AS post_id, post.title AS post_title, post.content AS post_content, post.author_id AS post_author_id, author.id AS author_id, author.name AS author_name \n",
      "FROM post, author \n",
      "WHERE post.author_id = author.id AND author.name = %(name_1)s\n",
      "2017-11-26 11:53:00,187 INFO sqlalchemy.engine.base.Engine {'name_1': 'miracle'}\n"
     ]
    },
    {
     "data": {
      "text/plain": [
       "[(Post<id=1, title=test, Author<id=1, name=miracle)]"
      ]
     },
     "execution_count": 29,
     "metadata": {},
     "output_type": "execute_result"
    }
   ],
   "source": [
    "session.query(Post, Author).filter(Post.author_id == Author.id).filter(Author.name == 'miracle').all()"
   ]
  },
  {
   "cell_type": "code",
   "execution_count": 30,
   "metadata": {},
   "outputs": [
    {
     "name": "stdout",
     "output_type": "stream",
     "text": [
      "2017-11-26 11:54:29,374 INFO sqlalchemy.engine.base.Engine SELECT post.id AS post_id, post.title AS post_title, post.content AS post_content, post.author_id AS post_author_id \n",
      "FROM post INNER JOIN author ON author.id = post.author_id \n",
      "WHERE author.name = %(name_1)s\n",
      "2017-11-26 11:54:29,375 INFO sqlalchemy.engine.base.Engine {'name_1': 'miracle'}\n"
     ]
    },
    {
     "data": {
      "text/plain": [
       "[Post<id=1, title=test]"
      ]
     },
     "execution_count": 30,
     "metadata": {},
     "output_type": "execute_result"
    }
   ],
   "source": [
    "session.query(Post).join(Author).filter(Author.name == 'miracle').all()"
   ]
  },
  {
   "cell_type": "code",
   "execution_count": null,
   "metadata": {
    "collapsed": true
   },
   "outputs": [],
   "source": []
  }
 ],
 "metadata": {
  "kernelspec": {
   "display_name": "Python 3",
   "language": "python",
   "name": "python3"
  },
  "language_info": {
   "codemirror_mode": {
    "name": "ipython",
    "version": 3
   },
   "file_extension": ".py",
   "mimetype": "text/x-python",
   "name": "python",
   "nbconvert_exporter": "python",
   "pygments_lexer": "ipython3",
   "version": "3.6.1"
  }
 },
 "nbformat": 4,
 "nbformat_minor": 2
}
