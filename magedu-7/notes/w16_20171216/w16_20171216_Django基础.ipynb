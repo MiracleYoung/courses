{
 "cells": [
  {
   "cell_type": "markdown",
   "metadata": {},
   "source": [
    "- 博客主页，显示近期的内容\n",
    "- 详细页面\n",
    "- 年份，给定年份的博客数（月份）\n",
    "- 月份，给定月份的博客数（天数）\n",
    "- 天，博客数（天）\n",
    "- comments"
   ]
  },
  {
   "cell_type": "markdown",
   "metadata": {},
   "source": [
    "- 主页（索引页）\n",
    "- 详细页面，文本的输出，投票的选项\n",
    "- 展示结果页面， 展示特定的投票结果"
   ]
  },
  {
   "cell_type": "markdown",
   "metadata": {},
   "source": [
    "MVC：\n",
    "- M，models\n",
    "- V，View\n",
    "- C，Controller"
   ]
  },
  {
   "cell_type": "markdown",
   "metadata": {},
   "source": [
    "Django MTV：\n",
    "- M, Model\n",
    "- T, Template\n",
    "- V, View"
   ]
  },
  {
   "cell_type": "markdown",
   "metadata": {},
   "source": [
    "/polls/detail?id=123&caption=magedu&timestamp=456"
   ]
  },
  {
   "cell_type": "markdown",
   "metadata": {},
   "source": [
    "detail: /polls/question_id/\n",
    "\n",
    "results: /polls/question_id/results/\n",
    "\n",
    "vote: /polls/question_id/vote/"
   ]
  },
  {
   "cell_type": "markdown",
   "metadata": {},
   "source": [
    "1. client send request: http://127.0.0.1:8080/polls/123\n",
    "2. load root url.py, match `url(r'^polls/', include('polls.urls')),`\n",
    "3. match `url(r'^(?P<question_id>[0-9]+)/$', views.detail, name='detail'),` in polls.url"
   ]
  },
  {
   "cell_type": "markdown",
   "metadata": {},
   "source": [
    "- polls\n",
    "    - templates\n",
    "        - polls\n",
    "            - index.html\n",
    "- blog\n",
    "    - templates\n",
    "        - blog\n",
    "            - index.html"
   ]
  },
  {
   "cell_type": "markdown",
   "metadata": {},
   "source": [
    "- polls\n",
    "    - name='detail'\n",
    "    \n",
    "- blog\n",
    "    - name='detail'"
   ]
  },
  {
   "cell_type": "code",
   "execution_count": null,
   "metadata": {
    "collapsed": true
   },
   "outputs": [],
   "source": []
  },
  {
   "cell_type": "code",
   "execution_count": null,
   "metadata": {
    "collapsed": true
   },
   "outputs": [],
   "source": []
  },
  {
   "cell_type": "code",
   "execution_count": null,
   "metadata": {
    "collapsed": true
   },
   "outputs": [],
   "source": []
  }
 ],
 "metadata": {
  "kernelspec": {
   "display_name": "Python 3",
   "language": "python",
   "name": "python3"
  },
  "language_info": {
   "codemirror_mode": {
    "name": "ipython",
    "version": 3
   },
   "file_extension": ".py",
   "mimetype": "text/x-python",
   "name": "python",
   "nbconvert_exporter": "python",
   "pygments_lexer": "ipython3",
   "version": "3.6.1"
  }
 },
 "nbformat": 4,
 "nbformat_minor": 2
}
