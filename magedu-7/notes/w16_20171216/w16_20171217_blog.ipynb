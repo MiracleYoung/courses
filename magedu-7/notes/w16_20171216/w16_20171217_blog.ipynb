{
 "cells": [
  {
   "cell_type": "markdown",
   "metadata": {},
   "source": [
    "- django 博客\n",
    "    - 注册\n",
    "    - 登陆\n",
    "    - 博文发布\n",
    "    - 博文查看\n",
    "        - list\n",
    "        - detail\n",
    "    - 博文点赞数\n",
    "    - 博文踩\n",
    "    - 博文浏览数\n",
    "- 未来期望"
   ]
  },
  {
   "cell_type": "markdown",
   "metadata": {},
   "source": [
    "- PM request demand/ REQUEST\n",
    "- protype design\n",
    "- coding"
   ]
  },
  {
   "cell_type": "markdown",
   "metadata": {},
   "source": [
    "register/login:\n",
    "- users\n",
    "    - id\n",
    "    - name\n",
    "    - password\n",
    "    - email\n",
    "- posts\n",
    "    - id\n",
    "    - title\n",
    "    - author\n",
    "- content\n",
    "    - id\n",
    "    - content\n",
    "    - post_id"
   ]
  },
  {
   "cell_type": "markdown",
   "metadata": {},
   "source": [
    "- 服务端持有一份副本，和服务端的副本进行比较，如果客户端持有，那么久ok\n",
    "    - 所有的数据都需要存在内存中， 小号的内存比较大\n",
    "    - 存在于文件中，我们的磁盘IO开销比较大\n",
    "    - 网络开销\n",
    "    - 分布式\n",
    "- 服务端使用某种算法，对这份数据进行签名，当再次收到数据的时候，检查签名 就ok了\n",
    "    - 服务端无法强制过期\n",
    "    - 数据量大\n",
    "    - CPU"
   ]
  },
  {
   "cell_type": "markdown",
   "metadata": {},
   "source": [
    "`pip install pyjwt`"
   ]
  },
  {
   "cell_type": "markdown",
   "metadata": {},
   "source": [
    "- 先有一个密码\n",
    "- encode， 选择某一个算法\n",
    "- decode"
   ]
  },
  {
   "cell_type": "markdown",
   "metadata": {},
   "source": [
    "`pip install bcrypt`"
   ]
  },
  {
   "cell_type": "code",
   "execution_count": null,
   "metadata": {
    "collapsed": true
   },
   "outputs": [],
   "source": []
  },
  {
   "cell_type": "code",
   "execution_count": null,
   "metadata": {
    "collapsed": true
   },
   "outputs": [],
   "source": []
  },
  {
   "cell_type": "code",
   "execution_count": null,
   "metadata": {
    "collapsed": true
   },
   "outputs": [],
   "source": []
  }
 ],
 "metadata": {
  "kernelspec": {
   "display_name": "Python 3",
   "language": "python",
   "name": "python3"
  },
  "language_info": {
   "codemirror_mode": {
    "name": "ipython",
    "version": 3
   },
   "file_extension": ".py",
   "mimetype": "text/x-python",
   "name": "python",
   "nbconvert_exporter": "python",
   "pygments_lexer": "ipython3",
   "version": "3.6.1"
  }
 },
 "nbformat": 4,
 "nbformat_minor": 2
}
