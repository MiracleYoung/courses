{
 "cells": [
  {
   "cell_type": "code",
   "execution_count": 5,
   "metadata": {},
   "outputs": [],
   "source": [
    "import time\n",
    "import threading\n",
    "import importlib\n",
    "import logging\n",
    "importlib.reload(logging)\n",
    "logging.basicConfig(level=logging.DEBUG, format='%(asctime)s %(levelname)s %(threadName)s %(message)s')\n",
    "\n",
    "import random\n",
    "import datetime\n",
    "\n",
    "def worker():\n",
    "    time.sleep(random.randint(1, 6))\n",
    "\n",
    "def boss():\n",
    "    start = datetime.datetime.now()\n",
    "    logging.info('worker exit {}'.format(datetime.datetime.now() - start))"
   ]
  },
  {
   "cell_type": "code",
   "execution_count": 6,
   "metadata": {
    "collapsed": true
   },
   "outputs": [],
   "source": [
    "# 5 - worker\n",
    "# 1 - boss\n",
    "# 1个 worker 退出的时候 boss 要计算他sleep 了 多久\n"
   ]
  },
  {
   "cell_type": "code",
   "execution_count": 7,
   "metadata": {
    "collapsed": true
   },
   "outputs": [],
   "source": [
    "event = threading.Event()"
   ]
  },
  {
   "cell_type": "code",
   "execution_count": 8,
   "metadata": {
    "collapsed": true
   },
   "outputs": [],
   "source": [
    "event.set()"
   ]
  },
  {
   "cell_type": "code",
   "execution_count": 9,
   "metadata": {},
   "outputs": [
    {
     "data": {
      "text/plain": [
       "True"
      ]
     },
     "execution_count": 9,
     "metadata": {},
     "output_type": "execute_result"
    }
   ],
   "source": [
    "event.wait()"
   ]
  },
  {
   "cell_type": "code",
   "execution_count": 17,
   "metadata": {},
   "outputs": [],
   "source": [
    "def worker(event: threading.Event):\n",
    "    s = random.randint(1, 6)\n",
    "    time.sleep(s)\n",
    "    event.set()\n",
    "    logging.info('sleep {}'.format(s))\n",
    "\n",
    "def boss(event: threading.Event):\n",
    "#     logging.info('boss enter the room')\n",
    "    start = datetime.datetime.now()\n",
    "    event.wait()\n",
    "    logging.info('worker exit {}'.format(datetime.datetime.now() - start))\n",
    "    \n",
    "def start():\n",
    "    event = threading.Event()\n",
    "    b = threading.Thread(target=boss, args=(event, ), name='boss')\n",
    "    b.start()\n",
    "    for x in range(5):\n",
    "        threading.Thread(target=worker, args=(event, ), name='worker-{}'.format(x)).start()"
   ]
  },
  {
   "cell_type": "code",
   "execution_count": 18,
   "metadata": {},
   "outputs": [
    {
     "name": "stderr",
     "output_type": "stream",
     "text": [
      "2017-11-11 14:27:36,793 INFO worker-1 sleep 1\n",
      "2017-11-11 14:27:36,794 INFO boss worker exit 0:00:01.003339\n",
      "2017-11-11 14:27:37,792 INFO worker-4 sleep 2\n",
      "2017-11-11 14:27:37,792 INFO worker-2 sleep 2\n",
      "2017-11-11 14:27:38,794 INFO worker-3 sleep 3\n",
      "2017-11-11 14:27:41,795 INFO worker-0 sleep 6\n"
     ]
    }
   ],
   "source": [
    "start()"
   ]
  },
  {
   "cell_type": "code",
   "execution_count": 19,
   "metadata": {
    "collapsed": true
   },
   "outputs": [],
   "source": [
    "def worker(event: threading.Event):\n",
    "    s = random.randint(1, 6)\n",
    "#     time.sleep(s)\n",
    "    event.wait(s)\n",
    "    event.set()\n",
    "    logging.info('sleep {}'.format(s))\n",
    "\n",
    "def boss(event: threading.Event):\n",
    "#     logging.info('boss enter the room')\n",
    "    start = datetime.datetime.now()\n",
    "    event.wait()\n",
    "    logging.info('worker exit {}'.format(datetime.datetime.now() - start))\n",
    "    \n",
    "def start():\n",
    "    event = threading.Event()\n",
    "    b = threading.Thread(target=boss, args=(event, ), name='boss')\n",
    "    b.start()\n",
    "    for x in range(5):\n",
    "        threading.Thread(target=worker, args=(event, ), name='worker-{}'.format(x)).start()"
   ]
  },
  {
   "cell_type": "code",
   "execution_count": 20,
   "metadata": {},
   "outputs": [
    {
     "name": "stderr",
     "output_type": "stream",
     "text": [
      "2017-11-11 14:30:19,419 INFO worker-4 sleep 1\n",
      "2017-11-11 14:30:19,420 INFO worker-1 sleep 3\n",
      "2017-11-11 14:30:19,420 INFO boss worker exit 0:00:01.005523\n",
      "2017-11-11 14:30:19,420 INFO worker-0 sleep 5\n",
      "2017-11-11 14:30:19,420 INFO worker-2 sleep 4\n",
      "2017-11-11 14:30:19,420 INFO worker-3 sleep 2\n"
     ]
    }
   ],
   "source": [
    "start()"
   ]
  },
  {
   "cell_type": "markdown",
   "metadata": {},
   "source": [
    "通常用于 某个线程需要等待其他线程处理完成 某些动作之后  才能启动"
   ]
  },
  {
   "cell_type": "code",
   "execution_count": 21,
   "metadata": {},
   "outputs": [
    {
     "data": {
      "text/plain": [
       "<threading.Event at 0x109921c18>"
      ]
     },
     "execution_count": 21,
     "metadata": {},
     "output_type": "execute_result"
    }
   ],
   "source": [
    "event"
   ]
  },
  {
   "cell_type": "code",
   "execution_count": 23,
   "metadata": {},
   "outputs": [],
   "source": [
    "event = threading.Event()"
   ]
  },
  {
   "cell_type": "code",
   "execution_count": 26,
   "metadata": {},
   "outputs": [
    {
     "data": {
      "text/plain": [
       "False"
      ]
     },
     "execution_count": 26,
     "metadata": {},
     "output_type": "execute_result"
    }
   ],
   "source": [
    "event.wait(1)"
   ]
  },
  {
   "cell_type": "code",
   "execution_count": 27,
   "metadata": {
    "collapsed": true
   },
   "outputs": [],
   "source": [
    "event.set()"
   ]
  },
  {
   "cell_type": "code",
   "execution_count": 28,
   "metadata": {},
   "outputs": [
    {
     "data": {
      "text/plain": [
       "True"
      ]
     },
     "execution_count": 28,
     "metadata": {},
     "output_type": "execute_result"
    }
   ],
   "source": [
    "event.wait(1)"
   ]
  },
  {
   "cell_type": "markdown",
   "metadata": {},
   "source": [
    "**event 在没有被set 过的时候， 返回的是 False，一旦被set 过了，返回的 就都是True 了**"
   ]
  },
  {
   "cell_type": "code",
   "execution_count": 25,
   "metadata": {
    "collapsed": true
   },
   "outputs": [],
   "source": [
    "def worker(event: threading.Event):\n",
    "    while True:\n",
    "        logging.info('run run run')\n",
    "        time.sleep(3)"
   ]
  },
  {
   "cell_type": "code",
   "execution_count": 29,
   "metadata": {
    "collapsed": true
   },
   "outputs": [],
   "source": [
    "def worker(event: threading.Event):\n",
    "    while not event.wait(3): # 这是一个技巧\n",
    "        logging.info('run run run')"
   ]
  },
  {
   "cell_type": "code",
   "execution_count": 30,
   "metadata": {
    "collapsed": true
   },
   "outputs": [],
   "source": [
    "event = threading.Event()"
   ]
  },
  {
   "cell_type": "code",
   "execution_count": 31,
   "metadata": {},
   "outputs": [
    {
     "name": "stderr",
     "output_type": "stream",
     "text": [
      "2017-11-11 14:40:23,625 INFO printer run run run\n",
      "2017-11-11 14:40:26,627 INFO printer run run run\n",
      "2017-11-11 14:40:29,629 INFO printer run run run\n",
      "2017-11-11 14:40:32,634 INFO printer run run run\n"
     ]
    }
   ],
   "source": [
    "threading.Thread(target=worker, args=(event, ), name='printer').start()"
   ]
  },
  {
   "cell_type": "code",
   "execution_count": 32,
   "metadata": {
    "collapsed": true
   },
   "outputs": [],
   "source": [
    "event.set()"
   ]
  },
  {
   "cell_type": "markdown",
   "metadata": {},
   "source": [
    "可以通过这种技巧 来完成 对线程退出的 控制条件\n",
    "\n",
    "这也是 为什么我说线程的退出条件 写在了我们的 逻辑里"
   ]
  },
  {
   "cell_type": "code",
   "execution_count": 33,
   "metadata": {},
   "outputs": [
    {
     "data": {
      "text/plain": [
       "True"
      ]
     },
     "execution_count": 33,
     "metadata": {},
     "output_type": "execute_result"
    }
   ],
   "source": [
    "event.is_set()"
   ]
  },
  {
   "cell_type": "code",
   "execution_count": 34,
   "metadata": {
    "collapsed": true
   },
   "outputs": [],
   "source": [
    "event.clear()"
   ]
  },
  {
   "cell_type": "code",
   "execution_count": 36,
   "metadata": {},
   "outputs": [
    {
     "data": {
      "text/plain": [
       "False"
      ]
     },
     "execution_count": 36,
     "metadata": {},
     "output_type": "execute_result"
    }
   ],
   "source": [
    "event.is_set() # 默认情况下，返回的都是False"
   ]
  },
  {
   "cell_type": "code",
   "execution_count": 37,
   "metadata": {
    "collapsed": true
   },
   "outputs": [],
   "source": [
    "event.set()"
   ]
  },
  {
   "cell_type": "code",
   "execution_count": 38,
   "metadata": {},
   "outputs": [
    {
     "data": {
      "text/plain": [
       "True"
      ]
     },
     "execution_count": 38,
     "metadata": {},
     "output_type": "execute_result"
    }
   ],
   "source": [
    "event.is_set()"
   ]
  },
  {
   "cell_type": "code",
   "execution_count": null,
   "metadata": {
    "collapsed": true
   },
   "outputs": [],
   "source": []
  },
  {
   "cell_type": "code",
   "execution_count": 39,
   "metadata": {
    "collapsed": true
   },
   "outputs": [],
   "source": [
    "def worker(event):\n",
    "    while not event.is_set():\n",
    "        pass"
   ]
  },
  {
   "cell_type": "markdown",
   "metadata": {},
   "source": [
    "event 无论在哪一个线程里面 wait，只要在其他任意地方（同一个进程下）set，他就退出了"
   ]
  },
  {
   "cell_type": "markdown",
   "metadata": {},
   "source": [
    "event.wait(3) 和 sleep(3) 有什么区别？\n",
    "- wait 会主动让出时间片\n",
    "- sleep 不会主动让出时间片"
   ]
  },
  {
   "cell_type": "code",
   "execution_count": 43,
   "metadata": {
    "collapsed": true
   },
   "outputs": [],
   "source": [
    "class Timer:\n",
    "    def __init__(self, interval, function, *args, **kwargs):\n",
    "        self.interval = interval\n",
    "        self.function = function\n",
    "        self.args = args\n",
    "        self.kwargs = kwargs\n",
    "        self.event = threading.Event()\n",
    "        self.thread = threading.Thread(target=self.__target)\n",
    "        \n",
    "    def __target(self):\n",
    "        if not self.event.wait(self.interval):\n",
    "            self.function(*self.args, **self.kwargs)\n",
    "            \n",
    "    def start(self):\n",
    "        self.thread.start()\n",
    "        \n",
    "    def cancel(self):\n",
    "        self.event.set()"
   ]
  },
  {
   "cell_type": "code",
   "execution_count": 44,
   "metadata": {
    "collapsed": true
   },
   "outputs": [],
   "source": [
    "def worker():\n",
    "    logging.info('run')"
   ]
  },
  {
   "cell_type": "code",
   "execution_count": 48,
   "metadata": {},
   "outputs": [],
   "source": [
    "t = Timer(interval=5, function=worker)"
   ]
  },
  {
   "cell_type": "code",
   "execution_count": 49,
   "metadata": {},
   "outputs": [],
   "source": [
    "t.start()"
   ]
  },
  {
   "cell_type": "code",
   "execution_count": 50,
   "metadata": {
    "collapsed": true
   },
   "outputs": [],
   "source": [
    "t.cancel()"
   ]
  },
  {
   "cell_type": "markdown",
   "metadata": {},
   "source": [
    "## Lock"
   ]
  },
  {
   "cell_type": "code",
   "execution_count": 51,
   "metadata": {
    "collapsed": true
   },
   "outputs": [],
   "source": [
    "class Counter:\n",
    "    def __init__(self):\n",
    "        self.__val = 0\n",
    "        \n",
    "    @property\n",
    "    def value(self):\n",
    "        return self.__val\n",
    "    \n",
    "    def inc(self):\n",
    "        self.__val += 1\n",
    "        \n",
    "    def dec(self):\n",
    "        self.__val -= 1"
   ]
  },
  {
   "cell_type": "code",
   "execution_count": 69,
   "metadata": {
    "collapsed": true
   },
   "outputs": [],
   "source": [
    "counter = Counter()"
   ]
  },
  {
   "cell_type": "code",
   "execution_count": 53,
   "metadata": {
    "collapsed": true
   },
   "outputs": [],
   "source": [
    "counter.inc()"
   ]
  },
  {
   "cell_type": "code",
   "execution_count": 54,
   "metadata": {},
   "outputs": [
    {
     "data": {
      "text/plain": [
       "1"
      ]
     },
     "execution_count": 54,
     "metadata": {},
     "output_type": "execute_result"
    }
   ],
   "source": [
    "counter.value"
   ]
  },
  {
   "cell_type": "code",
   "execution_count": 55,
   "metadata": {
    "collapsed": true
   },
   "outputs": [],
   "source": [
    "counter.dec()"
   ]
  },
  {
   "cell_type": "code",
   "execution_count": 56,
   "metadata": {},
   "outputs": [
    {
     "data": {
      "text/plain": [
       "0"
      ]
     },
     "execution_count": 56,
     "metadata": {},
     "output_type": "execute_result"
    }
   ],
   "source": [
    "counter.value"
   ]
  },
  {
   "cell_type": "code",
   "execution_count": 66,
   "metadata": {
    "collapsed": true
   },
   "outputs": [],
   "source": [
    "def fn():\n",
    "    if random.choice([1, -1]) > 0:\n",
    "        logging.info('inc')\n",
    "        counter.inc()\n",
    "    else:\n",
    "        logging.info('dec')\n",
    "        counter.dec()"
   ]
  },
  {
   "cell_type": "code",
   "execution_count": 70,
   "metadata": {},
   "outputs": [
    {
     "name": "stderr",
     "output_type": "stream",
     "text": [
      "2017-11-11 15:19:06,555 INFO Thread-236 dec\n",
      "2017-11-11 15:19:06,555 INFO Thread-237 inc\n",
      "2017-11-11 15:19:06,556 INFO Thread-238 dec\n",
      "2017-11-11 15:19:06,556 INFO Thread-239 dec\n",
      "2017-11-11 15:19:06,557 INFO Thread-240 inc\n",
      "2017-11-11 15:19:06,558 INFO Thread-241 inc\n",
      "2017-11-11 15:19:06,559 INFO Thread-242 inc\n",
      "2017-11-11 15:19:06,560 INFO Thread-243 inc\n",
      "2017-11-11 15:19:06,561 INFO Thread-244 inc\n",
      "2017-11-11 15:19:06,561 INFO Thread-245 inc\n"
     ]
    }
   ],
   "source": [
    "for x in range(10):\n",
    "    threading.Thread(target=fn).start()"
   ]
  },
  {
   "cell_type": "code",
   "execution_count": 71,
   "metadata": {},
   "outputs": [
    {
     "data": {
      "text/plain": [
       "4"
      ]
     },
     "execution_count": 71,
     "metadata": {},
     "output_type": "execute_result"
    }
   ],
   "source": [
    "counter.value"
   ]
  },
  {
   "cell_type": "code",
   "execution_count": 72,
   "metadata": {
    "collapsed": true
   },
   "outputs": [],
   "source": [
    "lock = threading.Lock()"
   ]
  },
  {
   "cell_type": "code",
   "execution_count": 73,
   "metadata": {},
   "outputs": [
    {
     "data": {
      "text/plain": [
       "True"
      ]
     },
     "execution_count": 73,
     "metadata": {},
     "output_type": "execute_result"
    }
   ],
   "source": [
    "lock.acquire()"
   ]
  },
  {
   "cell_type": "code",
   "execution_count": 74,
   "metadata": {},
   "outputs": [
    {
     "data": {
      "text/plain": [
       "3"
      ]
     },
     "execution_count": 74,
     "metadata": {},
     "output_type": "execute_result"
    }
   ],
   "source": [
    "1 + 2"
   ]
  },
  {
   "cell_type": "code",
   "execution_count": 75,
   "metadata": {},
   "outputs": [
    {
     "ename": "KeyboardInterrupt",
     "evalue": "",
     "output_type": "error",
     "traceback": [
      "\u001b[0;31m---------------------------------------------------------------------------\u001b[0m",
      "\u001b[0;31mKeyboardInterrupt\u001b[0m                         Traceback (most recent call last)",
      "\u001b[0;32m<ipython-input-75-394e97d7f4d5>\u001b[0m in \u001b[0;36m<module>\u001b[0;34m()\u001b[0m\n\u001b[0;32m----> 1\u001b[0;31m \u001b[0mlock\u001b[0m\u001b[0;34m.\u001b[0m\u001b[0macquire\u001b[0m\u001b[0;34m(\u001b[0m\u001b[0;34m)\u001b[0m\u001b[0;34m\u001b[0m\u001b[0m\n\u001b[0m",
      "\u001b[0;31mKeyboardInterrupt\u001b[0m: "
     ]
    }
   ],
   "source": [
    "lock.acquire()"
   ]
  },
  {
   "cell_type": "code",
   "execution_count": 78,
   "metadata": {
    "collapsed": true
   },
   "outputs": [],
   "source": [
    "lock.release()"
   ]
  },
  {
   "cell_type": "code",
   "execution_count": 77,
   "metadata": {},
   "outputs": [
    {
     "data": {
      "text/plain": [
       "True"
      ]
     },
     "execution_count": 77,
     "metadata": {},
     "output_type": "execute_result"
    }
   ],
   "source": [
    "lock.acquire()"
   ]
  },
  {
   "cell_type": "code",
   "execution_count": 80,
   "metadata": {
    "collapsed": true
   },
   "outputs": [],
   "source": [
    "class Counter:\n",
    "    def __init__(self):\n",
    "        self.__val = 0\n",
    "        self._lock = threading.Lock()\n",
    "        \n",
    "    @property\n",
    "    def value(self):\n",
    "        return self.__val\n",
    "    \n",
    "    def inc(self):\n",
    "        try:\n",
    "            self._lock.acquire()\n",
    "            self.__val += 1\n",
    "        finally:\n",
    "            self._lock.release()\n",
    "        \n",
    "    def dec(self):\n",
    "        try:\n",
    "            self._lock.acquire()\n",
    "            self.__val -= 1\n",
    "        finally:\n",
    "            self._lock.release()"
   ]
  },
  {
   "cell_type": "markdown",
   "metadata": {},
   "source": [
    "**凡是用锁的地方，必须在finally 里面 进行release，否则就会产生死锁**"
   ]
  },
  {
   "cell_type": "code",
   "execution_count": 83,
   "metadata": {},
   "outputs": [],
   "source": [
    "class Counter:\n",
    "    def __init__(self):\n",
    "        self.__val = 0\n",
    "        self._lock = threading.Lock()\n",
    "        \n",
    "    @property\n",
    "    def value(self):\n",
    "        with self._lock:\n",
    "            return self.__val\n",
    "    \n",
    "    def inc(self):\n",
    "        with self._lock:\n",
    "            self.__val += 1\n",
    "        \n",
    "    def dec(self):\n",
    "        with self._lock:\n",
    "            self.__val -= 1"
   ]
  },
  {
   "cell_type": "code",
   "execution_count": 84,
   "metadata": {
    "collapsed": true
   },
   "outputs": [],
   "source": [
    "counter = Counter()"
   ]
  },
  {
   "cell_type": "code",
   "execution_count": 85,
   "metadata": {
    "collapsed": true
   },
   "outputs": [],
   "source": [
    "def fn():\n",
    "    if random.choice([1, -1]) > 0:\n",
    "        logging.info('inc')\n",
    "        counter.inc()\n",
    "    else:\n",
    "        logging.info('dec')\n",
    "        counter.dec()"
   ]
  },
  {
   "cell_type": "code",
   "execution_count": 86,
   "metadata": {},
   "outputs": [
    {
     "name": "stderr",
     "output_type": "stream",
     "text": [
      "2017-11-11 15:30:34,784 INFO Thread-246 dec\n",
      "2017-11-11 15:30:34,785 INFO Thread-247 dec\n",
      "2017-11-11 15:30:34,785 INFO Thread-248 inc\n",
      "2017-11-11 15:30:34,786 INFO Thread-249 inc\n",
      "2017-11-11 15:30:34,786 INFO Thread-250 inc\n",
      "2017-11-11 15:30:34,787 INFO Thread-251 dec\n",
      "2017-11-11 15:30:34,787 INFO Thread-252 dec\n",
      "2017-11-11 15:30:34,787 INFO Thread-253 dec\n",
      "2017-11-11 15:30:34,788 INFO Thread-254 inc\n",
      "2017-11-11 15:30:34,788 INFO Thread-255 dec\n"
     ]
    }
   ],
   "source": [
    "for x in range(10):\n",
    "    threading.Thread(target=fn).start()"
   ]
  },
  {
   "cell_type": "code",
   "execution_count": 87,
   "metadata": {},
   "outputs": [
    {
     "data": {
      "text/plain": [
       "<unlocked _thread.lock object at 0x10adb7e90>"
      ]
     },
     "execution_count": 87,
     "metadata": {},
     "output_type": "execute_result"
    }
   ],
   "source": [
    "lock"
   ]
  },
  {
   "cell_type": "code",
   "execution_count": 88,
   "metadata": {},
   "outputs": [
    {
     "data": {
      "text/plain": [
       "True"
      ]
     },
     "execution_count": 88,
     "metadata": {},
     "output_type": "execute_result"
    }
   ],
   "source": [
    "lock.acquire(blocking=False)"
   ]
  },
  {
   "cell_type": "code",
   "execution_count": 89,
   "metadata": {},
   "outputs": [
    {
     "data": {
      "text/plain": [
       "False"
      ]
     },
     "execution_count": 89,
     "metadata": {},
     "output_type": "execute_result"
    }
   ],
   "source": [
    "lock.acquire(blocking=False)"
   ]
  },
  {
   "cell_type": "code",
   "execution_count": 90,
   "metadata": {
    "collapsed": true
   },
   "outputs": [],
   "source": [
    "lock.release()"
   ]
  },
  {
   "cell_type": "code",
   "execution_count": 91,
   "metadata": {},
   "outputs": [
    {
     "data": {
      "text/plain": [
       "True"
      ]
     },
     "execution_count": 91,
     "metadata": {},
     "output_type": "execute_result"
    }
   ],
   "source": [
    "lock.acquire(timeout=5)"
   ]
  },
  {
   "cell_type": "code",
   "execution_count": 92,
   "metadata": {},
   "outputs": [
    {
     "data": {
      "text/plain": [
       "False"
      ]
     },
     "execution_count": 92,
     "metadata": {},
     "output_type": "execute_result"
    }
   ],
   "source": [
    "lock.acquire(timeout=5)"
   ]
  },
  {
   "cell_type": "code",
   "execution_count": 96,
   "metadata": {
    "collapsed": true
   },
   "outputs": [],
   "source": [
    "def worker(tasks):\n",
    "    for task in tasks:\n",
    "        if task.lock.acquire(False):\n",
    "\n",
    "            logging.info(task.name)\n",
    "\n",
    "class Task:\n",
    "    def __init__(self, name):\n",
    "        self.name = name\n",
    "        self.lock = threading.Lock()"
   ]
  },
  {
   "cell_type": "code",
   "execution_count": 97,
   "metadata": {
    "collapsed": true
   },
   "outputs": [],
   "source": [
    "tasks = [Task(x) for x in range(10)]"
   ]
  },
  {
   "cell_type": "code",
   "execution_count": 98,
   "metadata": {},
   "outputs": [
    {
     "name": "stderr",
     "output_type": "stream",
     "text": [
      "2017-11-11 16:01:37,251 INFO worker-0 0\n",
      "2017-11-11 16:01:37,252 INFO worker-1 1\n",
      "2017-11-11 16:01:37,252 INFO worker-2 2\n",
      "2017-11-11 16:01:37,253 INFO worker-3 3\n",
      "2017-11-11 16:01:37,253 INFO worker-0 4\n",
      "2017-11-11 16:01:37,253 INFO worker-4 5\n",
      "2017-11-11 16:01:37,254 INFO worker-1 6\n",
      "2017-11-11 16:01:37,255 INFO worker-2 7\n",
      "2017-11-11 16:01:37,257 INFO worker-3 8\n",
      "2017-11-11 16:01:37,258 INFO worker-0 9\n"
     ]
    }
   ],
   "source": [
    "for x in range(5):\n",
    "    threading.Thread(target=worker, args=(tasks, ), name='worker-{}'.format(x)).start()"
   ]
  },
  {
   "cell_type": "markdown",
   "metadata": {},
   "source": [
    "### 可重入锁"
   ]
  },
  {
   "cell_type": "code",
   "execution_count": 99,
   "metadata": {
    "collapsed": true
   },
   "outputs": [],
   "source": [
    "rlock = threading.RLock()"
   ]
  },
  {
   "cell_type": "code",
   "execution_count": 100,
   "metadata": {},
   "outputs": [
    {
     "data": {
      "text/plain": [
       "True"
      ]
     },
     "execution_count": 100,
     "metadata": {},
     "output_type": "execute_result"
    }
   ],
   "source": [
    "rlock.acquire()"
   ]
  },
  {
   "cell_type": "code",
   "execution_count": 101,
   "metadata": {},
   "outputs": [
    {
     "data": {
      "text/plain": [
       "True"
      ]
     },
     "execution_count": 101,
     "metadata": {},
     "output_type": "execute_result"
    }
   ],
   "source": [
    "rlock.acquire()"
   ]
  },
  {
   "cell_type": "code",
   "execution_count": 102,
   "metadata": {},
   "outputs": [
    {
     "data": {
      "text/plain": [
       "True"
      ]
     },
     "execution_count": 102,
     "metadata": {},
     "output_type": "execute_result"
    }
   ],
   "source": [
    "rlock.acquire()"
   ]
  },
  {
   "cell_type": "code",
   "execution_count": 103,
   "metadata": {},
   "outputs": [
    {
     "data": {
      "text/plain": [
       "True"
      ]
     },
     "execution_count": 103,
     "metadata": {},
     "output_type": "execute_result"
    }
   ],
   "source": [
    "rlock.acquire(blocking=False)"
   ]
  },
  {
   "cell_type": "code",
   "execution_count": 104,
   "metadata": {
    "collapsed": true
   },
   "outputs": [],
   "source": [
    "rlock.release()"
   ]
  },
  {
   "cell_type": "code",
   "execution_count": 109,
   "metadata": {},
   "outputs": [
    {
     "ename": "RuntimeError",
     "evalue": "cannot release un-acquired lock",
     "output_type": "error",
     "traceback": [
      "\u001b[0;31m---------------------------------------------------------------------------\u001b[0m",
      "\u001b[0;31mRuntimeError\u001b[0m                              Traceback (most recent call last)",
      "\u001b[0;32m<ipython-input-109-71b6190cd1c4>\u001b[0m in \u001b[0;36m<module>\u001b[0;34m()\u001b[0m\n\u001b[0;32m----> 1\u001b[0;31m \u001b[0mrlock\u001b[0m\u001b[0;34m.\u001b[0m\u001b[0mrelease\u001b[0m\u001b[0;34m(\u001b[0m\u001b[0;34m)\u001b[0m\u001b[0;34m\u001b[0m\u001b[0m\n\u001b[0m",
      "\u001b[0;31mRuntimeError\u001b[0m: cannot release un-acquired lock"
     ]
    }
   ],
   "source": [
    "rlock.release()"
   ]
  },
  {
   "cell_type": "markdown",
   "metadata": {},
   "source": [
    "### Condition"
   ]
  },
  {
   "cell_type": "markdown",
   "metadata": {},
   "source": [
    "生产者消费者模型"
   ]
  },
  {
   "cell_type": "code",
   "execution_count": 110,
   "metadata": {
    "collapsed": true
   },
   "outputs": [],
   "source": [
    "class Dispatcher:\n",
    "    def __init__(self):\n",
    "        self.data = None\n",
    "        \n",
    "    def consumer(self):\n",
    "        logging.info(self.data)\n",
    "        \n",
    "    def producer(self):\n",
    "        data = random.randint(0, 100)\n",
    "        logging.info(data)\n",
    "        self.data = data"
   ]
  },
  {
   "cell_type": "code",
   "execution_count": 111,
   "metadata": {
    "collapsed": true
   },
   "outputs": [],
   "source": [
    "d = Dispatcher()"
   ]
  },
  {
   "cell_type": "code",
   "execution_count": 117,
   "metadata": {
    "collapsed": true
   },
   "outputs": [],
   "source": [
    "p = threading.Thread(target=d.producer, name='producer')"
   ]
  },
  {
   "cell_type": "code",
   "execution_count": 118,
   "metadata": {
    "collapsed": true
   },
   "outputs": [],
   "source": [
    "c = threading.Thread(target=d.consumer, name='consumer')"
   ]
  },
  {
   "cell_type": "code",
   "execution_count": 119,
   "metadata": {},
   "outputs": [
    {
     "name": "stderr",
     "output_type": "stream",
     "text": [
      "2017-11-11 16:39:57,351 INFO producer 96\n"
     ]
    }
   ],
   "source": [
    "p.start()"
   ]
  },
  {
   "cell_type": "code",
   "execution_count": 120,
   "metadata": {},
   "outputs": [
    {
     "name": "stderr",
     "output_type": "stream",
     "text": [
      "2017-11-11 16:39:59,017 INFO consumer 96\n"
     ]
    }
   ],
   "source": [
    "c.start()"
   ]
  },
  {
   "cell_type": "code",
   "execution_count": 138,
   "metadata": {
    "collapsed": true
   },
   "outputs": [],
   "source": [
    "class Dispatcher:\n",
    "    def __init__(self):\n",
    "        self.data = None\n",
    "        self.event = threading.Event()\n",
    "        \n",
    "    def consumer(self):\n",
    "        while not self.event.wait(1):\n",
    "            logging.info(self.data)\n",
    "        \n",
    "    def producer(self):\n",
    "        for _ in range(10):\n",
    "            data = random.randint(0, 100)\n",
    "            logging.info(data)\n",
    "            self.data = data\n",
    "            self.event.wait(1)\n",
    "        self.event.set()"
   ]
  },
  {
   "cell_type": "code",
   "execution_count": 142,
   "metadata": {
    "collapsed": true
   },
   "outputs": [],
   "source": [
    "d = Dispatcher()\n",
    "p = threading.Thread(target=d.producer, name='producer')\n",
    "c = threading.Thread(target=d.consumer, name='consumer')"
   ]
  },
  {
   "cell_type": "code",
   "execution_count": 144,
   "metadata": {},
   "outputs": [
    {
     "name": "stderr",
     "output_type": "stream",
     "text": [
      "2017-11-11 16:49:23,784 INFO producer 32\n",
      "2017-11-11 16:49:24,653 INFO consumer 32\n",
      "2017-11-11 16:49:24,791 INFO producer 21\n",
      "2017-11-11 16:49:25,660 INFO consumer 21\n",
      "2017-11-11 16:49:25,794 INFO producer 85\n",
      "2017-11-11 16:49:26,665 INFO consumer 85\n",
      "2017-11-11 16:49:26,800 INFO producer 61\n",
      "2017-11-11 16:49:27,667 INFO consumer 61\n",
      "2017-11-11 16:49:27,804 INFO producer 42\n",
      "2017-11-11 16:49:28,670 INFO consumer 42\n",
      "2017-11-11 16:49:28,810 INFO producer 14\n",
      "2017-11-11 16:49:29,672 INFO consumer 14\n",
      "2017-11-11 16:49:29,815 INFO producer 75\n",
      "2017-11-11 16:49:30,678 INFO consumer 75\n",
      "2017-11-11 16:49:30,820 INFO producer 9\n"
     ]
    }
   ],
   "source": [
    "p.start()"
   ]
  },
  {
   "cell_type": "code",
   "execution_count": 143,
   "metadata": {},
   "outputs": [
    {
     "name": "stderr",
     "output_type": "stream",
     "text": [
      "2017-11-11 16:49:21,643 INFO consumer None\n",
      "2017-11-11 16:49:22,645 INFO consumer None\n",
      "2017-11-11 16:49:23,649 INFO consumer None\n"
     ]
    }
   ],
   "source": [
    "c.start()"
   ]
  },
  {
   "cell_type": "code",
   "execution_count": 161,
   "metadata": {
    "collapsed": true
   },
   "outputs": [],
   "source": [
    "class Dispatcher:\n",
    "    def __init__(self):\n",
    "        self.data = None\n",
    "        self.event = threading.Event()\n",
    "        self.cond = threading.Condition()\n",
    "        \n",
    "    def consumer(self):\n",
    "        while not self.event.is_set():\n",
    "            with self.cond:\n",
    "                self.cond.wait()\n",
    "                logging.info(self.data)\n",
    "        \n",
    "    def producer(self):\n",
    "        for _ in range(10):\n",
    "            data = random.randint(0, 100)\n",
    "            logging.info(data)\n",
    "            self.data = data\n",
    "            with self.cond:\n",
    "                self.cond.notifyAll()\n",
    "            self.event.wait(1)\n",
    "        self.event.set()"
   ]
  },
  {
   "cell_type": "code",
   "execution_count": 162,
   "metadata": {
    "collapsed": true
   },
   "outputs": [],
   "source": [
    "d = Dispatcher()\n",
    "p = threading.Thread(target=d.producer, name='producer')\n",
    "c = threading.Thread(target=d.consumer, name='consumer')"
   ]
  },
  {
   "cell_type": "code",
   "execution_count": 155,
   "metadata": {
    "collapsed": true
   },
   "outputs": [],
   "source": [
    "c.start()"
   ]
  },
  {
   "cell_type": "code",
   "execution_count": 156,
   "metadata": {},
   "outputs": [
    {
     "name": "stderr",
     "output_type": "stream",
     "text": [
      "2017-11-11 16:53:29,101 INFO producer 64\n",
      "2017-11-11 16:53:29,104 INFO consumer 64\n",
      "2017-11-11 16:53:30,106 INFO producer 30\n",
      "2017-11-11 16:53:30,107 INFO consumer 30\n",
      "2017-11-11 16:53:31,112 INFO producer 58\n",
      "2017-11-11 16:53:31,114 INFO consumer 58\n",
      "2017-11-11 16:53:32,116 INFO producer 95\n",
      "2017-11-11 16:53:32,117 INFO consumer 95\n",
      "2017-11-11 16:53:33,121 INFO producer 36\n",
      "2017-11-11 16:53:33,122 INFO consumer 36\n",
      "2017-11-11 16:53:34,126 INFO producer 52\n",
      "2017-11-11 16:53:34,127 INFO consumer 52\n"
     ]
    }
   ],
   "source": [
    "p.start()"
   ]
  },
  {
   "cell_type": "code",
   "execution_count": 163,
   "metadata": {
    "collapsed": true
   },
   "outputs": [],
   "source": [
    "for x in range(4):\n",
    "    threading.Thread(target=d.consumer, name='consumer-{}'.format(x)).start()"
   ]
  },
  {
   "cell_type": "code",
   "execution_count": 159,
   "metadata": {},
   "outputs": [],
   "source": [
    "p = threading.Thread(target=d.producer, name='producer')"
   ]
  },
  {
   "cell_type": "code",
   "execution_count": 164,
   "metadata": {},
   "outputs": [
    {
     "name": "stderr",
     "output_type": "stream",
     "text": [
      "2017-11-11 16:56:38,077 INFO producer 91\n",
      "2017-11-11 16:56:38,079 INFO consumer-0 91\n",
      "2017-11-11 16:56:38,080 INFO consumer-2 91\n",
      "2017-11-11 16:56:38,081 INFO consumer-1 91\n",
      "2017-11-11 16:56:38,082 INFO consumer-3 91\n",
      "2017-11-11 16:56:39,082 INFO producer 69\n",
      "2017-11-11 16:56:39,083 INFO consumer-0 69\n",
      "2017-11-11 16:56:39,085 INFO consumer-1 69\n",
      "2017-11-11 16:56:39,086 INFO consumer-2 69\n",
      "2017-11-11 16:56:39,088 INFO consumer-3 69\n",
      "2017-11-11 16:56:40,086 INFO producer 15\n",
      "2017-11-11 16:56:40,087 INFO consumer-0 15\n",
      "2017-11-11 16:56:40,089 INFO consumer-3 15\n",
      "2017-11-11 16:56:40,090 INFO consumer-2 15\n",
      "2017-11-11 16:56:40,091 INFO consumer-1 15\n",
      "2017-11-11 16:56:41,087 INFO producer 20\n",
      "2017-11-11 16:56:41,089 INFO consumer-3 20\n",
      "2017-11-11 16:56:41,090 INFO consumer-1 20\n",
      "2017-11-11 16:56:41,091 INFO consumer-2 20\n",
      "2017-11-11 16:56:41,092 INFO consumer-0 20\n",
      "2017-11-11 16:56:42,093 INFO producer 4\n",
      "2017-11-11 16:56:42,095 INFO consumer-1 4\n",
      "2017-11-11 16:56:42,095 INFO consumer-2 4\n",
      "2017-11-11 16:56:42,096 INFO consumer-0 4\n",
      "2017-11-11 16:56:42,097 INFO consumer-3 4\n",
      "2017-11-11 16:56:43,099 INFO producer 83\n",
      "2017-11-11 16:56:43,101 INFO consumer-1 83\n",
      "2017-11-11 16:56:43,102 INFO consumer-2 83\n",
      "2017-11-11 16:56:43,103 INFO consumer-0 83\n",
      "2017-11-11 16:56:43,104 INFO consumer-3 83\n",
      "2017-11-11 16:56:44,103 INFO producer 47\n",
      "2017-11-11 16:56:44,104 INFO consumer-1 47\n",
      "2017-11-11 16:56:44,106 INFO consumer-3 47\n",
      "2017-11-11 16:56:44,108 INFO consumer-0 47\n",
      "2017-11-11 16:56:44,108 INFO consumer-2 47\n",
      "2017-11-11 16:56:45,104 INFO producer 82\n",
      "2017-11-11 16:56:45,105 INFO consumer-3 82\n",
      "2017-11-11 16:56:45,106 INFO consumer-2 82\n",
      "2017-11-11 16:56:45,107 INFO consumer-1 82\n",
      "2017-11-11 16:56:45,108 INFO consumer-0 82\n",
      "2017-11-11 16:56:46,106 INFO producer 16\n",
      "2017-11-11 16:56:46,107 INFO consumer-0 16\n",
      "2017-11-11 16:56:46,108 INFO consumer-2 16\n",
      "2017-11-11 16:56:46,109 INFO consumer-3 16\n",
      "2017-11-11 16:56:46,110 INFO consumer-1 16\n",
      "2017-11-11 16:56:47,109 INFO producer 83\n",
      "2017-11-11 16:56:47,110 INFO consumer-0 83\n",
      "2017-11-11 16:56:47,111 INFO consumer-1 83\n",
      "2017-11-11 16:56:47,112 INFO consumer-3 83\n",
      "2017-11-11 16:56:47,112 INFO consumer-2 83\n"
     ]
    }
   ],
   "source": [
    "p.start()"
   ]
  },
  {
   "cell_type": "code",
   "execution_count": 165,
   "metadata": {
    "collapsed": true
   },
   "outputs": [],
   "source": [
    "cond = threading.Condition()"
   ]
  },
  {
   "cell_type": "code",
   "execution_count": 166,
   "metadata": {},
   "outputs": [
    {
     "name": "stdout",
     "output_type": "stream",
     "text": [
      "Help on method notify_all in module threading:\n",
      "\n",
      "notify_all() method of threading.Condition instance\n",
      "    Wake up all threads waiting on this condition.\n",
      "    \n",
      "    If the calling thread has not acquired the lock when this method\n",
      "    is called, a RuntimeError is raised.\n",
      "\n"
     ]
    }
   ],
   "source": [
    "help(cond.notify_all)"
   ]
  },
  {
   "cell_type": "code",
   "execution_count": 167,
   "metadata": {},
   "outputs": [
    {
     "name": "stdout",
     "output_type": "stream",
     "text": [
      "Help on method notify in module threading:\n",
      "\n",
      "notify(n=1) method of threading.Condition instance\n",
      "    Wake up one or more threads waiting on this condition, if any.\n",
      "    \n",
      "    If the calling thread has not acquired the lock when this method is\n",
      "    called, a RuntimeError is raised.\n",
      "    \n",
      "    This method wakes up at most n of the threads waiting for the condition\n",
      "    variable; it is a no-op if no threads are waiting.\n",
      "\n"
     ]
    }
   ],
   "source": [
    "help(cond.notify)"
   ]
  },
  {
   "cell_type": "code",
   "execution_count": 168,
   "metadata": {
    "collapsed": true
   },
   "outputs": [],
   "source": [
    "class Dispatcher:\n",
    "    def __init__(self):\n",
    "        self.data = None\n",
    "        self.event = threading.Event()\n",
    "        self.cond = threading.Condition()\n",
    "        \n",
    "    def consumer(self):\n",
    "        while not self.event.is_set():\n",
    "            with self.cond:\n",
    "                self.cond.wait()\n",
    "                logging.info(self.data)\n",
    "        \n",
    "    def producer(self):\n",
    "        for _ in range(10):\n",
    "            data = random.randint(0, 100)\n",
    "            logging.info(data)\n",
    "            self.data = data\n",
    "            with self.cond:\n",
    "                self.cond.notify(2)\n",
    "            self.event.wait(1)\n",
    "        self.event.set()"
   ]
  },
  {
   "cell_type": "code",
   "execution_count": 169,
   "metadata": {
    "collapsed": true
   },
   "outputs": [],
   "source": [
    "d = Dispatcher()\n",
    "p = threading.Thread(target=d.producer, name='producer')\n",
    "c = threading.Thread(target=d.consumer, name='consumer')"
   ]
  },
  {
   "cell_type": "code",
   "execution_count": 170,
   "metadata": {
    "collapsed": true
   },
   "outputs": [],
   "source": [
    "for x in range(4):\n",
    "    threading.Thread(target=d.consumer, name='consumer-{}'.format(x)).start()"
   ]
  },
  {
   "cell_type": "code",
   "execution_count": 171,
   "metadata": {},
   "outputs": [
    {
     "name": "stderr",
     "output_type": "stream",
     "text": [
      "2017-11-11 17:01:41,745 INFO producer 64\n",
      "2017-11-11 17:01:41,747 INFO consumer-1 64\n",
      "2017-11-11 17:01:41,749 INFO consumer-0 64\n",
      "2017-11-11 17:01:42,750 INFO producer 11\n",
      "2017-11-11 17:01:42,752 INFO consumer-3 11\n",
      "2017-11-11 17:01:42,753 INFO consumer-2 11\n",
      "2017-11-11 17:01:43,756 INFO producer 19\n",
      "2017-11-11 17:01:43,757 INFO consumer-1 19\n",
      "2017-11-11 17:01:43,758 INFO consumer-0 19\n",
      "2017-11-11 17:01:44,757 INFO producer 13\n",
      "2017-11-11 17:01:44,758 INFO consumer-2 13\n",
      "2017-11-11 17:01:44,759 INFO consumer-3 13\n",
      "2017-11-11 17:01:45,762 INFO producer 40\n",
      "2017-11-11 17:01:45,764 INFO consumer-0 40\n",
      "2017-11-11 17:01:45,766 INFO consumer-1 40\n",
      "2017-11-11 17:01:46,767 INFO producer 43\n",
      "2017-11-11 17:01:46,768 INFO consumer-2 43\n",
      "2017-11-11 17:01:46,769 INFO consumer-3 43\n",
      "2017-11-11 17:01:47,772 INFO producer 10\n",
      "2017-11-11 17:01:47,773 INFO consumer-0 10\n",
      "2017-11-11 17:01:47,774 INFO consumer-1 10\n",
      "2017-11-11 17:01:48,776 INFO producer 67\n",
      "2017-11-11 17:01:48,777 INFO consumer-2 67\n",
      "2017-11-11 17:01:48,778 INFO consumer-3 67\n",
      "2017-11-11 17:01:49,781 INFO producer 49\n",
      "2017-11-11 17:01:49,783 INFO consumer-1 49\n",
      "2017-11-11 17:01:49,785 INFO consumer-0 49\n",
      "2017-11-11 17:01:50,784 INFO producer 54\n",
      "2017-11-11 17:01:50,785 INFO consumer-2 54\n",
      "2017-11-11 17:01:50,786 INFO consumer-3 54\n"
     ]
    }
   ],
   "source": [
    "p.start()"
   ]
  },
  {
   "cell_type": "markdown",
   "metadata": {},
   "source": [
    "- event是用来 阻塞的\n",
    "- condition 是用来 做 生产者消费者模型"
   ]
  },
  {
   "cell_type": "code",
   "execution_count": 172,
   "metadata": {},
   "outputs": [
    {
     "data": {
      "text/plain": [
       "True"
      ]
     },
     "execution_count": 172,
     "metadata": {},
     "output_type": "execute_result"
    }
   ],
   "source": [
    "cond.acquire()"
   ]
  },
  {
   "cell_type": "code",
   "execution_count": 173,
   "metadata": {
    "collapsed": true
   },
   "outputs": [],
   "source": [
    "cond.release()"
   ]
  },
  {
   "cell_type": "markdown",
   "metadata": {},
   "source": [
    "- event 用于 线程之间的 事件通知\n",
    "- lock 用于 保护共享资源\n",
    "- condition用于生产者消费者模型"
   ]
  },
  {
   "cell_type": "markdown",
   "metadata": {},
   "source": [
    "- 信号量\n",
    "- 栅栏"
   ]
  },
  {
   "cell_type": "code",
   "execution_count": null,
   "metadata": {
    "collapsed": true
   },
   "outputs": [],
   "source": []
  }
 ],
 "metadata": {
  "kernelspec": {
   "display_name": "Python 3",
   "language": "python",
   "name": "python3"
  },
  "language_info": {
   "codemirror_mode": {
    "name": "ipython",
    "version": 3
   },
   "file_extension": ".py",
   "mimetype": "text/x-python",
   "name": "python",
   "nbconvert_exporter": "python",
   "pygments_lexer": "ipython3",
   "version": "3.6.1"
  }
 },
 "nbformat": 4,
 "nbformat_minor": 2
}
