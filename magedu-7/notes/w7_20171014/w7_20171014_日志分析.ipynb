{
 "cells": [
  {
   "cell_type": "markdown",
   "metadata": {},
   "source": [
    "日志分析需要具备哪些步骤？\n",
    "- 读取\n",
    "- 提取（提取有用信息，组成结构化数据）\n",
    "- 分析\n",
    "- 保存数据结构"
   ]
  },
  {
   "cell_type": "code",
   "execution_count": 3,
   "metadata": {},
   "outputs": [],
   "source": [
    "line = '66.249.69.131 - - [10/Aug/2016:03:20:09 +0800] \"GET /robots.txt HTTP/1.1\" 404 162 \"-\" \"Mozilla/5.0 (compatible; Googlebot/2.1; +http://www.google.com/bot.html)\"'"
   ]
  },
  {
   "cell_type": "markdown",
   "metadata": {},
   "source": [
    "- ip\n",
    "- 时间\n",
    "- 请求方式、请求地址\n",
    "- 状态码\n",
    "- 大小\n",
    "- user-agent"
   ]
  },
  {
   "cell_type": "code",
   "execution_count": 4,
   "metadata": {
    "collapsed": true
   },
   "outputs": [],
   "source": [
    "tmp = []\n",
    "ret = []\n",
    "for c in line:\n",
    "    if c == ' ':\n",
    "        ret.append(''.join(tmp))\n",
    "        tmp.clear()\n",
    "    else:\n",
    "        tmp.append(c)"
   ]
  },
  {
   "cell_type": "code",
   "execution_count": 5,
   "metadata": {},
   "outputs": [
    {
     "data": {
      "text/plain": [
       "['66.249.69.131',\n",
       " '-',\n",
       " '-',\n",
       " '[10/Aug/2016:03:20:09',\n",
       " '+0800]',\n",
       " '\"GET',\n",
       " '/robots.txt',\n",
       " 'HTTP/1.1\"',\n",
       " '404',\n",
       " '162',\n",
       " '\"-\"',\n",
       " '\"Mozilla/5.0',\n",
       " '(compatible;',\n",
       " 'Googlebot/2.1;']"
      ]
     },
     "execution_count": 5,
     "metadata": {},
     "output_type": "execute_result"
    }
   ],
   "source": [
    "ret"
   ]
  },
  {
   "cell_type": "code",
   "execution_count": 6,
   "metadata": {
    "collapsed": true
   },
   "outputs": [],
   "source": [
    "tmp = []\n",
    "ret = []\n",
    "split = True\n",
    "for c in line:\n",
    "    if c == '[':\n",
    "        split = False\n",
    "        continue\n",
    "    if c == ']':\n",
    "        split = True\n",
    "        continue\n",
    "    if c == ' ' and split:\n",
    "        ret.append(''.join(tmp))\n",
    "        tmp.clear()\n",
    "    else:\n",
    "        tmp.append(c)"
   ]
  },
  {
   "cell_type": "code",
   "execution_count": 7,
   "metadata": {},
   "outputs": [
    {
     "data": {
      "text/plain": [
       "['66.249.69.131',\n",
       " '-',\n",
       " '-',\n",
       " '10/Aug/2016:03:20:09 +0800',\n",
       " '\"GET',\n",
       " '/robots.txt',\n",
       " 'HTTP/1.1\"',\n",
       " '404',\n",
       " '162',\n",
       " '\"-\"',\n",
       " '\"Mozilla/5.0',\n",
       " '(compatible;',\n",
       " 'Googlebot/2.1;']"
      ]
     },
     "execution_count": 7,
     "metadata": {},
     "output_type": "execute_result"
    }
   ],
   "source": [
    "ret"
   ]
  },
  {
   "cell_type": "code",
   "execution_count": 8,
   "metadata": {
    "collapsed": true
   },
   "outputs": [],
   "source": [
    "tmp = []\n",
    "ret = []\n",
    "split = True\n",
    "for c in line:\n",
    "    if c == '[':\n",
    "        split = False\n",
    "        continue\n",
    "    if c == ']':\n",
    "        split = True\n",
    "        continue\n",
    "        \n",
    "    if c == '\"':\n",
    "        split = not split\n",
    "        continue\n",
    "        \n",
    "    if c == ' ' and split:\n",
    "        ret.append(''.join(tmp))\n",
    "        tmp.clear()\n",
    "    else:\n",
    "        tmp.append(c)"
   ]
  },
  {
   "cell_type": "code",
   "execution_count": 10,
   "metadata": {},
   "outputs": [
    {
     "data": {
      "text/plain": [
       "['66.249.69.131',\n",
       " '-',\n",
       " '-',\n",
       " '10/Aug/2016:03:20:09 +0800',\n",
       " 'GET /robots.txt HTTP/1.1',\n",
       " '404',\n",
       " '162',\n",
       " '-']"
      ]
     },
     "execution_count": 10,
     "metadata": {},
     "output_type": "execute_result"
    }
   ],
   "source": [
    "ret"
   ]
  },
  {
   "cell_type": "code",
   "execution_count": 11,
   "metadata": {},
   "outputs": [
    {
     "data": {
      "text/plain": [
       "['M',\n",
       " 'o',\n",
       " 'z',\n",
       " 'i',\n",
       " 'l',\n",
       " 'l',\n",
       " 'a',\n",
       " '/',\n",
       " '5',\n",
       " '.',\n",
       " '0',\n",
       " ' ',\n",
       " '(',\n",
       " 'c',\n",
       " 'o',\n",
       " 'm',\n",
       " 'p',\n",
       " 'a',\n",
       " 't',\n",
       " 'i',\n",
       " 'b',\n",
       " 'l',\n",
       " 'e',\n",
       " ';',\n",
       " ' ',\n",
       " 'G',\n",
       " 'o',\n",
       " 'o',\n",
       " 'g',\n",
       " 'l',\n",
       " 'e',\n",
       " 'b',\n",
       " 'o',\n",
       " 't',\n",
       " '/',\n",
       " '2',\n",
       " '.',\n",
       " '1',\n",
       " ';',\n",
       " ' ',\n",
       " '+',\n",
       " 'h',\n",
       " 't',\n",
       " 't',\n",
       " 'p',\n",
       " ':',\n",
       " '/',\n",
       " '/',\n",
       " 'w',\n",
       " 'w',\n",
       " 'w',\n",
       " '.',\n",
       " 'g',\n",
       " 'o',\n",
       " 'o',\n",
       " 'g',\n",
       " 'l',\n",
       " 'e',\n",
       " '.',\n",
       " 'c',\n",
       " 'o',\n",
       " 'm',\n",
       " '/',\n",
       " 'b',\n",
       " 'o',\n",
       " 't',\n",
       " '.',\n",
       " 'h',\n",
       " 't',\n",
       " 'm',\n",
       " 'l',\n",
       " ')']"
      ]
     },
     "execution_count": 11,
     "metadata": {},
     "output_type": "execute_result"
    }
   ],
   "source": [
    "tmp"
   ]
  },
  {
   "cell_type": "code",
   "execution_count": null,
   "metadata": {
    "collapsed": true
   },
   "outputs": [],
   "source": []
  },
  {
   "cell_type": "code",
   "execution_count": 12,
   "metadata": {
    "collapsed": true
   },
   "outputs": [],
   "source": [
    "tmp = []\n",
    "ret = []\n",
    "split = True\n",
    "for c in line:\n",
    "    if c == '[':\n",
    "        split = False\n",
    "        continue\n",
    "    if c == ']':\n",
    "        split = True\n",
    "        continue\n",
    "        \n",
    "    if c == '\"':\n",
    "        split = not split\n",
    "        continue\n",
    "        \n",
    "    if c == ' ' and split:\n",
    "        ret.append(''.join(tmp))\n",
    "        tmp.clear()\n",
    "    else:\n",
    "        tmp.append(c)\n",
    "ret.append(''.join(tmp))"
   ]
  },
  {
   "cell_type": "code",
   "execution_count": 13,
   "metadata": {},
   "outputs": [
    {
     "data": {
      "text/plain": [
       "['66.249.69.131',\n",
       " '-',\n",
       " '-',\n",
       " '10/Aug/2016:03:20:09 +0800',\n",
       " 'GET /robots.txt HTTP/1.1',\n",
       " '404',\n",
       " '162',\n",
       " '-',\n",
       " 'Mozilla/5.0 (compatible; Googlebot/2.1; +http://www.google.com/bot.html)']"
      ]
     },
     "execution_count": 13,
     "metadata": {},
     "output_type": "execute_result"
    }
   ],
   "source": [
    "ret"
   ]
  },
  {
   "cell_type": "code",
   "execution_count": 18,
   "metadata": {},
   "outputs": [],
   "source": [
    "def extract(line):\n",
    "    names = ('remote', '', '', 'time', 'request', 'status', 'length', '', 'ua')\n",
    "    tmp = []\n",
    "    ret = []\n",
    "    split = True\n",
    "    for c in line:\n",
    "        if c == '[':\n",
    "            split = False\n",
    "            continue\n",
    "        if c == ']':\n",
    "            split = True\n",
    "            continue\n",
    "\n",
    "        if c == '\"':\n",
    "            split = not split\n",
    "            continue\n",
    "\n",
    "        if c == ' ' and split:\n",
    "            ret.append(''.join(tmp))\n",
    "            tmp.clear()\n",
    "        else:\n",
    "            tmp.append(c)\n",
    "    ret.append(''.join(tmp))\n",
    "    result = dict(zip(names, ret))\n",
    "    result.pop('', None)\n",
    "    return result"
   ]
  },
  {
   "cell_type": "code",
   "execution_count": 19,
   "metadata": {},
   "outputs": [
    {
     "data": {
      "text/plain": [
       "{'length': '162',\n",
       " 'remote': '66.249.69.131',\n",
       " 'request': 'GET /robots.txt HTTP/1.1',\n",
       " 'status': '404',\n",
       " 'time': '10/Aug/2016:03:20:09 +0800',\n",
       " 'ua': 'Mozilla/5.0 (compatible; Googlebot/2.1; +http://www.google.com/bot.html)'}"
      ]
     },
     "execution_count": 19,
     "metadata": {},
     "output_type": "execute_result"
    }
   ],
   "source": [
    "extract(line)"
   ]
  },
  {
   "cell_type": "code",
   "execution_count": 20,
   "metadata": {
    "collapsed": true
   },
   "outputs": [],
   "source": [
    "import datetime"
   ]
  },
  {
   "cell_type": "code",
   "execution_count": 21,
   "metadata": {
    "collapsed": true
   },
   "outputs": [],
   "source": [
    "def strptime(src: str) -> datetime.datetime:\n",
    "    return datetime.datetime.strptime(src, '%d/%b/%Y:%H:%M:%S %z')"
   ]
  },
  {
   "cell_type": "code",
   "execution_count": 22,
   "metadata": {},
   "outputs": [
    {
     "data": {
      "text/plain": [
       "datetime.datetime(2016, 8, 10, 3, 20, 9, tzinfo=datetime.timezone(datetime.timedelta(0, 28800)))"
      ]
     },
     "execution_count": 22,
     "metadata": {},
     "output_type": "execute_result"
    }
   ],
   "source": [
    "strptime('10/Aug/2016:03:20:09 +0800')"
   ]
  },
  {
   "cell_type": "code",
   "execution_count": 23,
   "metadata": {
    "collapsed": true
   },
   "outputs": [],
   "source": [
    "def extract(line):\n",
    "    names = ('remote', '', '', 'time', 'request', 'status', 'length', '', 'ua')\n",
    "    tmp = []\n",
    "    ret = []\n",
    "    split = True\n",
    "    for c in line:\n",
    "        if c == '[':\n",
    "            split = False\n",
    "            continue\n",
    "        if c == ']':\n",
    "            split = True\n",
    "            continue\n",
    "\n",
    "        if c == '\"':\n",
    "            split = not split\n",
    "            continue\n",
    "\n",
    "        if c == ' ' and split:\n",
    "            ret.append(''.join(tmp))\n",
    "            tmp.clear()\n",
    "        else:\n",
    "            tmp.append(c)\n",
    "    ret.append(''.join(tmp))\n",
    "    result = dict(zip(names, ret))\n",
    "    result.pop('', None)\n",
    "    \n",
    "    result['length'] = int(result['length'])\n",
    "    result['status'] = int(result['status'])\n",
    "    result['time'] = strptime(result['time'])\n",
    "    return result"
   ]
  },
  {
   "cell_type": "code",
   "execution_count": 24,
   "metadata": {},
   "outputs": [
    {
     "data": {
      "text/plain": [
       "{'length': 162,\n",
       " 'remote': '66.249.69.131',\n",
       " 'request': 'GET /robots.txt HTTP/1.1',\n",
       " 'status': 404,\n",
       " 'time': datetime.datetime(2016, 8, 10, 3, 20, 9, tzinfo=datetime.timezone(datetime.timedelta(0, 28800))),\n",
       " 'ua': 'Mozilla/5.0 (compatible; Googlebot/2.1; +http://www.google.com/bot.html)'}"
      ]
     },
     "execution_count": 24,
     "metadata": {},
     "output_type": "execute_result"
    }
   ],
   "source": [
    "extract(line)"
   ]
  },
  {
   "cell_type": "code",
   "execution_count": 25,
   "metadata": {
    "collapsed": true
   },
   "outputs": [],
   "source": [
    "from collections import namedtuple"
   ]
  },
  {
   "cell_type": "code",
   "execution_count": 26,
   "metadata": {
    "collapsed": true
   },
   "outputs": [],
   "source": [
    "Request = namedtuple('Request', ['method', 'url', 'version'])"
   ]
  },
  {
   "cell_type": "code",
   "execution_count": 29,
   "metadata": {
    "collapsed": true
   },
   "outputs": [],
   "source": [
    "def request(src: str) -> Request:\n",
    "    return Request(*src.split())"
   ]
  },
  {
   "cell_type": "code",
   "execution_count": 30,
   "metadata": {},
   "outputs": [
    {
     "data": {
      "text/plain": [
       "Request(method='GET', url='/robots.txt', version='HTTP/1.1')"
      ]
     },
     "execution_count": 30,
     "metadata": {},
     "output_type": "execute_result"
    }
   ],
   "source": [
    "request('GET /robots.txt HTTP/1.1')"
   ]
  },
  {
   "cell_type": "code",
   "execution_count": 31,
   "metadata": {
    "collapsed": true
   },
   "outputs": [],
   "source": [
    "def extract(line):\n",
    "    names = ('remote', '', '', 'time', 'request', 'status', 'length', '', 'ua')\n",
    "    tmp = []\n",
    "    ret = []\n",
    "    split = True\n",
    "    for c in line:\n",
    "        if c == '[':\n",
    "            split = False\n",
    "            continue\n",
    "        if c == ']':\n",
    "            split = True\n",
    "            continue\n",
    "\n",
    "        if c == '\"':\n",
    "            split = not split\n",
    "            continue\n",
    "\n",
    "        if c == ' ' and split:\n",
    "            ret.append(''.join(tmp))\n",
    "            tmp.clear()\n",
    "        else:\n",
    "            tmp.append(c)\n",
    "    ret.append(''.join(tmp))\n",
    "    result = dict(zip(names, ret))\n",
    "    result.pop('', None)\n",
    "    \n",
    "    result['length'] = int(result['length'])\n",
    "    result['status'] = int(result['status'])\n",
    "    result['time'] = strptime(result['time'])\n",
    "    result['request'] = request(result['request'])\n",
    "    return result"
   ]
  },
  {
   "cell_type": "code",
   "execution_count": 32,
   "metadata": {},
   "outputs": [
    {
     "data": {
      "text/plain": [
       "{'length': 162,\n",
       " 'remote': '66.249.69.131',\n",
       " 'request': Request(method='GET', url='/robots.txt', version='HTTP/1.1'),\n",
       " 'status': 404,\n",
       " 'time': datetime.datetime(2016, 8, 10, 3, 20, 9, tzinfo=datetime.timezone(datetime.timedelta(0, 28800))),\n",
       " 'ua': 'Mozilla/5.0 (compatible; Googlebot/2.1; +http://www.google.com/bot.html)'}"
      ]
     },
     "execution_count": 32,
     "metadata": {},
     "output_type": "execute_result"
    }
   ],
   "source": [
    "extract(line)"
   ]
  },
  {
   "cell_type": "code",
   "execution_count": 33,
   "metadata": {
    "collapsed": true
   },
   "outputs": [],
   "source": [
    "mapping = {\n",
    "    'remote': lambda x: x,\n",
    "    'time': lambda x: datetime.datetime.strptime(x, '%d/%b/%Y:%H:%M:%S %z'),\n",
    "    'request': lambda x: Request(*x.split()),\n",
    "    'status': int,\n",
    "    'length': int,\n",
    "    'ua': lambda x: x\n",
    "}"
   ]
  },
  {
   "cell_type": "code",
   "execution_count": 41,
   "metadata": {},
   "outputs": [],
   "source": [
    "MapItem = namedtuple('MapItem', ['name', 'convert'])\n",
    "\n",
    "mapping = [\n",
    "    MapItem('remote', lambda x: x),\n",
    "    MapItem('', None),\n",
    "    MapItem('', None),\n",
    "    MapItem('time', lambda x: datetime.datetime.strptime(x, '%d/%b/%Y:%H:%M:%S %z')),\n",
    "    MapItem('request', lambda x: Request(*x.split())),\n",
    "    MapItem('status', int),\n",
    "    MapItem('length', int),\n",
    "    MapItem('', None),\n",
    "    MapItem('ua', lambda x: x)\n",
    "]\n",
    "\n",
    "def extract(line):\n",
    "\n",
    "    tmp = []\n",
    "    ret = []\n",
    "    split = True\n",
    "    for c in line:\n",
    "        if c == '[':\n",
    "            split = False\n",
    "            continue\n",
    "        if c == ']':\n",
    "            split = True\n",
    "            continue\n",
    "\n",
    "        if c == '\"':\n",
    "            split = not split\n",
    "            continue\n",
    "\n",
    "        if c == ' ' and split:\n",
    "            ret.append(''.join(tmp))\n",
    "            tmp.clear()\n",
    "        else:\n",
    "            tmp.append(c)\n",
    "    ret.append(''.join(tmp))\n",
    "\n",
    "    result = dict()\n",
    "    for i, item in enumerate(mapping):\n",
    "        if item.name:\n",
    "            result[item.name] = item.convert(ret[i])\n",
    "    return result"
   ]
  },
  {
   "cell_type": "code",
   "execution_count": 42,
   "metadata": {},
   "outputs": [
    {
     "data": {
      "text/plain": [
       "{'length': 162,\n",
       " 'remote': '66.249.69.131',\n",
       " 'request': Request(method='GET', url='/robots.txt', version='HTTP/1.1'),\n",
       " 'status': 404,\n",
       " 'time': datetime.datetime(2016, 8, 10, 3, 20, 9, tzinfo=datetime.timezone(datetime.timedelta(0, 28800))),\n",
       " 'ua': 'Mozilla/5.0 (compatible; Googlebot/2.1; +http://www.google.com/bot.html)'}"
      ]
     },
     "execution_count": 42,
     "metadata": {},
     "output_type": "execute_result"
    }
   ],
   "source": [
    "extract(line)"
   ]
  },
  {
   "cell_type": "markdown",
   "metadata": {},
   "source": [
    "### 正则表达式"
   ]
  },
  {
   "cell_type": "markdown",
   "metadata": {},
   "source": [
    "BRE，ERE，PCRE以及PCRE 的其他方言:\n",
    "- grep, sed 用的是BRE\n",
    "- awk 用的就是ERE\n",
    "- BRE 就是基础的正则表达式， 功能最弱\n",
    "- ERE 扩展正则表达式，功能比BRE强\n",
    "- PCRE， perl 兼容的正则表示，功能最强的"
   ]
  },
  {
   "cell_type": "markdown",
   "metadata": {},
   "source": [
    "python 中 用的是 SRE， PCRE的 一个子集"
   ]
  },
  {
   "cell_type": "code",
   "execution_count": 43,
   "metadata": {
    "collapsed": true
   },
   "outputs": [],
   "source": [
    "import re"
   ]
  },
  {
   "cell_type": "code",
   "execution_count": 44,
   "metadata": {},
   "outputs": [
    {
     "data": {
      "text/plain": [
       "<function re.findall>"
      ]
     },
     "execution_count": 44,
     "metadata": {},
     "output_type": "execute_result"
    }
   ],
   "source": [
    "re.match\n",
    "re.search\n",
    "re.findall"
   ]
  },
  {
   "cell_type": "code",
   "execution_count": 49,
   "metadata": {
    "collapsed": true
   },
   "outputs": [],
   "source": [
    "regex = r'\\d{1,3}\\.\\d{1,3}\\.\\d{1,3}\\.\\d{1,3} - - .*'"
   ]
  },
  {
   "cell_type": "code",
   "execution_count": 48,
   "metadata": {},
   "outputs": [
    {
     "data": {
      "text/plain": [
       "<_sre.SRE_Match object; span=(0, 13), match='66.249.69.131'>"
      ]
     },
     "execution_count": 48,
     "metadata": {},
     "output_type": "execute_result"
    }
   ],
   "source": [
    "re.match(regex, '66.249.69.131')"
   ]
  },
  {
   "cell_type": "code",
   "execution_count": 51,
   "metadata": {},
   "outputs": [
    {
     "data": {
      "text/plain": [
       "<_sre.SRE_Match object; span=(0, 160), match='66.249.69.131 - - [10/Aug/2016:03:20:09 +0800] \"G>"
      ]
     },
     "execution_count": 51,
     "metadata": {},
     "output_type": "execute_result"
    }
   ],
   "source": [
    "re.match(regex, line )"
   ]
  },
  {
   "cell_type": "code",
   "execution_count": 52,
   "metadata": {},
   "outputs": [
    {
     "data": {
      "text/plain": [
       "'66.249.69.131 - - [10/Aug/2016:03:20:09 +0800] \"GET /robots.txt HTTP/1.1\" 404 162 \"-\" \"Mozilla/5.0 (compatible; Googlebot/2.1; +http://www.google.com/bot.html)\"'"
      ]
     },
     "execution_count": 52,
     "metadata": {},
     "output_type": "execute_result"
    }
   ],
   "source": [
    "line"
   ]
  },
  {
   "cell_type": "code",
   "execution_count": null,
   "metadata": {
    "collapsed": true
   },
   "outputs": [],
   "source": []
  },
  {
   "cell_type": "code",
   "execution_count": 55,
   "metadata": {},
   "outputs": [
    {
     "data": {
      "text/plain": [
       "<_sre.SRE_Match object; span=(0, 160), match='66.249.69.131 - - [10/Aug/2016:03:20:09 +0800] \"G>"
      ]
     },
     "execution_count": 55,
     "metadata": {},
     "output_type": "execute_result"
    }
   ],
   "source": [
    "regex = r'\\d{1,3}\\.\\d{1,3}\\.\\d{1,3}\\.\\d{1,3} - - \\[.*\\] \".*\" .*'\n",
    "re.match(regex, line )"
   ]
  },
  {
   "cell_type": "code",
   "execution_count": 56,
   "metadata": {},
   "outputs": [
    {
     "data": {
      "text/plain": [
       "<_sre.SRE_Match object; span=(0, 160), match='66.249.69.131 - - [10/Aug/2016:03:20:09 +0800] \"G>"
      ]
     },
     "execution_count": 56,
     "metadata": {},
     "output_type": "execute_result"
    }
   ],
   "source": [
    "regex = r'\\d{1,3}\\.\\d{1,3}\\.\\d{1,3}\\.\\d{1,3} - - \\[.*\\] \".*\" \\d+ \\d+ .*'\n",
    "re.match(regex, line )"
   ]
  },
  {
   "cell_type": "code",
   "execution_count": 57,
   "metadata": {},
   "outputs": [
    {
     "data": {
      "text/plain": [
       "<_sre.SRE_Match object; span=(0, 160), match='66.249.69.131 - - [10/Aug/2016:03:20:09 +0800] \"G>"
      ]
     },
     "execution_count": 57,
     "metadata": {},
     "output_type": "execute_result"
    }
   ],
   "source": [
    "regex = r'\\d{1,3}\\.\\d{1,3}\\.\\d{1,3}\\.\\d{1,3} - - \\[.*\\] \".*\" \\d+ \\d+ \".*\".*'\n",
    "re.match(regex, line )"
   ]
  },
  {
   "cell_type": "code",
   "execution_count": 58,
   "metadata": {},
   "outputs": [
    {
     "data": {
      "text/plain": [
       "<_sre.SRE_Match object; span=(0, 160), match='66.249.69.131 - - [10/Aug/2016:03:20:09 +0800] \"G>"
      ]
     },
     "execution_count": 58,
     "metadata": {},
     "output_type": "execute_result"
    }
   ],
   "source": [
    "regex = r'\\d{1,3}\\.\\d{1,3}\\.\\d{1,3}\\.\\d{1,3} - - \\[.*\\] \".*\" \\d+ \\d+ \".*\" \".*\"'\n",
    "re.match(regex, line )"
   ]
  },
  {
   "cell_type": "code",
   "execution_count": 60,
   "metadata": {},
   "outputs": [
    {
     "data": {
      "text/plain": [
       "<_sre.SRE_Match object; span=(0, 160), match='66.249.69.131 - - [10/Aug/2016:03:20:09 +0800] \"G>"
      ]
     },
     "execution_count": 60,
     "metadata": {},
     "output_type": "execute_result"
    }
   ],
   "source": [
    "regex = r'(\\d{1,3}\\.\\d{1,3}\\.\\d{1,3}\\.\\d{1,3}) - - \\[(.*)\\] \"(.*)\" (\\d+) (\\d+) \".*\" \"(.*)\"' # 捕获\n",
    "re.match(regex, line )"
   ]
  },
  {
   "cell_type": "code",
   "execution_count": 61,
   "metadata": {
    "collapsed": true
   },
   "outputs": [],
   "source": [
    "regex = r'(\\d{1,3}\\.\\d{1,3}\\.\\d{1,3}\\.\\d{1,3}) - - \\[(.*)\\] \"(.*)\" (\\d+) (\\d+) \".*\" \"(.*)\"' # 捕获\n",
    "m = re.match(regex, line)"
   ]
  },
  {
   "cell_type": "code",
   "execution_count": 62,
   "metadata": {},
   "outputs": [
    {
     "data": {
      "text/plain": [
       "('66.249.69.131',\n",
       " '10/Aug/2016:03:20:09 +0800',\n",
       " 'GET /robots.txt HTTP/1.1',\n",
       " '404',\n",
       " '162',\n",
       " 'Mozilla/5.0 (compatible; Googlebot/2.1; +http://www.google.com/bot.html)')"
      ]
     },
     "execution_count": 62,
     "metadata": {},
     "output_type": "execute_result"
    }
   ],
   "source": [
    "m.groups()"
   ]
  },
  {
   "cell_type": "code",
   "execution_count": 66,
   "metadata": {
    "collapsed": true
   },
   "outputs": [],
   "source": [
    "regex = r'(?P<remote>\\d{1,3}\\.\\d{1,3}\\.\\d{1,3}\\.\\d{1,3}) - - \\[(?P<time>.*)\\] \"(?P<request>.*)\" (?P<status>\\d+) (?P<length>\\d+) \".*\" \"(?P<ua>.*)\"' # 捕获\n",
    "m = re.match(regex, line)"
   ]
  },
  {
   "cell_type": "code",
   "execution_count": 67,
   "metadata": {},
   "outputs": [
    {
     "data": {
      "text/plain": [
       "<_sre.SRE_Match object; span=(0, 160), match='66.249.69.131 - - [10/Aug/2016:03:20:09 +0800] \"G>"
      ]
     },
     "execution_count": 67,
     "metadata": {},
     "output_type": "execute_result"
    }
   ],
   "source": [
    "m"
   ]
  },
  {
   "cell_type": "code",
   "execution_count": 68,
   "metadata": {},
   "outputs": [
    {
     "data": {
      "text/plain": [
       "{'length': '162',\n",
       " 'remote': '66.249.69.131',\n",
       " 'request': 'GET /robots.txt HTTP/1.1',\n",
       " 'status': '404',\n",
       " 'time': '10/Aug/2016:03:20:09 +0800',\n",
       " 'ua': 'Mozilla/5.0 (compatible; Googlebot/2.1; +http://www.google.com/bot.html)'}"
      ]
     },
     "execution_count": 68,
     "metadata": {},
     "output_type": "execute_result"
    }
   ],
   "source": [
    "m.groupdict()"
   ]
  },
  {
   "cell_type": "code",
   "execution_count": 70,
   "metadata": {
    "collapsed": true
   },
   "outputs": [],
   "source": [
    "ex"
   ]
  },
  {
   "cell_type": "code",
   "execution_count": 72,
   "metadata": {
    "collapsed": true
   },
   "outputs": [],
   "source": [
    "\n",
    "# result= {}\n",
    "# for k, v in ret.items():\n",
    "#     result[k] = mapping.get(k, lambda x: x)(v)\n",
    "# return result"
   ]
  },
  {
   "cell_type": "code",
   "execution_count": 73,
   "metadata": {
    "collapsed": true
   },
   "outputs": [],
   "source": [
    "matcher = re.compile(r'(?P<remote>\\d{1,3}\\.\\d{1,3}\\.\\d{1,3}\\.\\d{1,3}) - - \\[(?P<time>.*)\\] \"(?P<request>.*)\" (?P<status>\\d+) (?P<length>\\d+) \".*\" \"(?P<ua>.*)\"') # 捕获"
   ]
  },
  {
   "cell_type": "code",
   "execution_count": 74,
   "metadata": {
    "collapsed": true
   },
   "outputs": [],
   "source": [
    "def extract(line):\n",
    "    m = matcher.match(line)\n",
    "    if m:\n",
    "        ret = m.groupdict()\n",
    "        return {k: mapping.get(k, lambda x: x)(v) for k, v in ret.items()}\n",
    "    raise Exception(line)"
   ]
  },
  {
   "cell_type": "code",
   "execution_count": 75,
   "metadata": {},
   "outputs": [
    {
     "data": {
      "text/plain": [
       "{'length': 162,\n",
       " 'remote': '66.249.69.131',\n",
       " 'request': Request(method='GET', url='/robots.txt', version='HTTP/1.1'),\n",
       " 'status': 404,\n",
       " 'time': datetime.datetime(2016, 8, 10, 3, 20, 9, tzinfo=datetime.timezone(datetime.timedelta(0, 28800))),\n",
       " 'ua': 'Mozilla/5.0 (compatible; Googlebot/2.1; +http://www.google.com/bot.html)'}"
      ]
     },
     "execution_count": 75,
     "metadata": {},
     "output_type": "execute_result"
    }
   ],
   "source": [
    "extract(line)"
   ]
  },
  {
   "cell_type": "code",
   "execution_count": 76,
   "metadata": {
    "collapsed": true
   },
   "outputs": [],
   "source": [
    "text = 'abcdef'"
   ]
  },
  {
   "cell_type": "code",
   "execution_count": 77,
   "metadata": {},
   "outputs": [
    {
     "data": {
      "text/plain": [
       "<_sre.SRE_Match object; span=(0, 1), match='a'>"
      ]
     },
     "execution_count": 77,
     "metadata": {},
     "output_type": "execute_result"
    }
   ],
   "source": [
    "re.match('a', text) # 从头开始匹配 re.search('^b')"
   ]
  },
  {
   "cell_type": "code",
   "execution_count": 78,
   "metadata": {
    "collapsed": true
   },
   "outputs": [],
   "source": [
    "re.match('b', text)"
   ]
  },
  {
   "cell_type": "code",
   "execution_count": 79,
   "metadata": {},
   "outputs": [
    {
     "data": {
      "text/plain": [
       "<_sre.SRE_Match object; span=(0, 1), match='a'>"
      ]
     },
     "execution_count": 79,
     "metadata": {},
     "output_type": "execute_result"
    }
   ],
   "source": [
    "re.search('a', text) # 从任意位置开始匹配"
   ]
  },
  {
   "cell_type": "code",
   "execution_count": 83,
   "metadata": {},
   "outputs": [
    {
     "data": {
      "text/plain": [
       "<_sre.SRE_Match object; span=(1, 2), match='b'>"
      ]
     },
     "execution_count": 83,
     "metadata": {},
     "output_type": "execute_result"
    }
   ],
   "source": [
    "re.search('b', text)"
   ]
  },
  {
   "cell_type": "code",
   "execution_count": 84,
   "metadata": {
    "collapsed": true
   },
   "outputs": [],
   "source": [
    "text = 'abcabc'"
   ]
  },
  {
   "cell_type": "code",
   "execution_count": 85,
   "metadata": {},
   "outputs": [
    {
     "data": {
      "text/plain": [
       "['a', 'a']"
      ]
     },
     "execution_count": 85,
     "metadata": {},
     "output_type": "execute_result"
    }
   ],
   "source": [
    "re.findall('a', text)"
   ]
  },
  {
   "cell_type": "code",
   "execution_count": 87,
   "metadata": {},
   "outputs": [
    {
     "data": {
      "text/plain": [
       "['abcabc']"
      ]
     },
     "execution_count": 87,
     "metadata": {},
     "output_type": "execute_result"
    }
   ],
   "source": [
    "re.findall('a.*c', text)"
   ]
  },
  {
   "cell_type": "code",
   "execution_count": 88,
   "metadata": {
    "collapsed": true
   },
   "outputs": [],
   "source": [
    "text = 'abc abc'"
   ]
  },
  {
   "cell_type": "code",
   "execution_count": 89,
   "metadata": {},
   "outputs": [
    {
     "data": {
      "text/plain": [
       "['abc abc']"
      ]
     },
     "execution_count": 89,
     "metadata": {},
     "output_type": "execute_result"
    }
   ],
   "source": [
    "re.findall('a.*c', text)"
   ]
  },
  {
   "cell_type": "code",
   "execution_count": 90,
   "metadata": {},
   "outputs": [
    {
     "data": {
      "text/plain": [
       "['abc', 'abc']"
      ]
     },
     "execution_count": 90,
     "metadata": {},
     "output_type": "execute_result"
    }
   ],
   "source": [
    "re.findall('a.\\S', text)"
   ]
  },
  {
   "cell_type": "code",
   "execution_count": 91,
   "metadata": {},
   "outputs": [
    {
     "data": {
      "text/plain": [
       "<callable_iterator at 0x10b155fd0>"
      ]
     },
     "execution_count": 91,
     "metadata": {},
     "output_type": "execute_result"
    }
   ],
   "source": [
    "re.finditer('a.\\S', text)"
   ]
  },
  {
   "cell_type": "code",
   "execution_count": 92,
   "metadata": {},
   "outputs": [
    {
     "name": "stdout",
     "output_type": "stream",
     "text": [
      "Help on function match in module re:\n",
      "\n",
      "match(pattern, string, flags=0)\n",
      "    Try to apply the pattern at the start of the string, returning\n",
      "    a match object, or None if no match was found.\n",
      "\n"
     ]
    }
   ],
   "source": [
    "help(re.match)"
   ]
  },
  {
   "cell_type": "code",
   "execution_count": 93,
   "metadata": {
    "collapsed": true
   },
   "outputs": [],
   "source": [
    "text = 'Abc'"
   ]
  },
  {
   "cell_type": "code",
   "execution_count": 95,
   "metadata": {},
   "outputs": [
    {
     "data": {
      "text/plain": [
       "<_sre.SRE_Match object; span=(0, 1), match='A'>"
      ]
     },
     "execution_count": 95,
     "metadata": {},
     "output_type": "execute_result"
    }
   ],
   "source": [
    "re.match('a', text, re.IGNORECASE)"
   ]
  },
  {
   "cell_type": "code",
   "execution_count": 96,
   "metadata": {
    "collapsed": true
   },
   "outputs": [],
   "source": [
    "def load(path):\n",
    "    with open('./access.log') as f:\n",
    "        try:\n",
    "            yield extract(f.readline())\n",
    "        except:\n",
    "            pass"
   ]
  },
  {
   "cell_type": "code",
   "execution_count": null,
   "metadata": {
    "collapsed": true
   },
   "outputs": [],
   "source": []
  },
  {
   "cell_type": "markdown",
   "metadata": {},
   "source": [
    "### 滑动窗口"
   ]
  },
  {
   "cell_type": "markdown",
   "metadata": {},
   "source": [
    "- size，width 决定了 每一次 聚合多少数据\n",
    "- interval 多久 滑动一次"
   ]
  },
  {
   "cell_type": "code",
   "execution_count": 97,
   "metadata": {
    "collapsed": true
   },
   "outputs": [],
   "source": [
    "def window(interval, width):\n",
    "    pass"
   ]
  },
  {
   "cell_type": "code",
   "execution_count": 98,
   "metadata": {
    "collapsed": true
   },
   "outputs": [],
   "source": [
    "# src: 接收源，是一个queue\n",
    "# handler： 是一个函数，用于处理数据\n",
    "# notify 是一个函数 用来当窗口移动的时候，通知handler\n",
    "def window(src, handler, notify, interval, width):\n",
    "    pass"
   ]
  },
  {
   "cell_type": "code",
   "execution_count": 99,
   "metadata": {
    "collapsed": true
   },
   "outputs": [],
   "source": [
    "Handler = namedtuple('Handler', ['handler', 'notify'])\n",
    "import queue"
   ]
  },
  {
   "cell_type": "code",
   "execution_count": 101,
   "metadata": {
    "collapsed": true
   },
   "outputs": [],
   "source": [
    "def window(source: queue.Queue, handler, interval:int, width:int):\n",
    "    pass"
   ]
  },
  {
   "cell_type": "code",
   "execution_count": 102,
   "metadata": {
    "collapsed": true
   },
   "outputs": [],
   "source": [
    "import datetime"
   ]
  },
  {
   "cell_type": "code",
   "execution_count": null,
   "metadata": {
    "collapsed": true
   },
   "outputs": [],
   "source": []
  },
  {
   "cell_type": "code",
   "execution_count": 103,
   "metadata": {
    "collapsed": true
   },
   "outputs": [],
   "source": [
    "def window(source: queue.Queue, handler, interval:int, width:int):\n",
    "    store = []\n",
    "    \n",
    "    while True:\n",
    "        data = source.get_nowait()\n",
    "        \n",
    "        start = datetime.datetime.now()\n",
    "        \n",
    "        if data:\n",
    "            store.append(data)\n",
    "            current = data['time']\n",
    "        \n",
    "        # 窗口什么时候后移？\n",
    "        if (current - start).total_seconds() >= interval:\n",
    "            # TODO 3件事情\n",
    "            start = current\n",
    "            \n",
    "            handler(store)\n",
    "            \n",
    "            # 窗口如何后移？\n",
    "            dt = current - datetime.timedelta(seconds=width)\n",
    "            store = [x for x in store if x['time'] > dt]\n",
    "            \n",
    "        "
   ]
  },
  {
   "cell_type": "code",
   "execution_count": 104,
   "metadata": {
    "collapsed": true
   },
   "outputs": [],
   "source": [
    "q = queue.Queue()"
   ]
  },
  {
   "cell_type": "code",
   "execution_count": 105,
   "metadata": {
    "collapsed": true
   },
   "outputs": [],
   "source": [
    "def source(q):\n",
    "    while True:\n",
    "        q.put({'time': datetime.datetiem.now(), 'value': random.randint(0, 100)})\n",
    "        time.sleep(1)"
   ]
  },
  {
   "cell_type": "code",
   "execution_count": 120,
   "metadata": {
    "collapsed": true
   },
   "outputs": [],
   "source": [
    "import threading\n",
    "import random\n",
    "import time"
   ]
  },
  {
   "cell_type": "code",
   "execution_count": 107,
   "metadata": {
    "collapsed": true
   },
   "outputs": [],
   "source": [
    "t = threading.Thread(target=window, args=(q))"
   ]
  },
  {
   "cell_type": "code",
   "execution_count": 116,
   "metadata": {
    "collapsed": true
   },
   "outputs": [],
   "source": [
    "import datetime\n",
    "import random\n",
    "import time\n",
    "\n",
    "def window(source, handler, interval:int, width:int):\n",
    "    store = []\n",
    "    start = datetime.datetime.now()\n",
    "    \n",
    "    while True:\n",
    "        data = next(source)\n",
    "        current = datetime.datetime.now()\n",
    "        if data:\n",
    "            store.append(data)\n",
    "            current = data['time']\n",
    "        \n",
    "        # 窗口什么时候后移？\n",
    "        if (current - start).total_seconds() >= interval:\n",
    "            # TODO 3件事情\n",
    "            start = current\n",
    "            handler(store)\n",
    "            # 窗口如何后移？\n",
    "            dt = current - datetime.timedelta(seconds=width)\n",
    "            store = [x for x in store if x['time'] > dt]\n",
    "            \n",
    "def source():\n",
    "    while True:\n",
    "        yield {'time': datetime.datetime.now(), 'value': random.randint(0, 100)}\n",
    "        time.sleep(1)\n",
    "        \n",
    "def handler(items):\n",
    "    values = [x['value'] for x in items]\n",
    "    print(sum(values) / len(values))"
   ]
  },
  {
   "cell_type": "code",
   "execution_count": 121,
   "metadata": {
    "collapsed": true
   },
   "outputs": [],
   "source": [
    "s = source()"
   ]
  },
  {
   "cell_type": "code",
   "execution_count": 122,
   "metadata": {},
   "outputs": [
    {
     "data": {
      "text/plain": [
       "{'time': datetime.datetime(2017, 10, 14, 17, 12, 29, 668645), 'value': 70}"
      ]
     },
     "execution_count": 122,
     "metadata": {},
     "output_type": "execute_result"
    }
   ],
   "source": [
    "next(s)"
   ]
  },
  {
   "cell_type": "code",
   "execution_count": 123,
   "metadata": {},
   "outputs": [
    {
     "data": {
      "text/plain": [
       "{'time': datetime.datetime(2017, 10, 14, 17, 12, 39, 655314), 'value': 17}"
      ]
     },
     "execution_count": 123,
     "metadata": {},
     "output_type": "execute_result"
    }
   ],
   "source": [
    "next(s)"
   ]
  },
  {
   "cell_type": "code",
   "execution_count": 124,
   "metadata": {
    "collapsed": true
   },
   "outputs": [],
   "source": [
    "items = []\n",
    "for x in range(10):\n",
    "    items.append(next(s))\n",
    "    \n"
   ]
  },
  {
   "cell_type": "code",
   "execution_count": 125,
   "metadata": {},
   "outputs": [
    {
     "data": {
      "text/plain": [
       "[{'time': datetime.datetime(2017, 10, 14, 17, 13, 31, 221527), 'value': 41},\n",
       " {'time': datetime.datetime(2017, 10, 14, 17, 13, 32, 224848), 'value': 6},\n",
       " {'time': datetime.datetime(2017, 10, 14, 17, 13, 33, 229866), 'value': 10},\n",
       " {'time': datetime.datetime(2017, 10, 14, 17, 13, 34, 235049), 'value': 14},\n",
       " {'time': datetime.datetime(2017, 10, 14, 17, 13, 35, 238459), 'value': 29},\n",
       " {'time': datetime.datetime(2017, 10, 14, 17, 13, 36, 242419), 'value': 26},\n",
       " {'time': datetime.datetime(2017, 10, 14, 17, 13, 37, 246915), 'value': 72},\n",
       " {'time': datetime.datetime(2017, 10, 14, 17, 13, 38, 247316), 'value': 49},\n",
       " {'time': datetime.datetime(2017, 10, 14, 17, 13, 39, 248550), 'value': 31},\n",
       " {'time': datetime.datetime(2017, 10, 14, 17, 13, 40, 253028), 'value': 17}]"
      ]
     },
     "execution_count": 125,
     "metadata": {},
     "output_type": "execute_result"
    }
   ],
   "source": [
    "items"
   ]
  },
  {
   "cell_type": "code",
   "execution_count": 126,
   "metadata": {},
   "outputs": [
    {
     "name": "stdout",
     "output_type": "stream",
     "text": [
      "29.5\n"
     ]
    }
   ],
   "source": [
    "handler(items)"
   ]
  },
  {
   "cell_type": "code",
   "execution_count": 128,
   "metadata": {},
   "outputs": [
    {
     "name": "stdout",
     "output_type": "stream",
     "text": [
      "65.1\n",
      "65.13333333333334\n",
      "46.93333333333333\n"
     ]
    },
    {
     "ename": "KeyboardInterrupt",
     "evalue": "",
     "output_type": "error",
     "traceback": [
      "\u001b[0;31m---------------------------------------------------------------------------\u001b[0m",
      "\u001b[0;31mKeyboardInterrupt\u001b[0m                         Traceback (most recent call last)",
      "\u001b[0;32m<ipython-input-128-c24008173cad>\u001b[0m in \u001b[0;36m<module>\u001b[0;34m()\u001b[0m\n\u001b[0;32m----> 1\u001b[0;31m \u001b[0mwindow\u001b[0m\u001b[0;34m(\u001b[0m\u001b[0ms\u001b[0m\u001b[0;34m,\u001b[0m \u001b[0mhandler\u001b[0m\u001b[0;34m,\u001b[0m \u001b[0;36m10\u001b[0m\u001b[0;34m,\u001b[0m \u001b[0;36m5\u001b[0m\u001b[0;34m)\u001b[0m\u001b[0;34m\u001b[0m\u001b[0m\n\u001b[0m",
      "\u001b[0;32m<ipython-input-116-c1fc81f870bf>\u001b[0m in \u001b[0;36mwindow\u001b[0;34m(source, handler, interval, width)\u001b[0m\n\u001b[1;32m      4\u001b[0m \u001b[0;34m\u001b[0m\u001b[0m\n\u001b[1;32m      5\u001b[0m     \u001b[0;32mwhile\u001b[0m \u001b[0;32mTrue\u001b[0m\u001b[0;34m:\u001b[0m\u001b[0;34m\u001b[0m\u001b[0m\n\u001b[0;32m----> 6\u001b[0;31m         \u001b[0mdata\u001b[0m \u001b[0;34m=\u001b[0m \u001b[0mnext\u001b[0m\u001b[0;34m(\u001b[0m\u001b[0msource\u001b[0m\u001b[0;34m)\u001b[0m\u001b[0;34m\u001b[0m\u001b[0m\n\u001b[0m\u001b[1;32m      7\u001b[0m \u001b[0;34m\u001b[0m\u001b[0m\n\u001b[1;32m      8\u001b[0m         \u001b[0mcurrent\u001b[0m \u001b[0;34m=\u001b[0m \u001b[0mdatetime\u001b[0m\u001b[0;34m.\u001b[0m\u001b[0mdatetime\u001b[0m\u001b[0;34m.\u001b[0m\u001b[0mnow\u001b[0m\u001b[0;34m(\u001b[0m\u001b[0;34m)\u001b[0m\u001b[0;34m\u001b[0m\u001b[0m\n",
      "\u001b[0;32m<ipython-input-116-c1fc81f870bf>\u001b[0m in \u001b[0;36msource\u001b[0;34m()\u001b[0m\n\u001b[1;32m     28\u001b[0m     \u001b[0;32mwhile\u001b[0m \u001b[0;32mTrue\u001b[0m\u001b[0;34m:\u001b[0m\u001b[0;34m\u001b[0m\u001b[0m\n\u001b[1;32m     29\u001b[0m         \u001b[0;32myield\u001b[0m \u001b[0;34m{\u001b[0m\u001b[0;34m'time'\u001b[0m\u001b[0;34m:\u001b[0m \u001b[0mdatetime\u001b[0m\u001b[0;34m.\u001b[0m\u001b[0mdatetime\u001b[0m\u001b[0;34m.\u001b[0m\u001b[0mnow\u001b[0m\u001b[0;34m(\u001b[0m\u001b[0;34m)\u001b[0m\u001b[0;34m,\u001b[0m \u001b[0;34m'value'\u001b[0m\u001b[0;34m:\u001b[0m \u001b[0mrandom\u001b[0m\u001b[0;34m.\u001b[0m\u001b[0mrandint\u001b[0m\u001b[0;34m(\u001b[0m\u001b[0;36m0\u001b[0m\u001b[0;34m,\u001b[0m \u001b[0;36m100\u001b[0m\u001b[0;34m)\u001b[0m\u001b[0;34m}\u001b[0m\u001b[0;34m\u001b[0m\u001b[0m\n\u001b[0;32m---> 30\u001b[0;31m         \u001b[0mtime\u001b[0m\u001b[0;34m.\u001b[0m\u001b[0msleep\u001b[0m\u001b[0;34m(\u001b[0m\u001b[0;36m1\u001b[0m\u001b[0;34m)\u001b[0m\u001b[0;34m\u001b[0m\u001b[0m\n\u001b[0m\u001b[1;32m     31\u001b[0m \u001b[0;34m\u001b[0m\u001b[0m\n\u001b[1;32m     32\u001b[0m \u001b[0;32mdef\u001b[0m \u001b[0mhandler\u001b[0m\u001b[0;34m(\u001b[0m\u001b[0mitems\u001b[0m\u001b[0;34m)\u001b[0m\u001b[0;34m:\u001b[0m\u001b[0;34m\u001b[0m\u001b[0m\n",
      "\u001b[0;31mKeyboardInterrupt\u001b[0m: "
     ]
    }
   ],
   "source": [
    "window(s, handler, 10, 5)"
   ]
  },
  {
   "cell_type": "markdown",
   "metadata": {},
   "source": [
    "数据加载 -> 提取 -> 分发 -> window -> 分析器"
   ]
  },
  {
   "cell_type": "code",
   "execution_count": 129,
   "metadata": {
    "collapsed": true
   },
   "outputs": [],
   "source": [
    "def despatcher(source):\n",
    "    analyers = []\n",
    "    \n",
    "    def register(handler, interval, width):\n",
    "        analyers.append(window(source, handler, interval, width))"
   ]
  },
  {
   "cell_type": "code",
   "execution_count": 130,
   "metadata": {
    "collapsed": true
   },
   "outputs": [],
   "source": [
    "import datetime\n",
    "import random\n",
    "import time\n",
    "\n",
    "def window(source, handler, interval:int, width:int):\n",
    "    store = []\n",
    "    start = datetime.datetime.now()\n",
    "    \n",
    "    while True:\n",
    "        # data = next(source)\n",
    "        # data = source()\n",
    "        data = source.get()\n",
    "        current = datetime.datetime.now()\n",
    "        if data:\n",
    "            store.append(data)\n",
    "            current = data['time']\n",
    "        \n",
    "        # 窗口什么时候后移？\n",
    "        if (current - start).total_seconds() >= interval:\n",
    "            # TODO 3件事情\n",
    "            start = current\n",
    "            handler(store)\n",
    "            # 窗口如何后移？\n",
    "            dt = current - datetime.timedelta(seconds=width)\n",
    "            store = [x for x in store if x['time'] > dt]\n",
    "            \n",
    "def source():\n",
    "    while True:\n",
    "        yield {'time': datetime.datetime.now(), 'value': random.randint(0, 100)}\n",
    "        time.sleep(1)\n",
    "        \n",
    "def handler(items):\n",
    "    values = [x['value'] for x in items]\n",
    "    print(sum(values) / len(values))"
   ]
  },
  {
   "cell_type": "markdown",
   "metadata": {},
   "source": [
    "生产者，消费者模型"
   ]
  },
  {
   "cell_type": "markdown",
   "metadata": {},
   "source": [
    "worker -> consumer"
   ]
  },
  {
   "cell_type": "code",
   "execution_count": 131,
   "metadata": {
    "collapsed": true
   },
   "outputs": [],
   "source": [
    "def despatcher(source):\n",
    "    analyers = []\n",
    "    \n",
    "    queues = []\n",
    "    \n",
    "    def register(handler, interval, width):\n",
    "        \n",
    "        q = queue.Queue()\n",
    "        queues.append(q)\n",
    "        t = threading.Thread(target=window, args=(q, handler, interval, width))\n",
    "        \n",
    "        # analyers.append(window(source, handler, interval, width))\n",
    "        analyers.append(t)\n",
    "        \n",
    "    def start():\n",
    "        for t in analyers:\n",
    "            t.start()\n",
    "        for item in source:\n",
    "            print(item)\n",
    "            for q in queues:\n",
    "                q.put(item)\n",
    "                \n",
    "    return register, start"
   ]
  },
  {
   "cell_type": "code",
   "execution_count": 132,
   "metadata": {
    "collapsed": true
   },
   "outputs": [],
   "source": [
    "s = source()"
   ]
  },
  {
   "cell_type": "code",
   "execution_count": 133,
   "metadata": {
    "collapsed": true
   },
   "outputs": [],
   "source": [
    "s = source()\n",
    "register, start = despatcher(s)\n",
    "register(handler, 5, 10)"
   ]
  },
  {
   "cell_type": "code",
   "execution_count": 134,
   "metadata": {
    "collapsed": true
   },
   "outputs": [],
   "source": [
    "register(handler, 5, 10)"
   ]
  },
  {
   "cell_type": "code",
   "execution_count": 135,
   "metadata": {},
   "outputs": [
    {
     "name": "stdout",
     "output_type": "stream",
     "text": [
      "{'time': datetime.datetime(2017, 10, 14, 17, 33, 40, 812415), 'value': 20}\n",
      "{'time': datetime.datetime(2017, 10, 14, 17, 33, 41, 816037), 'value': 61}\n",
      "{'time': datetime.datetime(2017, 10, 14, 17, 33, 42, 819729), 'value': 81}\n",
      "{'time': datetime.datetime(2017, 10, 14, 17, 33, 43, 822929), 'value': 67}\n",
      "{'time': datetime.datetime(2017, 10, 14, 17, 33, 44, 823114), 'value': 39}\n",
      "{'time': datetime.datetime(2017, 10, 14, 17, 33, 45, 825893), 'value': 48}52.666666666666664\n",
      "\n",
      "{'time': datetime.datetime(2017, 10, 14, 17, 33, 46, 829899), 'value': 22}\n",
      "{'time': datetime.datetime(2017, 10, 14, 17, 33, 47, 834181), 'value': 8}\n",
      "{'time': datetime.datetime(2017, 10, 14, 17, 33, 48, 838285), 'value': 33}\n",
      "{'time': datetime.datetime(2017, 10, 14, 17, 33, 49, 839687), 'value': 37}\n",
      "{'time': datetime.datetime(2017, 10, 14, 17, 33, 50, 839993), 'value': 63}43.54545454545455\n",
      "\n",
      "{'time': datetime.datetime(2017, 10, 14, 17, 33, 51, 845205), 'value': 1}\n",
      "{'time': datetime.datetime(2017, 10, 14, 17, 33, 52, 848281), 'value': 38}\n",
      "{'time': datetime.datetime(2017, 10, 14, 17, 33, 53, 852068), 'value': 76}\n",
      "{'time': datetime.datetime(2017, 10, 14, 17, 33, 54, 852345), 'value': 68}\n",
      "{'time': datetime.datetime(2017, 10, 14, 17, 33, 55, 855555), 'value': 75}\n",
      "47.8\n",
      "{'time': datetime.datetime(2017, 10, 14, 17, 33, 56, 860500), 'value': 33}\n"
     ]
    },
    {
     "ename": "KeyboardInterrupt",
     "evalue": "",
     "output_type": "error",
     "traceback": [
      "\u001b[0;31m---------------------------------------------------------------------------\u001b[0m",
      "\u001b[0;31mKeyboardInterrupt\u001b[0m                         Traceback (most recent call last)",
      "\u001b[0;32m<ipython-input-135-50d51c4e77b6>\u001b[0m in \u001b[0;36m<module>\u001b[0;34m()\u001b[0m\n\u001b[0;32m----> 1\u001b[0;31m \u001b[0mstart\u001b[0m\u001b[0;34m(\u001b[0m\u001b[0;34m)\u001b[0m\u001b[0;34m\u001b[0m\u001b[0m\n\u001b[0m",
      "\u001b[0;32m<ipython-input-131-329ff7fe7007>\u001b[0m in \u001b[0;36mstart\u001b[0;34m()\u001b[0m\n\u001b[1;32m     16\u001b[0m         \u001b[0;32mfor\u001b[0m \u001b[0mt\u001b[0m \u001b[0;32min\u001b[0m \u001b[0manalyers\u001b[0m\u001b[0;34m:\u001b[0m\u001b[0;34m\u001b[0m\u001b[0m\n\u001b[1;32m     17\u001b[0m             \u001b[0mt\u001b[0m\u001b[0;34m.\u001b[0m\u001b[0mstart\u001b[0m\u001b[0;34m(\u001b[0m\u001b[0;34m)\u001b[0m\u001b[0;34m\u001b[0m\u001b[0m\n\u001b[0;32m---> 18\u001b[0;31m         \u001b[0;32mfor\u001b[0m \u001b[0mitem\u001b[0m \u001b[0;32min\u001b[0m \u001b[0msource\u001b[0m\u001b[0;34m:\u001b[0m\u001b[0;34m\u001b[0m\u001b[0m\n\u001b[0m\u001b[1;32m     19\u001b[0m             \u001b[0mprint\u001b[0m\u001b[0;34m(\u001b[0m\u001b[0mitem\u001b[0m\u001b[0;34m)\u001b[0m\u001b[0;34m\u001b[0m\u001b[0m\n\u001b[1;32m     20\u001b[0m             \u001b[0;32mfor\u001b[0m \u001b[0mq\u001b[0m \u001b[0;32min\u001b[0m \u001b[0mqueues\u001b[0m\u001b[0;34m:\u001b[0m\u001b[0;34m\u001b[0m\u001b[0m\n",
      "\u001b[0;32m<ipython-input-130-06acdf1783fd>\u001b[0m in \u001b[0;36msource\u001b[0;34m()\u001b[0m\n\u001b[1;32m     28\u001b[0m     \u001b[0;32mwhile\u001b[0m \u001b[0;32mTrue\u001b[0m\u001b[0;34m:\u001b[0m\u001b[0;34m\u001b[0m\u001b[0m\n\u001b[1;32m     29\u001b[0m         \u001b[0;32myield\u001b[0m \u001b[0;34m{\u001b[0m\u001b[0;34m'time'\u001b[0m\u001b[0;34m:\u001b[0m \u001b[0mdatetime\u001b[0m\u001b[0;34m.\u001b[0m\u001b[0mdatetime\u001b[0m\u001b[0;34m.\u001b[0m\u001b[0mnow\u001b[0m\u001b[0;34m(\u001b[0m\u001b[0;34m)\u001b[0m\u001b[0;34m,\u001b[0m \u001b[0;34m'value'\u001b[0m\u001b[0;34m:\u001b[0m \u001b[0mrandom\u001b[0m\u001b[0;34m.\u001b[0m\u001b[0mrandint\u001b[0m\u001b[0;34m(\u001b[0m\u001b[0;36m0\u001b[0m\u001b[0;34m,\u001b[0m \u001b[0;36m100\u001b[0m\u001b[0;34m)\u001b[0m\u001b[0;34m}\u001b[0m\u001b[0;34m\u001b[0m\u001b[0m\n\u001b[0;32m---> 30\u001b[0;31m         \u001b[0mtime\u001b[0m\u001b[0;34m.\u001b[0m\u001b[0msleep\u001b[0m\u001b[0;34m(\u001b[0m\u001b[0;36m1\u001b[0m\u001b[0;34m)\u001b[0m\u001b[0;34m\u001b[0m\u001b[0m\n\u001b[0m\u001b[1;32m     31\u001b[0m \u001b[0;34m\u001b[0m\u001b[0m\n\u001b[1;32m     32\u001b[0m \u001b[0;32mdef\u001b[0m \u001b[0mhandler\u001b[0m\u001b[0;34m(\u001b[0m\u001b[0mitems\u001b[0m\u001b[0;34m)\u001b[0m\u001b[0;34m:\u001b[0m\u001b[0;34m\u001b[0m\u001b[0m\n",
      "\u001b[0;31mKeyboardInterrupt\u001b[0m: "
     ]
    }
   ],
   "source": [
    "start()"
   ]
  },
  {
   "cell_type": "code",
   "execution_count": 138,
   "metadata": {
    "collapsed": true
   },
   "outputs": [],
   "source": [
    "def despatcher(source):\n",
    "    analyers = []\n",
    "    \n",
    "    queues = []\n",
    "    \n",
    "    def _source(q):\n",
    "        while True:\n",
    "            yield q.get()\n",
    "    \n",
    "    def register(handler, interval, width):\n",
    "        \n",
    "        q = queue.Queue()\n",
    "        queues.append(q)\n",
    "        t = threading.Thread(target=window, args=(_source(q), handler, interval, width))\n",
    "        \n",
    "        # analyers.append(window(source, handler, interval, width))\n",
    "        analyers.append(t)\n",
    "        \n",
    "    def start():\n",
    "        for t in analyers:\n",
    "            t.start()\n",
    "        for item in source:\n",
    "            print(item)\n",
    "            for q in queues:\n",
    "                q.put(item)\n",
    "                \n",
    "    return register, start"
   ]
  },
  {
   "cell_type": "code",
   "execution_count": 137,
   "metadata": {
    "collapsed": true
   },
   "outputs": [],
   "source": [
    "import datetime\n",
    "import random\n",
    "import time\n",
    "\n",
    "def window(source, handler, interval:int, width:int):\n",
    "    store = []\n",
    "    start = datetime.datetime.now()\n",
    "    \n",
    "    while True:\n",
    "        data = next(source)\n",
    "        # data = source()\n",
    "        # data = source.get()\n",
    "        current = datetime.datetime.now()\n",
    "        if data:\n",
    "            store.append(data)\n",
    "            current = data['time']\n",
    "        \n",
    "        # 窗口什么时候后移？\n",
    "        if (current - start).total_seconds() >= interval:\n",
    "            # TODO 3件事情\n",
    "            start = current\n",
    "            handler(store)\n",
    "            # 窗口如何后移？\n",
    "            dt = current - datetime.timedelta(seconds=width)\n",
    "            store = [x for x in store if x['time'] > dt]\n",
    "            \n",
    "def source():\n",
    "    while True:\n",
    "        yield {'time': datetime.datetime.now(), 'value': random.randint(0, 100)}\n",
    "        time.sleep(1)\n",
    "        \n",
    "def handler(items):\n",
    "    values = [x['value'] for x in items]\n",
    "    print(sum(values) / len(values))"
   ]
  },
  {
   "cell_type": "code",
   "execution_count": 139,
   "metadata": {
    "collapsed": true
   },
   "outputs": [],
   "source": [
    "s = source()\n",
    "register, start = despatcher(s)\n",
    "register(handler, 5, 10)"
   ]
  },
  {
   "cell_type": "code",
   "execution_count": 140,
   "metadata": {},
   "outputs": [
    {
     "name": "stdout",
     "output_type": "stream",
     "text": [
      "{'time': datetime.datetime(2017, 10, 14, 17, 36, 37, 745709), 'value': 17}\n",
      "{'time': datetime.datetime(2017, 10, 14, 17, 36, 38, 746512), 'value': 56}\n",
      "{'time': datetime.datetime(2017, 10, 14, 17, 36, 39, 747298), 'value': 10}\n",
      "{'time': datetime.datetime(2017, 10, 14, 17, 36, 40, 751994), 'value': 41}\n",
      "{'time': datetime.datetime(2017, 10, 14, 17, 36, 41, 752385), 'value': 99}\n",
      "{'time': datetime.datetime(2017, 10, 14, 17, 36, 42, 752803), 'value': 78}50.166666666666664\n",
      "\n",
      "{'time': datetime.datetime(2017, 10, 14, 17, 36, 43, 753847), 'value': 18}\n",
      "{'time': datetime.datetime(2017, 10, 14, 17, 36, 44, 758957), 'value': 80}\n",
      "{'time': datetime.datetime(2017, 10, 14, 17, 36, 45, 763340), 'value': 75}\n",
      "{'time': datetime.datetime(2017, 10, 14, 17, 36, 46, 767371), 'value': 5}\n",
      "{'time': datetime.datetime(2017, 10, 14, 17, 36, 47, 770975), 'value': 10}44.45454545454545\n",
      "\n",
      "{'time': datetime.datetime(2017, 10, 14, 17, 36, 48, 775778), 'value': 97}\n",
      "{'time': datetime.datetime(2017, 10, 14, 17, 36, 49, 780678), 'value': 85}\n",
      "{'time': datetime.datetime(2017, 10, 14, 17, 36, 50, 784975), 'value': 45}\n"
     ]
    },
    {
     "ename": "KeyboardInterrupt",
     "evalue": "",
     "output_type": "error",
     "traceback": [
      "\u001b[0;31m---------------------------------------------------------------------------\u001b[0m",
      "\u001b[0;31mKeyboardInterrupt\u001b[0m                         Traceback (most recent call last)",
      "\u001b[0;32m<ipython-input-140-50d51c4e77b6>\u001b[0m in \u001b[0;36m<module>\u001b[0;34m()\u001b[0m\n\u001b[0;32m----> 1\u001b[0;31m \u001b[0mstart\u001b[0m\u001b[0;34m(\u001b[0m\u001b[0;34m)\u001b[0m\u001b[0;34m\u001b[0m\u001b[0m\n\u001b[0m",
      "\u001b[0;32m<ipython-input-138-b5247c2eab77>\u001b[0m in \u001b[0;36mstart\u001b[0;34m()\u001b[0m\n\u001b[1;32m     20\u001b[0m         \u001b[0;32mfor\u001b[0m \u001b[0mt\u001b[0m \u001b[0;32min\u001b[0m \u001b[0manalyers\u001b[0m\u001b[0;34m:\u001b[0m\u001b[0;34m\u001b[0m\u001b[0m\n\u001b[1;32m     21\u001b[0m             \u001b[0mt\u001b[0m\u001b[0;34m.\u001b[0m\u001b[0mstart\u001b[0m\u001b[0;34m(\u001b[0m\u001b[0;34m)\u001b[0m\u001b[0;34m\u001b[0m\u001b[0m\n\u001b[0;32m---> 22\u001b[0;31m         \u001b[0;32mfor\u001b[0m \u001b[0mitem\u001b[0m \u001b[0;32min\u001b[0m \u001b[0msource\u001b[0m\u001b[0;34m:\u001b[0m\u001b[0;34m\u001b[0m\u001b[0m\n\u001b[0m\u001b[1;32m     23\u001b[0m             \u001b[0mprint\u001b[0m\u001b[0;34m(\u001b[0m\u001b[0mitem\u001b[0m\u001b[0;34m)\u001b[0m\u001b[0;34m\u001b[0m\u001b[0m\n\u001b[1;32m     24\u001b[0m             \u001b[0;32mfor\u001b[0m \u001b[0mq\u001b[0m \u001b[0;32min\u001b[0m \u001b[0mqueues\u001b[0m\u001b[0;34m:\u001b[0m\u001b[0;34m\u001b[0m\u001b[0m\n",
      "\u001b[0;32m<ipython-input-137-e03dc66a70b4>\u001b[0m in \u001b[0;36msource\u001b[0;34m()\u001b[0m\n\u001b[1;32m     28\u001b[0m     \u001b[0;32mwhile\u001b[0m \u001b[0;32mTrue\u001b[0m\u001b[0;34m:\u001b[0m\u001b[0;34m\u001b[0m\u001b[0m\n\u001b[1;32m     29\u001b[0m         \u001b[0;32myield\u001b[0m \u001b[0;34m{\u001b[0m\u001b[0;34m'time'\u001b[0m\u001b[0;34m:\u001b[0m \u001b[0mdatetime\u001b[0m\u001b[0;34m.\u001b[0m\u001b[0mdatetime\u001b[0m\u001b[0;34m.\u001b[0m\u001b[0mnow\u001b[0m\u001b[0;34m(\u001b[0m\u001b[0;34m)\u001b[0m\u001b[0;34m,\u001b[0m \u001b[0;34m'value'\u001b[0m\u001b[0;34m:\u001b[0m \u001b[0mrandom\u001b[0m\u001b[0;34m.\u001b[0m\u001b[0mrandint\u001b[0m\u001b[0;34m(\u001b[0m\u001b[0;36m0\u001b[0m\u001b[0;34m,\u001b[0m \u001b[0;36m100\u001b[0m\u001b[0;34m)\u001b[0m\u001b[0;34m}\u001b[0m\u001b[0;34m\u001b[0m\u001b[0m\n\u001b[0;32m---> 30\u001b[0;31m         \u001b[0mtime\u001b[0m\u001b[0;34m.\u001b[0m\u001b[0msleep\u001b[0m\u001b[0;34m(\u001b[0m\u001b[0;36m1\u001b[0m\u001b[0;34m)\u001b[0m\u001b[0;34m\u001b[0m\u001b[0m\n\u001b[0m\u001b[1;32m     31\u001b[0m \u001b[0;34m\u001b[0m\u001b[0m\n\u001b[1;32m     32\u001b[0m \u001b[0;32mdef\u001b[0m \u001b[0mhandler\u001b[0m\u001b[0;34m(\u001b[0m\u001b[0mitems\u001b[0m\u001b[0;34m)\u001b[0m\u001b[0;34m:\u001b[0m\u001b[0;34m\u001b[0m\u001b[0m\n",
      "\u001b[0;31mKeyboardInterrupt\u001b[0m: "
     ]
    }
   ],
   "source": [
    "start()"
   ]
  },
  {
   "cell_type": "code",
   "execution_count": null,
   "metadata": {
    "collapsed": true
   },
   "outputs": [],
   "source": []
  }
 ],
 "metadata": {
  "kernelspec": {
   "display_name": "Python 3",
   "language": "python",
   "name": "python3"
  },
  "language_info": {
   "codemirror_mode": {
    "name": "ipython",
    "version": 3
   },
   "file_extension": ".py",
   "mimetype": "text/x-python",
   "name": "python",
   "nbconvert_exporter": "python",
   "pygments_lexer": "ipython3",
   "version": "3.6.1"
  }
 },
 "nbformat": 4,
 "nbformat_minor": 2
}
