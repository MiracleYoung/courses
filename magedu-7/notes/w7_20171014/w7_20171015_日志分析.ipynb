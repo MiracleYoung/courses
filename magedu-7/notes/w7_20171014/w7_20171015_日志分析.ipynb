{
 "cells": [
  {
   "cell_type": "markdown",
   "metadata": {},
   "source": [
    "日志的提取：\n",
    "\n",
    "数据加载 -> 提取 -> 分发 -> 分析"
   ]
  },
  {
   "cell_type": "markdown",
   "metadata": {},
   "source": [
    "流失加载数据"
   ]
  },
  {
   "cell_type": "markdown",
   "metadata": {},
   "source": [
    "long pulling"
   ]
  },
  {
   "cell_type": "code",
   "execution_count": 1,
   "metadata": {
    "collapsed": true
   },
   "outputs": [],
   "source": [
    "import re\n",
    "from collections import namedtuple\n",
    "import datetime"
   ]
  },
  {
   "cell_type": "code",
   "execution_count": 2,
   "metadata": {
    "collapsed": true
   },
   "outputs": [],
   "source": [
    "\n",
    "\n",
    "matcher = re.compile(\n",
    "    r'(?P<remote>\\d{1,3}\\.\\d{1,3}\\.\\d{1,3}\\.\\d{1,3}) - - \\[(?P<time>.*)\\] \"(?P<request>.*)\" (?P<status>\\d+) (?P<length>\\d+) \".*\" \"(?P<ua>.*)\"')  # 捕获\n",
    "Request = namedtuple('Request', ['method', 'url', 'version'])\n",
    "mapping = {\n",
    "    'length': int,\n",
    "    'request': lambda x: Request(*x.split()),\n",
    "    'status': int,\n",
    "    'time': lambda x: datetime.datetime.strptime(x, '%d/%b/%Y:%H:%M:%S %z'),\n",
    "}\n",
    "\n",
    "\n",
    "def extract(line):\n",
    "    m = matcher.match(line)\n",
    "    if m:\n",
    "        ret = m.groupdict()\n",
    "        return {k: mapping.get(k, lambda x: x)(v) for k, v in ret.items()}\n",
    "    raise Exception(line)\n",
    "\n",
    "\n",
    "def load(path):\n",
    "    with open('./access.log') as f:\n",
    "        try:\n",
    "            yield extract(f.readline())\n",
    "        except:\n",
    "            pass"
   ]
  },
  {
   "cell_type": "code",
   "execution_count": 4,
   "metadata": {},
   "outputs": [
    {
     "name": "stdout",
     "output_type": "stream",
     "text": [
      "2016-08-10 03:20:09+08:00\n"
     ]
    }
   ],
   "source": [
    "for item in load('a.log'):\n",
    "    print(item['time'])"
   ]
  },
  {
   "cell_type": "code",
   "execution_count": 7,
   "metadata": {},
   "outputs": [
    {
     "name": "stdout",
     "output_type": "stream",
     "text": [
      "66.249.69.131 - - [10/Aug/2016:03:20:09 +0800] \"GET /robots.txt HTTP/1.1\" 404 162 \"-\" \"Mozilla/5.0 (compatible; Googlebot/2.1; +http://www.google.com/bot.html)\"\n",
      "\n",
      "66.249.69.131 - - [10/Aug/2016:03:20:09 +0800] \"GET / HTTP/1.1\" 404 564 \"-\" \"Mozilla/5.0 (Linux; Android 6.0.1; Nexus 5X Build/MMB29P) AppleWebKit/537.36 (KHTML, like Gecko) Chrome/41.0.2272.96 Mobile Safari/537.36 (compatible; Googlebot/2.1; +http://www.google.com/bot.html)\"\n",
      "\n"
     ]
    }
   ],
   "source": [
    "with open('./access.log') as f:\n",
    "    for line in f:\n",
    "        print(line)\n",
    "        print(f.readline())\n",
    "        break"
   ]
  },
  {
   "cell_type": "code",
   "execution_count": 8,
   "metadata": {
    "collapsed": true
   },
   "outputs": [],
   "source": [
    "def load(path):\n",
    "    with open('./access.log') as f:\n",
    "        while True:\n",
    "            for line in f:\n",
    "                try:\n",
    "                    yield extract(f.readline())\n",
    "                except:\n",
    "                    pass\n",
    "            time.sleep(1)"
   ]
  },
  {
   "cell_type": "markdown",
   "metadata": {},
   "source": [
    "- 面向对象、类、类的继承、魔术方法\n",
    "- 类的魔术方法、反射、描述器\n",
    "- 异常、模块、复习\n",
    "- 并发\n",
    "- 网络编程\n",
    "\n",
    "- mysql 从入门到放弃，sql，ORM\n",
    "- html、css、bootstrap\n",
    "- js，jquery\n",
    "- django、api、ajax"
   ]
  },
  {
   "cell_type": "code",
   "execution_count": null,
   "metadata": {
    "collapsed": true
   },
   "outputs": [],
   "source": []
  },
  {
   "cell_type": "code",
   "execution_count": null,
   "metadata": {
    "collapsed": true
   },
   "outputs": [],
   "source": []
  },
  {
   "cell_type": "code",
   "execution_count": null,
   "metadata": {
    "collapsed": true
   },
   "outputs": [],
   "source": []
  }
 ],
 "metadata": {
  "kernelspec": {
   "display_name": "Python 3",
   "language": "python",
   "name": "python3"
  },
  "language_info": {
   "codemirror_mode": {
    "name": "ipython",
    "version": 3
   },
   "file_extension": ".py",
   "mimetype": "text/x-python",
   "name": "python",
   "nbconvert_exporter": "python",
   "pygments_lexer": "ipython3",
   "version": "3.6.1"
  }
 },
 "nbformat": 4,
 "nbformat_minor": 2
}
