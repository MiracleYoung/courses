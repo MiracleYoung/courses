{
 "cells": [
  {
   "cell_type": "markdown",
   "metadata": {},
   "source": [
    "- 课后练习\n",
    "- 文件IO\n",
    "- 文件对象"
   ]
  },
  {
   "cell_type": "markdown",
   "metadata": {},
   "source": [
    "### base64解码"
   ]
  },
  {
   "cell_type": "code",
   "execution_count": 1,
   "metadata": {
    "collapsed": true
   },
   "outputs": [],
   "source": [
    "import string"
   ]
  },
  {
   "cell_type": "code",
   "execution_count": null,
   "metadata": {
    "collapsed": true
   },
   "outputs": [],
   "source": []
  },
  {
   "cell_type": "code",
   "execution_count": 18,
   "metadata": {
    "collapsed": true
   },
   "outputs": [],
   "source": [
    "def b64decode(data:str) -> bytes:\n",
    "    table = '{}{}{}{}'.format(string.ascii_uppercase, string.ascii_lowercase,string.digits, '+/')\n",
    "    print(table)\n",
    "    decoded = bytearray()\n",
    "    s = 0\n",
    "    for e in range(4, len(data) + 1, 4):\n",
    "        # tmp 为临时变量，记录位移\n",
    "        print(e)\n",
    "        tmp = 0\n",
    "        for i, c in enumerate(data[s:e]):\n",
    "            print('{} => {}'.format(i, c))\n",
    "            if c != '=':\n",
    "                print(tmp)\n",
    "                print(c)\n",
    "                tmp += table.index(c) << 24 - (i + 1) * 6\n",
    "            else:\n",
    "                tmp += 0 << 24 - (i + 1) * 6\n",
    "        decoded.extend(tmp.to_bytes(3, 'big'))\n",
    "        s += 4\n",
    "        \n",
    "    return bytes(decoded.rstrip(b'\\x00'))"
   ]
  },
  {
   "cell_type": "code",
   "execution_count": 21,
   "metadata": {},
   "outputs": [
    {
     "name": "stdout",
     "output_type": "stream",
     "text": [
      "ABCDEFGHIJKLMNOPQRSTUVWXYZabcdefghijklmnopqrstuvwxyz0123456789+/\n",
      "4\n",
      "0 => Y\n",
      "0\n",
      "Y\n",
      "1 => W\n",
      "6291456\n",
      "W\n",
      "2 => J\n",
      "6381568\n",
      "J\n",
      "3 => j\n",
      "6382144\n",
      "j\n",
      "8\n",
      "0 => Z\n",
      "0\n",
      "Z\n",
      "1 => A\n",
      "6553600\n",
      "A\n",
      "2 => =\n",
      "3 => =\n"
     ]
    },
    {
     "data": {
      "text/plain": [
       "b'abcd'"
      ]
     },
     "execution_count": 21,
     "metadata": {},
     "output_type": "execute_result"
    }
   ],
   "source": [
    "b64decode('YWJjZA==')"
   ]
  },
  {
   "cell_type": "code",
   "execution_count": 20,
   "metadata": {},
   "outputs": [
    {
     "ename": "NameError",
     "evalue": "name 'data' is not defined",
     "output_type": "error",
     "traceback": [
      "\u001b[0;31m---------------------------------------------------------------------------\u001b[0m",
      "\u001b[0;31mNameError\u001b[0m                                 Traceback (most recent call last)",
      "\u001b[0;32m<ipython-input-20-6137cde4893c>\u001b[0m in \u001b[0;36m<module>\u001b[0;34m()\u001b[0m\n\u001b[0;32m----> 1\u001b[0;31m \u001b[0mdata\u001b[0m\u001b[0;34m\u001b[0m\u001b[0m\n\u001b[0m",
      "\u001b[0;31mNameError\u001b[0m: name 'data' is not defined"
     ]
    }
   ],
   "source": [
    "data"
   ]
  },
  {
   "cell_type": "markdown",
   "metadata": {},
   "source": [
    "### 带过期的LRU缓存装饰器"
   ]
  },
  {
   "cell_type": "markdown",
   "metadata": {},
   "source": [
    "- 缓存的效率（缓存对象多到一亿条的时候）"
   ]
  },
  {
   "cell_type": "markdown",
   "metadata": {},
   "source": [
    "- LRU, least recently used,\n",
    "- LFU, least frequently used \n",
    "- FIFO, 先进先出\n"
   ]
  },
  {
   "cell_type": "markdown",
   "metadata": {},
   "source": [
    "可以把最后一次使用的时间戳  扔到value中"
   ]
  },
  {
   "cell_type": "code",
   "execution_count": 22,
   "metadata": {
    "collapsed": true
   },
   "outputs": [],
   "source": [
    "import datetime\n",
    "import inspect\n",
    "import functools"
   ]
  },
  {
   "cell_type": "code",
   "execution_count": 48,
   "metadata": {
    "collapsed": true
   },
   "outputs": [],
   "source": [
    "def cache(maxsize=128, expire=0):\n",
    "    def make_key(fn, args, kwargs):\n",
    "        key = []\n",
    "\n",
    "        names = set()\n",
    "\n",
    "        params = inspect.signature(fn).parameters\n",
    "        for i, arg in enumerate(args):\n",
    "            name = list(params.keys())[i]\n",
    "            key.append((name, arg))\n",
    "\n",
    "            names.add(name)\n",
    "\n",
    "        key.extend(kwargs.items())\n",
    "        names.update(kwargs.keys())\n",
    "\n",
    "        for k, v in params.items():\n",
    "            if k not in names:\n",
    "                key.append((k, v.default))\n",
    "\n",
    "        key.sort(key=lambda x: x[0])\n",
    "\n",
    "        key = '&'.join(['{}={}'.format(name, arg) for name, arg in key])\n",
    "        return key\n",
    "    \n",
    "    \n",
    "    def _cache(fn):\n",
    "        data = {}\n",
    "        @functools.wraps(fn)\n",
    "        def wrap(*args, **kwargs):\n",
    "            key = make_key(fn, args, kwargs)\n",
    "            now = datetime.datetime.now().timestamp()\n",
    "            \n",
    "            # 命中缓存\n",
    "            if key in data.keys():\n",
    "                value, timestamp, _ = data[key]\n",
    "                if expire == 0 or now - timestamp < expire:\n",
    "                    data[key] = (value, timestamp, now)\n",
    "                    print('hint, {}'.format(data))\n",
    "                    return value\n",
    "                else:\n",
    "                    data.pop(key)\n",
    "            \n",
    "            # 未命中的情况\n",
    "            value = fn(*args, **kwargs)\n",
    "            # 需要替换\n",
    "            # 把过期的值 给 换出\n",
    "            if len(data) >= maxsize:\n",
    "                if expire != 0:\n",
    "                    expires = set()\n",
    "                    for k, (_, timestamp, _) in data.items():\n",
    "                        if now - timestamp >= expire:\n",
    "                            expires.add(k)\n",
    "                    for k in expires:\n",
    "                        data.pop(k)\n",
    "                \n",
    "            if len(data) >= maxsize:\n",
    "                k = sorted(data.items(), key=lambda x: x[1][2])[0]\n",
    "                data.pop(k)\n",
    "                        \n",
    "            data[key] = (value, now, now)\n",
    "            print('missed, {}'.format(data))\n",
    "            return value\n",
    "        return wrap\n",
    "    return _cache"
   ]
  },
  {
   "cell_type": "code",
   "execution_count": 49,
   "metadata": {
    "collapsed": true
   },
   "outputs": [],
   "source": [
    "@cache(maxsize=2, expire=5)\n",
    "def add(x, y):\n",
    "    return x + y"
   ]
  },
  {
   "cell_type": "code",
   "execution_count": 60,
   "metadata": {},
   "outputs": [
    {
     "name": "stdout",
     "output_type": "stream",
     "text": [
      "missed, {'x=15&y=2': (17, 1507342143.714536, 1507342146.067659), 'x=11&y=2': (13, 1507342454.907118, 1507342454.907118)}\n"
     ]
    },
    {
     "data": {
      "text/plain": [
       "13"
      ]
     },
     "execution_count": 60,
     "metadata": {},
     "output_type": "execute_result"
    }
   ],
   "source": [
    "add(11, 2)"
   ]
  },
  {
   "cell_type": "code",
   "execution_count": 39,
   "metadata": {},
   "outputs": [
    {
     "data": {
      "text/plain": [
       "{'x=1&y=2': (3, 123, 234)}"
      ]
     },
     "execution_count": 39,
     "metadata": {},
     "output_type": "execute_result"
    }
   ],
   "source": [
    "{'x=1&y=2': (3, 123, 234)}"
   ]
  },
  {
   "cell_type": "code",
   "execution_count": 42,
   "metadata": {},
   "outputs": [
    {
     "name": "stdout",
     "output_type": "stream",
     "text": [
      "('x=1&y=2', (3, 123, 234))\n",
      "('b', 2)\n"
     ]
    }
   ],
   "source": [
    "for k in {'x=1&y=2': (3, 123, 234), 'b': 2}.items():\n",
    "    print(k)"
   ]
  },
  {
   "cell_type": "code",
   "execution_count": 61,
   "metadata": {
    "collapsed": true
   },
   "outputs": [],
   "source": [
    "def cache(maxsize=128, expire=0):\n",
    "    def make_key(fn, args, kwargs):\n",
    "        key = []\n",
    "\n",
    "        names = set()\n",
    "\n",
    "        params = inspect.signature(fn).parameters\n",
    "        for i, arg in enumerate(args):\n",
    "            name = list(params.keys())[i]\n",
    "            key.append((name, arg))\n",
    "\n",
    "            names.add(name)\n",
    "\n",
    "        key.extend(kwargs.items())\n",
    "        names.update(kwargs.keys())\n",
    "\n",
    "        for k, v in params.items():\n",
    "            if k not in names:\n",
    "                key.append((k, v.default))\n",
    "\n",
    "        key.sort(key=lambda x: x[0])\n",
    "\n",
    "        key = '&'.join(['{}={}'.format(name, arg) for name, arg in key])\n",
    "        return key\n",
    "    \n",
    "    \n",
    "    def _cache(fn):\n",
    "        data = {}\n",
    "        \n",
    "        queue = []\n",
    "        @functools.wraps(fn)\n",
    "        def wrap(*args, **kwargs):\n",
    "            key = make_key(fn, args, kwargs)\n",
    "            now = datetime.datetime.now().timestamp()\n",
    "            \n",
    "            # 命中缓存\n",
    "            if key in data.keys():\n",
    "                value, timestamp, _ = data[key]\n",
    "                \n",
    "                queue.remove(key)\n",
    "                \n",
    "                if expire == 0 or now - timestamp < expire:\n",
    "                    # data[key] = (value, timestamp, now)\n",
    "                    queue.insert(0, key)\n",
    "                    print('hint, {}'.format(data))\n",
    "                    return value\n",
    "                else:\n",
    "                    data.pop(key)\n",
    "            \n",
    "            # 未命中的情况\n",
    "            value = fn(*args, **kwargs)\n",
    "            # 需要替换\n",
    "            # 把过期的值 给 换出\n",
    "            if len(data) >= maxsize:\n",
    "                if expire != 0:\n",
    "                    expires = set()\n",
    "                    for k, (_, timestamp, _) in data.items():\n",
    "                        if now - timestamp >= expire:\n",
    "                            expires.add(k)\n",
    "                    for k in expires:\n",
    "                        queue.remove(k)\n",
    "                        \n",
    "                        data.pop(k)\n",
    "                \n",
    "            if len(data) >= maxsize:\n",
    "                \n",
    "                k = queue.pop()\n",
    "                # k = sorted(data.items(), key=lambda x: x[1][2])[0]\n",
    "                data.pop(k)\n",
    "                        \n",
    "            data[key] = (value, now, now)\n",
    "            \n",
    "            queue.insert(0, key)\n",
    "            print('missed, {}'.format(data))\n",
    "            return value\n",
    "        return wrap\n",
    "    return _cache"
   ]
  },
  {
   "cell_type": "code",
   "execution_count": 62,
   "metadata": {
    "collapsed": true
   },
   "outputs": [],
   "source": [
    "@cache(maxsize=2, expire=5)\n",
    "def add(x, y):\n",
    "    return x + y"
   ]
  },
  {
   "cell_type": "code",
   "execution_count": 66,
   "metadata": {},
   "outputs": [
    {
     "name": "stdout",
     "output_type": "stream",
     "text": [
      "missed, {'x=3&y=5': (8, 1507344291.040315, 1507344291.040315), 'x=1&y=3': (4, 1507344295.376191, 1507344295.376191)}\n"
     ]
    },
    {
     "data": {
      "text/plain": [
       "4"
      ]
     },
     "execution_count": 66,
     "metadata": {},
     "output_type": "execute_result"
    }
   ],
   "source": [
    "add(1, 3)"
   ]
  },
  {
   "cell_type": "code",
   "execution_count": 64,
   "metadata": {},
   "outputs": [
    {
     "name": "stdout",
     "output_type": "stream",
     "text": [
      "missed, {'x=1&y=3': (4, 1507344284.793847, 1507344284.793847), 'x=2&y=4': (6, 1507344287.559317, 1507344287.559317)}\n"
     ]
    },
    {
     "data": {
      "text/plain": [
       "6"
      ]
     },
     "execution_count": 64,
     "metadata": {},
     "output_type": "execute_result"
    }
   ],
   "source": [
    "add(2, 4)"
   ]
  },
  {
   "cell_type": "code",
   "execution_count": 78,
   "metadata": {},
   "outputs": [
    {
     "name": "stdout",
     "output_type": "stream",
     "text": [
      "missed, {'x=1&y=3': (4, 1507344295.376191, 1507344295.376191), 'x=3&y=5': (8, 1507344322.579435, 1507344322.579435)}\n"
     ]
    },
    {
     "data": {
      "text/plain": [
       "8"
      ]
     },
     "execution_count": 78,
     "metadata": {},
     "output_type": "execute_result"
    }
   ],
   "source": [
    "add(3, 5)"
   ]
  },
  {
   "cell_type": "code",
   "execution_count": 79,
   "metadata": {
    "collapsed": true
   },
   "outputs": [],
   "source": [
    "from collections import namedtuple"
   ]
  },
  {
   "cell_type": "code",
   "execution_count": 80,
   "metadata": {
    "collapsed": true
   },
   "outputs": [],
   "source": [
    "Node = namedtuple('Node', ['data', 'prev', 'next'])\n",
    "Item = namedtuple('Item', ['key', 'value', 'timestamp'])"
   ]
  },
  {
   "cell_type": "code",
   "execution_count": 81,
   "metadata": {
    "collapsed": true
   },
   "outputs": [],
   "source": [
    "def linked_list():\n",
    "    _head = None\n",
    "    _tail = None\n",
    "    \n",
    "    # put pop remove\n",
    "    \n",
    "    def put(item):\n",
    "        nonlocal _head\n",
    "        nonlocal _tail\n",
    "        if _head is None:\n",
    "            _head = [item, None, None]\n",
    "        else:\n",
    "            node = [item, None, _head]\n",
    "            _head[1] = node\n",
    "            _head = node\n",
    "        \n",
    "        if _tail is None:\n",
    "            _tail = _head\n",
    "        return _head\n",
    "    \n",
    "    def pop():\n",
    "        nonlocal _tail\n",
    "        if _tail is None:\n",
    "            _head = None\n",
    "            return None\n",
    "        \n",
    "        node = _tail\n",
    "        _tail = node[1]\n",
    "        return node\n",
    "    \n",
    "    def remove(node):\n",
    "        nonlocal _head\n",
    "        nonlocal _tail\n",
    "        if node is _head:\n",
    "            _head = node[2]\n",
    "        if node is _tail:\n",
    "            pop()\n",
    "            return\n",
    "        \n",
    "        node[1][2] = node[2]\n",
    "        node[2][1] = node[1]\n",
    "        \n",
    "    return put, pop, remove"
   ]
  },
  {
   "cell_type": "code",
   "execution_count": 82,
   "metadata": {
    "collapsed": true
   },
   "outputs": [],
   "source": [
    "put, pop, remove = linked_list()"
   ]
  },
  {
   "cell_type": "code",
   "execution_count": 83,
   "metadata": {},
   "outputs": [
    {
     "data": {
      "text/plain": [
       "[1, None, None]"
      ]
     },
     "execution_count": 83,
     "metadata": {},
     "output_type": "execute_result"
    }
   ],
   "source": [
    "put(1)"
   ]
  },
  {
   "cell_type": "code",
   "execution_count": 84,
   "metadata": {},
   "outputs": [
    {
     "data": {
      "text/plain": [
       "[2, None, [1, [...], None]]"
      ]
     },
     "execution_count": 84,
     "metadata": {},
     "output_type": "execute_result"
    }
   ],
   "source": [
    "put(2)"
   ]
  },
  {
   "cell_type": "code",
   "execution_count": 85,
   "metadata": {},
   "outputs": [
    {
     "data": {
      "text/plain": [
       "[3, None, [2, [...], [1, [...], None]]]"
      ]
     },
     "execution_count": 85,
     "metadata": {},
     "output_type": "execute_result"
    }
   ],
   "source": [
    "put(3)"
   ]
  },
  {
   "cell_type": "code",
   "execution_count": 86,
   "metadata": {
    "collapsed": true
   },
   "outputs": [],
   "source": [
    "node = put(4)"
   ]
  },
  {
   "cell_type": "code",
   "execution_count": 87,
   "metadata": {},
   "outputs": [
    {
     "data": {
      "text/plain": [
       "[5, None, [4, [...], [3, [...], [2, [...], [1, [...], None]]]]]"
      ]
     },
     "execution_count": 87,
     "metadata": {},
     "output_type": "execute_result"
    }
   ],
   "source": [
    "put(5)"
   ]
  },
  {
   "cell_type": "code",
   "execution_count": 88,
   "metadata": {
    "collapsed": true
   },
   "outputs": [],
   "source": [
    "remove(node)"
   ]
  },
  {
   "cell_type": "code",
   "execution_count": 89,
   "metadata": {},
   "outputs": [
    {
     "data": {
      "text/plain": [
       "[1, [2, [3, [5, None, [...]], [...]], [...]], None]"
      ]
     },
     "execution_count": 89,
     "metadata": {},
     "output_type": "execute_result"
    }
   ],
   "source": [
    "pop()"
   ]
  },
  {
   "cell_type": "code",
   "execution_count": 90,
   "metadata": {
    "collapsed": true
   },
   "outputs": [],
   "source": [
    "def cache(maxsize=128, expire=0):\n",
    "    def make_key(fn, args, kwargs):\n",
    "        key = []\n",
    "\n",
    "        names = set()\n",
    "\n",
    "        params = inspect.signature(fn).parameters\n",
    "        for i, arg in enumerate(args):\n",
    "            name = list(params.keys())[i]\n",
    "            key.append((name, arg))\n",
    "\n",
    "            names.add(name)\n",
    "\n",
    "        key.extend(kwargs.items())\n",
    "        names.update(kwargs.keys())\n",
    "\n",
    "        for k, v in params.items():\n",
    "            if k not in names:\n",
    "                key.append((k, v.default))\n",
    "\n",
    "        key.sort(key=lambda x: x[0])\n",
    "\n",
    "        key = '&'.join(['{}={}'.format(name, arg) for name, arg in key])\n",
    "        return key\n",
    "    \n",
    "    \n",
    "    def _cache(fn):\n",
    "        data = {}\n",
    "        \n",
    "        queue = []\n",
    "        @functools.wraps(fn)\n",
    "        def wrap(*args, **kwargs):\n",
    "            key = make_key(fn, args, kwargs)\n",
    "            now = datetime.datetime.now().timestamp()\n",
    "            \n",
    "            # 命中缓存\n",
    "            if key in data.keys():\n",
    "                # value, timestamp, _ = data[key]\n",
    "                node = data[key]\n",
    "                # queue.remove(key)\n",
    "                item = node[0]\n",
    "                \n",
    "                reove(node)\n",
    "                \n",
    "                \n",
    "                if expire == 0 or now - timestamp < expire:\n",
    "                    # data[key] = (value, timestamp, now)\n",
    "                    # queue.insert(0, key)\n",
    "                    data[key] = put(item)\n",
    "                    print('hint, {}'.format(data))\n",
    "                    return value\n",
    "                else:\n",
    "                    data.pop(key)\n",
    "            \n",
    "            # 未命中的情况\n",
    "            value = fn(*args, **kwargs)\n",
    "            # 需要替换\n",
    "            # 把过期的值 给 换出\n",
    "            if len(data) >= maxsize:\n",
    "                if expire != 0:\n",
    "                    expires = set()\n",
    "                    \n",
    "                    for k, node in data.items():\n",
    "                        if now - node[0].timestamp >= expire:\n",
    "                            pop(node)\n",
    "                            expires.add(node)\n",
    "                    for k in expires:\n",
    "                    \n",
    "#                     for k, (_, timestamp, _) in data.items():\n",
    "#                         if now - timestamp >= expire:\n",
    "#                             expires.add(k)\n",
    "#                     for k in expires:\n",
    "#                         queue.remove(k)\n",
    "                        \n",
    "                        data.pop(k)\n",
    "                \n",
    "            if len(data) >= maxsize:\n",
    "                \n",
    "#                 k = queue.pop()\n",
    "                # k = sorted(data.items(), key=lambda x: x[1][2])[0]\n",
    "                \n",
    "                node = pop()\n",
    "            \n",
    "                data.pop(node[0].key)\n",
    "                        \n",
    "#             data[key] = (value, now, now)\n",
    "            \n",
    "            node = put(Item(key, value, now))\n",
    "    \n",
    "#             queue.insert(0, key)\n",
    "            print('missed, {}'.format(data))\n",
    "            return value\n",
    "        return wrap\n",
    "    return _cache"
   ]
  },
  {
   "cell_type": "code",
   "execution_count": 91,
   "metadata": {
    "collapsed": true
   },
   "outputs": [],
   "source": [
    "def linked_list():\n",
    "    _head = None\n",
    "    _tail = None\n",
    "    \n",
    "    # put pop remove\n",
    "    \n",
    "    def put(item):\n",
    "        nonlocal _head\n",
    "        nonlocal _tail\n",
    "        if _head is None:\n",
    "            _head = {'data': item, 'prev': None. 'next': None}\n",
    "        else:\n",
    "            # node = [item, None, _head]\n",
    "            node = {'data': item, 'prev': None. 'next': _head}\n",
    "            \n",
    "            # _head[1] = node\n",
    "            _head['prev'] = node\n",
    "            _head = node\n",
    "        \n",
    "        if _tail is None:\n",
    "            _tail = _head\n",
    "        return _head\n",
    "    \n",
    "    def pop():\n",
    "        nonlocal _tail\n",
    "        if _tail is None:\n",
    "            _head = None\n",
    "            return None\n",
    "        \n",
    "        node = _tail\n",
    "        _tail = node[1]\n",
    "        return node\n",
    "    \n",
    "    def remove(node):\n",
    "        nonlocal _head\n",
    "        nonlocal _tail\n",
    "        if node is _head:\n",
    "            _head = node[2]\n",
    "        if node is _tail:\n",
    "            pop()\n",
    "            return\n",
    "        \n",
    "        node[1][2] = node[2]\n",
    "        node[2][1] = node[1]\n",
    "        \n",
    "    return put, pop, remove"
   ]
  },
  {
   "cell_type": "code",
   "execution_count": null,
   "metadata": {
    "collapsed": true
   },
   "outputs": [],
   "source": []
  },
  {
   "cell_type": "markdown",
   "metadata": {},
   "source": [
    "### 命令分发器"
   ]
  },
  {
   "cell_type": "code",
   "execution_count": 92,
   "metadata": {
    "collapsed": true
   },
   "outputs": [],
   "source": [
    "def commands():\n",
    "    commands = {}\n",
    "    \n",
    "    \n",
    "    def register(command):\n",
    "        def _register(fn):\n",
    "            commands[command] = fn\n",
    "            return fn\n",
    "        return _register\n",
    "        \n",
    "    def default_fn():\n",
    "        print('undefined command')\n",
    "        \n",
    "    def run():\n",
    "        while True:\n",
    "            cmd = input('>>')\n",
    "            if cmd.strip() == 'quit':\n",
    "                return\n",
    "\n",
    "            commands.get(cmd.strip(), default_fn)()\n",
    "            \n",
    "    return register, run"
   ]
  },
  {
   "cell_type": "code",
   "execution_count": 93,
   "metadata": {
    "collapsed": true
   },
   "outputs": [],
   "source": [
    "register, run = commands()"
   ]
  },
  {
   "cell_type": "code",
   "execution_count": 94,
   "metadata": {},
   "outputs": [
    {
     "name": "stdout",
     "output_type": "stream",
     "text": [
      ">>sadfsdf\n",
      "undefined command\n",
      ">>quit\n"
     ]
    }
   ],
   "source": [
    "run()"
   ]
  },
  {
   "cell_type": "code",
   "execution_count": 99,
   "metadata": {
    "collapsed": true
   },
   "outputs": [],
   "source": [
    "@register('add')\n",
    "def add():\n",
    "    print(1)"
   ]
  },
  {
   "cell_type": "code",
   "execution_count": 105,
   "metadata": {
    "collapsed": true
   },
   "outputs": [],
   "source": [
    "def dispatcher(default_handler=None):\n",
    "    commands = {}\n",
    "    \n",
    "    if default_handler is None:\n",
    "        default_handler = lambda *args, **kwargs: print('not found')\n",
    "    \n",
    "    def register(command):\n",
    "        def _register(fn):\n",
    "            commands[command] = fn\n",
    "            return fn\n",
    "        return _register\n",
    "        \n",
    "        \n",
    "    def run():\n",
    "        while True:\n",
    "            command, _, params = input('>>').partition(':')\n",
    "            if command.strip() == 'quit':\n",
    "                return\n",
    "            args = []\n",
    "            kwargs = {}\n",
    "            \n",
    "            for param in params.split(','):\n",
    "                if '=' in param:\n",
    "                    kwargs.update([param.split('=')])\n",
    "                else:\n",
    "                    args.append(param)\n",
    "            \n",
    "            ret = commands.get(command, default_handler)(*args, **kwargs)\n",
    "            \n",
    "            if ret is not None:\n",
    "                print(ret)\n",
    "            \n",
    "    return register, run"
   ]
  },
  {
   "cell_type": "code",
   "execution_count": 106,
   "metadata": {
    "collapsed": true
   },
   "outputs": [],
   "source": [
    "register, run = dispatcher()"
   ]
  },
  {
   "cell_type": "code",
   "execution_count": 107,
   "metadata": {
    "collapsed": true
   },
   "outputs": [],
   "source": [
    "@register('add')\n",
    "def add(x, y):\n",
    "    return x + y"
   ]
  },
  {
   "cell_type": "code",
   "execution_count": 143,
   "metadata": {
    "collapsed": true
   },
   "outputs": [],
   "source": [
    "import inspect\n",
    "from collections import namedtuple\n",
    "\n",
    "def dispatcher(default_handler=None):\n",
    "    Handler = namedtuple('Handler', ['fn', 'params'])\n",
    "    commands = {}\n",
    "    \n",
    "    if default_handler is None:\n",
    "        default_handler = lambda *args, **kwargs: print('not found')\n",
    "    \n",
    "    def register(command):\n",
    "        def _register(fn):\n",
    "            # commands[command] = fn\n",
    "            params = inspect.signature(fn).parameters\n",
    "            commands[command] = Handler(fn, params)\n",
    "            return fn\n",
    "        return _register\n",
    "        \n",
    "        \n",
    "    def run():\n",
    "        while True:\n",
    "            command, _, params = input('>>').partition(':')\n",
    "            if command.strip() == 'quit':\n",
    "                return\n",
    "            \n",
    "            \n",
    "            handler = commands.get(command)\n",
    "            \n",
    "            args = []\n",
    "            kwargs = {}\n",
    "            \n",
    "\n",
    "\n",
    "            for i, param in enumerate(params.split(',')):\n",
    "                print(param)\n",
    "                if '=' in param:\n",
    "                    name, _, vale = param.partition('=')\n",
    "                    anno = handler.params[name.strip()].annotation\n",
    "                    \n",
    "                    if anno != inspect.Parameter.empty:\n",
    "                        kwargs[name.strip()] = anno(value)\n",
    "                    else:\n",
    "                        kwargs[name.strip()] = value\n",
    "                else:\n",
    "                    print(list(handler.params.values())[i])\n",
    "                    anno = list(handler.params.values())[i].annotation\n",
    "                    print(anno, param)\n",
    "                    if anno != inspect.Parameter.empty:\n",
    "                         args.append(anno(param.strip()))\n",
    "                    else:\n",
    "                        args.append(param.strip())\n",
    "                \n",
    "            \n",
    "            # ret = commands.get(command, default_handler)(*args, **kwargs)\n",
    "            ret = handler.fn(*args, **kwargs)\n",
    "            if ret is not None:\n",
    "                   \n",
    "                \n",
    "                print(ret)\n",
    "            \n",
    "    return register, run"
   ]
  },
  {
   "cell_type": "code",
   "execution_count": 144,
   "metadata": {
    "collapsed": true
   },
   "outputs": [],
   "source": [
    "register, run = dispatcher()"
   ]
  },
  {
   "cell_type": "code",
   "execution_count": 145,
   "metadata": {
    "collapsed": true
   },
   "outputs": [],
   "source": [
    "@register('add')\n",
    "def add(x:int, y:int):\n",
    "    return x + y"
   ]
  },
  {
   "cell_type": "code",
   "execution_count": 146,
   "metadata": {},
   "outputs": [
    {
     "name": "stdout",
     "output_type": "stream",
     "text": [
      ">>add:1,2\n",
      "1\n",
      "x:int\n",
      "<class 'int'> 1\n",
      "2\n",
      "y:int\n",
      "<class 'int'> 2\n",
      "3\n",
      ">>quit\n"
     ]
    }
   ],
   "source": [
    "run()"
   ]
  },
  {
   "cell_type": "code",
   "execution_count": 147,
   "metadata": {},
   "outputs": [
    {
     "name": "stdout",
     "output_type": "stream",
     "text": [
      ">>add:\n",
      "\n",
      "x:int\n",
      "<class 'int'> \n"
     ]
    },
    {
     "ename": "ValueError",
     "evalue": "invalid literal for int() with base 10: ''",
     "output_type": "error",
     "traceback": [
      "\u001b[0;31m---------------------------------------------------------------------------\u001b[0m",
      "\u001b[0;31mValueError\u001b[0m                                Traceback (most recent call last)",
      "\u001b[0;32m<ipython-input-147-157c9bda2cd6>\u001b[0m in \u001b[0;36m<module>\u001b[0;34m()\u001b[0m\n\u001b[0;32m----> 1\u001b[0;31m \u001b[0mrun\u001b[0m\u001b[0;34m(\u001b[0m\u001b[0;34m)\u001b[0m\u001b[0;34m\u001b[0m\u001b[0m\n\u001b[0m",
      "\u001b[0;32m<ipython-input-143-d374d3e98391>\u001b[0m in \u001b[0;36mrun\u001b[0;34m()\u001b[0m\n\u001b[1;32m     47\u001b[0m                     \u001b[0mprint\u001b[0m\u001b[0;34m(\u001b[0m\u001b[0manno\u001b[0m\u001b[0;34m,\u001b[0m \u001b[0mparam\u001b[0m\u001b[0;34m)\u001b[0m\u001b[0;34m\u001b[0m\u001b[0m\n\u001b[1;32m     48\u001b[0m                     \u001b[0;32mif\u001b[0m \u001b[0manno\u001b[0m \u001b[0;34m!=\u001b[0m \u001b[0minspect\u001b[0m\u001b[0;34m.\u001b[0m\u001b[0mParameter\u001b[0m\u001b[0;34m.\u001b[0m\u001b[0mempty\u001b[0m\u001b[0;34m:\u001b[0m\u001b[0;34m\u001b[0m\u001b[0m\n\u001b[0;32m---> 49\u001b[0;31m                          \u001b[0margs\u001b[0m\u001b[0;34m.\u001b[0m\u001b[0mappend\u001b[0m\u001b[0;34m(\u001b[0m\u001b[0manno\u001b[0m\u001b[0;34m(\u001b[0m\u001b[0mparam\u001b[0m\u001b[0;34m.\u001b[0m\u001b[0mstrip\u001b[0m\u001b[0;34m(\u001b[0m\u001b[0;34m)\u001b[0m\u001b[0;34m)\u001b[0m\u001b[0;34m)\u001b[0m\u001b[0;34m\u001b[0m\u001b[0m\n\u001b[0m\u001b[1;32m     50\u001b[0m                     \u001b[0;32melse\u001b[0m\u001b[0;34m:\u001b[0m\u001b[0;34m\u001b[0m\u001b[0m\n\u001b[1;32m     51\u001b[0m                         \u001b[0margs\u001b[0m\u001b[0;34m.\u001b[0m\u001b[0mappend\u001b[0m\u001b[0;34m(\u001b[0m\u001b[0mparam\u001b[0m\u001b[0;34m.\u001b[0m\u001b[0mstrip\u001b[0m\u001b[0;34m(\u001b[0m\u001b[0;34m)\u001b[0m\u001b[0;34m)\u001b[0m\u001b[0;34m\u001b[0m\u001b[0m\n",
      "\u001b[0;31mValueError\u001b[0m: invalid literal for int() with base 10: ''"
     ]
    }
   ],
   "source": [
    "run()"
   ]
  },
  {
   "cell_type": "code",
   "execution_count": 148,
   "metadata": {
    "collapsed": true
   },
   "outputs": [],
   "source": [
    "import inspect\n",
    "from collections import namedtuple\n",
    "\n",
    "def dispatcher(default_handler=None):\n",
    "    Handler = namedtuple('Handler', ['fn', 'params'])\n",
    "    commands = {}\n",
    "    \n",
    "    if default_handler is None:\n",
    "        default_handler = lambda *args, **kwargs: print('not found')\n",
    "    \n",
    "    def register(command):\n",
    "        def _register(fn):\n",
    "            # commands[command] = fn\n",
    "            params = inspect.signature(fn).parameters\n",
    "            commands[command] = Handler(fn, params)\n",
    "            return fn\n",
    "        return _register\n",
    "        \n",
    "        \n",
    "    def run():\n",
    "        while True:\n",
    "            command, _, params = input('>>').partition(':')\n",
    "            if command.strip() == 'quit':\n",
    "                return\n",
    "            \n",
    "            \n",
    "            handler = commands.get(command, Handler(default_handler, {}))\n",
    "            \n",
    "            args = []\n",
    "            kwargs = {}\n",
    "            \n",
    "            param_values = list(handler.params.values())\n",
    "\n",
    "            for i, param in enumerate(params.split(',')):\n",
    "                print(param)\n",
    "                if '=' in param:\n",
    "                    name, _, vale = param.partition('=')\n",
    "#                     anno = handler.params[name.strip()].annotation\n",
    "                    \n",
    "#                     if anno != inspect.Parameter.empty:\n",
    "#                         kwargs[name.strip()] = anno(value)\n",
    "                        \n",
    "                    p = handler.params.get(name.strip())\n",
    "                    if p is not None and p.annotation != inspect.Parameter.empty:\n",
    "                        kwargs[name.strip()] = p.annotation(value)\n",
    "                        \n",
    "                    else:\n",
    "                        kwargs[name.strip()] = value\n",
    "                else:\n",
    "                    \n",
    "                    \n",
    "#                     anno = list(handler.params.values())[i].annotation\n",
    "#                     if anno != inspect.Parameter.empty:\n",
    "#                          args.append(anno(param.strip()))\n",
    "                    if len(param_values) > i and param_values[i].annotation != inspect.Parameter.empty:\n",
    "                        args.append(param_values[i].annotation(param.strip()))\n",
    "                    else:\n",
    "                        args.append(param.strip())\n",
    "                \n",
    "            \n",
    "            # ret = commands.get(command, default_handler)(*args, **kwargs)\n",
    "            ret = handler.fn(*args, **kwargs)\n",
    "            if ret is not None:\n",
    "                   \n",
    "                \n",
    "                print(ret)\n",
    "            \n",
    "    return register, run"
   ]
  },
  {
   "cell_type": "code",
   "execution_count": 149,
   "metadata": {
    "collapsed": true
   },
   "outputs": [],
   "source": [
    "register, run = dispatcher()"
   ]
  },
  {
   "cell_type": "code",
   "execution_count": 150,
   "metadata": {
    "collapsed": true
   },
   "outputs": [],
   "source": [
    "@register('add')\n",
    "def add(x:int, y:int):\n",
    "    return x + y"
   ]
  },
  {
   "cell_type": "code",
   "execution_count": 152,
   "metadata": {},
   "outputs": [
    {
     "name": "stdout",
     "output_type": "stream",
     "text": [
      ">>add:1, \n",
      "1\n",
      " \n"
     ]
    },
    {
     "ename": "ValueError",
     "evalue": "invalid literal for int() with base 10: ''",
     "output_type": "error",
     "traceback": [
      "\u001b[0;31m---------------------------------------------------------------------------\u001b[0m",
      "\u001b[0;31mValueError\u001b[0m                                Traceback (most recent call last)",
      "\u001b[0;32m<ipython-input-152-157c9bda2cd6>\u001b[0m in \u001b[0;36m<module>\u001b[0;34m()\u001b[0m\n\u001b[0;32m----> 1\u001b[0;31m \u001b[0mrun\u001b[0m\u001b[0;34m(\u001b[0m\u001b[0;34m)\u001b[0m\u001b[0;34m\u001b[0m\u001b[0m\n\u001b[0m",
      "\u001b[0;32m<ipython-input-148-7c93a54c3fa2>\u001b[0m in \u001b[0;36mrun\u001b[0;34m()\u001b[0m\n\u001b[1;32m     54\u001b[0m \u001b[0;31m#                          args.append(anno(param.strip()))\u001b[0m\u001b[0;34m\u001b[0m\u001b[0;34m\u001b[0m\u001b[0m\n\u001b[1;32m     55\u001b[0m                     \u001b[0;32mif\u001b[0m \u001b[0mlen\u001b[0m\u001b[0;34m(\u001b[0m\u001b[0mparam_values\u001b[0m\u001b[0;34m)\u001b[0m \u001b[0;34m>\u001b[0m \u001b[0mi\u001b[0m \u001b[0;32mand\u001b[0m \u001b[0mparam_values\u001b[0m\u001b[0;34m[\u001b[0m\u001b[0mi\u001b[0m\u001b[0;34m]\u001b[0m\u001b[0;34m.\u001b[0m\u001b[0mannotation\u001b[0m \u001b[0;34m!=\u001b[0m \u001b[0minspect\u001b[0m\u001b[0;34m.\u001b[0m\u001b[0mParameter\u001b[0m\u001b[0;34m.\u001b[0m\u001b[0mempty\u001b[0m\u001b[0;34m:\u001b[0m\u001b[0;34m\u001b[0m\u001b[0m\n\u001b[0;32m---> 56\u001b[0;31m                         \u001b[0margs\u001b[0m\u001b[0;34m.\u001b[0m\u001b[0mappend\u001b[0m\u001b[0;34m(\u001b[0m\u001b[0mparam_values\u001b[0m\u001b[0;34m[\u001b[0m\u001b[0mi\u001b[0m\u001b[0;34m]\u001b[0m\u001b[0;34m.\u001b[0m\u001b[0mannotation\u001b[0m\u001b[0;34m(\u001b[0m\u001b[0mparam\u001b[0m\u001b[0;34m.\u001b[0m\u001b[0mstrip\u001b[0m\u001b[0;34m(\u001b[0m\u001b[0;34m)\u001b[0m\u001b[0;34m)\u001b[0m\u001b[0;34m)\u001b[0m\u001b[0;34m\u001b[0m\u001b[0m\n\u001b[0m\u001b[1;32m     57\u001b[0m                     \u001b[0;32melse\u001b[0m\u001b[0;34m:\u001b[0m\u001b[0;34m\u001b[0m\u001b[0m\n\u001b[1;32m     58\u001b[0m                         \u001b[0margs\u001b[0m\u001b[0;34m.\u001b[0m\u001b[0mappend\u001b[0m\u001b[0;34m(\u001b[0m\u001b[0mparam\u001b[0m\u001b[0;34m.\u001b[0m\u001b[0mstrip\u001b[0m\u001b[0;34m(\u001b[0m\u001b[0;34m)\u001b[0m\u001b[0;34m)\u001b[0m\u001b[0;34m\u001b[0m\u001b[0m\n",
      "\u001b[0;31mValueError\u001b[0m: invalid literal for int() with base 10: ''"
     ]
    }
   ],
   "source": [
    "run()"
   ]
  },
  {
   "cell_type": "code",
   "execution_count": null,
   "metadata": {
    "collapsed": true
   },
   "outputs": [],
   "source": []
  },
  {
   "cell_type": "markdown",
   "metadata": {},
   "source": [
    "### 优先队列"
   ]
  },
  {
   "cell_type": "code",
   "execution_count": 154,
   "metadata": {},
   "outputs": [],
   "source": [
    "def queue():\n",
    "    lst = []\n",
    "    \n",
    "    # p 是 优先级\n",
    "    def put(value, p):\n",
    "        for i, item in enumerate(lst):\n",
    "            if item[1] <= p:\n",
    "                lst.insert(i, (value, p))\n",
    "                break\n",
    "        else:\n",
    "            lst.append((value, p))\n",
    "            \n",
    "    def pop():\n",
    "        if lst:\n",
    "            return lst.pop()[0]\n",
    "        else:\n",
    "            return None\n",
    "        \n",
    "    return put, pop"
   ]
  },
  {
   "cell_type": "code",
   "execution_count": 155,
   "metadata": {
    "collapsed": true
   },
   "outputs": [],
   "source": [
    "put, pop = queue()"
   ]
  },
  {
   "cell_type": "code",
   "execution_count": 156,
   "metadata": {
    "collapsed": true
   },
   "outputs": [],
   "source": [
    "put(3, 5)"
   ]
  },
  {
   "cell_type": "code",
   "execution_count": 157,
   "metadata": {
    "collapsed": true
   },
   "outputs": [],
   "source": [
    "put(2, 3)"
   ]
  },
  {
   "cell_type": "code",
   "execution_count": 158,
   "metadata": {},
   "outputs": [
    {
     "data": {
      "text/plain": [
       "2"
      ]
     },
     "execution_count": 158,
     "metadata": {},
     "output_type": "execute_result"
    }
   ],
   "source": [
    "pop()"
   ]
  },
  {
   "cell_type": "code",
   "execution_count": 159,
   "metadata": {
    "collapsed": true
   },
   "outputs": [],
   "source": [
    "put(1, 1)"
   ]
  },
  {
   "cell_type": "code",
   "execution_count": 160,
   "metadata": {},
   "outputs": [
    {
     "data": {
      "text/plain": [
       "1"
      ]
     },
     "execution_count": 160,
     "metadata": {},
     "output_type": "execute_result"
    }
   ],
   "source": [
    "pop()"
   ]
  },
  {
   "cell_type": "markdown",
   "metadata": {},
   "source": [
    "- 完全二叉树\n",
    "- 父节点总是比子节点要大\n",
    "- 完全二叉树可以使用列表来表示\n",
    "- data[0] 是根节点\n",
    "- data[i].left = data[2i+1]\n",
    "- data[i].right = data[2i+2]\n",
    "- data[i].parent = data[floor((i-2)/2)"
   ]
  },
  {
   "cell_type": "code",
   "execution_count": 161,
   "metadata": {
    "collapsed": true
   },
   "outputs": [],
   "source": [
    "def heap():\n",
    "    data = []\n",
    "    \n",
    "    # p 是 优先级\n",
    "    def put(value, p):\n",
    "        \n",
    "        i = len(data)\n",
    "        data.append((value, p))\n",
    "        \n",
    "        pi = (i-1) // 2\n",
    "        \n",
    "        while pi >= 0 and p > data[pi][1]:\n",
    "            data[i], data[pi] = data[pi], data[i]\n",
    "            \n",
    "            \n",
    "            i = pi\n",
    "            pi = (i-1) // 2\n",
    "        \n",
    "            \n",
    "    def pop():\n",
    "        if not data:\n",
    "            return None\n",
    "        if len(data) == 1:\n",
    "            return data[0]\n",
    "        \n",
    "        i = 0\n",
    "        ret = data[i]\n",
    "        data[i] = data.pop()\n",
    "        \n",
    "        li = 2 * i + 1\n",
    "        ri = 2 * i + 2\n",
    "        \n",
    "        while data and li < len(data):\n",
    "            ci = li\n",
    "            if ri < len(data) and data[ri][1] > data[li][1]:\n",
    "                ci = ri\n",
    "            if data[ci][1] > data[i][1]:\n",
    "                data[ci], data[i] = data[i], data[ci]\n",
    "                i = ci\n",
    "                li = 2 * i + 1\n",
    "                ri = 2 * i + 2\n",
    "            else:\n",
    "                break\n",
    "        return ret\n",
    "    return put, pop"
   ]
  },
  {
   "cell_type": "code",
   "execution_count": 162,
   "metadata": {
    "collapsed": true
   },
   "outputs": [],
   "source": [
    "put, pop = heap()"
   ]
  },
  {
   "cell_type": "code",
   "execution_count": 163,
   "metadata": {
    "collapsed": true
   },
   "outputs": [],
   "source": [
    "put(0, 35)"
   ]
  },
  {
   "cell_type": "code",
   "execution_count": 164,
   "metadata": {
    "collapsed": true
   },
   "outputs": [],
   "source": [
    "put(0, 28)"
   ]
  },
  {
   "cell_type": "code",
   "execution_count": 165,
   "metadata": {
    "collapsed": true
   },
   "outputs": [],
   "source": [
    "put(0, 28)"
   ]
  },
  {
   "cell_type": "code",
   "execution_count": 166,
   "metadata": {
    "collapsed": true
   },
   "outputs": [],
   "source": [
    "put(0, 78)"
   ]
  },
  {
   "cell_type": "code",
   "execution_count": 172,
   "metadata": {},
   "outputs": [
    {
     "data": {
      "text/plain": [
       "(0, 28)"
      ]
     },
     "execution_count": 172,
     "metadata": {},
     "output_type": "execute_result"
    }
   ],
   "source": [
    "pop()"
   ]
  },
  {
   "cell_type": "code",
   "execution_count": 173,
   "metadata": {},
   "outputs": [
    {
     "data": {
      "text/plain": [
       "99"
      ]
     },
     "execution_count": 173,
     "metadata": {},
     "output_type": "execute_result"
    }
   ],
   "source": [
    "import random\n",
    "\n",
    "\n",
    "random.randint(0, 100)"
   ]
  },
  {
   "cell_type": "code",
   "execution_count": 174,
   "metadata": {
    "collapsed": true
   },
   "outputs": [],
   "source": [
    "lst = [random.randint(0, 100) for x in range(20)]"
   ]
  },
  {
   "cell_type": "code",
   "execution_count": 175,
   "metadata": {
    "collapsed": true
   },
   "outputs": [],
   "source": [
    "for x in lst:\n",
    "    put(0, x)"
   ]
  },
  {
   "cell_type": "code",
   "execution_count": 176,
   "metadata": {},
   "outputs": [
    {
     "name": "stdout",
     "output_type": "stream",
     "text": [
      "98\n",
      "91\n",
      "90\n",
      "75\n",
      "73\n",
      "73\n",
      "72\n",
      "63\n",
      "59\n",
      "44\n",
      "29\n",
      "28\n",
      "27\n",
      "26\n",
      "24\n",
      "23\n",
      "21\n",
      "13\n",
      "12\n",
      "10\n"
     ]
    }
   ],
   "source": [
    "for _ in lst:\n",
    "    print(pop()[1])"
   ]
  },
  {
   "cell_type": "code",
   "execution_count": null,
   "metadata": {
    "collapsed": true
   },
   "outputs": [],
   "source": []
  },
  {
   "cell_type": "code",
   "execution_count": null,
   "metadata": {
    "collapsed": true
   },
   "outputs": [],
   "source": []
  }
 ],
 "metadata": {
  "kernelspec": {
   "display_name": "Python 3",
   "language": "python",
   "name": "python3"
  },
  "language_info": {
   "codemirror_mode": {
    "name": "ipython",
    "version": 3
   },
   "file_extension": ".py",
   "mimetype": "text/x-python",
   "name": "python",
   "nbconvert_exporter": "python",
   "pygments_lexer": "ipython3",
   "version": "3.6.1"
  }
 },
 "nbformat": 4,
 "nbformat_minor": 2
}
