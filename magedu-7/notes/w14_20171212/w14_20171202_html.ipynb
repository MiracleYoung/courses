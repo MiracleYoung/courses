{
 "cells": [
  {
   "cell_type": "markdown",
   "metadata": {},
   "source": [
    "- html\n",
    "    - 结构层\n",
    "- css\n",
    "    - 表现层\n",
    "- js\n",
    "    - 行为层"
   ]
  },
  {
   "cell_type": "markdown",
   "metadata": {},
   "source": [
    "- html\n",
    "- css\n",
    "- bootstrap，响应式框架"
   ]
  },
  {
   "cell_type": "markdown",
   "metadata": {},
   "source": [
    "explame:\n",
    "\n",
    "- w = 3m\\*3m, h = 3m\n",
    "- w = 0.5m h=1m d=0.05m\n",
    "- 假设需要10面墙，底层框架\n",
    "- 直接拼成4面墙， 应用层框架"
   ]
  },
  {
   "cell_type": "markdown",
   "metadata": {},
   "source": [
    "html， hyper text markup lannguage"
   ]
  },
  {
   "cell_type": "markdown",
   "metadata": {},
   "source": [
    "```xml\n",
    "<body>\n",
    "    <container>\n",
    "    </container>\n",
    "    <wrapper>\n",
    "        <child></child>\n",
    "    </wrapper>\n",
    "</body>\n",
    "```"
   ]
  },
  {
   "cell_type": "markdown",
   "metadata": {},
   "source": [
    "顺序的加载过程，从上至下"
   ]
  },
  {
   "cell_type": "markdown",
   "metadata": {},
   "source": [
    "元素种类：\n",
    "- 行内元素\n",
    "- 块元素"
   ]
  },
  {
   "cell_type": "markdown",
   "metadata": {},
   "source": [
    "http://www.w3school.com.cn/\n",
    "\n",
    "https://developer.mozilla.org/zh-CN/"
   ]
  },
  {
   "cell_type": "markdown",
   "metadata": {},
   "source": [
    "# h1\n",
    "\n",
    "## h2"
   ]
  },
  {
   "cell_type": "markdown",
   "metadata": {},
   "source": [
    "- ul1\n",
    "- ul2\n",
    "- ul3"
   ]
  },
  {
   "cell_type": "markdown",
   "metadata": {},
   "source": [
    "1.ol1\n",
    "2. ol2\n",
    "3. ol3"
   ]
  },
  {
   "cell_type": "code",
   "execution_count": null,
   "metadata": {
    "collapsed": true
   },
   "outputs": [],
   "source": []
  },
  {
   "cell_type": "code",
   "execution_count": null,
   "metadata": {
    "collapsed": true
   },
   "outputs": [],
   "source": []
  },
  {
   "cell_type": "code",
   "execution_count": null,
   "metadata": {
    "collapsed": true
   },
   "outputs": [],
   "source": []
  },
  {
   "cell_type": "code",
   "execution_count": null,
   "metadata": {
    "collapsed": true
   },
   "outputs": [],
   "source": []
  }
 ],
 "metadata": {
  "kernelspec": {
   "display_name": "Python 3",
   "language": "python",
   "name": "python3"
  },
  "language_info": {
   "codemirror_mode": {
    "name": "ipython",
    "version": 3
   },
   "file_extension": ".py",
   "mimetype": "text/x-python",
   "name": "python",
   "nbconvert_exporter": "python",
   "pygments_lexer": "ipython3",
   "version": "3.6.1"
  }
 },
 "nbformat": 4,
 "nbformat_minor": 2
}
