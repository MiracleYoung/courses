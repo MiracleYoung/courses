{
 "cells": [
  {
   "cell_type": "markdown",
   "metadata": {},
   "source": [
    "### 1.使用更快的方法求100W以内的素数"
   ]
  },
  {
   "cell_type": "code",
   "execution_count": 3,
   "metadata": {},
   "outputs": [
    {
     "name": "stdout",
     "output_type": "stream",
     "text": [
      "[2, 3, 5, 7, 11, 13, 17, 19, 23, 29, 31, 37, 41, 43, 47, 53, 59, 61, 67, 71, 73, 79, 83, 89, 97]\n"
     ]
    }
   ],
   "source": [
    "ps = [2]\n",
    "\n",
    "for i in range(3,100):\n",
    "    for x in ps:\n",
    "        if i % x == 0:\n",
    "            break\n",
    "    else:\n",
    "        ps.append(i)\n",
    "    \n",
    "print(ps)"
   ]
  },
  {
   "cell_type": "code",
   "execution_count": null,
   "metadata": {
    "collapsed": true
   },
   "outputs": [],
   "source": []
  },
  {
   "cell_type": "markdown",
   "metadata": {},
   "source": [
    "### 2.求杨辉三角第n行第k列的值"
   ]
  },
  {
   "cell_type": "markdown",
   "metadata": {},
   "source": [
    "        1         lst[0][0] = 1\n",
    "        \n",
    "       1  1         lst[1][0] = 1 lst[1][1] = 1\n",
    "       \n",
    "      1  2  1        lst[2][0] = 1 lst[2][1] =2 lst[2][2] = 1\n",
    "      \n",
    "     1  3  3  1       lst[3][0] = 1 lst[3][1] =3 lst[3][2] = 3 lst[3][3] =1\n",
    "     \n",
    "    1  4  6  4  1"
   ]
  },
  {
   "cell_type": "markdown",
   "metadata": {},
   "source": [
    "- 第一个数字和最后一个数字是1\n",
    "- lst\\[n\\]\\[k\\] = lst\\[n-1\\]\\[k-1\\] + lst\\[n-1\\]\\[k\\]"
   ]
  },
  {
   "cell_type": "code",
   "execution_count": 9,
   "metadata": {},
   "outputs": [
    {
     "name": "stdout",
     "output_type": "stream",
     "text": [
      "[[1], [1, 1], [1, 2, 1], [1, 3, 3, 1], [1, 4, 6, 4, 1], [1, 5, 10, 10, 5, 1], [1, 6, 15, 20, 15, 6, 1]]\n"
     ]
    }
   ],
   "source": [
    "n = 6 # 第n行\n",
    "k = 4 # 第k列\n",
    "\n",
    "lst = []\n",
    "\n",
    "# 行数\n",
    "for i in range(n+1):\n",
    "    row = [1]\n",
    "    lst.append(row)\n",
    "    \n",
    "    if i == 0:\n",
    "        continue\n",
    "    \n",
    "\n",
    "    # 列数\n",
    "    for j in range(1, i):\n",
    "        row.append(lst[i-1][j-1] + lst[i-1][j])\n",
    "    \n",
    "    row.append(1)\n",
    "    \n",
    "print(lst)"
   ]
  },
  {
   "cell_type": "code",
   "execution_count": null,
   "metadata": {
    "collapsed": true
   },
   "outputs": [],
   "source": []
  },
  {
   "cell_type": "markdown",
   "metadata": {},
   "source": [
    "### 矩阵转置"
   ]
  },
  {
   "cell_type": "markdown",
   "metadata": {},
   "source": [
    "1 2 3   lst\\[i\\]\\[j\\] = ret\\[j\\]\\[i\\] **将第i行第j列转换成第j行第i列的数**\n",
    "\n",
    "4 5 6\n",
    "\n",
    "[[1, 2, 3], [4, 5, 6]]\n",
    "\n",
    "[[1, 4], [2, 5], [3, 6]]"
   ]
  },
  {
   "cell_type": "code",
   "execution_count": 10,
   "metadata": {
    "collapsed": true
   },
   "outputs": [],
   "source": [
    "a = [[1, 2, 3], [4, 5, 6]]"
   ]
  },
  {
   "cell_type": "code",
   "execution_count": 11,
   "metadata": {
    "collapsed": true
   },
   "outputs": [],
   "source": [
    "# 排除悉数的情况\n",
    "\n",
    "# a = [[1, 2], [3, 4, 5]]\n",
    "\n",
    "# 对行数进行遍历\n",
    "for row in a:\n",
    "    # 对列数进行遍历\n",
    "    for col in row:\n",
    "        pass"
   ]
  },
  {
   "cell_type": "code",
   "execution_count": 12,
   "metadata": {
    "collapsed": true
   },
   "outputs": [],
   "source": [
    "ret = []"
   ]
  },
  {
   "cell_type": "code",
   "execution_count": 15,
   "metadata": {},
   "outputs": [
    {
     "name": "stdout",
     "output_type": "stream",
     "text": [
      "[[1, 4], [2, 5], [3, 6]]\n"
     ]
    }
   ],
   "source": [
    "ret = []\n",
    "for i, row in enumerate(a):\n",
    "    for j, col in enumerate(row):\n",
    "        # ret[j][i] = a[i][j], 需要先判断一下这一行能不能用\n",
    "        if len(ret) - 1 < j:\n",
    "            ret.append([])\n",
    "        ret[j].append(col)\n",
    "\n",
    "print(ret)"
   ]
  },
  {
   "cell_type": "code",
   "execution_count": null,
   "metadata": {
    "collapsed": true
   },
   "outputs": [],
   "source": []
  },
  {
   "cell_type": "code",
   "execution_count": null,
   "metadata": {
    "collapsed": true
   },
   "outputs": [],
   "source": []
  }
 ],
 "metadata": {
  "kernelspec": {
   "display_name": "Python 3",
   "language": "python",
   "name": "python3"
  },
  "language_info": {
   "codemirror_mode": {
    "name": "ipython",
    "version": 3
   },
   "file_extension": ".py",
   "mimetype": "text/x-python",
   "name": "python",
   "nbconvert_exporter": "python",
   "pygments_lexer": "ipython3",
   "version": "3.5.3"
  }
 },
 "nbformat": 4,
 "nbformat_minor": 2
}
