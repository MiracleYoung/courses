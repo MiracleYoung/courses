{
 "cells": [
  {
   "cell_type": "markdown",
   "metadata": {
    "collapsed": true
   },
   "source": [
    "# 100W内的质数"
   ]
  },
  {
   "cell_type": "code",
   "execution_count": 10,
   "metadata": {},
   "outputs": [
    {
     "name": "stdout",
     "output_type": "stream",
     "text": [
      "2\n"
     ]
    }
   ],
   "source": [
    "x = 2\n",
    "\n",
    "if x != 1:\n",
    "\n",
    "    for i in range(2, x):\n",
    "        if x % i == 0:\n",
    "            break\n",
    "    else:\n",
    "        print(x)"
   ]
  },
  {
   "cell_type": "code",
   "execution_count": 19,
   "metadata": {},
   "outputs": [
    {
     "name": "stdout",
     "output_type": "stream",
     "text": [
      "5\n"
     ]
    }
   ],
   "source": [
    "x = 5\n",
    "\n",
    "if x != 1:\n",
    "    c = 0\n",
    "    for i in range(2, x):\n",
    "        c += 1\n",
    "        if x % i == 0:\n",
    "            break\n",
    "    if c == x - 2:\n",
    "        print(x)"
   ]
  },
  {
   "cell_type": "code",
   "execution_count": null,
   "metadata": {
    "collapsed": true
   },
   "outputs": [],
   "source": []
  },
  {
   "cell_type": "markdown",
   "metadata": {},
   "source": [
    "x = 5,c = 3\n",
    "\n",
    "x = 7,c = 5\n",
    "\n",
    "x = 9,c = 7\n",
    "\n",
    "x = c + 2\n",
    "\n",
    "c = x - 2"
   ]
  },
  {
   "cell_type": "code",
   "execution_count": 21,
   "metadata": {},
   "outputs": [
    {
     "name": "stdout",
     "output_type": "stream",
     "text": [
      "2\n",
      "3\n",
      "5\n",
      "7\n",
      "11\n",
      "13\n",
      "17\n",
      "19\n",
      "23\n",
      "29\n",
      "31\n",
      "37\n",
      "41\n",
      "43\n",
      "47\n",
      "53\n",
      "59\n",
      "61\n",
      "67\n",
      "71\n",
      "73\n",
      "79\n",
      "83\n",
      "89\n",
      "97\n"
     ]
    }
   ],
   "source": [
    "for x in range(2,100):\n",
    "    for i in range(2, x):\n",
    "        if x % i ==0:\n",
    "            break\n",
    "    else:\n",
    "        print(x)"
   ]
  },
  {
   "cell_type": "code",
   "execution_count": null,
   "metadata": {
    "collapsed": true
   },
   "outputs": [],
   "source": [
    "c = 0\n",
    "\n",
    "for x in range(2,100000):\n",
    "    for i in range(2, x):\n",
    "        if x % i ==0:\n",
    "            break\n",
    "    else:\n",
    "        c += 1\n",
    "        \n",
    "print(c)\n",
    "\n",
    "# 复杂度 O(n^2)"
   ]
  },
  {
   "cell_type": "markdown",
   "metadata": {},
   "source": [
    "n = a*b (n>a>1,n>b>1)\n",
    "\n",
    "n = m^2\n",
    "\n",
    "a和b之中一定有一个小于等于m\n",
    "\n"
   ]
  },
  {
   "cell_type": "code",
   "execution_count": 2,
   "metadata": {
    "collapsed": true
   },
   "outputs": [],
   "source": [
    "import math"
   ]
  },
  {
   "cell_type": "code",
   "execution_count": 9,
   "metadata": {},
   "outputs": [
    {
     "name": "stdout",
     "output_type": "stream",
     "text": [
      "2\n",
      "3\n",
      "5\n",
      "7\n",
      "11\n",
      "13\n",
      "17\n",
      "19\n",
      "23\n",
      "29\n",
      "31\n",
      "37\n",
      "41\n",
      "43\n",
      "47\n",
      "53\n",
      "59\n",
      "61\n",
      "67\n",
      "71\n",
      "73\n",
      "79\n",
      "83\n",
      "89\n",
      "97\n"
     ]
    }
   ],
   "source": [
    "x = 100\n",
    "\n",
    "for i in range(2, x):\n",
    "    for x in range(2, int(i**0.5) + 1):\n",
    "        if i % x == 0:\n",
    "            break\n",
    "    else:\n",
    "        print(i)"
   ]
  },
  {
   "cell_type": "markdown",
   "metadata": {
    "collapsed": true
   },
   "source": [
    "# 求任意整数的几何级数"
   ]
  },
  {
   "cell_type": "markdown",
   "metadata": {},
   "source": [
    "几何级数也称为等比级数"
   ]
  },
  {
   "cell_type": "markdown",
   "metadata": {},
   "source": [
    "S = a*q^0 + a*q^1 + a*q^2 ... a*q^n\n",
    "\n",
    "q*S = q*(a + a*q + a*q^2 ... a*q^n)\n",
    "\n",
    "(1-q)*S =a - a*q^(n+1)\n",
    "\n",
    "S = a[1-q^(n+1)]/(1-q)\n",
    "\n"
   ]
  },
  {
   "cell_type": "code",
   "execution_count": 13,
   "metadata": {},
   "outputs": [
    {
     "name": "stdout",
     "output_type": "stream",
     "text": [
      "6138\n"
     ]
    }
   ],
   "source": [
    "# a*q^n\n",
    "\n",
    "a = 3\n",
    "q = 2\n",
    "n = 10\n",
    "\n",
    "# 3*2^1 + 3*2^2 ... 3*2^10\n",
    "\n",
    "sum = 0\n",
    "for i in range(1, n+1):\n",
    "    sum += a*(q**i)\n",
    "print(sum)"
   ]
  },
  {
   "cell_type": "markdown",
   "metadata": {},
   "source": [
    "# 斐波那契数列"
   ]
  },
  {
   "cell_type": "markdown",
   "metadata": {},
   "source": [
    "fib(n) = 1 if n == 1\n",
    "\n",
    "fib(n) = 1 if n == 2\n",
    "\n",
    "fib(n) = fib(n-1) + fib(n-2) if n > 2"
   ]
  },
  {
   "cell_type": "code",
   "execution_count": 14,
   "metadata": {},
   "outputs": [
    {
     "name": "stdout",
     "output_type": "stream",
     "text": [
      "34\n"
     ]
    }
   ],
   "source": [
    "x = 0\n",
    "y = 0\n",
    "for i in range(0, 9):\n",
    "    if i == 0:\n",
    "        y = 1\n",
    "    elif i == 1:\n",
    "        x = 1\n",
    "        y =1\n",
    "    else:\n",
    "        tmp = y\n",
    "        y = x + y\n",
    "        x = tmp\n",
    "print(y)"
   ]
  },
  {
   "cell_type": "markdown",
   "metadata": {},
   "source": [
    "0 1 2 3 4 5 6  7  8\n",
    "\n",
    "1 1 2 3 5 8 13 21 34\n",
    "\n",
    "y > x\n",
    "\n",
    "fib(n) = y - x  ,n>2\n",
    "\n",
    "\n",
    "\n"
   ]
  },
  {
   "cell_type": "code",
   "execution_count": null,
   "metadata": {
    "collapsed": true
   },
   "outputs": [],
   "source": []
  },
  {
   "cell_type": "code",
   "execution_count": 5,
   "metadata": {},
   "outputs": [
    {
     "data": {
      "text/plain": [
       "16"
      ]
     },
     "execution_count": 5,
     "metadata": {},
     "output_type": "execute_result"
    }
   ],
   "source": [
    "4**2"
   ]
  }
 ],
 "metadata": {
  "kernelspec": {
   "display_name": "Python 3",
   "language": "python",
   "name": "python3"
  },
  "language_info": {
   "codemirror_mode": {
    "name": "ipython",
    "version": 3
   },
   "file_extension": ".py",
   "mimetype": "text/x-python",
   "name": "python",
   "nbconvert_exporter": "python",
   "pygments_lexer": "ipython3",
   "version": "3.5.3"
  }
 },
 "nbformat": 4,
 "nbformat_minor": 2
}
