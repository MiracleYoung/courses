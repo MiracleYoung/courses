{
 "cells": [
  {
   "cell_type": "markdown",
   "metadata": {},
   "source": [
    "## 字典的实现"
   ]
  },
  {
   "cell_type": "code",
   "execution_count": 1,
   "metadata": {
    "collapsed": true
   },
   "outputs": [],
   "source": [
    "# 使用列表实现字典"
   ]
  },
  {
   "cell_type": "markdown",
   "metadata": {},
   "source": [
    "实现的方式：\n",
    "\n",
    "- 拉链法\n",
    "- 开地址法"
   ]
  },
  {
   "cell_type": "markdown",
   "metadata": {},
   "source": [
    "hash冲突\n",
    "\n",
    "hash(key) % slot 的值 存在重复"
   ]
  },
  {
   "cell_type": "code",
   "execution_count": 47,
   "metadata": {
    "collapsed": true
   },
   "outputs": [],
   "source": [
    "# 槽位，用来存储我们的数据，我们需要初始化，因此我们需要在这个槽位里在加入32/slots_num个槽位\n",
    "slots = []\n",
    "slots_num = 32\n",
    "\n",
    "# 初始化每个槽位的空列表\n",
    "for _ in range(slots_num):\n",
    "    slots.append([])\n",
    "\n",
    "# 把key， value put到我们d的slots里\n",
    "def put(slots, key, value):\n",
    "    # 取模，得到第一个槽位\n",
    "    i = hash(key) % slots_num\n",
    "    \n",
    "    \n",
    "    # \n",
    "\n",
    "    for p, (k, v) in enumerate(slots[i]):\n",
    "        if k == key:\n",
    "            break\n",
    "    else:\n",
    "    \n",
    "        # 往该槽位1中追加K-V对\n",
    "        slots[i].append((key, value))\n",
    "        return\n",
    "    \n",
    "    slots[i][p] = (key, value)\n",
    "\n",
    "# 查找key的value\n",
    "def get(slots, key):\n",
    "    i = hash(key) % slots_num\n",
    "    \n",
    "    for k, v in slots[i]:\n",
    "        if k == key:\n",
    "            return v\n",
    "    raise KeyError(k)\n",
    "\n"
   ]
  },
  {
   "cell_type": "code",
   "execution_count": 48,
   "metadata": {},
   "outputs": [],
   "source": [
    "put(slots, 'r', 2)"
   ]
  },
  {
   "cell_type": "code",
   "execution_count": 49,
   "metadata": {},
   "outputs": [],
   "source": [
    "put(slots, 'd', 2)"
   ]
  },
  {
   "cell_type": "code",
   "execution_count": 50,
   "metadata": {},
   "outputs": [
    {
     "data": {
      "text/plain": [
       "2"
      ]
     },
     "execution_count": 50,
     "metadata": {},
     "output_type": "execute_result"
    }
   ],
   "source": [
    "get(slots, 'r')"
   ]
  },
  {
   "cell_type": "code",
   "execution_count": 51,
   "metadata": {},
   "outputs": [],
   "source": [
    "put(slots, 'r', 3)"
   ]
  },
  {
   "cell_type": "code",
   "execution_count": 52,
   "metadata": {},
   "outputs": [
    {
     "data": {
      "text/plain": [
       "3"
      ]
     },
     "execution_count": 52,
     "metadata": {},
     "output_type": "execute_result"
    }
   ],
   "source": [
    "get(slots, 'r')"
   ]
  },
  {
   "cell_type": "code",
   "execution_count": 37,
   "metadata": {
    "collapsed": true
   },
   "outputs": [],
   "source": [
    "class Dict:\n",
    "    \n",
    "    def __init__(self, num):\n",
    "        self.__slots__ = []\n",
    "        self.num = num\n",
    "        \n",
    "        for _ in range(num):\n",
    "            self.__slots__.append([])\n",
    "    \n",
    "    \n",
    "    # 把key， value put到我们d的slots里\n",
    "    def put(self, key, value):\n",
    "        # 取模，得到第一个槽位\n",
    "        i = hash(key) % self.num\n",
    "\n",
    "        p = -1\n",
    "\n",
    "        for p, (k, v) in enumerate(self.__slots__[i]):\n",
    "            if k == key:\n",
    "                break\n",
    "        else:\n",
    "\n",
    "            # 往该槽位1中追加K-V对\n",
    "            self.__slots__[i].append((key, value))\n",
    "            return\n",
    "\n",
    "        self.__slots__[i][p] = (key, value)\n",
    "\n",
    "    # 查找key的value\n",
    "    def get(self, key):\n",
    "        i = hash(key) % self.num\n",
    "\n",
    "        for k, v in self.__slots__[i]:\n",
    "            if k == key:\n",
    "                return v\n",
    "        raise KeyError(k)\n",
    "        \n",
    "    def keys(self):\n",
    "        ret = []\n",
    "        for slot in self.__slots__:\n",
    "            for k, _ in slot:\n",
    "                ret.append(k)\n",
    "        return ret\n",
    "    "
   ]
  },
  {
   "cell_type": "code",
   "execution_count": 38,
   "metadata": {
    "collapsed": true
   },
   "outputs": [],
   "source": [
    "d = Dict(32)"
   ]
  },
  {
   "cell_type": "code",
   "execution_count": 39,
   "metadata": {
    "collapsed": true
   },
   "outputs": [],
   "source": [
    "d.put('r',2)"
   ]
  },
  {
   "cell_type": "code",
   "execution_count": 40,
   "metadata": {
    "collapsed": true
   },
   "outputs": [],
   "source": [
    "d.put('d', 2)"
   ]
  },
  {
   "cell_type": "code",
   "execution_count": 34,
   "metadata": {},
   "outputs": [
    {
     "data": {
      "text/plain": [
       "2"
      ]
     },
     "execution_count": 34,
     "metadata": {},
     "output_type": "execute_result"
    }
   ],
   "source": [
    "d.get('d')"
   ]
  },
  {
   "cell_type": "code",
   "execution_count": 35,
   "metadata": {
    "collapsed": true
   },
   "outputs": [],
   "source": [
    "d.put('r', 3)"
   ]
  },
  {
   "cell_type": "code",
   "execution_count": 36,
   "metadata": {},
   "outputs": [
    {
     "data": {
      "text/plain": [
       "3"
      ]
     },
     "execution_count": 36,
     "metadata": {},
     "output_type": "execute_result"
    }
   ],
   "source": [
    "d.get('r')"
   ]
  },
  {
   "cell_type": "code",
   "execution_count": 41,
   "metadata": {},
   "outputs": [
    {
     "data": {
      "text/plain": [
       "['r', 'd']"
      ]
     },
     "execution_count": 41,
     "metadata": {},
     "output_type": "execute_result"
    }
   ],
   "source": [
    "d.keys()"
   ]
  },
  {
   "cell_type": "code",
   "execution_count": null,
   "metadata": {
    "collapsed": true
   },
   "outputs": [],
   "source": []
  },
  {
   "cell_type": "code",
   "execution_count": null,
   "metadata": {
    "collapsed": true
   },
   "outputs": [],
   "source": []
  },
  {
   "cell_type": "code",
   "execution_count": null,
   "metadata": {
    "collapsed": true
   },
   "outputs": [],
   "source": []
  },
  {
   "cell_type": "code",
   "execution_count": null,
   "metadata": {
    "collapsed": true
   },
   "outputs": [],
   "source": []
  }
 ],
 "metadata": {
  "kernelspec": {
   "display_name": "Python 3",
   "language": "python",
   "name": "python3"
  },
  "language_info": {
   "codemirror_mode": {
    "name": "ipython",
    "version": 3
   },
   "file_extension": ".py",
   "mimetype": "text/x-python",
   "name": "python",
   "nbconvert_exporter": "python",
   "pygments_lexer": "ipython3",
   "version": "3.5.3"
  }
 },
 "nbformat": 4,
 "nbformat_minor": 2
}
