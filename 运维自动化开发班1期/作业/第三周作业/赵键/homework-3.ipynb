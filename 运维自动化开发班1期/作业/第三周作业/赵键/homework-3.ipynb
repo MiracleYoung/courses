{
 "cells": [
  {
   "cell_type": "code",
   "execution_count": 148,
   "metadata": {},
   "outputs": [],
   "source": [
    "# 2. 写一个cache装饰器，允许过期，过期时间自定义\n",
    "# @cache(5)\n",
    "# def add(x, y)\n",
    "#     return x + y\n",
    "\n",
    "# 1. 命中缓存\n",
    "# 2. 未命中\n",
    "# 3. key的封装\n",
    "\n",
    "import time\n",
    "from datetime import datetime\n",
    "\n",
    "def cache(ss):\n",
    "    dicts = {}\n",
    "    def _cache(fn):\n",
    "        def wrap(*args,**kwargs):\n",
    "            lst = []\n",
    "            #命中\n",
    "            if args in dicts.keys():\n",
    "                #判断是否过期\n",
    "                #如果过期，则先删除，再添加\n",
    "                if (datetime.now() - dicts[args][1]).seconds > ss:\n",
    "                    \n",
    "                    dicts.pop(args)\n",
    "                    ret = fn(*args,**kwargs)\n",
    "                    #key封装，value是列表(lst)，包括返回值[0]和创建时间[1]\n",
    "                    lst.append(ret)\n",
    "                    lst.append(datetime.now())\n",
    "                    dicts[args] = lst\n",
    "                    time.sleep(3)\n",
    "                    return ret\n",
    "                #如果未过期，则直接返回value\n",
    "                else:\n",
    "                    return dicts[args][0]              \n",
    "            #未命中\n",
    "            else:\n",
    "                ret = fn(*args,**kwargs)\n",
    "                #key封装，value是列表(lst)，包括返回值[0]和创建时间[1]\n",
    "                lst.append(ret)\n",
    "                lst.append(datetime.now())\n",
    "                dicts[args] = lst\n",
    "                time.sleep(3)\n",
    "                return ret           \n",
    "        return wrap\n",
    "    return _cache\n"
   ]
  },
  {
   "cell_type": "code",
   "execution_count": 118,
   "metadata": {},
   "outputs": [],
   "source": [
    "@cache(10)\n",
    "def add(x,y):\n",
    "    return x+y"
   ]
  },
  {
   "cell_type": "code",
   "execution_count": 147,
   "metadata": {},
   "outputs": [
    {
     "data": {
      "text/plain": [
       "8"
      ]
     },
     "execution_count": 147,
     "metadata": {},
     "output_type": "execute_result"
    }
   ],
   "source": [
    "add(3,5)"
   ]
  },
  {
   "cell_type": "code",
   "execution_count": 138,
   "metadata": {},
   "outputs": [
    {
     "data": {
      "text/plain": [
       "9"
      ]
     },
     "execution_count": 138,
     "metadata": {},
     "output_type": "execute_result"
    }
   ],
   "source": [
    "add(4,5)"
   ]
  }
 ],
 "metadata": {
  "kernelspec": {
   "display_name": "Python 3",
   "language": "python",
   "name": "python3"
  },
  "language_info": {
   "codemirror_mode": {
    "name": "ipython",
    "version": 3
   },
   "file_extension": ".py",
   "mimetype": "text/x-python",
   "name": "python",
   "nbconvert_exporter": "python",
   "pygments_lexer": "ipython3",
   "version": "3.7.1"
  }
 },
 "nbformat": 4,
 "nbformat_minor": 2
}
