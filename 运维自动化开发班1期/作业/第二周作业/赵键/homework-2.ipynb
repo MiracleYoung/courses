{
 "cells": [
  {
   "cell_type": "code",
   "execution_count": 202,
   "metadata": {},
   "outputs": [
    {
     "name": "stdout",
     "output_type": "stream",
     "text": [
      "[1, 2, 3, 4, -1, 'a', 'b', 'c']\n"
     ]
    }
   ],
   "source": [
    "#1. 移除列表中的重复元素，并保持新列表和元列表的顺序一致\n",
    "#[1, 1, 2, 3, 4, 4, -1, -1] => [1, 2, 3, 4, -1]\n",
    "\n",
    "list = []\n",
    "lst = [1, 1, 2, 3, 4, 4, -1, -1,'a','b','a','c','b']\n",
    "\n",
    "for i in lst:\n",
    "    if i in list:\n",
    "        continue\n",
    "    else:\n",
    "        list.append(i)\n",
    "print(list)"
   ]
  },
  {
   "cell_type": "code",
   "execution_count": 201,
   "metadata": {},
   "outputs": [
    {
     "name": "stdout",
     "output_type": "stream",
     "text": [
      "{'ab': 2, 'c': 1, 'cccc': 2, 'ccc': 1}\n"
     ]
    }
   ],
   "source": [
    "#2. 统计文本中各单词出现的次数\n",
    "# 'ab ab c cccc ccc cccc'\n",
    "\n",
    "# ab : 2\n",
    "# c : 1\n",
    "# cccc: 2\n",
    "# ccc: 1\n",
    "\n",
    "file = 'ab ab c cccc ccc cccc'\n",
    "list = file.split(\" \")\n",
    "word = {}\n",
    "# print(list)\n",
    "for i in list:\n",
    "    if i in word.keys():\n",
    "        word.update({i:word[i]+1})\n",
    "    else:\n",
    "        word.update({i:1})\n",
    "print(word)\n",
    "       "
   ]
  },
  {
   "cell_type": "code",
   "execution_count": 203,
   "metadata": {},
   "outputs": [
    {
     "name": "stdout",
     "output_type": "stream",
     "text": [
      "{'a.b.c': 1, 'a.d': 2, 'e': 3}\n"
     ]
    }
   ],
   "source": [
    "#3. 扁平化字典\n",
    "# {'a': {'b': {'c': 1}, 'd': 2}, 'e': 3} => {'a.b.c': 1, 'a.d': 2, 'e': 3}\n",
    "\n",
    "dicts = {'a': {'b': {'c': 1}, 'd': 2}, 'e': 3}\n",
    "result = {}\n",
    "\n",
    "def fn(**kwargs):\n",
    "    for k,v in kwargs.items():\n",
    "        if type(v).__name__ == 'dict':\n",
    "            for k1,v1 in v.items():\n",
    "                fn(**{k+'.'+k1:v1})\n",
    "        else:\n",
    "            result.update({k:v})\n",
    "            return result\n",
    "\n",
    "result = fn(**dicts)\n",
    "print(result)"
   ]
  },
  {
   "cell_type": "code",
   "execution_count": null,
   "metadata": {},
   "outputs": [],
   "source": []
  }
 ],
 "metadata": {
  "kernelspec": {
   "display_name": "Python 3",
   "language": "python",
   "name": "python3"
  },
  "language_info": {
   "codemirror_mode": {
    "name": "ipython",
    "version": 3
   },
   "file_extension": ".py",
   "mimetype": "text/x-python",
   "name": "python",
   "nbconvert_exporter": "python",
   "pygments_lexer": "ipython3",
   "version": "3.7.0"
  }
 },
 "nbformat": 4,
 "nbformat_minor": 2
}
