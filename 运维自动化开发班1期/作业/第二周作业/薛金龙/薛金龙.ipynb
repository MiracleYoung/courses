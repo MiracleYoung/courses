{
 "cells": [
  {
   "cell_type": "markdown",
   "metadata": {},
   "source": [
    "#  第2周作业  \n",
    "###  移除列表中的重复元素，并保持新列表和元列表的顺序一致 [1, 1, 2, 3, 4, 4, -1, -1] => [1, 2, 3, 4, -1]"
   ]
  },
  {
   "cell_type": "code",
   "execution_count": 1,
   "metadata": {},
   "outputs": [
    {
     "data": {
      "text/plain": [
       "[1, 2, 3, 4, -1]"
      ]
     },
     "execution_count": 1,
     "metadata": {},
     "output_type": "execute_result"
    }
   ],
   "source": [
    "l = [1, 1, 2, 3, 4, 4, -1, -1]\n",
    "nl = []\n",
    "for x in l:\n",
    "    if x not in nl:\n",
    "        nl.append(x)\n",
    "nl"
   ]
  },
  {
   "cell_type": "code",
   "execution_count": 2,
   "metadata": {},
   "outputs": [
    {
     "name": "stdout",
     "output_type": "stream",
     "text": [
      "[1, 2, 3, 4, -1]\n"
     ]
    }
   ],
   "source": [
    "l1 = [ 1, 1, 2, 3, 4, 4, -1, -1 ]\n",
    "l2 = list(set(l1))\n",
    "n = []\n",
    "[n.append(i) for i in l1 if not i in n]\n",
    "print(n)"
   ]
  },
  {
   "cell_type": "markdown",
   "metadata": {},
   "source": [
    "## 统计文本中各单词出现的次数¶\n",
    "### 'ab ab c cccc ccc cccc' ab : 2 c : 1 cccc: 2 ccc: 1"
   ]
  },
  {
   "cell_type": "code",
   "execution_count": 3,
   "metadata": {},
   "outputs": [
    {
     "name": "stdout",
     "output_type": "stream",
     "text": [
      "ab : 2\n",
      "c : 1\n",
      "cccc : 2\n",
      "ccc : 1\n"
     ]
    }
   ],
   "source": [
    "import collections\n",
    "f = open('/root/test.txt')\n",
    "str1=f.read().split(' ')\n",
    "str1[-1] = str1[-1].strip()\n",
    "dic = collections.Counter(str1)\n",
    "for key in dic:\n",
    "    print(key,\":\",dic[key])"
   ]
  },
  {
   "cell_type": "markdown",
   "metadata": {},
   "source": [
    "## 扁平化字典\n",
    "## {'a': {'b': {'c': 1}, d: 2}, e: 3} => {'a.b.c': 1, 'a.d': 2, 'e': 3}\n",
    "## dic = {'a':{'b': {'c': 1}, 'd': 2}, 'e': 3} new_dic = {}"
   ]
  },
  {
   "cell_type": "code",
   "execution_count": 4,
   "metadata": {},
   "outputs": [
    {
     "name": "stdout",
     "output_type": "stream",
     "text": [
      "{'a.b.c': 1, 'a.d': 2, 'e': 3}\n"
     ]
    }
   ],
   "source": [
    "source = {'a': {'b': {'c': 1}, 'd': 2}, 'e': 3}\n",
    "target = {}\n",
    "def flatmap(srcDic, targetKey=''):\n",
    "    for k, v in srcDic.items():\n",
    "        if isinstance(v, dict):\n",
    "            flatmap(v, targetKey=targetKey + k + '.')\n",
    "        else:\n",
    "            target[targetKey + k] = v\n",
    "flatmap(source)\n",
    "print(target)"
   ]
  },
  {
   "cell_type": "code",
   "execution_count": null,
   "metadata": {},
   "outputs": [],
   "source": []
  }
 ],
 "metadata": {
  "kernelspec": {
   "display_name": "Python 3",
   "language": "python",
   "name": "python3"
  },
  "language_info": {
   "codemirror_mode": {
    "name": "ipython",
    "version": 3
   },
   "file_extension": ".py",
   "mimetype": "text/x-python",
   "name": "python",
   "nbconvert_exporter": "python",
   "pygments_lexer": "ipython3",
   "version": "3.7.1"
  }
 },
 "nbformat": 4,
 "nbformat_minor": 2
}
