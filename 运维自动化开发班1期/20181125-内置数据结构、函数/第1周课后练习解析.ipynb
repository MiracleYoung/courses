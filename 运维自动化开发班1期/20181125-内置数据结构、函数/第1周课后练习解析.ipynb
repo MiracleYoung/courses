{
 "cells": [
  {
   "cell_type": "markdown",
   "metadata": {},
   "source": [
    "1. 求100w以内的素数"
   ]
  },
  {
   "cell_type": "code",
   "execution_count": 18,
   "metadata": {},
   "outputs": [
    {
     "name": "stdout",
     "output_type": "stream",
     "text": [
      "97\n"
     ]
    }
   ],
   "source": [
    "x = 97\n",
    "\n",
    "for i in range(2, x):\n",
    "    if x % i == 0:\n",
    "        break\n",
    "else:\n",
    "    print(x)"
   ]
  },
  {
   "cell_type": "markdown",
   "metadata": {},
   "source": [
    "1. x=7, 当i=2,3,4,5,6 都没有问题，i=7的时候，break了\n",
    "2. x=4，当i=2的时候，break了"
   ]
  },
  {
   "cell_type": "code",
   "execution_count": 15,
   "metadata": {},
   "outputs": [
    {
     "data": {
      "text/plain": [
       "[2, 3, 4, 5, 6]"
      ]
     },
     "execution_count": 15,
     "metadata": {},
     "output_type": "execute_result"
    }
   ],
   "source": [
    "list(range(2,7))"
   ]
  },
  {
   "cell_type": "code",
   "execution_count": 21,
   "metadata": {},
   "outputs": [
    {
     "name": "stdout",
     "output_type": "stream",
     "text": [
      "3 s ± 1.39 ms per loop (mean ± std. dev. of 7 runs, 1 loop each)\n"
     ]
    }
   ],
   "source": [
    "%%timeit\n",
    "import time\n",
    "time.sleep(3)"
   ]
  },
  {
   "cell_type": "code",
   "execution_count": 23,
   "metadata": {},
   "outputs": [
    {
     "name": "stdout",
     "output_type": "stream",
     "text": [
      "100000 以内有 9592个素数\n"
     ]
    }
   ],
   "source": [
    "\n",
    "p = []\n",
    "max_num = 100000\n",
    "for i in range(2, max_num):\n",
    "    for j in range(2, i):\n",
    "        if i % j == 0:\n",
    "            break\n",
    "    else:\n",
    "        p.append(i)\n",
    "\n",
    "print(f'{max_num} 以内有 {len(p)}个素数')"
   ]
  },
  {
   "cell_type": "markdown",
   "metadata": {},
   "source": [
    "n = a * b (n > a > 1, n > b > 1）\n",
    "\n",
    "n = m^2 # n = 8, m = 2根号2\n",
    "\n",
    "a, b 中一定存在一个数，a > m > b, b > m > a # 有一个数大于m，有一个数小于m\n",
    "\n",
    "\n"
   ]
  },
  {
   "cell_type": "code",
   "execution_count": 27,
   "metadata": {},
   "outputs": [
    {
     "name": "stdout",
     "output_type": "stream",
     "text": [
      "9592\n"
     ]
    }
   ],
   "source": [
    "x = 100000\n",
    "num = 0\n",
    "for i in range(2, x):\n",
    "    for x in range(2, int(i ** 0.5) + 1):\n",
    "        if i % x == 0:\n",
    "            break\n",
    "    else:\n",
    "        num += 1\n",
    "print(num)"
   ]
  },
  {
   "cell_type": "code",
   "execution_count": 28,
   "metadata": {},
   "outputs": [
    {
     "data": {
      "text/plain": [
       "2.0"
      ]
     },
     "execution_count": 28,
     "metadata": {},
     "output_type": "execute_result"
    }
   ],
   "source": [
    "4 ** 0.5"
   ]
  },
  {
   "cell_type": "code",
   "execution_count": 29,
   "metadata": {},
   "outputs": [
    {
     "data": {
      "text/plain": [
       "2.8284271247461903"
      ]
     },
     "execution_count": 29,
     "metadata": {},
     "output_type": "execute_result"
    }
   ],
   "source": [
    "8 ** 0.5"
   ]
  },
  {
   "cell_type": "code",
   "execution_count": 31,
   "metadata": {},
   "outputs": [
    {
     "data": {
      "text/plain": [
       "9"
      ]
     },
     "execution_count": 31,
     "metadata": {},
     "output_type": "execute_result"
    }
   ],
   "source": [
    "3 ** 2"
   ]
  },
  {
   "cell_type": "code",
   "execution_count": 8,
   "metadata": {},
   "outputs": [],
   "source": [
    "import time\n",
    "\n",
    "def test(lst):\n",
    "    flag = False\n",
    "    for i in lst:\n",
    "        if i%2==0 and i!=2:\n",
    "            flag = False\n",
    "            break\n",
    "        elif i%3==0 and i!=3:\n",
    "            flag = False\n",
    "            break\n",
    "        elif i%5==0 and i!=5:\n",
    "            flag = False\n",
    "            break\n",
    "        elif i%7==0 and i!=7:\n",
    "            flag = False\n",
    "            break\n",
    "        else:\n",
    "            flag = True\n",
    "    print(i)"
   ]
  },
  {
   "cell_type": "code",
   "execution_count": 9,
   "metadata": {},
   "outputs": [
    {
     "name": "stdout",
     "output_type": "stream",
     "text": [
      "97\n"
     ]
    }
   ],
   "source": [
    "test(p)"
   ]
  },
  {
   "cell_type": "markdown",
   "metadata": {},
   "source": [
    "2. 求杨辉三角第n行第k列的值"
   ]
  },
  {
   "cell_type": "markdown",
   "metadata": {},
   "source": [
    "```\n",
    "                    1            l[0][0] = 1            \n",
    "                   1 1           1 = l[1][0] = 1, l[1][-1] = 1\n",
    "                  1 2 1          2 = 1 + 1, 2 = l[2][1] = l[1][0] + l [1][1]\n",
    "                 1 3 3 1         3 = 1 + 2, 3 = 2 + 1, 3 = l[3][2] = l[2][1] + l[2][2]\n",
    "                1 4 6 4 1\n",
    "```\n",
    "1. 每一行的第一个数和最后一个数是1\n",
    "2. 每一个数都是上一行的前面一个数+后面一个数\n",
    "\n",
    "[\n",
    "    [],\n",
    "    [],\n",
    "    ...\n",
    "]\n",
    "\n",
    "```\n",
    "l[n][k] = l[n-1][k-1] + l[n-1][k]\n",
    "```"
   ]
  },
  {
   "cell_type": "code",
   "execution_count": 39,
   "metadata": {},
   "outputs": [
    {
     "name": "stdout",
     "output_type": "stream",
     "text": [
      "4\n"
     ]
    }
   ],
   "source": [
    "n = 4 # 行\n",
    "k = 3 # 列\n",
    "lst = []\n",
    "for i in range(n + 1):\n",
    "    # 初始化首个数字\n",
    "    row = [1]\n",
    "    # 加入列表\n",
    "    lst.append(row)\n",
    "    \n",
    "    if i == 0:\n",
    "        continue\n",
    "        \n",
    "    for j in range(1, i):\n",
    "        row.append(lst[i-1][j-1] + lst[i-1][j])\n",
    "    row.append(1)\n",
    "        \n",
    "print(lst[n][k])"
   ]
  },
  {
   "cell_type": "code",
   "execution_count": 36,
   "metadata": {},
   "outputs": [],
   "source": [
    "for i in range(1, 0-1):\n",
    "    print(1)"
   ]
  },
  {
   "cell_type": "code",
   "execution_count": null,
   "metadata": {},
   "outputs": [],
   "source": []
  },
  {
   "cell_type": "markdown",
   "metadata": {},
   "source": [
    "3. 矩阵转置"
   ]
  },
  {
   "cell_type": "markdown",
   "metadata": {},
   "source": [
    "```\n",
    "1 2 3   \n",
    "4 5 6\n",
    "\n",
    "lst = [\n",
    "    [1, 2, 3],\n",
    "    [4, 5, 6],\n",
    "]\n",
    "\n",
    "1 5\n",
    "2 5\n",
    "3 6\n",
    "\n",
    "lst = [\n",
    "    [1, 5],\n",
    "    [2, 5],\n",
    "    [3, 6],\n",
    "]\n",
    "\n",
    "2行3列 => 3行2列\n",
    "\n",
    "把第一个列表中的每一个元素 丢到 结果列表中的每一个子列表的第一个元素\n",
    "```\n",
    "\n"
   ]
  },
  {
   "cell_type": "code",
   "execution_count": 40,
   "metadata": {},
   "outputs": [],
   "source": [
    "a = [[1, 2, 3], [4, 5, 6]]\n",
    "ret = []\n",
    "for i, row in enumerate(a):\n",
    "     for j, col in enumerate(row):\n",
    "            if len(ret) - 1 >= j:\n",
    "                ret[j].append(col)\n",
    "            else:\n",
    "                # init = [col]\n",
    "                # ret.append(init)\n",
    "                ret.append([col])"
   ]
  },
  {
   "cell_type": "code",
   "execution_count": 45,
   "metadata": {},
   "outputs": [
    {
     "data": {
      "text/plain": [
       "[(0, 'a'), (1, 'b'), (2, 'c')]"
      ]
     },
     "execution_count": 45,
     "metadata": {},
     "output_type": "execute_result"
    }
   ],
   "source": [
    "list(enumerate(['a', 'b', 'c'])) # 把一个迭代对象拆分成了  索引 + 值"
   ]
  },
  {
   "cell_type": "code",
   "execution_count": null,
   "metadata": {},
   "outputs": [],
   "source": []
  },
  {
   "cell_type": "code",
   "execution_count": null,
   "metadata": {},
   "outputs": [],
   "source": []
  }
 ],
 "metadata": {
  "kernelspec": {
   "display_name": "Python 3",
   "language": "python",
   "name": "python3"
  },
  "language_info": {
   "codemirror_mode": {
    "name": "ipython",
    "version": 3
   },
   "file_extension": ".py",
   "mimetype": "text/x-python",
   "name": "python",
   "nbconvert_exporter": "python",
   "pygments_lexer": "ipython3",
   "version": "3.7.0"
  }
 },
 "nbformat": 4,
 "nbformat_minor": 2
}
